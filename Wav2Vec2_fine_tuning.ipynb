{
  "nbformat": 4,
  "nbformat_minor": 0,
  "metadata": {
    "colab": {
      "provenance": [],
      "authorship_tag": "ABX9TyMzNrWxOof20m4rUMSLMfPG",
      "include_colab_link": true
    },
    "kernelspec": {
      "name": "python3",
      "display_name": "Python 3"
    },
    "language_info": {
      "name": "python"
    },
    "accelerator": "GPU",
    "gpuClass": "standard",
    "widgets": {
      "application/vnd.jupyter.widget-state+json": {
        "987ea56976ba434aa9f9bcc49274bc94": {
          "model_module": "@jupyter-widgets/controls",
          "model_name": "HBoxModel",
          "model_module_version": "1.5.0",
          "state": {
            "_dom_classes": [],
            "_model_module": "@jupyter-widgets/controls",
            "_model_module_version": "1.5.0",
            "_model_name": "HBoxModel",
            "_view_count": null,
            "_view_module": "@jupyter-widgets/controls",
            "_view_module_version": "1.5.0",
            "_view_name": "HBoxView",
            "box_style": "",
            "children": [
              "IPY_MODEL_120189790c674091ab263630ec2f8957",
              "IPY_MODEL_27c4afb9fca24f139a2ed7111a245ae3",
              "IPY_MODEL_e86ec08b6ff74d5ab93c3741e4e36fce"
            ],
            "layout": "IPY_MODEL_bd158861d32848a181d3731b579dd91b"
          }
        },
        "120189790c674091ab263630ec2f8957": {
          "model_module": "@jupyter-widgets/controls",
          "model_name": "HTMLModel",
          "model_module_version": "1.5.0",
          "state": {
            "_dom_classes": [],
            "_model_module": "@jupyter-widgets/controls",
            "_model_module_version": "1.5.0",
            "_model_name": "HTMLModel",
            "_view_count": null,
            "_view_module": "@jupyter-widgets/controls",
            "_view_module_version": "1.5.0",
            "_view_name": "HTMLView",
            "description": "",
            "description_tooltip": null,
            "layout": "IPY_MODEL_9770242d22a24ad18c3025d4eaa3af7c",
            "placeholder": "​",
            "style": "IPY_MODEL_30492600edca45b1bfb2b0f14684c3ff",
            "value": "100%"
          }
        },
        "27c4afb9fca24f139a2ed7111a245ae3": {
          "model_module": "@jupyter-widgets/controls",
          "model_name": "FloatProgressModel",
          "model_module_version": "1.5.0",
          "state": {
            "_dom_classes": [],
            "_model_module": "@jupyter-widgets/controls",
            "_model_module_version": "1.5.0",
            "_model_name": "FloatProgressModel",
            "_view_count": null,
            "_view_module": "@jupyter-widgets/controls",
            "_view_module_version": "1.5.0",
            "_view_name": "ProgressView",
            "bar_style": "success",
            "description": "",
            "description_tooltip": null,
            "layout": "IPY_MODEL_bde5b5c4bffb45a2b316a37c9294c23b",
            "max": 80,
            "min": 0,
            "orientation": "horizontal",
            "style": "IPY_MODEL_aaa52e02b29e4132b79a6bfde64a3898",
            "value": 80
          }
        },
        "e86ec08b6ff74d5ab93c3741e4e36fce": {
          "model_module": "@jupyter-widgets/controls",
          "model_name": "HTMLModel",
          "model_module_version": "1.5.0",
          "state": {
            "_dom_classes": [],
            "_model_module": "@jupyter-widgets/controls",
            "_model_module_version": "1.5.0",
            "_model_name": "HTMLModel",
            "_view_count": null,
            "_view_module": "@jupyter-widgets/controls",
            "_view_module_version": "1.5.0",
            "_view_name": "HTMLView",
            "description": "",
            "description_tooltip": null,
            "layout": "IPY_MODEL_93da325a93f64bffb01c2ebb977e0ba2",
            "placeholder": "​",
            "style": "IPY_MODEL_ca31e1c1479f43ef937bad04244b2baa",
            "value": " 80/80 [00:14&lt;00:00,  5.26ex/s]"
          }
        },
        "bd158861d32848a181d3731b579dd91b": {
          "model_module": "@jupyter-widgets/base",
          "model_name": "LayoutModel",
          "model_module_version": "1.2.0",
          "state": {
            "_model_module": "@jupyter-widgets/base",
            "_model_module_version": "1.2.0",
            "_model_name": "LayoutModel",
            "_view_count": null,
            "_view_module": "@jupyter-widgets/base",
            "_view_module_version": "1.2.0",
            "_view_name": "LayoutView",
            "align_content": null,
            "align_items": null,
            "align_self": null,
            "border": null,
            "bottom": null,
            "display": null,
            "flex": null,
            "flex_flow": null,
            "grid_area": null,
            "grid_auto_columns": null,
            "grid_auto_flow": null,
            "grid_auto_rows": null,
            "grid_column": null,
            "grid_gap": null,
            "grid_row": null,
            "grid_template_areas": null,
            "grid_template_columns": null,
            "grid_template_rows": null,
            "height": null,
            "justify_content": null,
            "justify_items": null,
            "left": null,
            "margin": null,
            "max_height": null,
            "max_width": null,
            "min_height": null,
            "min_width": null,
            "object_fit": null,
            "object_position": null,
            "order": null,
            "overflow": null,
            "overflow_x": null,
            "overflow_y": null,
            "padding": null,
            "right": null,
            "top": null,
            "visibility": null,
            "width": null
          }
        },
        "9770242d22a24ad18c3025d4eaa3af7c": {
          "model_module": "@jupyter-widgets/base",
          "model_name": "LayoutModel",
          "model_module_version": "1.2.0",
          "state": {
            "_model_module": "@jupyter-widgets/base",
            "_model_module_version": "1.2.0",
            "_model_name": "LayoutModel",
            "_view_count": null,
            "_view_module": "@jupyter-widgets/base",
            "_view_module_version": "1.2.0",
            "_view_name": "LayoutView",
            "align_content": null,
            "align_items": null,
            "align_self": null,
            "border": null,
            "bottom": null,
            "display": null,
            "flex": null,
            "flex_flow": null,
            "grid_area": null,
            "grid_auto_columns": null,
            "grid_auto_flow": null,
            "grid_auto_rows": null,
            "grid_column": null,
            "grid_gap": null,
            "grid_row": null,
            "grid_template_areas": null,
            "grid_template_columns": null,
            "grid_template_rows": null,
            "height": null,
            "justify_content": null,
            "justify_items": null,
            "left": null,
            "margin": null,
            "max_height": null,
            "max_width": null,
            "min_height": null,
            "min_width": null,
            "object_fit": null,
            "object_position": null,
            "order": null,
            "overflow": null,
            "overflow_x": null,
            "overflow_y": null,
            "padding": null,
            "right": null,
            "top": null,
            "visibility": null,
            "width": null
          }
        },
        "30492600edca45b1bfb2b0f14684c3ff": {
          "model_module": "@jupyter-widgets/controls",
          "model_name": "DescriptionStyleModel",
          "model_module_version": "1.5.0",
          "state": {
            "_model_module": "@jupyter-widgets/controls",
            "_model_module_version": "1.5.0",
            "_model_name": "DescriptionStyleModel",
            "_view_count": null,
            "_view_module": "@jupyter-widgets/base",
            "_view_module_version": "1.2.0",
            "_view_name": "StyleView",
            "description_width": ""
          }
        },
        "bde5b5c4bffb45a2b316a37c9294c23b": {
          "model_module": "@jupyter-widgets/base",
          "model_name": "LayoutModel",
          "model_module_version": "1.2.0",
          "state": {
            "_model_module": "@jupyter-widgets/base",
            "_model_module_version": "1.2.0",
            "_model_name": "LayoutModel",
            "_view_count": null,
            "_view_module": "@jupyter-widgets/base",
            "_view_module_version": "1.2.0",
            "_view_name": "LayoutView",
            "align_content": null,
            "align_items": null,
            "align_self": null,
            "border": null,
            "bottom": null,
            "display": null,
            "flex": null,
            "flex_flow": null,
            "grid_area": null,
            "grid_auto_columns": null,
            "grid_auto_flow": null,
            "grid_auto_rows": null,
            "grid_column": null,
            "grid_gap": null,
            "grid_row": null,
            "grid_template_areas": null,
            "grid_template_columns": null,
            "grid_template_rows": null,
            "height": null,
            "justify_content": null,
            "justify_items": null,
            "left": null,
            "margin": null,
            "max_height": null,
            "max_width": null,
            "min_height": null,
            "min_width": null,
            "object_fit": null,
            "object_position": null,
            "order": null,
            "overflow": null,
            "overflow_x": null,
            "overflow_y": null,
            "padding": null,
            "right": null,
            "top": null,
            "visibility": null,
            "width": null
          }
        },
        "aaa52e02b29e4132b79a6bfde64a3898": {
          "model_module": "@jupyter-widgets/controls",
          "model_name": "ProgressStyleModel",
          "model_module_version": "1.5.0",
          "state": {
            "_model_module": "@jupyter-widgets/controls",
            "_model_module_version": "1.5.0",
            "_model_name": "ProgressStyleModel",
            "_view_count": null,
            "_view_module": "@jupyter-widgets/base",
            "_view_module_version": "1.2.0",
            "_view_name": "StyleView",
            "bar_color": null,
            "description_width": ""
          }
        },
        "93da325a93f64bffb01c2ebb977e0ba2": {
          "model_module": "@jupyter-widgets/base",
          "model_name": "LayoutModel",
          "model_module_version": "1.2.0",
          "state": {
            "_model_module": "@jupyter-widgets/base",
            "_model_module_version": "1.2.0",
            "_model_name": "LayoutModel",
            "_view_count": null,
            "_view_module": "@jupyter-widgets/base",
            "_view_module_version": "1.2.0",
            "_view_name": "LayoutView",
            "align_content": null,
            "align_items": null,
            "align_self": null,
            "border": null,
            "bottom": null,
            "display": null,
            "flex": null,
            "flex_flow": null,
            "grid_area": null,
            "grid_auto_columns": null,
            "grid_auto_flow": null,
            "grid_auto_rows": null,
            "grid_column": null,
            "grid_gap": null,
            "grid_row": null,
            "grid_template_areas": null,
            "grid_template_columns": null,
            "grid_template_rows": null,
            "height": null,
            "justify_content": null,
            "justify_items": null,
            "left": null,
            "margin": null,
            "max_height": null,
            "max_width": null,
            "min_height": null,
            "min_width": null,
            "object_fit": null,
            "object_position": null,
            "order": null,
            "overflow": null,
            "overflow_x": null,
            "overflow_y": null,
            "padding": null,
            "right": null,
            "top": null,
            "visibility": null,
            "width": null
          }
        },
        "ca31e1c1479f43ef937bad04244b2baa": {
          "model_module": "@jupyter-widgets/controls",
          "model_name": "DescriptionStyleModel",
          "model_module_version": "1.5.0",
          "state": {
            "_model_module": "@jupyter-widgets/controls",
            "_model_module_version": "1.5.0",
            "_model_name": "DescriptionStyleModel",
            "_view_count": null,
            "_view_module": "@jupyter-widgets/base",
            "_view_module_version": "1.2.0",
            "_view_name": "StyleView",
            "description_width": ""
          }
        },
        "faef0dd55e8d483e9173e849c5b48808": {
          "model_module": "@jupyter-widgets/controls",
          "model_name": "HBoxModel",
          "model_module_version": "1.5.0",
          "state": {
            "_dom_classes": [],
            "_model_module": "@jupyter-widgets/controls",
            "_model_module_version": "1.5.0",
            "_model_name": "HBoxModel",
            "_view_count": null,
            "_view_module": "@jupyter-widgets/controls",
            "_view_module_version": "1.5.0",
            "_view_name": "HBoxView",
            "box_style": "",
            "children": [
              "IPY_MODEL_9a44a436b26e4ccabca5fd8fa0a73548",
              "IPY_MODEL_6c1001c4e812441ab51439e0ff96893a",
              "IPY_MODEL_469688cf0cc546a996bbe5c053a85f6a"
            ],
            "layout": "IPY_MODEL_5f2b2688d4ba4e9d9e5a59b73138843a"
          }
        },
        "9a44a436b26e4ccabca5fd8fa0a73548": {
          "model_module": "@jupyter-widgets/controls",
          "model_name": "HTMLModel",
          "model_module_version": "1.5.0",
          "state": {
            "_dom_classes": [],
            "_model_module": "@jupyter-widgets/controls",
            "_model_module_version": "1.5.0",
            "_model_name": "HTMLModel",
            "_view_count": null,
            "_view_module": "@jupyter-widgets/controls",
            "_view_module_version": "1.5.0",
            "_view_name": "HTMLView",
            "description": "",
            "description_tooltip": null,
            "layout": "IPY_MODEL_baafac42079146c5b4ab0dd4fd608a77",
            "placeholder": "​",
            "style": "IPY_MODEL_8d5d4612272745e5b39c2a448a0096f7",
            "value": "100%"
          }
        },
        "6c1001c4e812441ab51439e0ff96893a": {
          "model_module": "@jupyter-widgets/controls",
          "model_name": "FloatProgressModel",
          "model_module_version": "1.5.0",
          "state": {
            "_dom_classes": [],
            "_model_module": "@jupyter-widgets/controls",
            "_model_module_version": "1.5.0",
            "_model_name": "FloatProgressModel",
            "_view_count": null,
            "_view_module": "@jupyter-widgets/controls",
            "_view_module_version": "1.5.0",
            "_view_name": "ProgressView",
            "bar_style": "success",
            "description": "",
            "description_tooltip": null,
            "layout": "IPY_MODEL_b0980bec5c754e74a86765a081d72b35",
            "max": 20,
            "min": 0,
            "orientation": "horizontal",
            "style": "IPY_MODEL_d6452bac78c442539d39ded42ab25a3e",
            "value": 20
          }
        },
        "469688cf0cc546a996bbe5c053a85f6a": {
          "model_module": "@jupyter-widgets/controls",
          "model_name": "HTMLModel",
          "model_module_version": "1.5.0",
          "state": {
            "_dom_classes": [],
            "_model_module": "@jupyter-widgets/controls",
            "_model_module_version": "1.5.0",
            "_model_name": "HTMLModel",
            "_view_count": null,
            "_view_module": "@jupyter-widgets/controls",
            "_view_module_version": "1.5.0",
            "_view_name": "HTMLView",
            "description": "",
            "description_tooltip": null,
            "layout": "IPY_MODEL_7af9d088795841dc908ce5497a5bfb32",
            "placeholder": "​",
            "style": "IPY_MODEL_f3ad1b2d0bdd4093a08592be60748a57",
            "value": " 20/20 [00:03&lt;00:00,  6.81ex/s]"
          }
        },
        "5f2b2688d4ba4e9d9e5a59b73138843a": {
          "model_module": "@jupyter-widgets/base",
          "model_name": "LayoutModel",
          "model_module_version": "1.2.0",
          "state": {
            "_model_module": "@jupyter-widgets/base",
            "_model_module_version": "1.2.0",
            "_model_name": "LayoutModel",
            "_view_count": null,
            "_view_module": "@jupyter-widgets/base",
            "_view_module_version": "1.2.0",
            "_view_name": "LayoutView",
            "align_content": null,
            "align_items": null,
            "align_self": null,
            "border": null,
            "bottom": null,
            "display": null,
            "flex": null,
            "flex_flow": null,
            "grid_area": null,
            "grid_auto_columns": null,
            "grid_auto_flow": null,
            "grid_auto_rows": null,
            "grid_column": null,
            "grid_gap": null,
            "grid_row": null,
            "grid_template_areas": null,
            "grid_template_columns": null,
            "grid_template_rows": null,
            "height": null,
            "justify_content": null,
            "justify_items": null,
            "left": null,
            "margin": null,
            "max_height": null,
            "max_width": null,
            "min_height": null,
            "min_width": null,
            "object_fit": null,
            "object_position": null,
            "order": null,
            "overflow": null,
            "overflow_x": null,
            "overflow_y": null,
            "padding": null,
            "right": null,
            "top": null,
            "visibility": null,
            "width": null
          }
        },
        "baafac42079146c5b4ab0dd4fd608a77": {
          "model_module": "@jupyter-widgets/base",
          "model_name": "LayoutModel",
          "model_module_version": "1.2.0",
          "state": {
            "_model_module": "@jupyter-widgets/base",
            "_model_module_version": "1.2.0",
            "_model_name": "LayoutModel",
            "_view_count": null,
            "_view_module": "@jupyter-widgets/base",
            "_view_module_version": "1.2.0",
            "_view_name": "LayoutView",
            "align_content": null,
            "align_items": null,
            "align_self": null,
            "border": null,
            "bottom": null,
            "display": null,
            "flex": null,
            "flex_flow": null,
            "grid_area": null,
            "grid_auto_columns": null,
            "grid_auto_flow": null,
            "grid_auto_rows": null,
            "grid_column": null,
            "grid_gap": null,
            "grid_row": null,
            "grid_template_areas": null,
            "grid_template_columns": null,
            "grid_template_rows": null,
            "height": null,
            "justify_content": null,
            "justify_items": null,
            "left": null,
            "margin": null,
            "max_height": null,
            "max_width": null,
            "min_height": null,
            "min_width": null,
            "object_fit": null,
            "object_position": null,
            "order": null,
            "overflow": null,
            "overflow_x": null,
            "overflow_y": null,
            "padding": null,
            "right": null,
            "top": null,
            "visibility": null,
            "width": null
          }
        },
        "8d5d4612272745e5b39c2a448a0096f7": {
          "model_module": "@jupyter-widgets/controls",
          "model_name": "DescriptionStyleModel",
          "model_module_version": "1.5.0",
          "state": {
            "_model_module": "@jupyter-widgets/controls",
            "_model_module_version": "1.5.0",
            "_model_name": "DescriptionStyleModel",
            "_view_count": null,
            "_view_module": "@jupyter-widgets/base",
            "_view_module_version": "1.2.0",
            "_view_name": "StyleView",
            "description_width": ""
          }
        },
        "b0980bec5c754e74a86765a081d72b35": {
          "model_module": "@jupyter-widgets/base",
          "model_name": "LayoutModel",
          "model_module_version": "1.2.0",
          "state": {
            "_model_module": "@jupyter-widgets/base",
            "_model_module_version": "1.2.0",
            "_model_name": "LayoutModel",
            "_view_count": null,
            "_view_module": "@jupyter-widgets/base",
            "_view_module_version": "1.2.0",
            "_view_name": "LayoutView",
            "align_content": null,
            "align_items": null,
            "align_self": null,
            "border": null,
            "bottom": null,
            "display": null,
            "flex": null,
            "flex_flow": null,
            "grid_area": null,
            "grid_auto_columns": null,
            "grid_auto_flow": null,
            "grid_auto_rows": null,
            "grid_column": null,
            "grid_gap": null,
            "grid_row": null,
            "grid_template_areas": null,
            "grid_template_columns": null,
            "grid_template_rows": null,
            "height": null,
            "justify_content": null,
            "justify_items": null,
            "left": null,
            "margin": null,
            "max_height": null,
            "max_width": null,
            "min_height": null,
            "min_width": null,
            "object_fit": null,
            "object_position": null,
            "order": null,
            "overflow": null,
            "overflow_x": null,
            "overflow_y": null,
            "padding": null,
            "right": null,
            "top": null,
            "visibility": null,
            "width": null
          }
        },
        "d6452bac78c442539d39ded42ab25a3e": {
          "model_module": "@jupyter-widgets/controls",
          "model_name": "ProgressStyleModel",
          "model_module_version": "1.5.0",
          "state": {
            "_model_module": "@jupyter-widgets/controls",
            "_model_module_version": "1.5.0",
            "_model_name": "ProgressStyleModel",
            "_view_count": null,
            "_view_module": "@jupyter-widgets/base",
            "_view_module_version": "1.2.0",
            "_view_name": "StyleView",
            "bar_color": null,
            "description_width": ""
          }
        },
        "7af9d088795841dc908ce5497a5bfb32": {
          "model_module": "@jupyter-widgets/base",
          "model_name": "LayoutModel",
          "model_module_version": "1.2.0",
          "state": {
            "_model_module": "@jupyter-widgets/base",
            "_model_module_version": "1.2.0",
            "_model_name": "LayoutModel",
            "_view_count": null,
            "_view_module": "@jupyter-widgets/base",
            "_view_module_version": "1.2.0",
            "_view_name": "LayoutView",
            "align_content": null,
            "align_items": null,
            "align_self": null,
            "border": null,
            "bottom": null,
            "display": null,
            "flex": null,
            "flex_flow": null,
            "grid_area": null,
            "grid_auto_columns": null,
            "grid_auto_flow": null,
            "grid_auto_rows": null,
            "grid_column": null,
            "grid_gap": null,
            "grid_row": null,
            "grid_template_areas": null,
            "grid_template_columns": null,
            "grid_template_rows": null,
            "height": null,
            "justify_content": null,
            "justify_items": null,
            "left": null,
            "margin": null,
            "max_height": null,
            "max_width": null,
            "min_height": null,
            "min_width": null,
            "object_fit": null,
            "object_position": null,
            "order": null,
            "overflow": null,
            "overflow_x": null,
            "overflow_y": null,
            "padding": null,
            "right": null,
            "top": null,
            "visibility": null,
            "width": null
          }
        },
        "f3ad1b2d0bdd4093a08592be60748a57": {
          "model_module": "@jupyter-widgets/controls",
          "model_name": "DescriptionStyleModel",
          "model_module_version": "1.5.0",
          "state": {
            "_model_module": "@jupyter-widgets/controls",
            "_model_module_version": "1.5.0",
            "_model_name": "DescriptionStyleModel",
            "_view_count": null,
            "_view_module": "@jupyter-widgets/base",
            "_view_module_version": "1.2.0",
            "_view_name": "StyleView",
            "description_width": ""
          }
        },
        "290e4a87de4f48be8152763371a6dc8a": {
          "model_module": "@jupyter-widgets/controls",
          "model_name": "HBoxModel",
          "model_module_version": "1.5.0",
          "state": {
            "_dom_classes": [],
            "_model_module": "@jupyter-widgets/controls",
            "_model_module_version": "1.5.0",
            "_model_name": "HBoxModel",
            "_view_count": null,
            "_view_module": "@jupyter-widgets/controls",
            "_view_module_version": "1.5.0",
            "_view_name": "HBoxView",
            "box_style": "",
            "children": [
              "IPY_MODEL_20594e89f037474b83e40d980dc775f4",
              "IPY_MODEL_fe7d8a243b1e4cc0afb5a804fa068871",
              "IPY_MODEL_69051e2f76c14a0f808d305e984b495a"
            ],
            "layout": "IPY_MODEL_3203b9f2f563458bbc62ce5b944200c8"
          }
        },
        "20594e89f037474b83e40d980dc775f4": {
          "model_module": "@jupyter-widgets/controls",
          "model_name": "HTMLModel",
          "model_module_version": "1.5.0",
          "state": {
            "_dom_classes": [],
            "_model_module": "@jupyter-widgets/controls",
            "_model_module_version": "1.5.0",
            "_model_name": "HTMLModel",
            "_view_count": null,
            "_view_module": "@jupyter-widgets/controls",
            "_view_module_version": "1.5.0",
            "_view_name": "HTMLView",
            "description": "",
            "description_tooltip": null,
            "layout": "IPY_MODEL_c138efa80066493bb65e68016722070b",
            "placeholder": "​",
            "style": "IPY_MODEL_77f696a822164e66997753b86d2f078e",
            "value": "#0: 100%"
          }
        },
        "fe7d8a243b1e4cc0afb5a804fa068871": {
          "model_module": "@jupyter-widgets/controls",
          "model_name": "FloatProgressModel",
          "model_module_version": "1.5.0",
          "state": {
            "_dom_classes": [],
            "_model_module": "@jupyter-widgets/controls",
            "_model_module_version": "1.5.0",
            "_model_name": "FloatProgressModel",
            "_view_count": null,
            "_view_module": "@jupyter-widgets/controls",
            "_view_module_version": "1.5.0",
            "_view_name": "ProgressView",
            "bar_style": "success",
            "description": "",
            "description_tooltip": null,
            "layout": "IPY_MODEL_2cfb063e61bb4a00bf1c8b0114134bb9",
            "max": 20,
            "min": 0,
            "orientation": "horizontal",
            "style": "IPY_MODEL_ec07044816994960b27907dd41b20510",
            "value": 20
          }
        },
        "69051e2f76c14a0f808d305e984b495a": {
          "model_module": "@jupyter-widgets/controls",
          "model_name": "HTMLModel",
          "model_module_version": "1.5.0",
          "state": {
            "_dom_classes": [],
            "_model_module": "@jupyter-widgets/controls",
            "_model_module_version": "1.5.0",
            "_model_name": "HTMLModel",
            "_view_count": null,
            "_view_module": "@jupyter-widgets/controls",
            "_view_module_version": "1.5.0",
            "_view_name": "HTMLView",
            "description": "",
            "description_tooltip": null,
            "layout": "IPY_MODEL_174d2da4485e44ce896550de964bc946",
            "placeholder": "​",
            "style": "IPY_MODEL_10a8a817884a40e48dd36fc241ac6393",
            "value": " 20/20 [00:00&lt;00:00, 28.65ex/s]"
          }
        },
        "3203b9f2f563458bbc62ce5b944200c8": {
          "model_module": "@jupyter-widgets/base",
          "model_name": "LayoutModel",
          "model_module_version": "1.2.0",
          "state": {
            "_model_module": "@jupyter-widgets/base",
            "_model_module_version": "1.2.0",
            "_model_name": "LayoutModel",
            "_view_count": null,
            "_view_module": "@jupyter-widgets/base",
            "_view_module_version": "1.2.0",
            "_view_name": "LayoutView",
            "align_content": null,
            "align_items": null,
            "align_self": null,
            "border": null,
            "bottom": null,
            "display": null,
            "flex": null,
            "flex_flow": null,
            "grid_area": null,
            "grid_auto_columns": null,
            "grid_auto_flow": null,
            "grid_auto_rows": null,
            "grid_column": null,
            "grid_gap": null,
            "grid_row": null,
            "grid_template_areas": null,
            "grid_template_columns": null,
            "grid_template_rows": null,
            "height": null,
            "justify_content": null,
            "justify_items": null,
            "left": null,
            "margin": null,
            "max_height": null,
            "max_width": null,
            "min_height": null,
            "min_width": null,
            "object_fit": null,
            "object_position": null,
            "order": null,
            "overflow": null,
            "overflow_x": null,
            "overflow_y": null,
            "padding": null,
            "right": null,
            "top": null,
            "visibility": null,
            "width": null
          }
        },
        "c138efa80066493bb65e68016722070b": {
          "model_module": "@jupyter-widgets/base",
          "model_name": "LayoutModel",
          "model_module_version": "1.2.0",
          "state": {
            "_model_module": "@jupyter-widgets/base",
            "_model_module_version": "1.2.0",
            "_model_name": "LayoutModel",
            "_view_count": null,
            "_view_module": "@jupyter-widgets/base",
            "_view_module_version": "1.2.0",
            "_view_name": "LayoutView",
            "align_content": null,
            "align_items": null,
            "align_self": null,
            "border": null,
            "bottom": null,
            "display": null,
            "flex": null,
            "flex_flow": null,
            "grid_area": null,
            "grid_auto_columns": null,
            "grid_auto_flow": null,
            "grid_auto_rows": null,
            "grid_column": null,
            "grid_gap": null,
            "grid_row": null,
            "grid_template_areas": null,
            "grid_template_columns": null,
            "grid_template_rows": null,
            "height": null,
            "justify_content": null,
            "justify_items": null,
            "left": null,
            "margin": null,
            "max_height": null,
            "max_width": null,
            "min_height": null,
            "min_width": null,
            "object_fit": null,
            "object_position": null,
            "order": null,
            "overflow": null,
            "overflow_x": null,
            "overflow_y": null,
            "padding": null,
            "right": null,
            "top": null,
            "visibility": null,
            "width": null
          }
        },
        "77f696a822164e66997753b86d2f078e": {
          "model_module": "@jupyter-widgets/controls",
          "model_name": "DescriptionStyleModel",
          "model_module_version": "1.5.0",
          "state": {
            "_model_module": "@jupyter-widgets/controls",
            "_model_module_version": "1.5.0",
            "_model_name": "DescriptionStyleModel",
            "_view_count": null,
            "_view_module": "@jupyter-widgets/base",
            "_view_module_version": "1.2.0",
            "_view_name": "StyleView",
            "description_width": ""
          }
        },
        "2cfb063e61bb4a00bf1c8b0114134bb9": {
          "model_module": "@jupyter-widgets/base",
          "model_name": "LayoutModel",
          "model_module_version": "1.2.0",
          "state": {
            "_model_module": "@jupyter-widgets/base",
            "_model_module_version": "1.2.0",
            "_model_name": "LayoutModel",
            "_view_count": null,
            "_view_module": "@jupyter-widgets/base",
            "_view_module_version": "1.2.0",
            "_view_name": "LayoutView",
            "align_content": null,
            "align_items": null,
            "align_self": null,
            "border": null,
            "bottom": null,
            "display": null,
            "flex": null,
            "flex_flow": null,
            "grid_area": null,
            "grid_auto_columns": null,
            "grid_auto_flow": null,
            "grid_auto_rows": null,
            "grid_column": null,
            "grid_gap": null,
            "grid_row": null,
            "grid_template_areas": null,
            "grid_template_columns": null,
            "grid_template_rows": null,
            "height": null,
            "justify_content": null,
            "justify_items": null,
            "left": null,
            "margin": null,
            "max_height": null,
            "max_width": null,
            "min_height": null,
            "min_width": null,
            "object_fit": null,
            "object_position": null,
            "order": null,
            "overflow": null,
            "overflow_x": null,
            "overflow_y": null,
            "padding": null,
            "right": null,
            "top": null,
            "visibility": null,
            "width": null
          }
        },
        "ec07044816994960b27907dd41b20510": {
          "model_module": "@jupyter-widgets/controls",
          "model_name": "ProgressStyleModel",
          "model_module_version": "1.5.0",
          "state": {
            "_model_module": "@jupyter-widgets/controls",
            "_model_module_version": "1.5.0",
            "_model_name": "ProgressStyleModel",
            "_view_count": null,
            "_view_module": "@jupyter-widgets/base",
            "_view_module_version": "1.2.0",
            "_view_name": "StyleView",
            "bar_color": null,
            "description_width": ""
          }
        },
        "174d2da4485e44ce896550de964bc946": {
          "model_module": "@jupyter-widgets/base",
          "model_name": "LayoutModel",
          "model_module_version": "1.2.0",
          "state": {
            "_model_module": "@jupyter-widgets/base",
            "_model_module_version": "1.2.0",
            "_model_name": "LayoutModel",
            "_view_count": null,
            "_view_module": "@jupyter-widgets/base",
            "_view_module_version": "1.2.0",
            "_view_name": "LayoutView",
            "align_content": null,
            "align_items": null,
            "align_self": null,
            "border": null,
            "bottom": null,
            "display": null,
            "flex": null,
            "flex_flow": null,
            "grid_area": null,
            "grid_auto_columns": null,
            "grid_auto_flow": null,
            "grid_auto_rows": null,
            "grid_column": null,
            "grid_gap": null,
            "grid_row": null,
            "grid_template_areas": null,
            "grid_template_columns": null,
            "grid_template_rows": null,
            "height": null,
            "justify_content": null,
            "justify_items": null,
            "left": null,
            "margin": null,
            "max_height": null,
            "max_width": null,
            "min_height": null,
            "min_width": null,
            "object_fit": null,
            "object_position": null,
            "order": null,
            "overflow": null,
            "overflow_x": null,
            "overflow_y": null,
            "padding": null,
            "right": null,
            "top": null,
            "visibility": null,
            "width": null
          }
        },
        "10a8a817884a40e48dd36fc241ac6393": {
          "model_module": "@jupyter-widgets/controls",
          "model_name": "DescriptionStyleModel",
          "model_module_version": "1.5.0",
          "state": {
            "_model_module": "@jupyter-widgets/controls",
            "_model_module_version": "1.5.0",
            "_model_name": "DescriptionStyleModel",
            "_view_count": null,
            "_view_module": "@jupyter-widgets/base",
            "_view_module_version": "1.2.0",
            "_view_name": "StyleView",
            "description_width": ""
          }
        },
        "4af3be457e304f9a8b973357d80b384a": {
          "model_module": "@jupyter-widgets/controls",
          "model_name": "HBoxModel",
          "model_module_version": "1.5.0",
          "state": {
            "_dom_classes": [],
            "_model_module": "@jupyter-widgets/controls",
            "_model_module_version": "1.5.0",
            "_model_name": "HBoxModel",
            "_view_count": null,
            "_view_module": "@jupyter-widgets/controls",
            "_view_module_version": "1.5.0",
            "_view_name": "HBoxView",
            "box_style": "",
            "children": [
              "IPY_MODEL_d7838197746541629a44d271f5a0bb97",
              "IPY_MODEL_7ddeda9b732446318a76e8d7cb1d758a",
              "IPY_MODEL_dfd289ea4ddb4733941a06fe9120d4e5"
            ],
            "layout": "IPY_MODEL_63f9cffeba424ad5a8f25e10af8b6665"
          }
        },
        "d7838197746541629a44d271f5a0bb97": {
          "model_module": "@jupyter-widgets/controls",
          "model_name": "HTMLModel",
          "model_module_version": "1.5.0",
          "state": {
            "_dom_classes": [],
            "_model_module": "@jupyter-widgets/controls",
            "_model_module_version": "1.5.0",
            "_model_name": "HTMLModel",
            "_view_count": null,
            "_view_module": "@jupyter-widgets/controls",
            "_view_module_version": "1.5.0",
            "_view_name": "HTMLView",
            "description": "",
            "description_tooltip": null,
            "layout": "IPY_MODEL_d1f4617edc09499a93f0789fa09f04f0",
            "placeholder": "​",
            "style": "IPY_MODEL_82069c8df85f4019b9eafd3f8e9e4078",
            "value": "#2: 100%"
          }
        },
        "7ddeda9b732446318a76e8d7cb1d758a": {
          "model_module": "@jupyter-widgets/controls",
          "model_name": "FloatProgressModel",
          "model_module_version": "1.5.0",
          "state": {
            "_dom_classes": [],
            "_model_module": "@jupyter-widgets/controls",
            "_model_module_version": "1.5.0",
            "_model_name": "FloatProgressModel",
            "_view_count": null,
            "_view_module": "@jupyter-widgets/controls",
            "_view_module_version": "1.5.0",
            "_view_name": "ProgressView",
            "bar_style": "success",
            "description": "",
            "description_tooltip": null,
            "layout": "IPY_MODEL_e1992bba7a664e929310b37a840dc5d5",
            "max": 20,
            "min": 0,
            "orientation": "horizontal",
            "style": "IPY_MODEL_3f5a1a0ca9a741e68cb8c5c1ad254cfc",
            "value": 20
          }
        },
        "dfd289ea4ddb4733941a06fe9120d4e5": {
          "model_module": "@jupyter-widgets/controls",
          "model_name": "HTMLModel",
          "model_module_version": "1.5.0",
          "state": {
            "_dom_classes": [],
            "_model_module": "@jupyter-widgets/controls",
            "_model_module_version": "1.5.0",
            "_model_name": "HTMLModel",
            "_view_count": null,
            "_view_module": "@jupyter-widgets/controls",
            "_view_module_version": "1.5.0",
            "_view_name": "HTMLView",
            "description": "",
            "description_tooltip": null,
            "layout": "IPY_MODEL_e8861a5660b34efda8e00099149f4511",
            "placeholder": "​",
            "style": "IPY_MODEL_ec7c37833bb84dbcabe72d3b5ed41559",
            "value": " 20/20 [00:00&lt;00:00, 43.39ex/s]"
          }
        },
        "63f9cffeba424ad5a8f25e10af8b6665": {
          "model_module": "@jupyter-widgets/base",
          "model_name": "LayoutModel",
          "model_module_version": "1.2.0",
          "state": {
            "_model_module": "@jupyter-widgets/base",
            "_model_module_version": "1.2.0",
            "_model_name": "LayoutModel",
            "_view_count": null,
            "_view_module": "@jupyter-widgets/base",
            "_view_module_version": "1.2.0",
            "_view_name": "LayoutView",
            "align_content": null,
            "align_items": null,
            "align_self": null,
            "border": null,
            "bottom": null,
            "display": null,
            "flex": null,
            "flex_flow": null,
            "grid_area": null,
            "grid_auto_columns": null,
            "grid_auto_flow": null,
            "grid_auto_rows": null,
            "grid_column": null,
            "grid_gap": null,
            "grid_row": null,
            "grid_template_areas": null,
            "grid_template_columns": null,
            "grid_template_rows": null,
            "height": null,
            "justify_content": null,
            "justify_items": null,
            "left": null,
            "margin": null,
            "max_height": null,
            "max_width": null,
            "min_height": null,
            "min_width": null,
            "object_fit": null,
            "object_position": null,
            "order": null,
            "overflow": null,
            "overflow_x": null,
            "overflow_y": null,
            "padding": null,
            "right": null,
            "top": null,
            "visibility": null,
            "width": null
          }
        },
        "d1f4617edc09499a93f0789fa09f04f0": {
          "model_module": "@jupyter-widgets/base",
          "model_name": "LayoutModel",
          "model_module_version": "1.2.0",
          "state": {
            "_model_module": "@jupyter-widgets/base",
            "_model_module_version": "1.2.0",
            "_model_name": "LayoutModel",
            "_view_count": null,
            "_view_module": "@jupyter-widgets/base",
            "_view_module_version": "1.2.0",
            "_view_name": "LayoutView",
            "align_content": null,
            "align_items": null,
            "align_self": null,
            "border": null,
            "bottom": null,
            "display": null,
            "flex": null,
            "flex_flow": null,
            "grid_area": null,
            "grid_auto_columns": null,
            "grid_auto_flow": null,
            "grid_auto_rows": null,
            "grid_column": null,
            "grid_gap": null,
            "grid_row": null,
            "grid_template_areas": null,
            "grid_template_columns": null,
            "grid_template_rows": null,
            "height": null,
            "justify_content": null,
            "justify_items": null,
            "left": null,
            "margin": null,
            "max_height": null,
            "max_width": null,
            "min_height": null,
            "min_width": null,
            "object_fit": null,
            "object_position": null,
            "order": null,
            "overflow": null,
            "overflow_x": null,
            "overflow_y": null,
            "padding": null,
            "right": null,
            "top": null,
            "visibility": null,
            "width": null
          }
        },
        "82069c8df85f4019b9eafd3f8e9e4078": {
          "model_module": "@jupyter-widgets/controls",
          "model_name": "DescriptionStyleModel",
          "model_module_version": "1.5.0",
          "state": {
            "_model_module": "@jupyter-widgets/controls",
            "_model_module_version": "1.5.0",
            "_model_name": "DescriptionStyleModel",
            "_view_count": null,
            "_view_module": "@jupyter-widgets/base",
            "_view_module_version": "1.2.0",
            "_view_name": "StyleView",
            "description_width": ""
          }
        },
        "e1992bba7a664e929310b37a840dc5d5": {
          "model_module": "@jupyter-widgets/base",
          "model_name": "LayoutModel",
          "model_module_version": "1.2.0",
          "state": {
            "_model_module": "@jupyter-widgets/base",
            "_model_module_version": "1.2.0",
            "_model_name": "LayoutModel",
            "_view_count": null,
            "_view_module": "@jupyter-widgets/base",
            "_view_module_version": "1.2.0",
            "_view_name": "LayoutView",
            "align_content": null,
            "align_items": null,
            "align_self": null,
            "border": null,
            "bottom": null,
            "display": null,
            "flex": null,
            "flex_flow": null,
            "grid_area": null,
            "grid_auto_columns": null,
            "grid_auto_flow": null,
            "grid_auto_rows": null,
            "grid_column": null,
            "grid_gap": null,
            "grid_row": null,
            "grid_template_areas": null,
            "grid_template_columns": null,
            "grid_template_rows": null,
            "height": null,
            "justify_content": null,
            "justify_items": null,
            "left": null,
            "margin": null,
            "max_height": null,
            "max_width": null,
            "min_height": null,
            "min_width": null,
            "object_fit": null,
            "object_position": null,
            "order": null,
            "overflow": null,
            "overflow_x": null,
            "overflow_y": null,
            "padding": null,
            "right": null,
            "top": null,
            "visibility": null,
            "width": null
          }
        },
        "3f5a1a0ca9a741e68cb8c5c1ad254cfc": {
          "model_module": "@jupyter-widgets/controls",
          "model_name": "ProgressStyleModel",
          "model_module_version": "1.5.0",
          "state": {
            "_model_module": "@jupyter-widgets/controls",
            "_model_module_version": "1.5.0",
            "_model_name": "ProgressStyleModel",
            "_view_count": null,
            "_view_module": "@jupyter-widgets/base",
            "_view_module_version": "1.2.0",
            "_view_name": "StyleView",
            "bar_color": null,
            "description_width": ""
          }
        },
        "e8861a5660b34efda8e00099149f4511": {
          "model_module": "@jupyter-widgets/base",
          "model_name": "LayoutModel",
          "model_module_version": "1.2.0",
          "state": {
            "_model_module": "@jupyter-widgets/base",
            "_model_module_version": "1.2.0",
            "_model_name": "LayoutModel",
            "_view_count": null,
            "_view_module": "@jupyter-widgets/base",
            "_view_module_version": "1.2.0",
            "_view_name": "LayoutView",
            "align_content": null,
            "align_items": null,
            "align_self": null,
            "border": null,
            "bottom": null,
            "display": null,
            "flex": null,
            "flex_flow": null,
            "grid_area": null,
            "grid_auto_columns": null,
            "grid_auto_flow": null,
            "grid_auto_rows": null,
            "grid_column": null,
            "grid_gap": null,
            "grid_row": null,
            "grid_template_areas": null,
            "grid_template_columns": null,
            "grid_template_rows": null,
            "height": null,
            "justify_content": null,
            "justify_items": null,
            "left": null,
            "margin": null,
            "max_height": null,
            "max_width": null,
            "min_height": null,
            "min_width": null,
            "object_fit": null,
            "object_position": null,
            "order": null,
            "overflow": null,
            "overflow_x": null,
            "overflow_y": null,
            "padding": null,
            "right": null,
            "top": null,
            "visibility": null,
            "width": null
          }
        },
        "ec7c37833bb84dbcabe72d3b5ed41559": {
          "model_module": "@jupyter-widgets/controls",
          "model_name": "DescriptionStyleModel",
          "model_module_version": "1.5.0",
          "state": {
            "_model_module": "@jupyter-widgets/controls",
            "_model_module_version": "1.5.0",
            "_model_name": "DescriptionStyleModel",
            "_view_count": null,
            "_view_module": "@jupyter-widgets/base",
            "_view_module_version": "1.2.0",
            "_view_name": "StyleView",
            "description_width": ""
          }
        },
        "029f4ad3fa024b5baa19aab5e8804ec5": {
          "model_module": "@jupyter-widgets/controls",
          "model_name": "HBoxModel",
          "model_module_version": "1.5.0",
          "state": {
            "_dom_classes": [],
            "_model_module": "@jupyter-widgets/controls",
            "_model_module_version": "1.5.0",
            "_model_name": "HBoxModel",
            "_view_count": null,
            "_view_module": "@jupyter-widgets/controls",
            "_view_module_version": "1.5.0",
            "_view_name": "HBoxView",
            "box_style": "",
            "children": [
              "IPY_MODEL_2bc2bbd8fa8c4eaba0c7ce8ebe1190dc",
              "IPY_MODEL_9215a0b57069439f9de18127e2b0cee6",
              "IPY_MODEL_a658d99a20ac4ea59c1cff8320a5bd78"
            ],
            "layout": "IPY_MODEL_1a7fee015ff84acb993623488844b46c"
          }
        },
        "2bc2bbd8fa8c4eaba0c7ce8ebe1190dc": {
          "model_module": "@jupyter-widgets/controls",
          "model_name": "HTMLModel",
          "model_module_version": "1.5.0",
          "state": {
            "_dom_classes": [],
            "_model_module": "@jupyter-widgets/controls",
            "_model_module_version": "1.5.0",
            "_model_name": "HTMLModel",
            "_view_count": null,
            "_view_module": "@jupyter-widgets/controls",
            "_view_module_version": "1.5.0",
            "_view_name": "HTMLView",
            "description": "",
            "description_tooltip": null,
            "layout": "IPY_MODEL_6788590cc444414aba293be02cb7782a",
            "placeholder": "​",
            "style": "IPY_MODEL_397a65a61c074f7ca62f0ed1457f34b8",
            "value": "#1: 100%"
          }
        },
        "9215a0b57069439f9de18127e2b0cee6": {
          "model_module": "@jupyter-widgets/controls",
          "model_name": "FloatProgressModel",
          "model_module_version": "1.5.0",
          "state": {
            "_dom_classes": [],
            "_model_module": "@jupyter-widgets/controls",
            "_model_module_version": "1.5.0",
            "_model_name": "FloatProgressModel",
            "_view_count": null,
            "_view_module": "@jupyter-widgets/controls",
            "_view_module_version": "1.5.0",
            "_view_name": "ProgressView",
            "bar_style": "success",
            "description": "",
            "description_tooltip": null,
            "layout": "IPY_MODEL_55fd3fdbfcd648259baafec489349505",
            "max": 20,
            "min": 0,
            "orientation": "horizontal",
            "style": "IPY_MODEL_8d0c956ff9b446b08568c461d3bc8d46",
            "value": 20
          }
        },
        "a658d99a20ac4ea59c1cff8320a5bd78": {
          "model_module": "@jupyter-widgets/controls",
          "model_name": "HTMLModel",
          "model_module_version": "1.5.0",
          "state": {
            "_dom_classes": [],
            "_model_module": "@jupyter-widgets/controls",
            "_model_module_version": "1.5.0",
            "_model_name": "HTMLModel",
            "_view_count": null,
            "_view_module": "@jupyter-widgets/controls",
            "_view_module_version": "1.5.0",
            "_view_name": "HTMLView",
            "description": "",
            "description_tooltip": null,
            "layout": "IPY_MODEL_27beaa3700884d348a007607215bd10d",
            "placeholder": "​",
            "style": "IPY_MODEL_290b67a094604c5bb4e05d8e5e3b46f8",
            "value": " 20/20 [00:00&lt;00:00, 36.43ex/s]"
          }
        },
        "1a7fee015ff84acb993623488844b46c": {
          "model_module": "@jupyter-widgets/base",
          "model_name": "LayoutModel",
          "model_module_version": "1.2.0",
          "state": {
            "_model_module": "@jupyter-widgets/base",
            "_model_module_version": "1.2.0",
            "_model_name": "LayoutModel",
            "_view_count": null,
            "_view_module": "@jupyter-widgets/base",
            "_view_module_version": "1.2.0",
            "_view_name": "LayoutView",
            "align_content": null,
            "align_items": null,
            "align_self": null,
            "border": null,
            "bottom": null,
            "display": null,
            "flex": null,
            "flex_flow": null,
            "grid_area": null,
            "grid_auto_columns": null,
            "grid_auto_flow": null,
            "grid_auto_rows": null,
            "grid_column": null,
            "grid_gap": null,
            "grid_row": null,
            "grid_template_areas": null,
            "grid_template_columns": null,
            "grid_template_rows": null,
            "height": null,
            "justify_content": null,
            "justify_items": null,
            "left": null,
            "margin": null,
            "max_height": null,
            "max_width": null,
            "min_height": null,
            "min_width": null,
            "object_fit": null,
            "object_position": null,
            "order": null,
            "overflow": null,
            "overflow_x": null,
            "overflow_y": null,
            "padding": null,
            "right": null,
            "top": null,
            "visibility": null,
            "width": null
          }
        },
        "6788590cc444414aba293be02cb7782a": {
          "model_module": "@jupyter-widgets/base",
          "model_name": "LayoutModel",
          "model_module_version": "1.2.0",
          "state": {
            "_model_module": "@jupyter-widgets/base",
            "_model_module_version": "1.2.0",
            "_model_name": "LayoutModel",
            "_view_count": null,
            "_view_module": "@jupyter-widgets/base",
            "_view_module_version": "1.2.0",
            "_view_name": "LayoutView",
            "align_content": null,
            "align_items": null,
            "align_self": null,
            "border": null,
            "bottom": null,
            "display": null,
            "flex": null,
            "flex_flow": null,
            "grid_area": null,
            "grid_auto_columns": null,
            "grid_auto_flow": null,
            "grid_auto_rows": null,
            "grid_column": null,
            "grid_gap": null,
            "grid_row": null,
            "grid_template_areas": null,
            "grid_template_columns": null,
            "grid_template_rows": null,
            "height": null,
            "justify_content": null,
            "justify_items": null,
            "left": null,
            "margin": null,
            "max_height": null,
            "max_width": null,
            "min_height": null,
            "min_width": null,
            "object_fit": null,
            "object_position": null,
            "order": null,
            "overflow": null,
            "overflow_x": null,
            "overflow_y": null,
            "padding": null,
            "right": null,
            "top": null,
            "visibility": null,
            "width": null
          }
        },
        "397a65a61c074f7ca62f0ed1457f34b8": {
          "model_module": "@jupyter-widgets/controls",
          "model_name": "DescriptionStyleModel",
          "model_module_version": "1.5.0",
          "state": {
            "_model_module": "@jupyter-widgets/controls",
            "_model_module_version": "1.5.0",
            "_model_name": "DescriptionStyleModel",
            "_view_count": null,
            "_view_module": "@jupyter-widgets/base",
            "_view_module_version": "1.2.0",
            "_view_name": "StyleView",
            "description_width": ""
          }
        },
        "55fd3fdbfcd648259baafec489349505": {
          "model_module": "@jupyter-widgets/base",
          "model_name": "LayoutModel",
          "model_module_version": "1.2.0",
          "state": {
            "_model_module": "@jupyter-widgets/base",
            "_model_module_version": "1.2.0",
            "_model_name": "LayoutModel",
            "_view_count": null,
            "_view_module": "@jupyter-widgets/base",
            "_view_module_version": "1.2.0",
            "_view_name": "LayoutView",
            "align_content": null,
            "align_items": null,
            "align_self": null,
            "border": null,
            "bottom": null,
            "display": null,
            "flex": null,
            "flex_flow": null,
            "grid_area": null,
            "grid_auto_columns": null,
            "grid_auto_flow": null,
            "grid_auto_rows": null,
            "grid_column": null,
            "grid_gap": null,
            "grid_row": null,
            "grid_template_areas": null,
            "grid_template_columns": null,
            "grid_template_rows": null,
            "height": null,
            "justify_content": null,
            "justify_items": null,
            "left": null,
            "margin": null,
            "max_height": null,
            "max_width": null,
            "min_height": null,
            "min_width": null,
            "object_fit": null,
            "object_position": null,
            "order": null,
            "overflow": null,
            "overflow_x": null,
            "overflow_y": null,
            "padding": null,
            "right": null,
            "top": null,
            "visibility": null,
            "width": null
          }
        },
        "8d0c956ff9b446b08568c461d3bc8d46": {
          "model_module": "@jupyter-widgets/controls",
          "model_name": "ProgressStyleModel",
          "model_module_version": "1.5.0",
          "state": {
            "_model_module": "@jupyter-widgets/controls",
            "_model_module_version": "1.5.0",
            "_model_name": "ProgressStyleModel",
            "_view_count": null,
            "_view_module": "@jupyter-widgets/base",
            "_view_module_version": "1.2.0",
            "_view_name": "StyleView",
            "bar_color": null,
            "description_width": ""
          }
        },
        "27beaa3700884d348a007607215bd10d": {
          "model_module": "@jupyter-widgets/base",
          "model_name": "LayoutModel",
          "model_module_version": "1.2.0",
          "state": {
            "_model_module": "@jupyter-widgets/base",
            "_model_module_version": "1.2.0",
            "_model_name": "LayoutModel",
            "_view_count": null,
            "_view_module": "@jupyter-widgets/base",
            "_view_module_version": "1.2.0",
            "_view_name": "LayoutView",
            "align_content": null,
            "align_items": null,
            "align_self": null,
            "border": null,
            "bottom": null,
            "display": null,
            "flex": null,
            "flex_flow": null,
            "grid_area": null,
            "grid_auto_columns": null,
            "grid_auto_flow": null,
            "grid_auto_rows": null,
            "grid_column": null,
            "grid_gap": null,
            "grid_row": null,
            "grid_template_areas": null,
            "grid_template_columns": null,
            "grid_template_rows": null,
            "height": null,
            "justify_content": null,
            "justify_items": null,
            "left": null,
            "margin": null,
            "max_height": null,
            "max_width": null,
            "min_height": null,
            "min_width": null,
            "object_fit": null,
            "object_position": null,
            "order": null,
            "overflow": null,
            "overflow_x": null,
            "overflow_y": null,
            "padding": null,
            "right": null,
            "top": null,
            "visibility": null,
            "width": null
          }
        },
        "290b67a094604c5bb4e05d8e5e3b46f8": {
          "model_module": "@jupyter-widgets/controls",
          "model_name": "DescriptionStyleModel",
          "model_module_version": "1.5.0",
          "state": {
            "_model_module": "@jupyter-widgets/controls",
            "_model_module_version": "1.5.0",
            "_model_name": "DescriptionStyleModel",
            "_view_count": null,
            "_view_module": "@jupyter-widgets/base",
            "_view_module_version": "1.2.0",
            "_view_name": "StyleView",
            "description_width": ""
          }
        },
        "2fde2b9c2aaa48fe91a3a8450acaec81": {
          "model_module": "@jupyter-widgets/controls",
          "model_name": "HBoxModel",
          "model_module_version": "1.5.0",
          "state": {
            "_dom_classes": [],
            "_model_module": "@jupyter-widgets/controls",
            "_model_module_version": "1.5.0",
            "_model_name": "HBoxModel",
            "_view_count": null,
            "_view_module": "@jupyter-widgets/controls",
            "_view_module_version": "1.5.0",
            "_view_name": "HBoxView",
            "box_style": "",
            "children": [
              "IPY_MODEL_00a889effd0e4ccfaf500d5a969df339",
              "IPY_MODEL_e5865d0d56974cc1872faf91e49e36b5",
              "IPY_MODEL_9904483e27374579aaa5b1f1890b4c92"
            ],
            "layout": "IPY_MODEL_dff0f9df426b4cf98b806f718a55b22c"
          }
        },
        "00a889effd0e4ccfaf500d5a969df339": {
          "model_module": "@jupyter-widgets/controls",
          "model_name": "HTMLModel",
          "model_module_version": "1.5.0",
          "state": {
            "_dom_classes": [],
            "_model_module": "@jupyter-widgets/controls",
            "_model_module_version": "1.5.0",
            "_model_name": "HTMLModel",
            "_view_count": null,
            "_view_module": "@jupyter-widgets/controls",
            "_view_module_version": "1.5.0",
            "_view_name": "HTMLView",
            "description": "",
            "description_tooltip": null,
            "layout": "IPY_MODEL_c44b65bf880247b1840de99fde4971f9",
            "placeholder": "​",
            "style": "IPY_MODEL_d209f9c43b254b85a22c9f574c26b754",
            "value": "#3: 100%"
          }
        },
        "e5865d0d56974cc1872faf91e49e36b5": {
          "model_module": "@jupyter-widgets/controls",
          "model_name": "FloatProgressModel",
          "model_module_version": "1.5.0",
          "state": {
            "_dom_classes": [],
            "_model_module": "@jupyter-widgets/controls",
            "_model_module_version": "1.5.0",
            "_model_name": "FloatProgressModel",
            "_view_count": null,
            "_view_module": "@jupyter-widgets/controls",
            "_view_module_version": "1.5.0",
            "_view_name": "ProgressView",
            "bar_style": "success",
            "description": "",
            "description_tooltip": null,
            "layout": "IPY_MODEL_c45aef9184e24b7c8bf4fa539a3de714",
            "max": 20,
            "min": 0,
            "orientation": "horizontal",
            "style": "IPY_MODEL_aeee02413cd045a0918fb99ce95ed2bb",
            "value": 20
          }
        },
        "9904483e27374579aaa5b1f1890b4c92": {
          "model_module": "@jupyter-widgets/controls",
          "model_name": "HTMLModel",
          "model_module_version": "1.5.0",
          "state": {
            "_dom_classes": [],
            "_model_module": "@jupyter-widgets/controls",
            "_model_module_version": "1.5.0",
            "_model_name": "HTMLModel",
            "_view_count": null,
            "_view_module": "@jupyter-widgets/controls",
            "_view_module_version": "1.5.0",
            "_view_name": "HTMLView",
            "description": "",
            "description_tooltip": null,
            "layout": "IPY_MODEL_50228c3e246847e39d0ea43ebcb05988",
            "placeholder": "​",
            "style": "IPY_MODEL_32fd7538e35940cba32323017a487141",
            "value": " 20/20 [00:00&lt;00:00, 36.75ex/s]"
          }
        },
        "dff0f9df426b4cf98b806f718a55b22c": {
          "model_module": "@jupyter-widgets/base",
          "model_name": "LayoutModel",
          "model_module_version": "1.2.0",
          "state": {
            "_model_module": "@jupyter-widgets/base",
            "_model_module_version": "1.2.0",
            "_model_name": "LayoutModel",
            "_view_count": null,
            "_view_module": "@jupyter-widgets/base",
            "_view_module_version": "1.2.0",
            "_view_name": "LayoutView",
            "align_content": null,
            "align_items": null,
            "align_self": null,
            "border": null,
            "bottom": null,
            "display": null,
            "flex": null,
            "flex_flow": null,
            "grid_area": null,
            "grid_auto_columns": null,
            "grid_auto_flow": null,
            "grid_auto_rows": null,
            "grid_column": null,
            "grid_gap": null,
            "grid_row": null,
            "grid_template_areas": null,
            "grid_template_columns": null,
            "grid_template_rows": null,
            "height": null,
            "justify_content": null,
            "justify_items": null,
            "left": null,
            "margin": null,
            "max_height": null,
            "max_width": null,
            "min_height": null,
            "min_width": null,
            "object_fit": null,
            "object_position": null,
            "order": null,
            "overflow": null,
            "overflow_x": null,
            "overflow_y": null,
            "padding": null,
            "right": null,
            "top": null,
            "visibility": null,
            "width": null
          }
        },
        "c44b65bf880247b1840de99fde4971f9": {
          "model_module": "@jupyter-widgets/base",
          "model_name": "LayoutModel",
          "model_module_version": "1.2.0",
          "state": {
            "_model_module": "@jupyter-widgets/base",
            "_model_module_version": "1.2.0",
            "_model_name": "LayoutModel",
            "_view_count": null,
            "_view_module": "@jupyter-widgets/base",
            "_view_module_version": "1.2.0",
            "_view_name": "LayoutView",
            "align_content": null,
            "align_items": null,
            "align_self": null,
            "border": null,
            "bottom": null,
            "display": null,
            "flex": null,
            "flex_flow": null,
            "grid_area": null,
            "grid_auto_columns": null,
            "grid_auto_flow": null,
            "grid_auto_rows": null,
            "grid_column": null,
            "grid_gap": null,
            "grid_row": null,
            "grid_template_areas": null,
            "grid_template_columns": null,
            "grid_template_rows": null,
            "height": null,
            "justify_content": null,
            "justify_items": null,
            "left": null,
            "margin": null,
            "max_height": null,
            "max_width": null,
            "min_height": null,
            "min_width": null,
            "object_fit": null,
            "object_position": null,
            "order": null,
            "overflow": null,
            "overflow_x": null,
            "overflow_y": null,
            "padding": null,
            "right": null,
            "top": null,
            "visibility": null,
            "width": null
          }
        },
        "d209f9c43b254b85a22c9f574c26b754": {
          "model_module": "@jupyter-widgets/controls",
          "model_name": "DescriptionStyleModel",
          "model_module_version": "1.5.0",
          "state": {
            "_model_module": "@jupyter-widgets/controls",
            "_model_module_version": "1.5.0",
            "_model_name": "DescriptionStyleModel",
            "_view_count": null,
            "_view_module": "@jupyter-widgets/base",
            "_view_module_version": "1.2.0",
            "_view_name": "StyleView",
            "description_width": ""
          }
        },
        "c45aef9184e24b7c8bf4fa539a3de714": {
          "model_module": "@jupyter-widgets/base",
          "model_name": "LayoutModel",
          "model_module_version": "1.2.0",
          "state": {
            "_model_module": "@jupyter-widgets/base",
            "_model_module_version": "1.2.0",
            "_model_name": "LayoutModel",
            "_view_count": null,
            "_view_module": "@jupyter-widgets/base",
            "_view_module_version": "1.2.0",
            "_view_name": "LayoutView",
            "align_content": null,
            "align_items": null,
            "align_self": null,
            "border": null,
            "bottom": null,
            "display": null,
            "flex": null,
            "flex_flow": null,
            "grid_area": null,
            "grid_auto_columns": null,
            "grid_auto_flow": null,
            "grid_auto_rows": null,
            "grid_column": null,
            "grid_gap": null,
            "grid_row": null,
            "grid_template_areas": null,
            "grid_template_columns": null,
            "grid_template_rows": null,
            "height": null,
            "justify_content": null,
            "justify_items": null,
            "left": null,
            "margin": null,
            "max_height": null,
            "max_width": null,
            "min_height": null,
            "min_width": null,
            "object_fit": null,
            "object_position": null,
            "order": null,
            "overflow": null,
            "overflow_x": null,
            "overflow_y": null,
            "padding": null,
            "right": null,
            "top": null,
            "visibility": null,
            "width": null
          }
        },
        "aeee02413cd045a0918fb99ce95ed2bb": {
          "model_module": "@jupyter-widgets/controls",
          "model_name": "ProgressStyleModel",
          "model_module_version": "1.5.0",
          "state": {
            "_model_module": "@jupyter-widgets/controls",
            "_model_module_version": "1.5.0",
            "_model_name": "ProgressStyleModel",
            "_view_count": null,
            "_view_module": "@jupyter-widgets/base",
            "_view_module_version": "1.2.0",
            "_view_name": "StyleView",
            "bar_color": null,
            "description_width": ""
          }
        },
        "50228c3e246847e39d0ea43ebcb05988": {
          "model_module": "@jupyter-widgets/base",
          "model_name": "LayoutModel",
          "model_module_version": "1.2.0",
          "state": {
            "_model_module": "@jupyter-widgets/base",
            "_model_module_version": "1.2.0",
            "_model_name": "LayoutModel",
            "_view_count": null,
            "_view_module": "@jupyter-widgets/base",
            "_view_module_version": "1.2.0",
            "_view_name": "LayoutView",
            "align_content": null,
            "align_items": null,
            "align_self": null,
            "border": null,
            "bottom": null,
            "display": null,
            "flex": null,
            "flex_flow": null,
            "grid_area": null,
            "grid_auto_columns": null,
            "grid_auto_flow": null,
            "grid_auto_rows": null,
            "grid_column": null,
            "grid_gap": null,
            "grid_row": null,
            "grid_template_areas": null,
            "grid_template_columns": null,
            "grid_template_rows": null,
            "height": null,
            "justify_content": null,
            "justify_items": null,
            "left": null,
            "margin": null,
            "max_height": null,
            "max_width": null,
            "min_height": null,
            "min_width": null,
            "object_fit": null,
            "object_position": null,
            "order": null,
            "overflow": null,
            "overflow_x": null,
            "overflow_y": null,
            "padding": null,
            "right": null,
            "top": null,
            "visibility": null,
            "width": null
          }
        },
        "32fd7538e35940cba32323017a487141": {
          "model_module": "@jupyter-widgets/controls",
          "model_name": "DescriptionStyleModel",
          "model_module_version": "1.5.0",
          "state": {
            "_model_module": "@jupyter-widgets/controls",
            "_model_module_version": "1.5.0",
            "_model_name": "DescriptionStyleModel",
            "_view_count": null,
            "_view_module": "@jupyter-widgets/base",
            "_view_module_version": "1.2.0",
            "_view_name": "StyleView",
            "description_width": ""
          }
        },
        "ec39529ab1584fa4a065963ce345b175": {
          "model_module": "@jupyter-widgets/controls",
          "model_name": "HBoxModel",
          "model_module_version": "1.5.0",
          "state": {
            "_dom_classes": [],
            "_model_module": "@jupyter-widgets/controls",
            "_model_module_version": "1.5.0",
            "_model_name": "HBoxModel",
            "_view_count": null,
            "_view_module": "@jupyter-widgets/controls",
            "_view_module_version": "1.5.0",
            "_view_name": "HBoxView",
            "box_style": "",
            "children": [
              "IPY_MODEL_6b97f708282d45c3a20c6ed3ce554c0c",
              "IPY_MODEL_56579fd31b3b4b489bad26cd12837e14",
              "IPY_MODEL_210bc1bd2e4d4a06986ed236defa15e6"
            ],
            "layout": "IPY_MODEL_de1e0d2ebc8f4244a4e63cfb39e63fa2"
          }
        },
        "6b97f708282d45c3a20c6ed3ce554c0c": {
          "model_module": "@jupyter-widgets/controls",
          "model_name": "HTMLModel",
          "model_module_version": "1.5.0",
          "state": {
            "_dom_classes": [],
            "_model_module": "@jupyter-widgets/controls",
            "_model_module_version": "1.5.0",
            "_model_name": "HTMLModel",
            "_view_count": null,
            "_view_module": "@jupyter-widgets/controls",
            "_view_module_version": "1.5.0",
            "_view_name": "HTMLView",
            "description": "",
            "description_tooltip": null,
            "layout": "IPY_MODEL_2e3c092004cc41b8b9ceb30d04a1bc17",
            "placeholder": "​",
            "style": "IPY_MODEL_51d75ef4f1a34f7ba62f3199b902f18a",
            "value": "#0: 100%"
          }
        },
        "56579fd31b3b4b489bad26cd12837e14": {
          "model_module": "@jupyter-widgets/controls",
          "model_name": "FloatProgressModel",
          "model_module_version": "1.5.0",
          "state": {
            "_dom_classes": [],
            "_model_module": "@jupyter-widgets/controls",
            "_model_module_version": "1.5.0",
            "_model_name": "FloatProgressModel",
            "_view_count": null,
            "_view_module": "@jupyter-widgets/controls",
            "_view_module_version": "1.5.0",
            "_view_name": "ProgressView",
            "bar_style": "success",
            "description": "",
            "description_tooltip": null,
            "layout": "IPY_MODEL_0fc7964afd174c30a9362c89c755a452",
            "max": 5,
            "min": 0,
            "orientation": "horizontal",
            "style": "IPY_MODEL_bef7ae35ae4144aaa256e20969dfc8f6",
            "value": 5
          }
        },
        "210bc1bd2e4d4a06986ed236defa15e6": {
          "model_module": "@jupyter-widgets/controls",
          "model_name": "HTMLModel",
          "model_module_version": "1.5.0",
          "state": {
            "_dom_classes": [],
            "_model_module": "@jupyter-widgets/controls",
            "_model_module_version": "1.5.0",
            "_model_name": "HTMLModel",
            "_view_count": null,
            "_view_module": "@jupyter-widgets/controls",
            "_view_module_version": "1.5.0",
            "_view_name": "HTMLView",
            "description": "",
            "description_tooltip": null,
            "layout": "IPY_MODEL_890d2789d7d343e89be26e570272d0e7",
            "placeholder": "​",
            "style": "IPY_MODEL_16b9d54665d84586b29b0510988d00f7",
            "value": " 5/5 [00:00&lt;00:00, 16.15ex/s]"
          }
        },
        "de1e0d2ebc8f4244a4e63cfb39e63fa2": {
          "model_module": "@jupyter-widgets/base",
          "model_name": "LayoutModel",
          "model_module_version": "1.2.0",
          "state": {
            "_model_module": "@jupyter-widgets/base",
            "_model_module_version": "1.2.0",
            "_model_name": "LayoutModel",
            "_view_count": null,
            "_view_module": "@jupyter-widgets/base",
            "_view_module_version": "1.2.0",
            "_view_name": "LayoutView",
            "align_content": null,
            "align_items": null,
            "align_self": null,
            "border": null,
            "bottom": null,
            "display": null,
            "flex": null,
            "flex_flow": null,
            "grid_area": null,
            "grid_auto_columns": null,
            "grid_auto_flow": null,
            "grid_auto_rows": null,
            "grid_column": null,
            "grid_gap": null,
            "grid_row": null,
            "grid_template_areas": null,
            "grid_template_columns": null,
            "grid_template_rows": null,
            "height": null,
            "justify_content": null,
            "justify_items": null,
            "left": null,
            "margin": null,
            "max_height": null,
            "max_width": null,
            "min_height": null,
            "min_width": null,
            "object_fit": null,
            "object_position": null,
            "order": null,
            "overflow": null,
            "overflow_x": null,
            "overflow_y": null,
            "padding": null,
            "right": null,
            "top": null,
            "visibility": null,
            "width": null
          }
        },
        "2e3c092004cc41b8b9ceb30d04a1bc17": {
          "model_module": "@jupyter-widgets/base",
          "model_name": "LayoutModel",
          "model_module_version": "1.2.0",
          "state": {
            "_model_module": "@jupyter-widgets/base",
            "_model_module_version": "1.2.0",
            "_model_name": "LayoutModel",
            "_view_count": null,
            "_view_module": "@jupyter-widgets/base",
            "_view_module_version": "1.2.0",
            "_view_name": "LayoutView",
            "align_content": null,
            "align_items": null,
            "align_self": null,
            "border": null,
            "bottom": null,
            "display": null,
            "flex": null,
            "flex_flow": null,
            "grid_area": null,
            "grid_auto_columns": null,
            "grid_auto_flow": null,
            "grid_auto_rows": null,
            "grid_column": null,
            "grid_gap": null,
            "grid_row": null,
            "grid_template_areas": null,
            "grid_template_columns": null,
            "grid_template_rows": null,
            "height": null,
            "justify_content": null,
            "justify_items": null,
            "left": null,
            "margin": null,
            "max_height": null,
            "max_width": null,
            "min_height": null,
            "min_width": null,
            "object_fit": null,
            "object_position": null,
            "order": null,
            "overflow": null,
            "overflow_x": null,
            "overflow_y": null,
            "padding": null,
            "right": null,
            "top": null,
            "visibility": null,
            "width": null
          }
        },
        "51d75ef4f1a34f7ba62f3199b902f18a": {
          "model_module": "@jupyter-widgets/controls",
          "model_name": "DescriptionStyleModel",
          "model_module_version": "1.5.0",
          "state": {
            "_model_module": "@jupyter-widgets/controls",
            "_model_module_version": "1.5.0",
            "_model_name": "DescriptionStyleModel",
            "_view_count": null,
            "_view_module": "@jupyter-widgets/base",
            "_view_module_version": "1.2.0",
            "_view_name": "StyleView",
            "description_width": ""
          }
        },
        "0fc7964afd174c30a9362c89c755a452": {
          "model_module": "@jupyter-widgets/base",
          "model_name": "LayoutModel",
          "model_module_version": "1.2.0",
          "state": {
            "_model_module": "@jupyter-widgets/base",
            "_model_module_version": "1.2.0",
            "_model_name": "LayoutModel",
            "_view_count": null,
            "_view_module": "@jupyter-widgets/base",
            "_view_module_version": "1.2.0",
            "_view_name": "LayoutView",
            "align_content": null,
            "align_items": null,
            "align_self": null,
            "border": null,
            "bottom": null,
            "display": null,
            "flex": null,
            "flex_flow": null,
            "grid_area": null,
            "grid_auto_columns": null,
            "grid_auto_flow": null,
            "grid_auto_rows": null,
            "grid_column": null,
            "grid_gap": null,
            "grid_row": null,
            "grid_template_areas": null,
            "grid_template_columns": null,
            "grid_template_rows": null,
            "height": null,
            "justify_content": null,
            "justify_items": null,
            "left": null,
            "margin": null,
            "max_height": null,
            "max_width": null,
            "min_height": null,
            "min_width": null,
            "object_fit": null,
            "object_position": null,
            "order": null,
            "overflow": null,
            "overflow_x": null,
            "overflow_y": null,
            "padding": null,
            "right": null,
            "top": null,
            "visibility": null,
            "width": null
          }
        },
        "bef7ae35ae4144aaa256e20969dfc8f6": {
          "model_module": "@jupyter-widgets/controls",
          "model_name": "ProgressStyleModel",
          "model_module_version": "1.5.0",
          "state": {
            "_model_module": "@jupyter-widgets/controls",
            "_model_module_version": "1.5.0",
            "_model_name": "ProgressStyleModel",
            "_view_count": null,
            "_view_module": "@jupyter-widgets/base",
            "_view_module_version": "1.2.0",
            "_view_name": "StyleView",
            "bar_color": null,
            "description_width": ""
          }
        },
        "890d2789d7d343e89be26e570272d0e7": {
          "model_module": "@jupyter-widgets/base",
          "model_name": "LayoutModel",
          "model_module_version": "1.2.0",
          "state": {
            "_model_module": "@jupyter-widgets/base",
            "_model_module_version": "1.2.0",
            "_model_name": "LayoutModel",
            "_view_count": null,
            "_view_module": "@jupyter-widgets/base",
            "_view_module_version": "1.2.0",
            "_view_name": "LayoutView",
            "align_content": null,
            "align_items": null,
            "align_self": null,
            "border": null,
            "bottom": null,
            "display": null,
            "flex": null,
            "flex_flow": null,
            "grid_area": null,
            "grid_auto_columns": null,
            "grid_auto_flow": null,
            "grid_auto_rows": null,
            "grid_column": null,
            "grid_gap": null,
            "grid_row": null,
            "grid_template_areas": null,
            "grid_template_columns": null,
            "grid_template_rows": null,
            "height": null,
            "justify_content": null,
            "justify_items": null,
            "left": null,
            "margin": null,
            "max_height": null,
            "max_width": null,
            "min_height": null,
            "min_width": null,
            "object_fit": null,
            "object_position": null,
            "order": null,
            "overflow": null,
            "overflow_x": null,
            "overflow_y": null,
            "padding": null,
            "right": null,
            "top": null,
            "visibility": null,
            "width": null
          }
        },
        "16b9d54665d84586b29b0510988d00f7": {
          "model_module": "@jupyter-widgets/controls",
          "model_name": "DescriptionStyleModel",
          "model_module_version": "1.5.0",
          "state": {
            "_model_module": "@jupyter-widgets/controls",
            "_model_module_version": "1.5.0",
            "_model_name": "DescriptionStyleModel",
            "_view_count": null,
            "_view_module": "@jupyter-widgets/base",
            "_view_module_version": "1.2.0",
            "_view_name": "StyleView",
            "description_width": ""
          }
        },
        "1d70684f333c49288bdf2dd6dcf95880": {
          "model_module": "@jupyter-widgets/controls",
          "model_name": "HBoxModel",
          "model_module_version": "1.5.0",
          "state": {
            "_dom_classes": [],
            "_model_module": "@jupyter-widgets/controls",
            "_model_module_version": "1.5.0",
            "_model_name": "HBoxModel",
            "_view_count": null,
            "_view_module": "@jupyter-widgets/controls",
            "_view_module_version": "1.5.0",
            "_view_name": "HBoxView",
            "box_style": "",
            "children": [
              "IPY_MODEL_e668d8e001054132949add8ddf9e4d7a",
              "IPY_MODEL_aa204126bdae4f2c9400129cff09234a",
              "IPY_MODEL_5c82cae03513492d90e0902fa450c930"
            ],
            "layout": "IPY_MODEL_09f8851073cb4dbf82b07338da825dd0"
          }
        },
        "e668d8e001054132949add8ddf9e4d7a": {
          "model_module": "@jupyter-widgets/controls",
          "model_name": "HTMLModel",
          "model_module_version": "1.5.0",
          "state": {
            "_dom_classes": [],
            "_model_module": "@jupyter-widgets/controls",
            "_model_module_version": "1.5.0",
            "_model_name": "HTMLModel",
            "_view_count": null,
            "_view_module": "@jupyter-widgets/controls",
            "_view_module_version": "1.5.0",
            "_view_name": "HTMLView",
            "description": "",
            "description_tooltip": null,
            "layout": "IPY_MODEL_48160cd26d814aae8db004d87212d906",
            "placeholder": "​",
            "style": "IPY_MODEL_976983bff9b64ab3a1aa86675035c663",
            "value": "#1: 100%"
          }
        },
        "aa204126bdae4f2c9400129cff09234a": {
          "model_module": "@jupyter-widgets/controls",
          "model_name": "FloatProgressModel",
          "model_module_version": "1.5.0",
          "state": {
            "_dom_classes": [],
            "_model_module": "@jupyter-widgets/controls",
            "_model_module_version": "1.5.0",
            "_model_name": "FloatProgressModel",
            "_view_count": null,
            "_view_module": "@jupyter-widgets/controls",
            "_view_module_version": "1.5.0",
            "_view_name": "ProgressView",
            "bar_style": "success",
            "description": "",
            "description_tooltip": null,
            "layout": "IPY_MODEL_be4efb23cad0411e929a7f2514eb8732",
            "max": 5,
            "min": 0,
            "orientation": "horizontal",
            "style": "IPY_MODEL_8fce4b747b2a479bae536139908bd2d8",
            "value": 5
          }
        },
        "5c82cae03513492d90e0902fa450c930": {
          "model_module": "@jupyter-widgets/controls",
          "model_name": "HTMLModel",
          "model_module_version": "1.5.0",
          "state": {
            "_dom_classes": [],
            "_model_module": "@jupyter-widgets/controls",
            "_model_module_version": "1.5.0",
            "_model_name": "HTMLModel",
            "_view_count": null,
            "_view_module": "@jupyter-widgets/controls",
            "_view_module_version": "1.5.0",
            "_view_name": "HTMLView",
            "description": "",
            "description_tooltip": null,
            "layout": "IPY_MODEL_1da1c5cd85144c3abd6678b6210342ed",
            "placeholder": "​",
            "style": "IPY_MODEL_aee2aa0c3a7c427f80e3b3e4f2b35719",
            "value": " 5/5 [00:00&lt;00:00, 17.27ex/s]"
          }
        },
        "09f8851073cb4dbf82b07338da825dd0": {
          "model_module": "@jupyter-widgets/base",
          "model_name": "LayoutModel",
          "model_module_version": "1.2.0",
          "state": {
            "_model_module": "@jupyter-widgets/base",
            "_model_module_version": "1.2.0",
            "_model_name": "LayoutModel",
            "_view_count": null,
            "_view_module": "@jupyter-widgets/base",
            "_view_module_version": "1.2.0",
            "_view_name": "LayoutView",
            "align_content": null,
            "align_items": null,
            "align_self": null,
            "border": null,
            "bottom": null,
            "display": null,
            "flex": null,
            "flex_flow": null,
            "grid_area": null,
            "grid_auto_columns": null,
            "grid_auto_flow": null,
            "grid_auto_rows": null,
            "grid_column": null,
            "grid_gap": null,
            "grid_row": null,
            "grid_template_areas": null,
            "grid_template_columns": null,
            "grid_template_rows": null,
            "height": null,
            "justify_content": null,
            "justify_items": null,
            "left": null,
            "margin": null,
            "max_height": null,
            "max_width": null,
            "min_height": null,
            "min_width": null,
            "object_fit": null,
            "object_position": null,
            "order": null,
            "overflow": null,
            "overflow_x": null,
            "overflow_y": null,
            "padding": null,
            "right": null,
            "top": null,
            "visibility": null,
            "width": null
          }
        },
        "48160cd26d814aae8db004d87212d906": {
          "model_module": "@jupyter-widgets/base",
          "model_name": "LayoutModel",
          "model_module_version": "1.2.0",
          "state": {
            "_model_module": "@jupyter-widgets/base",
            "_model_module_version": "1.2.0",
            "_model_name": "LayoutModel",
            "_view_count": null,
            "_view_module": "@jupyter-widgets/base",
            "_view_module_version": "1.2.0",
            "_view_name": "LayoutView",
            "align_content": null,
            "align_items": null,
            "align_self": null,
            "border": null,
            "bottom": null,
            "display": null,
            "flex": null,
            "flex_flow": null,
            "grid_area": null,
            "grid_auto_columns": null,
            "grid_auto_flow": null,
            "grid_auto_rows": null,
            "grid_column": null,
            "grid_gap": null,
            "grid_row": null,
            "grid_template_areas": null,
            "grid_template_columns": null,
            "grid_template_rows": null,
            "height": null,
            "justify_content": null,
            "justify_items": null,
            "left": null,
            "margin": null,
            "max_height": null,
            "max_width": null,
            "min_height": null,
            "min_width": null,
            "object_fit": null,
            "object_position": null,
            "order": null,
            "overflow": null,
            "overflow_x": null,
            "overflow_y": null,
            "padding": null,
            "right": null,
            "top": null,
            "visibility": null,
            "width": null
          }
        },
        "976983bff9b64ab3a1aa86675035c663": {
          "model_module": "@jupyter-widgets/controls",
          "model_name": "DescriptionStyleModel",
          "model_module_version": "1.5.0",
          "state": {
            "_model_module": "@jupyter-widgets/controls",
            "_model_module_version": "1.5.0",
            "_model_name": "DescriptionStyleModel",
            "_view_count": null,
            "_view_module": "@jupyter-widgets/base",
            "_view_module_version": "1.2.0",
            "_view_name": "StyleView",
            "description_width": ""
          }
        },
        "be4efb23cad0411e929a7f2514eb8732": {
          "model_module": "@jupyter-widgets/base",
          "model_name": "LayoutModel",
          "model_module_version": "1.2.0",
          "state": {
            "_model_module": "@jupyter-widgets/base",
            "_model_module_version": "1.2.0",
            "_model_name": "LayoutModel",
            "_view_count": null,
            "_view_module": "@jupyter-widgets/base",
            "_view_module_version": "1.2.0",
            "_view_name": "LayoutView",
            "align_content": null,
            "align_items": null,
            "align_self": null,
            "border": null,
            "bottom": null,
            "display": null,
            "flex": null,
            "flex_flow": null,
            "grid_area": null,
            "grid_auto_columns": null,
            "grid_auto_flow": null,
            "grid_auto_rows": null,
            "grid_column": null,
            "grid_gap": null,
            "grid_row": null,
            "grid_template_areas": null,
            "grid_template_columns": null,
            "grid_template_rows": null,
            "height": null,
            "justify_content": null,
            "justify_items": null,
            "left": null,
            "margin": null,
            "max_height": null,
            "max_width": null,
            "min_height": null,
            "min_width": null,
            "object_fit": null,
            "object_position": null,
            "order": null,
            "overflow": null,
            "overflow_x": null,
            "overflow_y": null,
            "padding": null,
            "right": null,
            "top": null,
            "visibility": null,
            "width": null
          }
        },
        "8fce4b747b2a479bae536139908bd2d8": {
          "model_module": "@jupyter-widgets/controls",
          "model_name": "ProgressStyleModel",
          "model_module_version": "1.5.0",
          "state": {
            "_model_module": "@jupyter-widgets/controls",
            "_model_module_version": "1.5.0",
            "_model_name": "ProgressStyleModel",
            "_view_count": null,
            "_view_module": "@jupyter-widgets/base",
            "_view_module_version": "1.2.0",
            "_view_name": "StyleView",
            "bar_color": null,
            "description_width": ""
          }
        },
        "1da1c5cd85144c3abd6678b6210342ed": {
          "model_module": "@jupyter-widgets/base",
          "model_name": "LayoutModel",
          "model_module_version": "1.2.0",
          "state": {
            "_model_module": "@jupyter-widgets/base",
            "_model_module_version": "1.2.0",
            "_model_name": "LayoutModel",
            "_view_count": null,
            "_view_module": "@jupyter-widgets/base",
            "_view_module_version": "1.2.0",
            "_view_name": "LayoutView",
            "align_content": null,
            "align_items": null,
            "align_self": null,
            "border": null,
            "bottom": null,
            "display": null,
            "flex": null,
            "flex_flow": null,
            "grid_area": null,
            "grid_auto_columns": null,
            "grid_auto_flow": null,
            "grid_auto_rows": null,
            "grid_column": null,
            "grid_gap": null,
            "grid_row": null,
            "grid_template_areas": null,
            "grid_template_columns": null,
            "grid_template_rows": null,
            "height": null,
            "justify_content": null,
            "justify_items": null,
            "left": null,
            "margin": null,
            "max_height": null,
            "max_width": null,
            "min_height": null,
            "min_width": null,
            "object_fit": null,
            "object_position": null,
            "order": null,
            "overflow": null,
            "overflow_x": null,
            "overflow_y": null,
            "padding": null,
            "right": null,
            "top": null,
            "visibility": null,
            "width": null
          }
        },
        "aee2aa0c3a7c427f80e3b3e4f2b35719": {
          "model_module": "@jupyter-widgets/controls",
          "model_name": "DescriptionStyleModel",
          "model_module_version": "1.5.0",
          "state": {
            "_model_module": "@jupyter-widgets/controls",
            "_model_module_version": "1.5.0",
            "_model_name": "DescriptionStyleModel",
            "_view_count": null,
            "_view_module": "@jupyter-widgets/base",
            "_view_module_version": "1.2.0",
            "_view_name": "StyleView",
            "description_width": ""
          }
        },
        "4ba55795e6a147e29705d5bfcd35a310": {
          "model_module": "@jupyter-widgets/controls",
          "model_name": "HBoxModel",
          "model_module_version": "1.5.0",
          "state": {
            "_dom_classes": [],
            "_model_module": "@jupyter-widgets/controls",
            "_model_module_version": "1.5.0",
            "_model_name": "HBoxModel",
            "_view_count": null,
            "_view_module": "@jupyter-widgets/controls",
            "_view_module_version": "1.5.0",
            "_view_name": "HBoxView",
            "box_style": "",
            "children": [
              "IPY_MODEL_dd6769018d2142499fbb3670061f8ee2",
              "IPY_MODEL_e2abb49e05c1488a967734a7d87440e6",
              "IPY_MODEL_926b22a82d044f1ca5065a5d2101b6d6"
            ],
            "layout": "IPY_MODEL_45e7e95caf87492c8d593adc20311511"
          }
        },
        "dd6769018d2142499fbb3670061f8ee2": {
          "model_module": "@jupyter-widgets/controls",
          "model_name": "HTMLModel",
          "model_module_version": "1.5.0",
          "state": {
            "_dom_classes": [],
            "_model_module": "@jupyter-widgets/controls",
            "_model_module_version": "1.5.0",
            "_model_name": "HTMLModel",
            "_view_count": null,
            "_view_module": "@jupyter-widgets/controls",
            "_view_module_version": "1.5.0",
            "_view_name": "HTMLView",
            "description": "",
            "description_tooltip": null,
            "layout": "IPY_MODEL_3d9fff05f29d423dbbacdec64da88956",
            "placeholder": "​",
            "style": "IPY_MODEL_4cee80e82c5f481b99e98398e90b4119",
            "value": "#2: 100%"
          }
        },
        "e2abb49e05c1488a967734a7d87440e6": {
          "model_module": "@jupyter-widgets/controls",
          "model_name": "FloatProgressModel",
          "model_module_version": "1.5.0",
          "state": {
            "_dom_classes": [],
            "_model_module": "@jupyter-widgets/controls",
            "_model_module_version": "1.5.0",
            "_model_name": "FloatProgressModel",
            "_view_count": null,
            "_view_module": "@jupyter-widgets/controls",
            "_view_module_version": "1.5.0",
            "_view_name": "ProgressView",
            "bar_style": "success",
            "description": "",
            "description_tooltip": null,
            "layout": "IPY_MODEL_e39671ad2dd94c0689444869ccacdd58",
            "max": 5,
            "min": 0,
            "orientation": "horizontal",
            "style": "IPY_MODEL_e32fca6171244f13a06aa9cd9807624c",
            "value": 5
          }
        },
        "926b22a82d044f1ca5065a5d2101b6d6": {
          "model_module": "@jupyter-widgets/controls",
          "model_name": "HTMLModel",
          "model_module_version": "1.5.0",
          "state": {
            "_dom_classes": [],
            "_model_module": "@jupyter-widgets/controls",
            "_model_module_version": "1.5.0",
            "_model_name": "HTMLModel",
            "_view_count": null,
            "_view_module": "@jupyter-widgets/controls",
            "_view_module_version": "1.5.0",
            "_view_name": "HTMLView",
            "description": "",
            "description_tooltip": null,
            "layout": "IPY_MODEL_604a63722c264081986c532affee4702",
            "placeholder": "​",
            "style": "IPY_MODEL_358cdf5284864057bc6966b362ddae48",
            "value": " 5/5 [00:00&lt;00:00,  3.61ex/s]"
          }
        },
        "45e7e95caf87492c8d593adc20311511": {
          "model_module": "@jupyter-widgets/base",
          "model_name": "LayoutModel",
          "model_module_version": "1.2.0",
          "state": {
            "_model_module": "@jupyter-widgets/base",
            "_model_module_version": "1.2.0",
            "_model_name": "LayoutModel",
            "_view_count": null,
            "_view_module": "@jupyter-widgets/base",
            "_view_module_version": "1.2.0",
            "_view_name": "LayoutView",
            "align_content": null,
            "align_items": null,
            "align_self": null,
            "border": null,
            "bottom": null,
            "display": null,
            "flex": null,
            "flex_flow": null,
            "grid_area": null,
            "grid_auto_columns": null,
            "grid_auto_flow": null,
            "grid_auto_rows": null,
            "grid_column": null,
            "grid_gap": null,
            "grid_row": null,
            "grid_template_areas": null,
            "grid_template_columns": null,
            "grid_template_rows": null,
            "height": null,
            "justify_content": null,
            "justify_items": null,
            "left": null,
            "margin": null,
            "max_height": null,
            "max_width": null,
            "min_height": null,
            "min_width": null,
            "object_fit": null,
            "object_position": null,
            "order": null,
            "overflow": null,
            "overflow_x": null,
            "overflow_y": null,
            "padding": null,
            "right": null,
            "top": null,
            "visibility": null,
            "width": null
          }
        },
        "3d9fff05f29d423dbbacdec64da88956": {
          "model_module": "@jupyter-widgets/base",
          "model_name": "LayoutModel",
          "model_module_version": "1.2.0",
          "state": {
            "_model_module": "@jupyter-widgets/base",
            "_model_module_version": "1.2.0",
            "_model_name": "LayoutModel",
            "_view_count": null,
            "_view_module": "@jupyter-widgets/base",
            "_view_module_version": "1.2.0",
            "_view_name": "LayoutView",
            "align_content": null,
            "align_items": null,
            "align_self": null,
            "border": null,
            "bottom": null,
            "display": null,
            "flex": null,
            "flex_flow": null,
            "grid_area": null,
            "grid_auto_columns": null,
            "grid_auto_flow": null,
            "grid_auto_rows": null,
            "grid_column": null,
            "grid_gap": null,
            "grid_row": null,
            "grid_template_areas": null,
            "grid_template_columns": null,
            "grid_template_rows": null,
            "height": null,
            "justify_content": null,
            "justify_items": null,
            "left": null,
            "margin": null,
            "max_height": null,
            "max_width": null,
            "min_height": null,
            "min_width": null,
            "object_fit": null,
            "object_position": null,
            "order": null,
            "overflow": null,
            "overflow_x": null,
            "overflow_y": null,
            "padding": null,
            "right": null,
            "top": null,
            "visibility": null,
            "width": null
          }
        },
        "4cee80e82c5f481b99e98398e90b4119": {
          "model_module": "@jupyter-widgets/controls",
          "model_name": "DescriptionStyleModel",
          "model_module_version": "1.5.0",
          "state": {
            "_model_module": "@jupyter-widgets/controls",
            "_model_module_version": "1.5.0",
            "_model_name": "DescriptionStyleModel",
            "_view_count": null,
            "_view_module": "@jupyter-widgets/base",
            "_view_module_version": "1.2.0",
            "_view_name": "StyleView",
            "description_width": ""
          }
        },
        "e39671ad2dd94c0689444869ccacdd58": {
          "model_module": "@jupyter-widgets/base",
          "model_name": "LayoutModel",
          "model_module_version": "1.2.0",
          "state": {
            "_model_module": "@jupyter-widgets/base",
            "_model_module_version": "1.2.0",
            "_model_name": "LayoutModel",
            "_view_count": null,
            "_view_module": "@jupyter-widgets/base",
            "_view_module_version": "1.2.0",
            "_view_name": "LayoutView",
            "align_content": null,
            "align_items": null,
            "align_self": null,
            "border": null,
            "bottom": null,
            "display": null,
            "flex": null,
            "flex_flow": null,
            "grid_area": null,
            "grid_auto_columns": null,
            "grid_auto_flow": null,
            "grid_auto_rows": null,
            "grid_column": null,
            "grid_gap": null,
            "grid_row": null,
            "grid_template_areas": null,
            "grid_template_columns": null,
            "grid_template_rows": null,
            "height": null,
            "justify_content": null,
            "justify_items": null,
            "left": null,
            "margin": null,
            "max_height": null,
            "max_width": null,
            "min_height": null,
            "min_width": null,
            "object_fit": null,
            "object_position": null,
            "order": null,
            "overflow": null,
            "overflow_x": null,
            "overflow_y": null,
            "padding": null,
            "right": null,
            "top": null,
            "visibility": null,
            "width": null
          }
        },
        "e32fca6171244f13a06aa9cd9807624c": {
          "model_module": "@jupyter-widgets/controls",
          "model_name": "ProgressStyleModel",
          "model_module_version": "1.5.0",
          "state": {
            "_model_module": "@jupyter-widgets/controls",
            "_model_module_version": "1.5.0",
            "_model_name": "ProgressStyleModel",
            "_view_count": null,
            "_view_module": "@jupyter-widgets/base",
            "_view_module_version": "1.2.0",
            "_view_name": "StyleView",
            "bar_color": null,
            "description_width": ""
          }
        },
        "604a63722c264081986c532affee4702": {
          "model_module": "@jupyter-widgets/base",
          "model_name": "LayoutModel",
          "model_module_version": "1.2.0",
          "state": {
            "_model_module": "@jupyter-widgets/base",
            "_model_module_version": "1.2.0",
            "_model_name": "LayoutModel",
            "_view_count": null,
            "_view_module": "@jupyter-widgets/base",
            "_view_module_version": "1.2.0",
            "_view_name": "LayoutView",
            "align_content": null,
            "align_items": null,
            "align_self": null,
            "border": null,
            "bottom": null,
            "display": null,
            "flex": null,
            "flex_flow": null,
            "grid_area": null,
            "grid_auto_columns": null,
            "grid_auto_flow": null,
            "grid_auto_rows": null,
            "grid_column": null,
            "grid_gap": null,
            "grid_row": null,
            "grid_template_areas": null,
            "grid_template_columns": null,
            "grid_template_rows": null,
            "height": null,
            "justify_content": null,
            "justify_items": null,
            "left": null,
            "margin": null,
            "max_height": null,
            "max_width": null,
            "min_height": null,
            "min_width": null,
            "object_fit": null,
            "object_position": null,
            "order": null,
            "overflow": null,
            "overflow_x": null,
            "overflow_y": null,
            "padding": null,
            "right": null,
            "top": null,
            "visibility": null,
            "width": null
          }
        },
        "358cdf5284864057bc6966b362ddae48": {
          "model_module": "@jupyter-widgets/controls",
          "model_name": "DescriptionStyleModel",
          "model_module_version": "1.5.0",
          "state": {
            "_model_module": "@jupyter-widgets/controls",
            "_model_module_version": "1.5.0",
            "_model_name": "DescriptionStyleModel",
            "_view_count": null,
            "_view_module": "@jupyter-widgets/base",
            "_view_module_version": "1.2.0",
            "_view_name": "StyleView",
            "description_width": ""
          }
        },
        "82052577cf7f425cacd5453a4dad394a": {
          "model_module": "@jupyter-widgets/controls",
          "model_name": "HBoxModel",
          "model_module_version": "1.5.0",
          "state": {
            "_dom_classes": [],
            "_model_module": "@jupyter-widgets/controls",
            "_model_module_version": "1.5.0",
            "_model_name": "HBoxModel",
            "_view_count": null,
            "_view_module": "@jupyter-widgets/controls",
            "_view_module_version": "1.5.0",
            "_view_name": "HBoxView",
            "box_style": "",
            "children": [
              "IPY_MODEL_d6b57efe3a5547d0917e779749239e84",
              "IPY_MODEL_7ef760de56854494976f4f22ab555b95",
              "IPY_MODEL_29e986cdaab142deaffd9fcbe5833dce"
            ],
            "layout": "IPY_MODEL_29faa8bc408e444b94fbcc2be0b45cb3"
          }
        },
        "d6b57efe3a5547d0917e779749239e84": {
          "model_module": "@jupyter-widgets/controls",
          "model_name": "HTMLModel",
          "model_module_version": "1.5.0",
          "state": {
            "_dom_classes": [],
            "_model_module": "@jupyter-widgets/controls",
            "_model_module_version": "1.5.0",
            "_model_name": "HTMLModel",
            "_view_count": null,
            "_view_module": "@jupyter-widgets/controls",
            "_view_module_version": "1.5.0",
            "_view_name": "HTMLView",
            "description": "",
            "description_tooltip": null,
            "layout": "IPY_MODEL_20cb2395dc954e48ba3e6b5453151826",
            "placeholder": "​",
            "style": "IPY_MODEL_dac7fd065d25460fb0a91dd01c510406",
            "value": "#3: 100%"
          }
        },
        "7ef760de56854494976f4f22ab555b95": {
          "model_module": "@jupyter-widgets/controls",
          "model_name": "FloatProgressModel",
          "model_module_version": "1.5.0",
          "state": {
            "_dom_classes": [],
            "_model_module": "@jupyter-widgets/controls",
            "_model_module_version": "1.5.0",
            "_model_name": "FloatProgressModel",
            "_view_count": null,
            "_view_module": "@jupyter-widgets/controls",
            "_view_module_version": "1.5.0",
            "_view_name": "ProgressView",
            "bar_style": "success",
            "description": "",
            "description_tooltip": null,
            "layout": "IPY_MODEL_f75a3c0715b94d938f7e637af0ee54f5",
            "max": 5,
            "min": 0,
            "orientation": "horizontal",
            "style": "IPY_MODEL_c38610b87f30420c815d66e49fcde3ff",
            "value": 5
          }
        },
        "29e986cdaab142deaffd9fcbe5833dce": {
          "model_module": "@jupyter-widgets/controls",
          "model_name": "HTMLModel",
          "model_module_version": "1.5.0",
          "state": {
            "_dom_classes": [],
            "_model_module": "@jupyter-widgets/controls",
            "_model_module_version": "1.5.0",
            "_model_name": "HTMLModel",
            "_view_count": null,
            "_view_module": "@jupyter-widgets/controls",
            "_view_module_version": "1.5.0",
            "_view_name": "HTMLView",
            "description": "",
            "description_tooltip": null,
            "layout": "IPY_MODEL_024b574bee1c4d99a841d7602543d25d",
            "placeholder": "​",
            "style": "IPY_MODEL_531f255cd0aa4444ad3782e1cbcb7716",
            "value": " 5/5 [00:00&lt;00:00,  3.80ex/s]"
          }
        },
        "29faa8bc408e444b94fbcc2be0b45cb3": {
          "model_module": "@jupyter-widgets/base",
          "model_name": "LayoutModel",
          "model_module_version": "1.2.0",
          "state": {
            "_model_module": "@jupyter-widgets/base",
            "_model_module_version": "1.2.0",
            "_model_name": "LayoutModel",
            "_view_count": null,
            "_view_module": "@jupyter-widgets/base",
            "_view_module_version": "1.2.0",
            "_view_name": "LayoutView",
            "align_content": null,
            "align_items": null,
            "align_self": null,
            "border": null,
            "bottom": null,
            "display": null,
            "flex": null,
            "flex_flow": null,
            "grid_area": null,
            "grid_auto_columns": null,
            "grid_auto_flow": null,
            "grid_auto_rows": null,
            "grid_column": null,
            "grid_gap": null,
            "grid_row": null,
            "grid_template_areas": null,
            "grid_template_columns": null,
            "grid_template_rows": null,
            "height": null,
            "justify_content": null,
            "justify_items": null,
            "left": null,
            "margin": null,
            "max_height": null,
            "max_width": null,
            "min_height": null,
            "min_width": null,
            "object_fit": null,
            "object_position": null,
            "order": null,
            "overflow": null,
            "overflow_x": null,
            "overflow_y": null,
            "padding": null,
            "right": null,
            "top": null,
            "visibility": null,
            "width": null
          }
        },
        "20cb2395dc954e48ba3e6b5453151826": {
          "model_module": "@jupyter-widgets/base",
          "model_name": "LayoutModel",
          "model_module_version": "1.2.0",
          "state": {
            "_model_module": "@jupyter-widgets/base",
            "_model_module_version": "1.2.0",
            "_model_name": "LayoutModel",
            "_view_count": null,
            "_view_module": "@jupyter-widgets/base",
            "_view_module_version": "1.2.0",
            "_view_name": "LayoutView",
            "align_content": null,
            "align_items": null,
            "align_self": null,
            "border": null,
            "bottom": null,
            "display": null,
            "flex": null,
            "flex_flow": null,
            "grid_area": null,
            "grid_auto_columns": null,
            "grid_auto_flow": null,
            "grid_auto_rows": null,
            "grid_column": null,
            "grid_gap": null,
            "grid_row": null,
            "grid_template_areas": null,
            "grid_template_columns": null,
            "grid_template_rows": null,
            "height": null,
            "justify_content": null,
            "justify_items": null,
            "left": null,
            "margin": null,
            "max_height": null,
            "max_width": null,
            "min_height": null,
            "min_width": null,
            "object_fit": null,
            "object_position": null,
            "order": null,
            "overflow": null,
            "overflow_x": null,
            "overflow_y": null,
            "padding": null,
            "right": null,
            "top": null,
            "visibility": null,
            "width": null
          }
        },
        "dac7fd065d25460fb0a91dd01c510406": {
          "model_module": "@jupyter-widgets/controls",
          "model_name": "DescriptionStyleModel",
          "model_module_version": "1.5.0",
          "state": {
            "_model_module": "@jupyter-widgets/controls",
            "_model_module_version": "1.5.0",
            "_model_name": "DescriptionStyleModel",
            "_view_count": null,
            "_view_module": "@jupyter-widgets/base",
            "_view_module_version": "1.2.0",
            "_view_name": "StyleView",
            "description_width": ""
          }
        },
        "f75a3c0715b94d938f7e637af0ee54f5": {
          "model_module": "@jupyter-widgets/base",
          "model_name": "LayoutModel",
          "model_module_version": "1.2.0",
          "state": {
            "_model_module": "@jupyter-widgets/base",
            "_model_module_version": "1.2.0",
            "_model_name": "LayoutModel",
            "_view_count": null,
            "_view_module": "@jupyter-widgets/base",
            "_view_module_version": "1.2.0",
            "_view_name": "LayoutView",
            "align_content": null,
            "align_items": null,
            "align_self": null,
            "border": null,
            "bottom": null,
            "display": null,
            "flex": null,
            "flex_flow": null,
            "grid_area": null,
            "grid_auto_columns": null,
            "grid_auto_flow": null,
            "grid_auto_rows": null,
            "grid_column": null,
            "grid_gap": null,
            "grid_row": null,
            "grid_template_areas": null,
            "grid_template_columns": null,
            "grid_template_rows": null,
            "height": null,
            "justify_content": null,
            "justify_items": null,
            "left": null,
            "margin": null,
            "max_height": null,
            "max_width": null,
            "min_height": null,
            "min_width": null,
            "object_fit": null,
            "object_position": null,
            "order": null,
            "overflow": null,
            "overflow_x": null,
            "overflow_y": null,
            "padding": null,
            "right": null,
            "top": null,
            "visibility": null,
            "width": null
          }
        },
        "c38610b87f30420c815d66e49fcde3ff": {
          "model_module": "@jupyter-widgets/controls",
          "model_name": "ProgressStyleModel",
          "model_module_version": "1.5.0",
          "state": {
            "_model_module": "@jupyter-widgets/controls",
            "_model_module_version": "1.5.0",
            "_model_name": "ProgressStyleModel",
            "_view_count": null,
            "_view_module": "@jupyter-widgets/base",
            "_view_module_version": "1.2.0",
            "_view_name": "StyleView",
            "bar_color": null,
            "description_width": ""
          }
        },
        "024b574bee1c4d99a841d7602543d25d": {
          "model_module": "@jupyter-widgets/base",
          "model_name": "LayoutModel",
          "model_module_version": "1.2.0",
          "state": {
            "_model_module": "@jupyter-widgets/base",
            "_model_module_version": "1.2.0",
            "_model_name": "LayoutModel",
            "_view_count": null,
            "_view_module": "@jupyter-widgets/base",
            "_view_module_version": "1.2.0",
            "_view_name": "LayoutView",
            "align_content": null,
            "align_items": null,
            "align_self": null,
            "border": null,
            "bottom": null,
            "display": null,
            "flex": null,
            "flex_flow": null,
            "grid_area": null,
            "grid_auto_columns": null,
            "grid_auto_flow": null,
            "grid_auto_rows": null,
            "grid_column": null,
            "grid_gap": null,
            "grid_row": null,
            "grid_template_areas": null,
            "grid_template_columns": null,
            "grid_template_rows": null,
            "height": null,
            "justify_content": null,
            "justify_items": null,
            "left": null,
            "margin": null,
            "max_height": null,
            "max_width": null,
            "min_height": null,
            "min_width": null,
            "object_fit": null,
            "object_position": null,
            "order": null,
            "overflow": null,
            "overflow_x": null,
            "overflow_y": null,
            "padding": null,
            "right": null,
            "top": null,
            "visibility": null,
            "width": null
          }
        },
        "531f255cd0aa4444ad3782e1cbcb7716": {
          "model_module": "@jupyter-widgets/controls",
          "model_name": "DescriptionStyleModel",
          "model_module_version": "1.5.0",
          "state": {
            "_model_module": "@jupyter-widgets/controls",
            "_model_module_version": "1.5.0",
            "_model_name": "DescriptionStyleModel",
            "_view_count": null,
            "_view_module": "@jupyter-widgets/base",
            "_view_module_version": "1.2.0",
            "_view_name": "StyleView",
            "description_width": ""
          }
        },
        "63460d2ed2e64991bf2608e447a818c5": {
          "model_module": "@jupyter-widgets/controls",
          "model_name": "HBoxModel",
          "model_module_version": "1.5.0",
          "state": {
            "_dom_classes": [],
            "_model_module": "@jupyter-widgets/controls",
            "_model_module_version": "1.5.0",
            "_model_name": "HBoxModel",
            "_view_count": null,
            "_view_module": "@jupyter-widgets/controls",
            "_view_module_version": "1.5.0",
            "_view_name": "HBoxView",
            "box_style": "",
            "children": [
              "IPY_MODEL_919120da09f64059abe949849398d0f2",
              "IPY_MODEL_32415ad19b3145618ff1ff8843dae55e",
              "IPY_MODEL_ae5ee6f99e3643d199fcddec02f9300d"
            ],
            "layout": "IPY_MODEL_3b976f1a684141469bc705018740b9c4"
          }
        },
        "919120da09f64059abe949849398d0f2": {
          "model_module": "@jupyter-widgets/controls",
          "model_name": "HTMLModel",
          "model_module_version": "1.5.0",
          "state": {
            "_dom_classes": [],
            "_model_module": "@jupyter-widgets/controls",
            "_model_module_version": "1.5.0",
            "_model_name": "HTMLModel",
            "_view_count": null,
            "_view_module": "@jupyter-widgets/controls",
            "_view_module_version": "1.5.0",
            "_view_name": "HTMLView",
            "description": "",
            "description_tooltip": null,
            "layout": "IPY_MODEL_7e5433e916ba4ff19bbda0afd761e71c",
            "placeholder": "​",
            "style": "IPY_MODEL_7d9049b6941b45719972518743993c7d",
            "value": "100%"
          }
        },
        "32415ad19b3145618ff1ff8843dae55e": {
          "model_module": "@jupyter-widgets/controls",
          "model_name": "FloatProgressModel",
          "model_module_version": "1.5.0",
          "state": {
            "_dom_classes": [],
            "_model_module": "@jupyter-widgets/controls",
            "_model_module_version": "1.5.0",
            "_model_name": "FloatProgressModel",
            "_view_count": null,
            "_view_module": "@jupyter-widgets/controls",
            "_view_module_version": "1.5.0",
            "_view_name": "ProgressView",
            "bar_style": "success",
            "description": "",
            "description_tooltip": null,
            "layout": "IPY_MODEL_601c8715543b44e0b16cbe4fb9eaa5bc",
            "max": 80,
            "min": 0,
            "orientation": "horizontal",
            "style": "IPY_MODEL_b34497018bdf4db494bc8834ed00d4c8",
            "value": 80
          }
        },
        "ae5ee6f99e3643d199fcddec02f9300d": {
          "model_module": "@jupyter-widgets/controls",
          "model_name": "HTMLModel",
          "model_module_version": "1.5.0",
          "state": {
            "_dom_classes": [],
            "_model_module": "@jupyter-widgets/controls",
            "_model_module_version": "1.5.0",
            "_model_name": "HTMLModel",
            "_view_count": null,
            "_view_module": "@jupyter-widgets/controls",
            "_view_module_version": "1.5.0",
            "_view_name": "HTMLView",
            "description": "",
            "description_tooltip": null,
            "layout": "IPY_MODEL_9563d195a5704b72abe99b8a936a8f54",
            "placeholder": "​",
            "style": "IPY_MODEL_6a85b736c9a4468aad17c98fc186d135",
            "value": " 80/80 [00:14&lt;00:00,  6.30ex/s]"
          }
        },
        "3b976f1a684141469bc705018740b9c4": {
          "model_module": "@jupyter-widgets/base",
          "model_name": "LayoutModel",
          "model_module_version": "1.2.0",
          "state": {
            "_model_module": "@jupyter-widgets/base",
            "_model_module_version": "1.2.0",
            "_model_name": "LayoutModel",
            "_view_count": null,
            "_view_module": "@jupyter-widgets/base",
            "_view_module_version": "1.2.0",
            "_view_name": "LayoutView",
            "align_content": null,
            "align_items": null,
            "align_self": null,
            "border": null,
            "bottom": null,
            "display": null,
            "flex": null,
            "flex_flow": null,
            "grid_area": null,
            "grid_auto_columns": null,
            "grid_auto_flow": null,
            "grid_auto_rows": null,
            "grid_column": null,
            "grid_gap": null,
            "grid_row": null,
            "grid_template_areas": null,
            "grid_template_columns": null,
            "grid_template_rows": null,
            "height": null,
            "justify_content": null,
            "justify_items": null,
            "left": null,
            "margin": null,
            "max_height": null,
            "max_width": null,
            "min_height": null,
            "min_width": null,
            "object_fit": null,
            "object_position": null,
            "order": null,
            "overflow": null,
            "overflow_x": null,
            "overflow_y": null,
            "padding": null,
            "right": null,
            "top": null,
            "visibility": null,
            "width": null
          }
        },
        "7e5433e916ba4ff19bbda0afd761e71c": {
          "model_module": "@jupyter-widgets/base",
          "model_name": "LayoutModel",
          "model_module_version": "1.2.0",
          "state": {
            "_model_module": "@jupyter-widgets/base",
            "_model_module_version": "1.2.0",
            "_model_name": "LayoutModel",
            "_view_count": null,
            "_view_module": "@jupyter-widgets/base",
            "_view_module_version": "1.2.0",
            "_view_name": "LayoutView",
            "align_content": null,
            "align_items": null,
            "align_self": null,
            "border": null,
            "bottom": null,
            "display": null,
            "flex": null,
            "flex_flow": null,
            "grid_area": null,
            "grid_auto_columns": null,
            "grid_auto_flow": null,
            "grid_auto_rows": null,
            "grid_column": null,
            "grid_gap": null,
            "grid_row": null,
            "grid_template_areas": null,
            "grid_template_columns": null,
            "grid_template_rows": null,
            "height": null,
            "justify_content": null,
            "justify_items": null,
            "left": null,
            "margin": null,
            "max_height": null,
            "max_width": null,
            "min_height": null,
            "min_width": null,
            "object_fit": null,
            "object_position": null,
            "order": null,
            "overflow": null,
            "overflow_x": null,
            "overflow_y": null,
            "padding": null,
            "right": null,
            "top": null,
            "visibility": null,
            "width": null
          }
        },
        "7d9049b6941b45719972518743993c7d": {
          "model_module": "@jupyter-widgets/controls",
          "model_name": "DescriptionStyleModel",
          "model_module_version": "1.5.0",
          "state": {
            "_model_module": "@jupyter-widgets/controls",
            "_model_module_version": "1.5.0",
            "_model_name": "DescriptionStyleModel",
            "_view_count": null,
            "_view_module": "@jupyter-widgets/base",
            "_view_module_version": "1.2.0",
            "_view_name": "StyleView",
            "description_width": ""
          }
        },
        "601c8715543b44e0b16cbe4fb9eaa5bc": {
          "model_module": "@jupyter-widgets/base",
          "model_name": "LayoutModel",
          "model_module_version": "1.2.0",
          "state": {
            "_model_module": "@jupyter-widgets/base",
            "_model_module_version": "1.2.0",
            "_model_name": "LayoutModel",
            "_view_count": null,
            "_view_module": "@jupyter-widgets/base",
            "_view_module_version": "1.2.0",
            "_view_name": "LayoutView",
            "align_content": null,
            "align_items": null,
            "align_self": null,
            "border": null,
            "bottom": null,
            "display": null,
            "flex": null,
            "flex_flow": null,
            "grid_area": null,
            "grid_auto_columns": null,
            "grid_auto_flow": null,
            "grid_auto_rows": null,
            "grid_column": null,
            "grid_gap": null,
            "grid_row": null,
            "grid_template_areas": null,
            "grid_template_columns": null,
            "grid_template_rows": null,
            "height": null,
            "justify_content": null,
            "justify_items": null,
            "left": null,
            "margin": null,
            "max_height": null,
            "max_width": null,
            "min_height": null,
            "min_width": null,
            "object_fit": null,
            "object_position": null,
            "order": null,
            "overflow": null,
            "overflow_x": null,
            "overflow_y": null,
            "padding": null,
            "right": null,
            "top": null,
            "visibility": null,
            "width": null
          }
        },
        "b34497018bdf4db494bc8834ed00d4c8": {
          "model_module": "@jupyter-widgets/controls",
          "model_name": "ProgressStyleModel",
          "model_module_version": "1.5.0",
          "state": {
            "_model_module": "@jupyter-widgets/controls",
            "_model_module_version": "1.5.0",
            "_model_name": "ProgressStyleModel",
            "_view_count": null,
            "_view_module": "@jupyter-widgets/base",
            "_view_module_version": "1.2.0",
            "_view_name": "StyleView",
            "bar_color": null,
            "description_width": ""
          }
        },
        "9563d195a5704b72abe99b8a936a8f54": {
          "model_module": "@jupyter-widgets/base",
          "model_name": "LayoutModel",
          "model_module_version": "1.2.0",
          "state": {
            "_model_module": "@jupyter-widgets/base",
            "_model_module_version": "1.2.0",
            "_model_name": "LayoutModel",
            "_view_count": null,
            "_view_module": "@jupyter-widgets/base",
            "_view_module_version": "1.2.0",
            "_view_name": "LayoutView",
            "align_content": null,
            "align_items": null,
            "align_self": null,
            "border": null,
            "bottom": null,
            "display": null,
            "flex": null,
            "flex_flow": null,
            "grid_area": null,
            "grid_auto_columns": null,
            "grid_auto_flow": null,
            "grid_auto_rows": null,
            "grid_column": null,
            "grid_gap": null,
            "grid_row": null,
            "grid_template_areas": null,
            "grid_template_columns": null,
            "grid_template_rows": null,
            "height": null,
            "justify_content": null,
            "justify_items": null,
            "left": null,
            "margin": null,
            "max_height": null,
            "max_width": null,
            "min_height": null,
            "min_width": null,
            "object_fit": null,
            "object_position": null,
            "order": null,
            "overflow": null,
            "overflow_x": null,
            "overflow_y": null,
            "padding": null,
            "right": null,
            "top": null,
            "visibility": null,
            "width": null
          }
        },
        "6a85b736c9a4468aad17c98fc186d135": {
          "model_module": "@jupyter-widgets/controls",
          "model_name": "DescriptionStyleModel",
          "model_module_version": "1.5.0",
          "state": {
            "_model_module": "@jupyter-widgets/controls",
            "_model_module_version": "1.5.0",
            "_model_name": "DescriptionStyleModel",
            "_view_count": null,
            "_view_module": "@jupyter-widgets/base",
            "_view_module_version": "1.2.0",
            "_view_name": "StyleView",
            "description_width": ""
          }
        },
        "1b09831c3fc8426dbca92e8de85130b3": {
          "model_module": "@jupyter-widgets/controls",
          "model_name": "HBoxModel",
          "model_module_version": "1.5.0",
          "state": {
            "_dom_classes": [],
            "_model_module": "@jupyter-widgets/controls",
            "_model_module_version": "1.5.0",
            "_model_name": "HBoxModel",
            "_view_count": null,
            "_view_module": "@jupyter-widgets/controls",
            "_view_module_version": "1.5.0",
            "_view_name": "HBoxView",
            "box_style": "",
            "children": [
              "IPY_MODEL_b53d4a2c992346fa954ad5fbee9f5d27",
              "IPY_MODEL_6e449fb51e874a4f88d87016b2677e5d",
              "IPY_MODEL_f80816c295cf435c8e2103e41b33c946"
            ],
            "layout": "IPY_MODEL_44caca108ced4e389ae35ae9766dc42a"
          }
        },
        "b53d4a2c992346fa954ad5fbee9f5d27": {
          "model_module": "@jupyter-widgets/controls",
          "model_name": "HTMLModel",
          "model_module_version": "1.5.0",
          "state": {
            "_dom_classes": [],
            "_model_module": "@jupyter-widgets/controls",
            "_model_module_version": "1.5.0",
            "_model_name": "HTMLModel",
            "_view_count": null,
            "_view_module": "@jupyter-widgets/controls",
            "_view_module_version": "1.5.0",
            "_view_name": "HTMLView",
            "description": "",
            "description_tooltip": null,
            "layout": "IPY_MODEL_ecff7bfe82b54518817a7caaa83f86c1",
            "placeholder": "​",
            "style": "IPY_MODEL_8d6ad414efe94fab84f334f76b1b4f92",
            "value": "100%"
          }
        },
        "6e449fb51e874a4f88d87016b2677e5d": {
          "model_module": "@jupyter-widgets/controls",
          "model_name": "FloatProgressModel",
          "model_module_version": "1.5.0",
          "state": {
            "_dom_classes": [],
            "_model_module": "@jupyter-widgets/controls",
            "_model_module_version": "1.5.0",
            "_model_name": "FloatProgressModel",
            "_view_count": null,
            "_view_module": "@jupyter-widgets/controls",
            "_view_module_version": "1.5.0",
            "_view_name": "ProgressView",
            "bar_style": "success",
            "description": "",
            "description_tooltip": null,
            "layout": "IPY_MODEL_84d4ce551ff1484a8b38de8fd066c314",
            "max": 20,
            "min": 0,
            "orientation": "horizontal",
            "style": "IPY_MODEL_89935d3f15db488a9c10fcf2e775320a",
            "value": 20
          }
        },
        "f80816c295cf435c8e2103e41b33c946": {
          "model_module": "@jupyter-widgets/controls",
          "model_name": "HTMLModel",
          "model_module_version": "1.5.0",
          "state": {
            "_dom_classes": [],
            "_model_module": "@jupyter-widgets/controls",
            "_model_module_version": "1.5.0",
            "_model_name": "HTMLModel",
            "_view_count": null,
            "_view_module": "@jupyter-widgets/controls",
            "_view_module_version": "1.5.0",
            "_view_name": "HTMLView",
            "description": "",
            "description_tooltip": null,
            "layout": "IPY_MODEL_6feb4fe5a3184747af6600e8c644dcf7",
            "placeholder": "​",
            "style": "IPY_MODEL_f2ac073059a047f98c9a0b417c1ba47b",
            "value": " 20/20 [00:03&lt;00:00,  5.72ex/s]"
          }
        },
        "44caca108ced4e389ae35ae9766dc42a": {
          "model_module": "@jupyter-widgets/base",
          "model_name": "LayoutModel",
          "model_module_version": "1.2.0",
          "state": {
            "_model_module": "@jupyter-widgets/base",
            "_model_module_version": "1.2.0",
            "_model_name": "LayoutModel",
            "_view_count": null,
            "_view_module": "@jupyter-widgets/base",
            "_view_module_version": "1.2.0",
            "_view_name": "LayoutView",
            "align_content": null,
            "align_items": null,
            "align_self": null,
            "border": null,
            "bottom": null,
            "display": null,
            "flex": null,
            "flex_flow": null,
            "grid_area": null,
            "grid_auto_columns": null,
            "grid_auto_flow": null,
            "grid_auto_rows": null,
            "grid_column": null,
            "grid_gap": null,
            "grid_row": null,
            "grid_template_areas": null,
            "grid_template_columns": null,
            "grid_template_rows": null,
            "height": null,
            "justify_content": null,
            "justify_items": null,
            "left": null,
            "margin": null,
            "max_height": null,
            "max_width": null,
            "min_height": null,
            "min_width": null,
            "object_fit": null,
            "object_position": null,
            "order": null,
            "overflow": null,
            "overflow_x": null,
            "overflow_y": null,
            "padding": null,
            "right": null,
            "top": null,
            "visibility": null,
            "width": null
          }
        },
        "ecff7bfe82b54518817a7caaa83f86c1": {
          "model_module": "@jupyter-widgets/base",
          "model_name": "LayoutModel",
          "model_module_version": "1.2.0",
          "state": {
            "_model_module": "@jupyter-widgets/base",
            "_model_module_version": "1.2.0",
            "_model_name": "LayoutModel",
            "_view_count": null,
            "_view_module": "@jupyter-widgets/base",
            "_view_module_version": "1.2.0",
            "_view_name": "LayoutView",
            "align_content": null,
            "align_items": null,
            "align_self": null,
            "border": null,
            "bottom": null,
            "display": null,
            "flex": null,
            "flex_flow": null,
            "grid_area": null,
            "grid_auto_columns": null,
            "grid_auto_flow": null,
            "grid_auto_rows": null,
            "grid_column": null,
            "grid_gap": null,
            "grid_row": null,
            "grid_template_areas": null,
            "grid_template_columns": null,
            "grid_template_rows": null,
            "height": null,
            "justify_content": null,
            "justify_items": null,
            "left": null,
            "margin": null,
            "max_height": null,
            "max_width": null,
            "min_height": null,
            "min_width": null,
            "object_fit": null,
            "object_position": null,
            "order": null,
            "overflow": null,
            "overflow_x": null,
            "overflow_y": null,
            "padding": null,
            "right": null,
            "top": null,
            "visibility": null,
            "width": null
          }
        },
        "8d6ad414efe94fab84f334f76b1b4f92": {
          "model_module": "@jupyter-widgets/controls",
          "model_name": "DescriptionStyleModel",
          "model_module_version": "1.5.0",
          "state": {
            "_model_module": "@jupyter-widgets/controls",
            "_model_module_version": "1.5.0",
            "_model_name": "DescriptionStyleModel",
            "_view_count": null,
            "_view_module": "@jupyter-widgets/base",
            "_view_module_version": "1.2.0",
            "_view_name": "StyleView",
            "description_width": ""
          }
        },
        "84d4ce551ff1484a8b38de8fd066c314": {
          "model_module": "@jupyter-widgets/base",
          "model_name": "LayoutModel",
          "model_module_version": "1.2.0",
          "state": {
            "_model_module": "@jupyter-widgets/base",
            "_model_module_version": "1.2.0",
            "_model_name": "LayoutModel",
            "_view_count": null,
            "_view_module": "@jupyter-widgets/base",
            "_view_module_version": "1.2.0",
            "_view_name": "LayoutView",
            "align_content": null,
            "align_items": null,
            "align_self": null,
            "border": null,
            "bottom": null,
            "display": null,
            "flex": null,
            "flex_flow": null,
            "grid_area": null,
            "grid_auto_columns": null,
            "grid_auto_flow": null,
            "grid_auto_rows": null,
            "grid_column": null,
            "grid_gap": null,
            "grid_row": null,
            "grid_template_areas": null,
            "grid_template_columns": null,
            "grid_template_rows": null,
            "height": null,
            "justify_content": null,
            "justify_items": null,
            "left": null,
            "margin": null,
            "max_height": null,
            "max_width": null,
            "min_height": null,
            "min_width": null,
            "object_fit": null,
            "object_position": null,
            "order": null,
            "overflow": null,
            "overflow_x": null,
            "overflow_y": null,
            "padding": null,
            "right": null,
            "top": null,
            "visibility": null,
            "width": null
          }
        },
        "89935d3f15db488a9c10fcf2e775320a": {
          "model_module": "@jupyter-widgets/controls",
          "model_name": "ProgressStyleModel",
          "model_module_version": "1.5.0",
          "state": {
            "_model_module": "@jupyter-widgets/controls",
            "_model_module_version": "1.5.0",
            "_model_name": "ProgressStyleModel",
            "_view_count": null,
            "_view_module": "@jupyter-widgets/base",
            "_view_module_version": "1.2.0",
            "_view_name": "StyleView",
            "bar_color": null,
            "description_width": ""
          }
        },
        "6feb4fe5a3184747af6600e8c644dcf7": {
          "model_module": "@jupyter-widgets/base",
          "model_name": "LayoutModel",
          "model_module_version": "1.2.0",
          "state": {
            "_model_module": "@jupyter-widgets/base",
            "_model_module_version": "1.2.0",
            "_model_name": "LayoutModel",
            "_view_count": null,
            "_view_module": "@jupyter-widgets/base",
            "_view_module_version": "1.2.0",
            "_view_name": "LayoutView",
            "align_content": null,
            "align_items": null,
            "align_self": null,
            "border": null,
            "bottom": null,
            "display": null,
            "flex": null,
            "flex_flow": null,
            "grid_area": null,
            "grid_auto_columns": null,
            "grid_auto_flow": null,
            "grid_auto_rows": null,
            "grid_column": null,
            "grid_gap": null,
            "grid_row": null,
            "grid_template_areas": null,
            "grid_template_columns": null,
            "grid_template_rows": null,
            "height": null,
            "justify_content": null,
            "justify_items": null,
            "left": null,
            "margin": null,
            "max_height": null,
            "max_width": null,
            "min_height": null,
            "min_width": null,
            "object_fit": null,
            "object_position": null,
            "order": null,
            "overflow": null,
            "overflow_x": null,
            "overflow_y": null,
            "padding": null,
            "right": null,
            "top": null,
            "visibility": null,
            "width": null
          }
        },
        "f2ac073059a047f98c9a0b417c1ba47b": {
          "model_module": "@jupyter-widgets/controls",
          "model_name": "DescriptionStyleModel",
          "model_module_version": "1.5.0",
          "state": {
            "_model_module": "@jupyter-widgets/controls",
            "_model_module_version": "1.5.0",
            "_model_name": "DescriptionStyleModel",
            "_view_count": null,
            "_view_module": "@jupyter-widgets/base",
            "_view_module_version": "1.2.0",
            "_view_name": "StyleView",
            "description_width": ""
          }
        }
      }
    }
  },
  "cells": [
    {
      "cell_type": "markdown",
      "metadata": {
        "id": "view-in-github",
        "colab_type": "text"
      },
      "source": [
        "<a href=\"https://colab.research.google.com/github/paveethranswam/Speech-style-transfer-and-ASR/blob/main/Wav2Vec2_fine_tuning.ipynb\" target=\"_parent\"><img src=\"https://colab.research.google.com/assets/colab-badge.svg\" alt=\"Open In Colab\"/></a>"
      ]
    },
    {
      "cell_type": "code",
      "source": [
        "!pip install transformers  datasets librosa jiwer"
      ],
      "metadata": {
        "colab": {
          "base_uri": "https://localhost:8080/"
        },
        "id": "NV6uwuc8iT0j",
        "outputId": "31eb01e6-4512-4953-eb1b-b8d5095b1f92"
      },
      "execution_count": 1,
      "outputs": [
        {
          "output_type": "stream",
          "name": "stdout",
          "text": [
            "Looking in indexes: https://pypi.org/simple, https://us-python.pkg.dev/colab-wheels/public/simple/\n",
            "Requirement already satisfied: transformers in /usr/local/lib/python3.8/dist-packages (4.25.1)\n",
            "Requirement already satisfied: datasets in /usr/local/lib/python3.8/dist-packages (2.7.1)\n",
            "Requirement already satisfied: librosa in /usr/local/lib/python3.8/dist-packages (0.8.1)\n",
            "Requirement already satisfied: jiwer in /usr/local/lib/python3.8/dist-packages (2.5.1)\n",
            "Requirement already satisfied: filelock in /usr/local/lib/python3.8/dist-packages (from transformers) (3.8.0)\n",
            "Requirement already satisfied: huggingface-hub<1.0,>=0.10.0 in /usr/local/lib/python3.8/dist-packages (from transformers) (0.11.1)\n",
            "Requirement already satisfied: requests in /usr/local/lib/python3.8/dist-packages (from transformers) (2.23.0)\n",
            "Requirement already satisfied: regex!=2019.12.17 in /usr/local/lib/python3.8/dist-packages (from transformers) (2022.6.2)\n",
            "Requirement already satisfied: tokenizers!=0.11.3,<0.14,>=0.11.1 in /usr/local/lib/python3.8/dist-packages (from transformers) (0.13.2)\n",
            "Requirement already satisfied: packaging>=20.0 in /usr/local/lib/python3.8/dist-packages (from transformers) (21.3)\n",
            "Requirement already satisfied: numpy>=1.17 in /usr/local/lib/python3.8/dist-packages (from transformers) (1.21.6)\n",
            "Requirement already satisfied: pyyaml>=5.1 in /usr/local/lib/python3.8/dist-packages (from transformers) (6.0)\n",
            "Requirement already satisfied: tqdm>=4.27 in /usr/local/lib/python3.8/dist-packages (from transformers) (4.64.1)\n",
            "Requirement already satisfied: typing-extensions>=3.7.4.3 in /usr/local/lib/python3.8/dist-packages (from huggingface-hub<1.0,>=0.10.0->transformers) (4.4.0)\n",
            "Requirement already satisfied: pyparsing!=3.0.5,>=2.0.2 in /usr/local/lib/python3.8/dist-packages (from packaging>=20.0->transformers) (3.0.9)\n",
            "Requirement already satisfied: pandas in /usr/local/lib/python3.8/dist-packages (from datasets) (1.3.5)\n",
            "Requirement already satisfied: dill<0.3.7 in /usr/local/lib/python3.8/dist-packages (from datasets) (0.3.6)\n",
            "Requirement already satisfied: aiohttp in /usr/local/lib/python3.8/dist-packages (from datasets) (3.8.3)\n",
            "Requirement already satisfied: fsspec[http]>=2021.11.1 in /usr/local/lib/python3.8/dist-packages (from datasets) (2022.11.0)\n",
            "Requirement already satisfied: xxhash in /usr/local/lib/python3.8/dist-packages (from datasets) (3.1.0)\n",
            "Requirement already satisfied: responses<0.19 in /usr/local/lib/python3.8/dist-packages (from datasets) (0.18.0)\n",
            "Requirement already satisfied: pyarrow>=6.0.0 in /usr/local/lib/python3.8/dist-packages (from datasets) (9.0.0)\n",
            "Requirement already satisfied: multiprocess in /usr/local/lib/python3.8/dist-packages (from datasets) (0.70.14)\n",
            "Requirement already satisfied: charset-normalizer<3.0,>=2.0 in /usr/local/lib/python3.8/dist-packages (from aiohttp->datasets) (2.1.1)\n",
            "Requirement already satisfied: aiosignal>=1.1.2 in /usr/local/lib/python3.8/dist-packages (from aiohttp->datasets) (1.3.1)\n",
            "Requirement already satisfied: frozenlist>=1.1.1 in /usr/local/lib/python3.8/dist-packages (from aiohttp->datasets) (1.3.3)\n",
            "Requirement already satisfied: attrs>=17.3.0 in /usr/local/lib/python3.8/dist-packages (from aiohttp->datasets) (22.1.0)\n",
            "Requirement already satisfied: yarl<2.0,>=1.0 in /usr/local/lib/python3.8/dist-packages (from aiohttp->datasets) (1.8.2)\n",
            "Requirement already satisfied: multidict<7.0,>=4.5 in /usr/local/lib/python3.8/dist-packages (from aiohttp->datasets) (6.0.3)\n",
            "Requirement already satisfied: async-timeout<5.0,>=4.0.0a3 in /usr/local/lib/python3.8/dist-packages (from aiohttp->datasets) (4.0.2)\n",
            "Requirement already satisfied: chardet<4,>=3.0.2 in /usr/local/lib/python3.8/dist-packages (from requests->transformers) (3.0.4)\n",
            "Requirement already satisfied: urllib3!=1.25.0,!=1.25.1,<1.26,>=1.21.1 in /usr/local/lib/python3.8/dist-packages (from requests->transformers) (1.25.11)\n",
            "Requirement already satisfied: certifi>=2017.4.17 in /usr/local/lib/python3.8/dist-packages (from requests->transformers) (2022.9.24)\n",
            "Requirement already satisfied: idna<3,>=2.5 in /usr/local/lib/python3.8/dist-packages (from requests->transformers) (2.10)\n",
            "Requirement already satisfied: decorator>=3.0.0 in /usr/local/lib/python3.8/dist-packages (from librosa) (4.4.2)\n",
            "Requirement already satisfied: soundfile>=0.10.2 in /usr/local/lib/python3.8/dist-packages (from librosa) (0.11.0)\n",
            "Requirement already satisfied: scikit-learn!=0.19.0,>=0.14.0 in /usr/local/lib/python3.8/dist-packages (from librosa) (1.0.2)\n",
            "Requirement already satisfied: resampy>=0.2.2 in /usr/local/lib/python3.8/dist-packages (from librosa) (0.4.2)\n",
            "Requirement already satisfied: scipy>=1.0.0 in /usr/local/lib/python3.8/dist-packages (from librosa) (1.7.3)\n",
            "Requirement already satisfied: numba>=0.43.0 in /usr/local/lib/python3.8/dist-packages (from librosa) (0.56.4)\n",
            "Requirement already satisfied: audioread>=2.0.0 in /usr/local/lib/python3.8/dist-packages (from librosa) (3.0.0)\n",
            "Requirement already satisfied: joblib>=0.14 in /usr/local/lib/python3.8/dist-packages (from librosa) (1.2.0)\n",
            "Requirement already satisfied: pooch>=1.0 in /usr/local/lib/python3.8/dist-packages (from librosa) (1.6.0)\n",
            "Requirement already satisfied: importlib-metadata in /usr/local/lib/python3.8/dist-packages (from numba>=0.43.0->librosa) (4.13.0)\n",
            "Requirement already satisfied: setuptools in /usr/local/lib/python3.8/dist-packages (from numba>=0.43.0->librosa) (57.4.0)\n",
            "Requirement already satisfied: llvmlite<0.40,>=0.39.0dev0 in /usr/local/lib/python3.8/dist-packages (from numba>=0.43.0->librosa) (0.39.1)\n",
            "Requirement already satisfied: appdirs>=1.3.0 in /usr/local/lib/python3.8/dist-packages (from pooch>=1.0->librosa) (1.4.4)\n",
            "Requirement already satisfied: threadpoolctl>=2.0.0 in /usr/local/lib/python3.8/dist-packages (from scikit-learn!=0.19.0,>=0.14.0->librosa) (3.1.0)\n",
            "Requirement already satisfied: cffi>=1.0 in /usr/local/lib/python3.8/dist-packages (from soundfile>=0.10.2->librosa) (1.15.1)\n",
            "Requirement already satisfied: pycparser in /usr/local/lib/python3.8/dist-packages (from cffi>=1.0->soundfile>=0.10.2->librosa) (2.21)\n",
            "Requirement already satisfied: levenshtein==0.20.2 in /usr/local/lib/python3.8/dist-packages (from jiwer) (0.20.2)\n",
            "Requirement already satisfied: rapidfuzz<3.0.0,>=2.3.0 in /usr/local/lib/python3.8/dist-packages (from levenshtein==0.20.2->jiwer) (2.13.6)\n",
            "Requirement already satisfied: zipp>=0.5 in /usr/local/lib/python3.8/dist-packages (from importlib-metadata->numba>=0.43.0->librosa) (3.11.0)\n",
            "Requirement already satisfied: python-dateutil>=2.7.3 in /usr/local/lib/python3.8/dist-packages (from pandas->datasets) (2.8.2)\n",
            "Requirement already satisfied: pytz>=2017.3 in /usr/local/lib/python3.8/dist-packages (from pandas->datasets) (2022.6)\n",
            "Requirement already satisfied: six>=1.5 in /usr/local/lib/python3.8/dist-packages (from python-dateutil>=2.7.3->pandas->datasets) (1.15.0)\n"
          ]
        }
      ]
    },
    {
      "cell_type": "code",
      "source": [
        "!apt-get install libsox-fmt-all libsox-dev sox > /dev/null\n",
        "!python -m pip install torchaudio > /dev/null\n",
        "!python -m pip install git+https://github.com/facebookresearch/WavAugment.git > /dev/null\n",
        "!git clone --recursive https://github.com/parlance/ctcdecode.git\n",
        "!cd ctcdecode && pip install ."
      ],
      "metadata": {
        "colab": {
          "base_uri": "https://localhost:8080/"
        },
        "id": "Ks4v6YhQ3D4h",
        "outputId": "7c4cb927-e2f0-4e5a-8ce1-e6f4287cba05"
      },
      "execution_count": 2,
      "outputs": [
        {
          "output_type": "stream",
          "name": "stdout",
          "text": [
            "  Running command git clone -q https://github.com/facebookresearch/WavAugment.git /tmp/pip-req-build-w_4fv9kr\n",
            "fatal: destination path 'ctcdecode' already exists and is not an empty directory.\n",
            "Looking in indexes: https://pypi.org/simple, https://us-python.pkg.dev/colab-wheels/public/simple/\n",
            "Processing /content/ctcdecode\n",
            "\u001b[33m  DEPRECATION: A future pip version will change local packages to be built in-place without first copying to a temporary directory. We recommend you use --use-feature=in-tree-build to test your packages with this new behavior before it becomes the default.\n",
            "   pip 21.3 will remove support for this functionality. You can find discussion regarding this at https://github.com/pypa/pip/issues/7555.\u001b[0m\n",
            "Building wheels for collected packages: ctcdecode\n",
            "  Building wheel for ctcdecode (setup.py) ... \u001b[?25l\u001b[?25hdone\n",
            "  Created wheel for ctcdecode: filename=ctcdecode-1.0.3-cp38-cp38-linux_x86_64.whl size=13476308 sha256=a95ab94aae0aec4d93a08db163ea2894c55a287b13acbf97f966afa02784e557\n",
            "  Stored in directory: /tmp/pip-ephem-wheel-cache-j5g7og_h/wheels/1f/4a/18/d4116614c3e7ef50f26cb105531a733728c0adf597584e5767\n",
            "Successfully built ctcdecode\n",
            "Installing collected packages: ctcdecode\n",
            "  Attempting uninstall: ctcdecode\n",
            "    Found existing installation: ctcdecode 1.0.3\n",
            "    Uninstalling ctcdecode-1.0.3:\n",
            "      Successfully uninstalled ctcdecode-1.0.3\n",
            "Successfully installed ctcdecode-1.0.3\n"
          ]
        }
      ]
    },
    {
      "cell_type": "code",
      "source": [
        "from google.colab import drive\n",
        "drive.mount('/content/drive')"
      ],
      "metadata": {
        "colab": {
          "base_uri": "https://localhost:8080/"
        },
        "id": "i9chlsjhOgn-",
        "outputId": "3e1169cf-0437-48b7-9cb9-1b8f8ee3e396"
      },
      "execution_count": 3,
      "outputs": [
        {
          "output_type": "stream",
          "name": "stdout",
          "text": [
            "Drive already mounted at /content/drive; to attempt to forcibly remount, call drive.mount(\"/content/drive\", force_remount=True).\n"
          ]
        }
      ]
    },
    {
      "cell_type": "code",
      "source": [
        "from datasets import load_dataset, load_metric,Audio\n",
        "import transformers\n",
        "import random\n",
        "import numpy as np\n",
        "import pandas as pd\n",
        "import re\n",
        "from IPython.display import display, HTML\n",
        "from transformers import AutoProcessor\n",
        "import librosa\n",
        "import torch\n",
        "from datasets import ClassLabel\n",
        "from transformers import Wav2Vec2CTCTokenizer\n",
        "from transformers import Wav2Vec2FeatureExtractor\n",
        "from transformers import Wav2Vec2Processor\n",
        "from transformers import Wav2Vec2ForCTC\n",
        "from torch.optim import AdamW\n",
        "from torch.optim.lr_scheduler import LinearLR\n",
        "from transformers import get_scheduler\n",
        "import augment\n",
        "import json\n",
        "from jiwer import wer\n",
        "import os\n",
        "import tqdm\n",
        "import ctcdecode\n",
        "from functools import partial\n",
        "from IPython.display import display, HTML"
      ],
      "metadata": {
        "id": "jdUKXSuwDNiR"
      },
      "execution_count": 4,
      "outputs": []
    },
    {
      "cell_type": "code",
      "source": [
        "# Get device\n",
        "device = torch.device(\"cuda:0\" if torch.cuda.is_available() else \"cpu\")\n",
        "print(f\"Using {device} device\")"
      ],
      "metadata": {
        "colab": {
          "base_uri": "https://localhost:8080/"
        },
        "id": "zcugVCySjvUP",
        "outputId": "d231c3e2-899f-4d7d-d82e-b2cae3b9880a"
      },
      "execution_count": 5,
      "outputs": [
        {
          "output_type": "stream",
          "name": "stdout",
          "text": [
            "Using cuda:0 device\n"
          ]
        }
      ]
    },
    {
      "cell_type": "code",
      "source": [
        "minds = load_dataset(\"PolyAI/minds14\", name=\"en-US\", split=\"train[:100]\")"
      ],
      "metadata": {
        "colab": {
          "base_uri": "https://localhost:8080/"
        },
        "id": "zmHMtEDPDNnA",
        "outputId": "d039200b-f279-4f22-ea31-c88dcbf137ac"
      },
      "execution_count": 6,
      "outputs": [
        {
          "output_type": "stream",
          "name": "stderr",
          "text": [
            "WARNING:datasets.builder:Found cached dataset minds14 (/root/.cache/huggingface/datasets/PolyAI___minds14/en-US/1.0.0/aa40414f15e0f919231d617440192034af844835dc1e6a697f4b552e0551fd26)\n"
          ]
        }
      ]
    },
    {
      "cell_type": "code",
      "source": [
        "minds = minds.remove_columns([\"english_transcription\", \"intent_class\", \"lang_id\"])"
      ],
      "metadata": {
        "id": "JYyZeWWSDNre"
      },
      "execution_count": 7,
      "outputs": []
    },
    {
      "cell_type": "code",
      "source": [
        "minds"
      ],
      "metadata": {
        "colab": {
          "base_uri": "https://localhost:8080/"
        },
        "id": "sQXY_ENNDNwf",
        "outputId": "9d31f576-f601-478c-b56e-56f547f5cb65"
      },
      "execution_count": 8,
      "outputs": [
        {
          "output_type": "execute_result",
          "data": {
            "text/plain": [
              "Dataset({\n",
              "    features: ['path', 'audio', 'transcription'],\n",
              "    num_rows: 100\n",
              "})"
            ]
          },
          "metadata": {},
          "execution_count": 8
        }
      ]
    },
    {
      "cell_type": "code",
      "source": [
        "def show_random_elements(dataset, num_examples=10):\n",
        "    assert num_examples <= len(dataset), \"Can't pick more elements than there are in the dataset.\"\n",
        "    picks = []\n",
        "    for _ in range(num_examples):\n",
        "        pick = random.randint(0, len(dataset)-1)\n",
        "        while pick in picks:\n",
        "            pick = random.randint(0, len(dataset)-1)\n",
        "        picks.append(pick)\n",
        "    \n",
        "    df = pd.DataFrame(dataset[picks])\n",
        "    display(HTML(df.to_html()))"
      ],
      "metadata": {
        "id": "s04AjivODN00"
      },
      "execution_count": 9,
      "outputs": []
    },
    {
      "cell_type": "code",
      "source": [
        "show_random_elements(minds.remove_columns([\"path\", \"audio\"]))"
      ],
      "metadata": {
        "colab": {
          "base_uri": "https://localhost:8080/",
          "height": 380
        },
        "id": "XStrD9QbDN5N",
        "outputId": "b9c9bc39-76a0-43cf-f0c5-d29b986827bf"
      },
      "execution_count": 10,
      "outputs": [
        {
          "output_type": "display_data",
          "data": {
            "text/plain": [
              "<IPython.core.display.HTML object>"
            ],
            "text/html": [
              "<table border=\"1\" class=\"dataframe\">\n",
              "  <thead>\n",
              "    <tr style=\"text-align: right;\">\n",
              "      <th></th>\n",
              "      <th>transcription</th>\n",
              "    </tr>\n",
              "  </thead>\n",
              "  <tbody>\n",
              "    <tr>\n",
              "      <th>0</th>\n",
              "      <td>teach me how to pay bill online</td>\n",
              "    </tr>\n",
              "    <tr>\n",
              "      <th>1</th>\n",
              "      <td>I was wondering if I was able to set up a joint account through the app</td>\n",
              "    </tr>\n",
              "    <tr>\n",
              "      <th>2</th>\n",
              "      <td>I would like to set up a joint account can I do that in the app</td>\n",
              "    </tr>\n",
              "    <tr>\n",
              "      <th>3</th>\n",
              "      <td>I would like to be showing my account balance please</td>\n",
              "    </tr>\n",
              "    <tr>\n",
              "      <th>4</th>\n",
              "      <td>show me my account balance please</td>\n",
              "    </tr>\n",
              "    <tr>\n",
              "      <th>5</th>\n",
              "      <td>yes I'd like to set up a joint account I'm allowed to anyone</td>\n",
              "    </tr>\n",
              "    <tr>\n",
              "      <th>6</th>\n",
              "      <td>I'd like to pay a bail</td>\n",
              "    </tr>\n",
              "    <tr>\n",
              "      <th>7</th>\n",
              "      <td>I was wanting to set up a joint account with my spouse and I was wondering do we each get separate card debit card and separate way of knowing who is accessing the thank you</td>\n",
              "    </tr>\n",
              "    <tr>\n",
              "      <th>8</th>\n",
              "      <td>hi I want you to tell me my account balance until I'm just see it and I need to be able to reconcile a my account</td>\n",
              "    </tr>\n",
              "    <tr>\n",
              "      <th>9</th>\n",
              "      <td>I'm on your ass and my husband and I are trying to set up a joint account I can see where I set up an account by myself but I'm not sure where to go to set up a joint account can you help me with this please thank you</td>\n",
              "    </tr>\n",
              "  </tbody>\n",
              "</table>"
            ]
          },
          "metadata": {}
        }
      ]
    },
    {
      "cell_type": "code",
      "source": [
        "chars_to_ignore_regex = '[\\,\\?\\.\\!\\-\\;\\:\\\"\\“\\%\\‘\\”\\�]'\n",
        "\n",
        "def remove_special_characters(batch):\n",
        "    batch[\"transcription\"] = re.sub(chars_to_ignore_regex, '', batch[\"transcription\"]).upper()\n",
        "    return batch\n",
        "\n",
        "minds = minds.map(remove_special_characters)"
      ],
      "metadata": {
        "colab": {
          "base_uri": "https://localhost:8080/"
        },
        "id": "L3B-LWUJDN91",
        "outputId": "d7850ab1-6c3f-4fa7-80c0-c27531bdf8df"
      },
      "execution_count": 11,
      "outputs": [
        {
          "output_type": "stream",
          "name": "stderr",
          "text": [
            "WARNING:datasets.arrow_dataset:Loading cached processed dataset at /root/.cache/huggingface/datasets/PolyAI___minds14/en-US/1.0.0/aa40414f15e0f919231d617440192034af844835dc1e6a697f4b552e0551fd26/cache-912b91f125e7663f.arrow\n"
          ]
        }
      ]
    },
    {
      "cell_type": "code",
      "source": [
        "vocab_dict = {'vocab': [],'all_text': []}\n",
        "def extract_all_chars(batch):\n",
        "  global vocab_dict\n",
        "  all_text = \" \".join(batch[\"transcription\"])\n",
        "  vocab_list = list(set(all_text))\n",
        "  extras = [\"\", \"\", \"\", \"\"]\n",
        "  vocab = {v: k for k, v in enumerate(extras)}\n",
        "  for k, v in enumerate(vocab_list):\n",
        "    if v == \" \":\n",
        "      vocab[\"|\"] = k+len(extras)\n",
        "    else:\n",
        "      vocab[v] = k+len(extras)\n",
        "  vocab_dict['vocab'].extend(vocab.keys())\n",
        "  vocab_dict['all_text'].append(all_text)\n",
        "  return vocab_dict\n",
        "\n",
        "m1 = minds.remove_columns([\"path\", \"audio\"])\n",
        "vocabs = m1.map(extract_all_chars)"
      ],
      "metadata": {
        "colab": {
          "base_uri": "https://localhost:8080/"
        },
        "id": "SEHrcnENDOCl",
        "outputId": "bc553603-03e4-4eec-a47f-4c5530aac65b"
      },
      "execution_count": 12,
      "outputs": [
        {
          "output_type": "stream",
          "name": "stderr",
          "text": [
            "WARNING:datasets.arrow_dataset:Loading cached processed dataset at /root/.cache/huggingface/datasets/PolyAI___minds14/en-US/1.0.0/aa40414f15e0f919231d617440192034af844835dc1e6a697f4b552e0551fd26/cache-579094166291b48b.arrow\n"
          ]
        }
      ]
    },
    {
      "cell_type": "code",
      "source": [
        "vocab_dict['vocab'] = list(set(vocab_dict['vocab']))"
      ],
      "metadata": {
        "id": "ngnFiwwCnoEQ"
      },
      "execution_count": 13,
      "outputs": []
    },
    {
      "cell_type": "code",
      "source": [
        "print(vocab_dict)"
      ],
      "metadata": {
        "colab": {
          "base_uri": "https://localhost:8080/"
        },
        "id": "gZ8hPDJsxOt6",
        "outputId": "267c138d-b5fe-4e03-dbc7-f40248ef4552"
      },
      "execution_count": 14,
      "outputs": [
        {
          "output_type": "stream",
          "name": "stdout",
          "text": [
            "{'vocab': [], 'all_text': []}\n"
          ]
        }
      ]
    },
    {
      "cell_type": "code",
      "source": [
        "processor = AutoProcessor.from_pretrained(\"facebook/wav2vec2-base\")"
      ],
      "metadata": {
        "colab": {
          "base_uri": "https://localhost:8080/"
        },
        "id": "3MhnQj65DOG5",
        "outputId": "dac7e6e4-1660-4d97-fa7a-edfbc796da61"
      },
      "execution_count": 15,
      "outputs": [
        {
          "output_type": "stream",
          "name": "stderr",
          "text": [
            "/usr/local/lib/python3.8/dist-packages/transformers/configuration_utils.py:369: UserWarning: Passing `gradient_checkpointing` to a config initialization is deprecated and will be removed in v5 Transformers. Using `model.gradient_checkpointing_enable()` instead, or if you are using the `Trainer` API, pass `gradient_checkpointing=True` in your `TrainingArguments`.\n",
            "  warnings.warn(\n"
          ]
        }
      ]
    },
    {
      "cell_type": "code",
      "source": [
        "minds = minds.cast_column(\"audio\", Audio(sampling_rate=16_000))"
      ],
      "metadata": {
        "id": "AABtp9DDDOLh"
      },
      "execution_count": 12,
      "outputs": []
    },
    {
      "cell_type": "code",
      "source": [
        "minds = minds.train_test_split(test_size=0.2)"
      ],
      "metadata": {
        "id": "LF1IRjRrDOP2"
      },
      "execution_count": 13,
      "outputs": []
    },
    {
      "cell_type": "code",
      "source": [
        "minds['train']['audio'][0]['array']"
      ],
      "metadata": {
        "colab": {
          "base_uri": "https://localhost:8080/"
        },
        "id": "PMgUZ4D3DOUG",
        "outputId": "1e0dd88e-08a1-4107-bf39-f8cf7ddb274c"
      },
      "execution_count": 18,
      "outputs": [
        {
          "output_type": "execute_result",
          "data": {
            "text/plain": [
              "array([-6.5018248e-06, -3.7291844e-05,  7.7234308e-06, ...,\n",
              "       -1.2312034e-04, -7.7547038e-06,  3.3684842e-05], dtype=float32)"
            ]
          },
          "metadata": {},
          "execution_count": 18
        }
      ]
    },
    {
      "cell_type": "code",
      "source": [
        "class SpeechTransform:\n",
        "  def __init__(self, p=0.5):\n",
        "    self.p = p\n",
        "\n",
        "  def __call__(self, y):\n",
        "    if np.random.rand() < self.p:\n",
        "      return self.apply(y)\n",
        "    return y\n",
        "\n",
        "  def apply(self, y: np.ndarray):\n",
        "      raise NotImplementedError"
      ],
      "metadata": {
        "id": "Syw6wAo2yyz4"
      },
      "execution_count": 14,
      "outputs": []
    },
    {
      "cell_type": "code",
      "source": [
        "class ClipEffect(SpeechTransform):\n",
        "  def __init__(self, p=0.5, sr=16000, rate=0.25):\n",
        "    super().__init__(p)\n",
        "    self.rate = rate\n",
        "    self.sr = sr\n",
        "  \n",
        "  def apply(self, x):\n",
        "    clip_chain = augment.EffectChain().clip(self.rate)\n",
        "    return clip_chain.apply(x, src_info={'rate': self.sr})"
      ],
      "metadata": {
        "id": "ejnSV3VTyzKY"
      },
      "execution_count": 15,
      "outputs": []
    },
    {
      "cell_type": "code",
      "source": [
        "class PitchShift(SpeechTransform):\n",
        "  def __init__(self, p=0.5, sr=16000, max_rate=200):\n",
        "    super().__init__(p)\n",
        "    self.sr = sr\n",
        "    self.max_rate = max_rate\n",
        "\n",
        "  def apply(self, x):\n",
        "    rate = np.random.randint(-self.max_rate, self.max_rate)\n",
        "    return augment.EffectChain().pitch(rate).rate(self.sr).apply(x, src_info={'rate': self.sr})"
      ],
      "metadata": {
        "id": "i5zX8hG7yzRD"
      },
      "execution_count": 16,
      "outputs": []
    },
    {
      "cell_type": "code",
      "source": [
        "class ReverbEffect(SpeechTransform):\n",
        "  def __init__(self, p=0.5, sr=16000, max_rate=101):\n",
        "    super().__init__(p)\n",
        "    self.sr = sr\n",
        "    self.max_rate = max_rate\n",
        "  \n",
        "  def apply(self, x):\n",
        "    rnd_rate = np.random.randint(0, self.max_rate)\n",
        "    return augment.EffectChain().reverb(50, 50, rnd_rate).channels(1).apply(x, src_info={'rate': self.sr})"
      ],
      "metadata": {
        "id": "IfoRWtrCzESv"
      },
      "execution_count": 17,
      "outputs": []
    },
    {
      "cell_type": "code",
      "source": [
        "class TimeDropout(SpeechTransform):\n",
        "  def __init__(self, p=0.5, sr=16000, max_seconds=0.5):\n",
        "    super().__init__(p)\n",
        "    self.sr = sr\n",
        "    self.max_seconds = max_seconds\n",
        "  \n",
        "  def apply(self, x):\n",
        "    return augment.EffectChain().time_dropout(max_seconds=self.max_seconds).apply(x, src_info={'rate': self.sr})"
      ],
      "metadata": {
        "id": "s4w4Uk9szElE"
      },
      "execution_count": 18,
      "outputs": []
    },
    {
      "cell_type": "code",
      "source": [
        "class TimeShift(SpeechTransform):\n",
        "  def __init__(self, p=0.5, sr=16000, min_shift=0.7, max_shift=2):\n",
        "    super().__init__(p)\n",
        "    self.sr = sr\n",
        "    self.max_shift = max_shift\n",
        "    self.min_shift = min_shift\n",
        "  \n",
        "  def apply(self, x):\n",
        "    x = x.numpy()\n",
        "    rate = np.random.uniform(self.min_shift, self.max_shift)\n",
        "    return torch.as_tensor(librosa.effects.time_stretch(x, rate))"
      ],
      "metadata": {
        "id": "MceAuwYNzEtp"
      },
      "execution_count": 19,
      "outputs": []
    },
    {
      "cell_type": "code",
      "source": [
        "class Compose:\n",
        "  def __init__(self, transforms):\n",
        "    self.transforms = transforms\n",
        "  def __call__(self, x):\n",
        "    for tr in self.transforms:\n",
        "      y = tr(x)\n",
        "    return y"
      ],
      "metadata": {
        "id": "KB0w2qYbzE4I"
      },
      "execution_count": 20,
      "outputs": []
    },
    {
      "cell_type": "code",
      "source": [
        "aug_transforms = Compose([ClipEffect(p=0.6),\n",
        "                          PitchShift(p=0.6),\n",
        "                          ReverbEffect(p=0.6),\n",
        "                          TimeDropout(p=0.6),\n",
        "                          TimeShift(p=0.8)])"
      ],
      "metadata": {
        "id": "16L2VKuBzz1J"
      },
      "execution_count": 21,
      "outputs": []
    },
    {
      "cell_type": "code",
      "source": [
        "minds"
      ],
      "metadata": {
        "colab": {
          "base_uri": "https://localhost:8080/"
        },
        "id": "wxnjw4_sstp6",
        "outputId": "ffe705a3-a083-4590-9de5-2a5d5f7835ab"
      },
      "execution_count": 22,
      "outputs": [
        {
          "output_type": "execute_result",
          "data": {
            "text/plain": [
              "DatasetDict({\n",
              "    train: Dataset({\n",
              "        features: ['path', 'audio', 'transcription'],\n",
              "        num_rows: 80\n",
              "    })\n",
              "    test: Dataset({\n",
              "        features: ['path', 'audio', 'transcription'],\n",
              "        num_rows: 20\n",
              "    })\n",
              "})"
            ]
          },
          "metadata": {},
          "execution_count": 22
        }
      ]
    },
    {
      "cell_type": "code",
      "source": [
        "def apply_transforms(batch):\n",
        "      audio = batch[\"audio\"] \n",
        "      sp_arr = aug_transforms(torch.Tensor(audio['array']))\n",
        "      batch['audio']['array'] = sp_arr\n",
        "      return batch\n",
        "\n",
        "minds = minds.map(apply_transforms)"
      ],
      "metadata": {
        "colab": {
          "base_uri": "https://localhost:8080/",
          "height": 81,
          "referenced_widgets": [
            "987ea56976ba434aa9f9bcc49274bc94",
            "120189790c674091ab263630ec2f8957",
            "27c4afb9fca24f139a2ed7111a245ae3",
            "e86ec08b6ff74d5ab93c3741e4e36fce",
            "bd158861d32848a181d3731b579dd91b",
            "9770242d22a24ad18c3025d4eaa3af7c",
            "30492600edca45b1bfb2b0f14684c3ff",
            "bde5b5c4bffb45a2b316a37c9294c23b",
            "aaa52e02b29e4132b79a6bfde64a3898",
            "93da325a93f64bffb01c2ebb977e0ba2",
            "ca31e1c1479f43ef937bad04244b2baa",
            "faef0dd55e8d483e9173e849c5b48808",
            "9a44a436b26e4ccabca5fd8fa0a73548",
            "6c1001c4e812441ab51439e0ff96893a",
            "469688cf0cc546a996bbe5c053a85f6a",
            "5f2b2688d4ba4e9d9e5a59b73138843a",
            "baafac42079146c5b4ab0dd4fd608a77",
            "8d5d4612272745e5b39c2a448a0096f7",
            "b0980bec5c754e74a86765a081d72b35",
            "d6452bac78c442539d39ded42ab25a3e",
            "7af9d088795841dc908ce5497a5bfb32",
            "f3ad1b2d0bdd4093a08592be60748a57"
          ]
        },
        "id": "4NRWpNPezzMW",
        "outputId": "40505f1b-e0bf-41d4-fac0-e61984cc8a37"
      },
      "execution_count": 23,
      "outputs": [
        {
          "output_type": "display_data",
          "data": {
            "text/plain": [
              "  0%|          | 0/80 [00:00<?, ?ex/s]"
            ],
            "application/vnd.jupyter.widget-view+json": {
              "version_major": 2,
              "version_minor": 0,
              "model_id": "987ea56976ba434aa9f9bcc49274bc94"
            }
          },
          "metadata": {}
        },
        {
          "output_type": "display_data",
          "data": {
            "text/plain": [
              "  0%|          | 0/20 [00:00<?, ?ex/s]"
            ],
            "application/vnd.jupyter.widget-view+json": {
              "version_major": 2,
              "version_minor": 0,
              "model_id": "faef0dd55e8d483e9173e849c5b48808"
            }
          },
          "metadata": {}
        }
      ]
    },
    {
      "cell_type": "code",
      "source": [
        "vocab_list = vocab_dict['vocab']\n",
        "\n",
        "vocab_list = {v: k for k, v in enumerate(vocab_list)}\n",
        "vocab_list\n",
        "\n",
        "vocab_list[\"|\"] = len(vocab_list)\n",
        "# del vocab_list['']\n",
        "for key in vocab_list.keys():\n",
        "  vocab_list[key] -= 1 \n",
        "print(vocab_list)"
      ],
      "metadata": {
        "colab": {
          "base_uri": "https://localhost:8080/"
        },
        "id": "KqF9VPQLDOYV",
        "outputId": "a875dd3c-cc53-410c-cc50-b3a92cf6b538"
      },
      "execution_count": 30,
      "outputs": [
        {
          "output_type": "stream",
          "name": "stdout",
          "text": [
            "{'|': -1}\n"
          ]
        }
      ]
    },
    {
      "cell_type": "code",
      "source": [
        "label_dict = {\"\": 0, \n",
        "              \"\": 1, \n",
        "              \"\": 2,\n",
        "              \"\": 3,\n",
        "              \"|\": 4,\n",
        "              \"E\": 5,\n",
        "              \"T\": 6,\n",
        "              \"A\": 7,\n",
        "              \"O\": 8,\n",
        "              \"N\": 9,\n",
        "              \"I\": 10,\n",
        "              \"H\": 11,\n",
        "              \"S\": 12,\n",
        "              \"R\": 13,\n",
        "              \"D\": 14,\n",
        "              \"L\": 15,\n",
        "              \"U\": 16,\n",
        "              \"M\": 17,\n",
        "              \"W\": 18,\n",
        "              \"C\": 19,\n",
        "              \"F\": 20,\n",
        "              \"G\": 21,\n",
        "              \"Y\": 22,\n",
        "              \"P\": 23,\n",
        "              \"B\": 24,\n",
        "              \"V\": 25,\n",
        "              \"K\": 26,\n",
        "              \"'\": 27,\n",
        "              \"X\": 28,\n",
        "              \"J\": 29,\n",
        "              \"Q\": 30,\n",
        "              \"Z\": 31\n",
        "              }\n",
        "\n",
        "label_dict['[UNK]'] = len(label_dict)\n",
        "label_dict['[PAD]'] = len(label_dict)\n",
        "print(len(label_dict))\n",
        "labels = [key for key, value in label_dict.items()]"
      ],
      "metadata": {
        "colab": {
          "base_uri": "https://localhost:8080/"
        },
        "id": "jvhGIbEWtOoB",
        "outputId": "efcdb5c4-2eb7-476e-cb49-ca8799c50879"
      },
      "execution_count": 31,
      "outputs": [
        {
          "output_type": "stream",
          "name": "stdout",
          "text": [
            "31\n"
          ]
        }
      ]
    },
    {
      "cell_type": "code",
      "source": [
        "vocab_list['[UNK]'] = len(vocab_list)\n",
        "vocab_list['[PAD]'] = len(vocab_list)\n",
        "print(len(vocab_list))"
      ],
      "metadata": {
        "colab": {
          "base_uri": "https://localhost:8080/"
        },
        "id": "Tb9foFJtDOcv",
        "outputId": "4ab579fe-e821-4269-8ece-8ce6fdfaf93c"
      },
      "execution_count": 32,
      "outputs": [
        {
          "output_type": "stream",
          "name": "stdout",
          "text": [
            "3\n"
          ]
        }
      ]
    },
    {
      "cell_type": "code",
      "source": [
        "with open('/content/drive/MyDrive/vocab.json', 'w') as vocab_file:\n",
        "    json.dump(label_dict, vocab_file)"
      ],
      "metadata": {
        "id": "OmteWVgeDOhB"
      },
      "execution_count": 33,
      "outputs": []
    },
    {
      "cell_type": "code",
      "source": [
        "# tokenizer = Wav2Vec2CTCTokenizer(\"/content/drive/MyDrive/vocab.json\", unk_token=\"[UNK]\", pad_token=\"[PAD]\", word_delimiter_token=\"|\")\n",
        "tokenizer = Wav2Vec2CTCTokenizer.from_pretrained(\"facebook/wav2vec2-large-960h-lv60-self\")"
      ],
      "metadata": {
        "id": "BFeLuGWJDOlK"
      },
      "execution_count": 24,
      "outputs": []
    },
    {
      "cell_type": "code",
      "source": [
        "feature_extractor = Wav2Vec2FeatureExtractor(feature_size=1, sampling_rate=16000, padding_value=0.0, do_normalize=True, return_attention_mask=False)"
      ],
      "metadata": {
        "id": "WYlr40yyDOpN"
      },
      "execution_count": 25,
      "outputs": []
    },
    {
      "cell_type": "code",
      "source": [
        "processor = Wav2Vec2Processor(feature_extractor=feature_extractor, tokenizer=tokenizer)"
      ],
      "metadata": {
        "id": "Id3zB7MaDOtW"
      },
      "execution_count": 26,
      "outputs": []
    },
    {
      "cell_type": "code",
      "source": [
        "minds[\"train\"]"
      ],
      "metadata": {
        "colab": {
          "base_uri": "https://localhost:8080/"
        },
        "id": "RpViVCo1DOxR",
        "outputId": "df483c7e-f3d7-480d-d954-2f619494f4c6"
      },
      "execution_count": 27,
      "outputs": [
        {
          "output_type": "execute_result",
          "data": {
            "text/plain": [
              "Dataset({\n",
              "    features: ['path', 'audio', 'transcription'],\n",
              "    num_rows: 80\n",
              "})"
            ]
          },
          "metadata": {},
          "execution_count": 27
        }
      ]
    },
    {
      "cell_type": "code",
      "source": [
        "rand_int = random.randint(0, len(minds[\"train\"]))\n",
        "\n",
        "print(\"Target text:\", minds[\"train\"][rand_int][\"transcription\"])\n",
        "print(\"Input array shape:\", np.asarray(minds[\"train\"][rand_int][\"audio\"][\"array\"]).shape)\n",
        "print(\"Sampling rate:\", minds[\"train\"][rand_int][\"audio\"][\"sampling_rate\"])"
      ],
      "metadata": {
        "colab": {
          "base_uri": "https://localhost:8080/"
        },
        "id": "hPxAsfZCDO1k",
        "outputId": "4cad541b-4536-4c48-8a52-6c4a322fc507"
      },
      "execution_count": 28,
      "outputs": [
        {
          "output_type": "stream",
          "name": "stdout",
          "text": [
            "Target text: HOW DO I CREATE A JOINT ACCOUNT\n",
            "Input array shape: (26979,)\n",
            "Sampling rate: 16000\n"
          ]
        }
      ]
    },
    {
      "cell_type": "code",
      "source": [
        "def prepare_dataset(batch):\n",
        "    audio = batch[\"audio\"]\n",
        "\n",
        "    # batched output is \"un-batched\" to ensure mapping is correct\n",
        "    batch[\"input_values\"] = processor(audio[\"array\"], sampling_rate=audio[\"sampling_rate\"]).input_values[0]\n",
        "    \n",
        "    with processor.as_target_processor():\n",
        "        batch[\"labels\"] = processor(batch[\"transcription\"]).input_ids\n",
        "    return batch"
      ],
      "metadata": {
        "id": "rTKS90zMDO5e"
      },
      "execution_count": 29,
      "outputs": []
    },
    {
      "cell_type": "code",
      "source": [
        "minds_tr = minds.map(prepare_dataset, remove_columns=minds.column_names[\"train\"], num_proc=4)"
      ],
      "metadata": {
        "colab": {
          "base_uri": "https://localhost:8080/",
          "height": 605,
          "referenced_widgets": [
            "290e4a87de4f48be8152763371a6dc8a",
            "20594e89f037474b83e40d980dc775f4",
            "fe7d8a243b1e4cc0afb5a804fa068871",
            "69051e2f76c14a0f808d305e984b495a",
            "3203b9f2f563458bbc62ce5b944200c8",
            "c138efa80066493bb65e68016722070b",
            "77f696a822164e66997753b86d2f078e",
            "2cfb063e61bb4a00bf1c8b0114134bb9",
            "ec07044816994960b27907dd41b20510",
            "174d2da4485e44ce896550de964bc946",
            "10a8a817884a40e48dd36fc241ac6393",
            "4af3be457e304f9a8b973357d80b384a",
            "d7838197746541629a44d271f5a0bb97",
            "7ddeda9b732446318a76e8d7cb1d758a",
            "dfd289ea4ddb4733941a06fe9120d4e5",
            "63f9cffeba424ad5a8f25e10af8b6665",
            "d1f4617edc09499a93f0789fa09f04f0",
            "82069c8df85f4019b9eafd3f8e9e4078",
            "e1992bba7a664e929310b37a840dc5d5",
            "3f5a1a0ca9a741e68cb8c5c1ad254cfc",
            "e8861a5660b34efda8e00099149f4511",
            "ec7c37833bb84dbcabe72d3b5ed41559",
            "029f4ad3fa024b5baa19aab5e8804ec5",
            "2bc2bbd8fa8c4eaba0c7ce8ebe1190dc",
            "9215a0b57069439f9de18127e2b0cee6",
            "a658d99a20ac4ea59c1cff8320a5bd78",
            "1a7fee015ff84acb993623488844b46c",
            "6788590cc444414aba293be02cb7782a",
            "397a65a61c074f7ca62f0ed1457f34b8",
            "55fd3fdbfcd648259baafec489349505",
            "8d0c956ff9b446b08568c461d3bc8d46",
            "27beaa3700884d348a007607215bd10d",
            "290b67a094604c5bb4e05d8e5e3b46f8",
            "2fde2b9c2aaa48fe91a3a8450acaec81",
            "00a889effd0e4ccfaf500d5a969df339",
            "e5865d0d56974cc1872faf91e49e36b5",
            "9904483e27374579aaa5b1f1890b4c92",
            "dff0f9df426b4cf98b806f718a55b22c",
            "c44b65bf880247b1840de99fde4971f9",
            "d209f9c43b254b85a22c9f574c26b754",
            "c45aef9184e24b7c8bf4fa539a3de714",
            "aeee02413cd045a0918fb99ce95ed2bb",
            "50228c3e246847e39d0ea43ebcb05988",
            "32fd7538e35940cba32323017a487141",
            "ec39529ab1584fa4a065963ce345b175",
            "6b97f708282d45c3a20c6ed3ce554c0c",
            "56579fd31b3b4b489bad26cd12837e14",
            "210bc1bd2e4d4a06986ed236defa15e6",
            "de1e0d2ebc8f4244a4e63cfb39e63fa2",
            "2e3c092004cc41b8b9ceb30d04a1bc17",
            "51d75ef4f1a34f7ba62f3199b902f18a",
            "0fc7964afd174c30a9362c89c755a452",
            "bef7ae35ae4144aaa256e20969dfc8f6",
            "890d2789d7d343e89be26e570272d0e7",
            "16b9d54665d84586b29b0510988d00f7",
            "1d70684f333c49288bdf2dd6dcf95880",
            "e668d8e001054132949add8ddf9e4d7a",
            "aa204126bdae4f2c9400129cff09234a",
            "5c82cae03513492d90e0902fa450c930",
            "09f8851073cb4dbf82b07338da825dd0",
            "48160cd26d814aae8db004d87212d906",
            "976983bff9b64ab3a1aa86675035c663",
            "be4efb23cad0411e929a7f2514eb8732",
            "8fce4b747b2a479bae536139908bd2d8",
            "1da1c5cd85144c3abd6678b6210342ed",
            "aee2aa0c3a7c427f80e3b3e4f2b35719",
            "4ba55795e6a147e29705d5bfcd35a310",
            "dd6769018d2142499fbb3670061f8ee2",
            "e2abb49e05c1488a967734a7d87440e6",
            "926b22a82d044f1ca5065a5d2101b6d6",
            "45e7e95caf87492c8d593adc20311511",
            "3d9fff05f29d423dbbacdec64da88956",
            "4cee80e82c5f481b99e98398e90b4119",
            "e39671ad2dd94c0689444869ccacdd58",
            "e32fca6171244f13a06aa9cd9807624c",
            "604a63722c264081986c532affee4702",
            "358cdf5284864057bc6966b362ddae48",
            "82052577cf7f425cacd5453a4dad394a",
            "d6b57efe3a5547d0917e779749239e84",
            "7ef760de56854494976f4f22ab555b95",
            "29e986cdaab142deaffd9fcbe5833dce",
            "29faa8bc408e444b94fbcc2be0b45cb3",
            "20cb2395dc954e48ba3e6b5453151826",
            "dac7fd065d25460fb0a91dd01c510406",
            "f75a3c0715b94d938f7e637af0ee54f5",
            "c38610b87f30420c815d66e49fcde3ff",
            "024b574bee1c4d99a841d7602543d25d",
            "531f255cd0aa4444ad3782e1cbcb7716"
          ]
        },
        "id": "cchQvOTAu2df",
        "outputId": "ba2f6df6-92c4-46b0-cd71-45c081d9233e"
      },
      "execution_count": 30,
      "outputs": [
        {
          "output_type": "stream",
          "name": "stdout",
          "text": [
            "        "
          ]
        },
        {
          "output_type": "display_data",
          "data": {
            "text/plain": [
              "#0:   0%|          | 0/20 [00:00<?, ?ex/s]"
            ],
            "application/vnd.jupyter.widget-view+json": {
              "version_major": 2,
              "version_minor": 0,
              "model_id": "290e4a87de4f48be8152763371a6dc8a"
            }
          },
          "metadata": {}
        },
        {
          "output_type": "display_data",
          "data": {
            "text/plain": [
              "#2:   0%|          | 0/20 [00:00<?, ?ex/s]"
            ],
            "application/vnd.jupyter.widget-view+json": {
              "version_major": 2,
              "version_minor": 0,
              "model_id": "4af3be457e304f9a8b973357d80b384a"
            }
          },
          "metadata": {}
        },
        {
          "output_type": "display_data",
          "data": {
            "text/plain": [
              "#1:   0%|          | 0/20 [00:00<?, ?ex/s]"
            ],
            "application/vnd.jupyter.widget-view+json": {
              "version_major": 2,
              "version_minor": 0,
              "model_id": "029f4ad3fa024b5baa19aab5e8804ec5"
            }
          },
          "metadata": {}
        },
        {
          "output_type": "stream",
          "name": "stderr",
          "text": [
            "/usr/local/lib/python3.8/dist-packages/transformers/models/wav2vec2/processing_wav2vec2.py:155: UserWarning: `as_target_processor` is deprecated and will be removed in v5 of Transformers. You can process your labels by using the argument `text` of the regular `__call__` method (either in the same call as your audio inputs, or in a separate call.\n",
            "  warnings.warn(\n"
          ]
        },
        {
          "output_type": "display_data",
          "data": {
            "text/plain": [
              "#3:   0%|          | 0/20 [00:00<?, ?ex/s]"
            ],
            "application/vnd.jupyter.widget-view+json": {
              "version_major": 2,
              "version_minor": 0,
              "model_id": "2fde2b9c2aaa48fe91a3a8450acaec81"
            }
          },
          "metadata": {}
        },
        {
          "output_type": "stream",
          "name": "stderr",
          "text": [
            "/usr/local/lib/python3.8/dist-packages/transformers/models/wav2vec2/processing_wav2vec2.py:155: UserWarning: `as_target_processor` is deprecated and will be removed in v5 of Transformers. You can process your labels by using the argument `text` of the regular `__call__` method (either in the same call as your audio inputs, or in a separate call.\n",
            "  warnings.warn(\n",
            "/usr/local/lib/python3.8/dist-packages/transformers/models/wav2vec2/processing_wav2vec2.py:155: UserWarning: `as_target_processor` is deprecated and will be removed in v5 of Transformers. You can process your labels by using the argument `text` of the regular `__call__` method (either in the same call as your audio inputs, or in a separate call.\n",
            "  warnings.warn(\n",
            "/usr/local/lib/python3.8/dist-packages/transformers/models/wav2vec2/processing_wav2vec2.py:155: UserWarning: `as_target_processor` is deprecated and will be removed in v5 of Transformers. You can process your labels by using the argument `text` of the regular `__call__` method (either in the same call as your audio inputs, or in a separate call.\n",
            "  warnings.warn(\n"
          ]
        },
        {
          "output_type": "stream",
          "name": "stdout",
          "text": [
            "        "
          ]
        },
        {
          "output_type": "display_data",
          "data": {
            "text/plain": [
              "#0:   0%|          | 0/5 [00:00<?, ?ex/s]"
            ],
            "application/vnd.jupyter.widget-view+json": {
              "version_major": 2,
              "version_minor": 0,
              "model_id": "ec39529ab1584fa4a065963ce345b175"
            }
          },
          "metadata": {}
        },
        {
          "output_type": "display_data",
          "data": {
            "text/plain": [
              "#1:   0%|          | 0/5 [00:00<?, ?ex/s]"
            ],
            "application/vnd.jupyter.widget-view+json": {
              "version_major": 2,
              "version_minor": 0,
              "model_id": "1d70684f333c49288bdf2dd6dcf95880"
            }
          },
          "metadata": {}
        },
        {
          "output_type": "stream",
          "name": "stderr",
          "text": [
            "/usr/local/lib/python3.8/dist-packages/transformers/models/wav2vec2/processing_wav2vec2.py:155: UserWarning: `as_target_processor` is deprecated and will be removed in v5 of Transformers. You can process your labels by using the argument `text` of the regular `__call__` method (either in the same call as your audio inputs, or in a separate call.\n",
            "  warnings.warn(\n",
            "/usr/local/lib/python3.8/dist-packages/transformers/models/wav2vec2/processing_wav2vec2.py:155: UserWarning: `as_target_processor` is deprecated and will be removed in v5 of Transformers. You can process your labels by using the argument `text` of the regular `__call__` method (either in the same call as your audio inputs, or in a separate call.\n",
            "  warnings.warn(\n"
          ]
        },
        {
          "output_type": "display_data",
          "data": {
            "text/plain": [
              "#2:   0%|          | 0/5 [00:00<?, ?ex/s]"
            ],
            "application/vnd.jupyter.widget-view+json": {
              "version_major": 2,
              "version_minor": 0,
              "model_id": "4ba55795e6a147e29705d5bfcd35a310"
            }
          },
          "metadata": {}
        },
        {
          "output_type": "stream",
          "name": "stderr",
          "text": [
            "/usr/local/lib/python3.8/dist-packages/transformers/models/wav2vec2/processing_wav2vec2.py:155: UserWarning: `as_target_processor` is deprecated and will be removed in v5 of Transformers. You can process your labels by using the argument `text` of the regular `__call__` method (either in the same call as your audio inputs, or in a separate call.\n",
            "  warnings.warn(\n"
          ]
        },
        {
          "output_type": "display_data",
          "data": {
            "text/plain": [
              "#3:   0%|          | 0/5 [00:00<?, ?ex/s]"
            ],
            "application/vnd.jupyter.widget-view+json": {
              "version_major": 2,
              "version_minor": 0,
              "model_id": "82052577cf7f425cacd5453a4dad394a"
            }
          },
          "metadata": {}
        },
        {
          "output_type": "stream",
          "name": "stderr",
          "text": [
            "/usr/local/lib/python3.8/dist-packages/transformers/models/wav2vec2/processing_wav2vec2.py:155: UserWarning: `as_target_processor` is deprecated and will be removed in v5 of Transformers. You can process your labels by using the argument `text` of the regular `__call__` method (either in the same call as your audio inputs, or in a separate call.\n",
            "  warnings.warn(\n"
          ]
        }
      ]
    },
    {
      "cell_type": "code",
      "source": [
        "def collate_function(batch, processor, padding=True, max_length=None, \n",
        "                     max_length_labels=None, pad_to_multiple_of=None, pad_to_multiple_of_labels=None):\n",
        "    b_X = [{\"input_values\": sample[\"input_values\"]} for sample in batch]\n",
        "    b_Y = [{\"input_ids\": sample[\"labels\"]} for sample in batch]\n",
        "    features = processor.pad(b_X,\n",
        "              padding=padding,\n",
        "              max_length=max_length,\n",
        "              pad_to_multiple_of=pad_to_multiple_of,\n",
        "              return_tensors=\"pt\")\n",
        "\n",
        "    with processor.as_target_processor():\n",
        "        batchY = processor.pad(b_Y,\n",
        "          padding=padding,\n",
        "          max_length=max_length_labels,\n",
        "          pad_to_multiple_of=pad_to_multiple_of_labels,\n",
        "          return_tensors=\"pt\")\n",
        "    labels = batchY[\"input_ids\"].masked_fill(batchY.attention_mask.ne(1), -100)\n",
        "    features[\"labels\"] = labels\n",
        "    return features"
      ],
      "metadata": {
        "id": "JQWNmfWSnAl9"
      },
      "execution_count": 31,
      "outputs": []
    },
    {
      "cell_type": "code",
      "source": [
        "collate_fn = partial(collate_function, processor=processor, padding=True, max_length=None, \n",
        "                     max_length_labels=None, pad_to_multiple_of=None, pad_to_multiple_of_labels=None)"
      ],
      "metadata": {
        "id": "bha5aqOUrXfR"
      },
      "execution_count": 32,
      "outputs": []
    },
    {
      "cell_type": "code",
      "source": [
        "version = 2\n",
        "model_save_path = \"/content/drive/MyDrive/wav2vec_finetuning/\"\n",
        "model_name = f\"wav2vec_{version}\"\n",
        "batch_size =3\n",
        "epochs = 100\n",
        "lr = 0.0002"
      ],
      "metadata": {
        "id": "UWLNmLa0c8w9"
      },
      "execution_count": 33,
      "outputs": []
    },
    {
      "cell_type": "code",
      "source": [
        "train_dataloader = torch.utils.data.DataLoader(minds_tr[\"train\"], batch_size=batch_size, shuffle=True, collate_fn=collate_fn)"
      ],
      "metadata": {
        "id": "64Mpd5myrOAB"
      },
      "execution_count": 34,
      "outputs": []
    },
    {
      "cell_type": "code",
      "source": [
        "batch_sample = next(iter(train_dataloader))"
      ],
      "metadata": {
        "colab": {
          "base_uri": "https://localhost:8080/"
        },
        "id": "NQt_yo_4rOYv",
        "outputId": "e41a3b82-284e-41fc-d5a7-190a559f8a5b"
      },
      "execution_count": 46,
      "outputs": [
        {
          "output_type": "stream",
          "name": "stderr",
          "text": [
            "/usr/local/lib/python3.8/dist-packages/transformers/models/wav2vec2/processing_wav2vec2.py:155: UserWarning: `as_target_processor` is deprecated and will be removed in v5 of Transformers. You can process your labels by using the argument `text` of the regular `__call__` method (either in the same call as your audio inputs, or in a separate call.\n",
            "  warnings.warn(\n"
          ]
        }
      ]
    },
    {
      "cell_type": "code",
      "source": [
        "print(batch_sample.keys())"
      ],
      "metadata": {
        "colab": {
          "base_uri": "https://localhost:8080/"
        },
        "id": "KeDGKYSudfsy",
        "outputId": "c10f6ed7-9d06-47c9-c5ec-a52680962c2c"
      },
      "execution_count": 47,
      "outputs": [
        {
          "output_type": "stream",
          "name": "stdout",
          "text": [
            "dict_keys(['input_values', 'labels'])\n"
          ]
        }
      ]
    },
    {
      "cell_type": "code",
      "source": [
        "print(batch_sample[\"input_values\"].shape)\n",
        "print(batch_sample[\"labels\"].shape)"
      ],
      "metadata": {
        "colab": {
          "base_uri": "https://localhost:8080/"
        },
        "id": "VJV3W1hydlEc",
        "outputId": "9bdb25ab-d766-4946-f49d-936b1a9f9639"
      },
      "execution_count": 48,
      "outputs": [
        {
          "output_type": "stream",
          "name": "stdout",
          "text": [
            "torch.Size([3, 143360])\n",
            "torch.Size([3, 113])\n"
          ]
        }
      ]
    },
    {
      "cell_type": "code",
      "source": [
        "batch_sample['labels'][0]"
      ],
      "metadata": {
        "colab": {
          "base_uri": "https://localhost:8080/"
        },
        "id": "T-d0-20_w6mW",
        "outputId": "4aa07527-7136-4609-c72d-259881cc4ea5"
      },
      "execution_count": 49,
      "outputs": [
        {
          "output_type": "execute_result",
          "data": {
            "text/plain": [
              "tensor([  10,    4,   18,    8,   16,   15,   14,    4,   15,   10,   26,    5,\n",
              "           4,    6,    8,    4,   26,    9,    8,   18,    4,   18,   11,    7,\n",
              "           6,    4,   17,   22,    4,   19,   16,   13,   13,    5,    9,    6,\n",
              "           4,    7,   19,   19,    8,   16,    9,    6,    4,   24,    7,   15,\n",
              "           7,    9,   19,    5,    4,   12,   11,    8,   18,   12, -100, -100,\n",
              "        -100, -100, -100, -100, -100, -100, -100, -100, -100, -100, -100, -100,\n",
              "        -100, -100, -100, -100, -100, -100, -100, -100, -100, -100, -100, -100,\n",
              "        -100, -100, -100, -100, -100, -100, -100, -100, -100, -100, -100, -100,\n",
              "        -100, -100, -100, -100, -100, -100, -100, -100, -100, -100, -100, -100,\n",
              "        -100, -100, -100, -100, -100])"
            ]
          },
          "metadata": {},
          "execution_count": 49
        }
      ]
    },
    {
      "cell_type": "code",
      "source": [
        "print(len(train_dataloader))"
      ],
      "metadata": {
        "colab": {
          "base_uri": "https://localhost:8080/"
        },
        "id": "CLbgG1KXdv1c",
        "outputId": "79ca3d9c-067a-4e9e-cbf6-1f4b2d22d828"
      },
      "execution_count": 50,
      "outputs": [
        {
          "output_type": "stream",
          "name": "stdout",
          "text": [
            "27\n"
          ]
        }
      ]
    },
    {
      "cell_type": "code",
      "source": [
        "model = Wav2Vec2ForCTC.from_pretrained(\n",
        "    \"facebook/wav2vec2-large-960h-lv60-self\",\n",
        "    gradient_checkpointing=True,\n",
        "    ctc_loss_reduction=\"mean\",\n",
        "    pad_token_id=processor.tokenizer.pad_token_id,\n",
        "    vocab_size=len(processor.tokenizer),\n",
        "    ignore_mismatched_sizes = True)"
      ],
      "metadata": {
        "colab": {
          "base_uri": "https://localhost:8080/"
        },
        "id": "rWyQP_CZDO9v",
        "outputId": "6ab9726a-107f-42a4-9967-9ec6ba4168fe"
      },
      "execution_count": 35,
      "outputs": [
        {
          "output_type": "stream",
          "name": "stderr",
          "text": [
            "Some weights of Wav2Vec2ForCTC were not initialized from the model checkpoint at facebook/wav2vec2-large-960h-lv60-self and are newly initialized: ['wav2vec2.masked_spec_embed']\n",
            "You should probably TRAIN this model on a down-stream task to be able to use it for predictions and inference.\n"
          ]
        }
      ]
    },
    {
      "cell_type": "code",
      "source": [
        "os.makedirs(model_save_path, exist_ok=True)"
      ],
      "metadata": {
        "id": "b_JfAUPWDPGU"
      },
      "execution_count": 36,
      "outputs": []
    },
    {
      "cell_type": "code",
      "source": [
        "model.freeze_feature_encoder()"
      ],
      "metadata": {
        "id": "SijBnDymDPKu"
      },
      "execution_count": 37,
      "outputs": []
    },
    {
      "cell_type": "code",
      "source": [
        "def compute_metrics(labels, preds):\n",
        "    preds = torch.argmax(preds, axis=-1)\n",
        "    labels[labels == -100] = processor.tokenizer.pad_token_id\n",
        "    pred_str = processor.batch_decode(preds)\n",
        "    label_str = processor.batch_decode(labels, group_tokens=False)\n",
        "    return wer(label_str, pred_str)"
      ],
      "metadata": {
        "id": "L-Q_hXAtDPPS"
      },
      "execution_count": 38,
      "outputs": []
    },
    {
      "cell_type": "code",
      "source": [
        "optimizer = AdamW(model.parameters(), lr=lr)"
      ],
      "metadata": {
        "id": "GJe3IRIADPTU"
      },
      "execution_count": 39,
      "outputs": []
    },
    {
      "cell_type": "code",
      "source": [
        "num_training_steps = epochs*len(train_dataloader)\n",
        "\n",
        "lr_scheduler = get_scheduler(\n",
        "    \"linear\",\n",
        "    optimizer=optimizer,\n",
        "    num_warmup_steps=0,\n",
        "    num_training_steps=num_training_steps\n",
        ")"
      ],
      "metadata": {
        "id": "D69CAo-oDPXK"
      },
      "execution_count": 40,
      "outputs": []
    },
    {
      "cell_type": "code",
      "source": [
        "scaler = torch.cuda.amp.GradScaler()"
      ],
      "metadata": {
        "id": "OeGEcQzYDPbW"
      },
      "execution_count": 41,
      "outputs": []
    },
    {
      "cell_type": "code",
      "source": [
        "model = model.to(device)\n",
        "model = model.train()"
      ],
      "metadata": {
        "id": "b5gqIII-DPfp"
      },
      "execution_count": 42,
      "outputs": []
    },
    {
      "cell_type": "code",
      "source": [
        "torch.save(model, os.path.join(model_save_path, model_name+\".pt\"))\n",
        "processor.save_pretrained(os.path.join(model_save_path, model_name+\"_vocab\"))"
      ],
      "metadata": {
        "id": "y_G7QubzDPj0"
      },
      "execution_count": 59,
      "outputs": []
    },
    {
      "cell_type": "code",
      "source": [
        "def train_step(train_dataloader, optimizer, lr_scheduler, processor, verbose_at=5, print_sentences=False):\n",
        "    losses = []\n",
        "    wers = []\n",
        "    for step, data in enumerate(train_dataloader):\n",
        "        optimizer.zero_grad()\n",
        "        # move inputs to device\n",
        "        batch = {k: v.to(device) for k, v in data.items()}\n",
        "        with torch.cuda.amp.autocast():\n",
        "          outputs = model(**batch)\n",
        "        loss = outputs.loss\n",
        "        losses.append(loss.cpu().detach().numpy())\n",
        "        scaler.scale(loss).backward()\n",
        "        scaler.step(optimizer)\n",
        "        scaler.update()\n",
        "        lr_scheduler.step()\n",
        "        preds = outputs.logits\n",
        "        out_proba = torch.nn.functional.softmax(preds, dim=-1)\n",
        "        labels = data[\"labels\"]\n",
        "        metrics = compute_metrics(labels, out_proba)\n",
        "        wers.append(metrics)\n",
        "        if step%verbose_at == 0:\n",
        "            print(f\"WER: {metrics} \\t LOSS: {loss.cpu().detach().numpy()}\")\n",
        "            if print_sentences:\n",
        "              for l, p in zip(labels, preds):\n",
        "                  predicted_str = processor.tokenizer.decode(torch.argmax(p, dim =-1))\n",
        "                  label_str = processor.tokenizer.decode(l)\n",
        "                  print(f\"True: {label_str}; Predicted: {predicted_str}\")\n",
        "    return {\"loss\": np.mean(losses), \"wer\":np.mean(wers)}"
      ],
      "metadata": {
        "id": "dM2qg7g8DPn2"
      },
      "execution_count": 60,
      "outputs": []
    },
    {
      "cell_type": "code",
      "source": [
        "no_epochs = range(epochs)\n",
        "epochs_progress_bar = tqdm.tqdm(no_epochs)\n",
        "curr_best_loss = 1e10\n",
        "for n in no_epochs:\n",
        "    res = train_step(train_dataloader, optimizer, lr_scheduler, \n",
        "                     processor, verbose_at=len(train_dataloader)//2)\n",
        "    res[\"best_loss\"] = curr_best_loss\n",
        "    if curr_best_loss > res[\"loss\"]:\n",
        "        print(\"Best model, saving at \",model_save_path)\n",
        "        torch.save(model, os.path.join(model_save_path, model_name+\".pt\"))\n",
        "        curr_best_loss = res[\"loss\"]\n",
        "        res[\"best_loss\"] = curr_best_loss\n",
        "    epochs_progress_bar.update(1)"
      ],
      "metadata": {
        "colab": {
          "base_uri": "https://localhost:8080/"
        },
        "id": "kaQqn8uADPsC",
        "outputId": "26a8e4c9-b765-4422-fa67-fad507490ac7"
      },
      "execution_count": 61,
      "outputs": [
        {
          "output_type": "stream",
          "name": "stderr",
          "text": [
            "\r  0%|          | 0/100 [00:00<?, ?it/s]/usr/local/lib/python3.8/dist-packages/torch/optim/lr_scheduler.py:138: UserWarning: Detected call of `lr_scheduler.step()` before `optimizer.step()`. In PyTorch 1.1.0 and later, you should call them in the opposite order: `optimizer.step()` before `lr_scheduler.step()`.  Failure to do this will result in PyTorch skipping the first value of the learning rate schedule. See more details at https://pytorch.org/docs/stable/optim.html#how-to-adjust-learning-rate\n",
            "  warnings.warn(\"Detected call of `lr_scheduler.step()` before `optimizer.step()`. \"\n"
          ]
        },
        {
          "output_type": "stream",
          "name": "stdout",
          "text": [
            "WER: 0.5918367346938775 \t LOSS: 1.606234073638916\n",
            "WER: 0.9 \t LOSS: 2.4168477058410645\n",
            "WER: 0.7272727272727273 \t LOSS: 0.8213731050491333\n",
            "Best model, saving at  /content/drive/MyDrive/wav2vec_finetuning/\n"
          ]
        },
        {
          "output_type": "stream",
          "name": "stderr",
          "text": [
            "\r  1%|          | 1/100 [00:36<1:00:36, 36.73s/it]"
          ]
        },
        {
          "output_type": "stream",
          "name": "stdout",
          "text": [
            "WER: 1.0 \t LOSS: 1.8681119680404663\n",
            "WER: 0.9333333333333333 \t LOSS: 2.782756805419922\n",
            "WER: 0.8666666666666667 \t LOSS: 1.9665186405181885\n",
            "Best model, saving at  /content/drive/MyDrive/wav2vec_finetuning/\n"
          ]
        },
        {
          "output_type": "stream",
          "name": "stderr",
          "text": [
            "\r  2%|▏         | 2/100 [01:02<49:27, 30.28s/it]  "
          ]
        },
        {
          "output_type": "stream",
          "name": "stdout",
          "text": [
            "WER: 0.7435897435897436 \t LOSS: 1.1404021978378296\n",
            "WER: 0.8205128205128205 \t LOSS: 1.5188772678375244\n",
            "WER: 0.46153846153846156 \t LOSS: 0.723900556564331\n",
            "Best model, saving at  /content/drive/MyDrive/wav2vec_finetuning/\n"
          ]
        },
        {
          "output_type": "stream",
          "name": "stderr",
          "text": [
            "\r  3%|▎         | 3/100 [01:26<44:23, 27.46s/it]"
          ]
        },
        {
          "output_type": "stream",
          "name": "stdout",
          "text": [
            "WER: 0.7222222222222222 \t LOSS: 1.1423375606536865\n",
            "WER: 0.5555555555555556 \t LOSS: 0.6313400864601135\n",
            "WER: 0.4 \t LOSS: 1.6091821193695068\n",
            "Best model, saving at  /content/drive/MyDrive/wav2vec_finetuning/\n"
          ]
        },
        {
          "output_type": "stream",
          "name": "stderr",
          "text": [
            "\r  4%|▍         | 4/100 [01:51<42:32, 26.59s/it]"
          ]
        },
        {
          "output_type": "stream",
          "name": "stdout",
          "text": [
            "WER: 0.3888888888888889 \t LOSS: 0.544387698173523\n",
            "WER: 0.7777777777777778 \t LOSS: 1.383305549621582\n",
            "WER: 0.42857142857142855 \t LOSS: 0.9915062785148621\n",
            "Best model, saving at  /content/drive/MyDrive/wav2vec_finetuning/\n"
          ]
        },
        {
          "output_type": "stream",
          "name": "stderr",
          "text": [
            "\r  5%|▌         | 5/100 [02:15<40:41, 25.70s/it]"
          ]
        },
        {
          "output_type": "stream",
          "name": "stdout",
          "text": [
            "WER: 0.56 \t LOSS: 1.0155881643295288\n",
            "WER: 0.45454545454545453 \t LOSS: 0.7380901575088501\n",
            "WER: 0.6666666666666666 \t LOSS: 1.374040126800537\n",
            "Best model, saving at  /content/drive/MyDrive/wav2vec_finetuning/\n"
          ]
        },
        {
          "output_type": "stream",
          "name": "stderr",
          "text": [
            "\r  6%|▌         | 6/100 [02:41<39:57, 25.50s/it]"
          ]
        },
        {
          "output_type": "stream",
          "name": "stdout",
          "text": [
            "WER: 0.35 \t LOSS: 0.6537042856216431\n",
            "WER: 0.3125 \t LOSS: 0.12666720151901245\n",
            "WER: 0.3142857142857143 \t LOSS: 0.5090205073356628\n",
            "Best model, saving at  /content/drive/MyDrive/wav2vec_finetuning/\n"
          ]
        },
        {
          "output_type": "stream",
          "name": "stderr",
          "text": [
            "\r  7%|▋         | 7/100 [03:05<38:45, 25.00s/it]"
          ]
        },
        {
          "output_type": "stream",
          "name": "stdout",
          "text": [
            "WER: 0.3333333333333333 \t LOSS: 0.5597211718559265\n",
            "WER: 0.3333333333333333 \t LOSS: 0.8828813433647156\n"
          ]
        },
        {
          "output_type": "stream",
          "name": "stderr",
          "text": [
            "\r  8%|▊         | 8/100 [03:24<35:45, 23.32s/it]"
          ]
        },
        {
          "output_type": "stream",
          "name": "stdout",
          "text": [
            "WER: 0.5526315789473685 \t LOSS: 0.7022263407707214\n",
            "WER: 0.8181818181818182 \t LOSS: 1.5517553091049194\n",
            "WER: 0.5932203389830508 \t LOSS: 1.2385808229446411\n",
            "WER: 0.8181818181818182 \t LOSS: 1.9956623315811157\n",
            "Best model, saving at  /content/drive/MyDrive/wav2vec_finetuning/\n"
          ]
        },
        {
          "output_type": "stream",
          "name": "stderr",
          "text": [
            "\r  9%|▉         | 9/100 [03:49<35:52, 23.65s/it]"
          ]
        },
        {
          "output_type": "stream",
          "name": "stdout",
          "text": [
            "WER: 0.4117647058823529 \t LOSS: 0.35433220863342285\n",
            "WER: 0.2916666666666667 \t LOSS: 0.49373745918273926\n",
            "WER: 0.358974358974359 \t LOSS: 0.2400912493467331\n",
            "Best model, saving at  /content/drive/MyDrive/wav2vec_finetuning/\n"
          ]
        },
        {
          "output_type": "stream",
          "name": "stderr",
          "text": [
            "\r 10%|█         | 10/100 [04:13<35:53, 23.92s/it]"
          ]
        },
        {
          "output_type": "stream",
          "name": "stdout",
          "text": [
            "WER: 0.2631578947368421 \t LOSS: 0.45522981882095337\n",
            "WER: 0.6666666666666666 \t LOSS: 1.1791313886642456\n",
            "WER: 0.5454545454545454 \t LOSS: 1.3092817068099976\n",
            "Best model, saving at  /content/drive/MyDrive/wav2vec_finetuning/\n"
          ]
        },
        {
          "output_type": "stream",
          "name": "stderr",
          "text": [
            "\r 11%|█         | 11/100 [04:41<37:20, 25.18s/it]"
          ]
        },
        {
          "output_type": "stream",
          "name": "stdout",
          "text": [
            "WER: 0.6379310344827587 \t LOSS: 0.615386426448822\n",
            "WER: 0.4186046511627907 \t LOSS: 0.9181414842605591\n",
            "WER: 0.18181818181818182 \t LOSS: 0.3793121576309204\n",
            "Best model, saving at  /content/drive/MyDrive/wav2vec_finetuning/\n"
          ]
        },
        {
          "output_type": "stream",
          "name": "stderr",
          "text": [
            "\r 12%|█▏        | 12/100 [05:08<37:37, 25.65s/it]"
          ]
        },
        {
          "output_type": "stream",
          "name": "stdout",
          "text": [
            "WER: 0.3076923076923077 \t LOSS: 0.6516174077987671\n",
            "WER: 0.23809523809523808 \t LOSS: 0.5363438725471497\n"
          ]
        },
        {
          "output_type": "stream",
          "name": "stderr",
          "text": [
            "\r 13%|█▎        | 13/100 [05:27<34:17, 23.65s/it]"
          ]
        },
        {
          "output_type": "stream",
          "name": "stdout",
          "text": [
            "WER: 0.07142857142857142 \t LOSS: 0.035463154315948486\n",
            "WER: 0.20833333333333334 \t LOSS: 0.4968653619289398\n",
            "WER: 0.44 \t LOSS: 0.6257936358451843\n",
            "WER: 0.6440677966101694 \t LOSS: 1.07686185836792\n",
            "Best model, saving at  /content/drive/MyDrive/wav2vec_finetuning/\n"
          ]
        },
        {
          "output_type": "stream",
          "name": "stderr",
          "text": [
            "\r 14%|█▍        | 14/100 [05:52<34:25, 24.02s/it]"
          ]
        },
        {
          "output_type": "stream",
          "name": "stdout",
          "text": [
            "WER: 0.25806451612903225 \t LOSS: 0.23765110969543457\n",
            "WER: 0.34782608695652173 \t LOSS: 0.3898705840110779\n",
            "WER: 0.09523809523809523 \t LOSS: 0.15136069059371948\n",
            "Best model, saving at  /content/drive/MyDrive/wav2vec_finetuning/\n"
          ]
        },
        {
          "output_type": "stream",
          "name": "stderr",
          "text": [
            "\r 15%|█▌        | 15/100 [06:17<34:42, 24.50s/it]"
          ]
        },
        {
          "output_type": "stream",
          "name": "stdout",
          "text": [
            "WER: 0.03333333333333333 \t LOSS: 0.060557685792446136\n",
            "WER: 0.3333333333333333 \t LOSS: 0.6474866271018982\n"
          ]
        },
        {
          "output_type": "stream",
          "name": "stderr",
          "text": [
            "\r 16%|█▌        | 16/100 [06:37<32:14, 23.03s/it]"
          ]
        },
        {
          "output_type": "stream",
          "name": "stdout",
          "text": [
            "WER: 0.05 \t LOSS: 0.09330413490533829\n",
            "WER: 0.3617021276595745 \t LOSS: 0.18622750043869019\n",
            "WER: 0.6575342465753424 \t LOSS: 1.2360966205596924\n"
          ]
        },
        {
          "output_type": "stream",
          "name": "stderr",
          "text": [
            "\r 17%|█▋        | 17/100 [06:56<30:17, 21.90s/it]"
          ]
        },
        {
          "output_type": "stream",
          "name": "stdout",
          "text": [
            "WER: 0.23076923076923078 \t LOSS: 0.5474370718002319\n",
            "WER: 0.30952380952380953 \t LOSS: 0.5901966094970703\n",
            "WER: 0.05555555555555555 \t LOSS: 0.2552540600299835\n",
            "WER: 0.3793103448275862 \t LOSS: 0.4364679455757141\n",
            "Best model, saving at  /content/drive/MyDrive/wav2vec_finetuning/\n"
          ]
        },
        {
          "output_type": "stream",
          "name": "stderr",
          "text": [
            "\r 18%|█▊        | 18/100 [07:20<30:44, 22.49s/it]"
          ]
        },
        {
          "output_type": "stream",
          "name": "stdout",
          "text": [
            "WER: 0.5862068965517241 \t LOSS: 0.6360427737236023\n",
            "WER: 0.12903225806451613 \t LOSS: 0.0984584242105484\n",
            "WER: 0.2222222222222222 \t LOSS: 0.25053274631500244\n",
            "Best model, saving at  /content/drive/MyDrive/wav2vec_finetuning/\n"
          ]
        },
        {
          "output_type": "stream",
          "name": "stderr",
          "text": [
            "\r 19%|█▉        | 19/100 [07:45<31:07, 23.06s/it]"
          ]
        },
        {
          "output_type": "stream",
          "name": "stdout",
          "text": [
            "WER: 0.16 \t LOSS: 0.24464339017868042\n",
            "WER: 0.34782608695652173 \t LOSS: 0.23310449719429016\n"
          ]
        },
        {
          "output_type": "stream",
          "name": "stderr",
          "text": [
            "\r 20%|██        | 20/100 [08:04<29:24, 22.06s/it]"
          ]
        },
        {
          "output_type": "stream",
          "name": "stdout",
          "text": [
            "WER: 0.09090909090909091 \t LOSS: 0.06303272396326065\n",
            "WER: 0.98 \t LOSS: 2.824206829071045\n",
            "WER: 0.40350877192982454 \t LOSS: 0.471576452255249\n"
          ]
        },
        {
          "output_type": "stream",
          "name": "stderr",
          "text": [
            "\r 21%|██        | 21/100 [08:23<27:50, 21.14s/it]"
          ]
        },
        {
          "output_type": "stream",
          "name": "stdout",
          "text": [
            "WER: 0.30434782608695654 \t LOSS: 0.618337869644165\n",
            "WER: 0.3333333333333333 \t LOSS: 0.27029502391815186\n",
            "WER: 0.6885245901639344 \t LOSS: 0.8295590877532959\n",
            "WER: 0.0 \t LOSS: 0.01799260638654232\n",
            "Best model, saving at  /content/drive/MyDrive/wav2vec_finetuning/\n"
          ]
        },
        {
          "output_type": "stream",
          "name": "stderr",
          "text": [
            "\r 22%|██▏       | 22/100 [08:48<28:45, 22.12s/it]"
          ]
        },
        {
          "output_type": "stream",
          "name": "stdout",
          "text": [
            "WER: 0.22727272727272727 \t LOSS: 0.4932403564453125\n",
            "WER: 0.375 \t LOSS: 0.43018290400505066\n",
            "WER: 0.07692307692307693 \t LOSS: 0.10834997147321701\n",
            "Best model, saving at  /content/drive/MyDrive/wav2vec_finetuning/\n"
          ]
        },
        {
          "output_type": "stream",
          "name": "stderr",
          "text": [
            "\r 23%|██▎       | 23/100 [09:14<29:58, 23.36s/it]"
          ]
        },
        {
          "output_type": "stream",
          "name": "stdout",
          "text": [
            "WER: 0.07407407407407407 \t LOSS: 0.089175283908844\n",
            "WER: 0.09375 \t LOSS: 0.08163852989673615\n",
            "WER: 0.041666666666666664 \t LOSS: 0.06814736872911453\n",
            "Best model, saving at  /content/drive/MyDrive/wav2vec_finetuning/\n"
          ]
        },
        {
          "output_type": "stream",
          "name": "stderr",
          "text": [
            "\r 24%|██▍       | 24/100 [09:40<30:30, 24.08s/it]"
          ]
        },
        {
          "output_type": "stream",
          "name": "stdout",
          "text": [
            "WER: 0.17857142857142858 \t LOSS: 0.3000293970108032\n",
            "WER: 0.1111111111111111 \t LOSS: 0.03459890931844711\n",
            "WER: 0.34210526315789475 \t LOSS: 0.4128313958644867\n",
            "Best model, saving at  /content/drive/MyDrive/wav2vec_finetuning/\n"
          ]
        },
        {
          "output_type": "stream",
          "name": "stderr",
          "text": [
            "\r 25%|██▌       | 25/100 [10:05<30:27, 24.36s/it]"
          ]
        },
        {
          "output_type": "stream",
          "name": "stdout",
          "text": [
            "WER: 0.24 \t LOSS: 0.3517208993434906\n",
            "WER: 0.0 \t LOSS: 0.003449051408097148\n",
            "WER: 0.15 \t LOSS: 0.21940474212169647\n",
            "Best model, saving at  /content/drive/MyDrive/wav2vec_finetuning/\n"
          ]
        },
        {
          "output_type": "stream",
          "name": "stderr",
          "text": [
            "\r 26%|██▌       | 26/100 [10:29<30:00, 24.34s/it]"
          ]
        },
        {
          "output_type": "stream",
          "name": "stdout",
          "text": [
            "WER: 0.03571428571428571 \t LOSS: 0.05195283889770508\n",
            "WER: 0.03225806451612903 \t LOSS: 0.06274804472923279\n",
            "WER: 0.06666666666666667 \t LOSS: 0.03235543146729469\n",
            "Best model, saving at  /content/drive/MyDrive/wav2vec_finetuning/\n"
          ]
        },
        {
          "output_type": "stream",
          "name": "stderr",
          "text": [
            "\r 27%|██▋       | 27/100 [10:54<29:39, 24.37s/it]"
          ]
        },
        {
          "output_type": "stream",
          "name": "stdout",
          "text": [
            "WER: 0.25925925925925924 \t LOSS: 0.3102967143058777\n",
            "WER: 0.22580645161290322 \t LOSS: 0.15792186558246613\n",
            "WER: 0.17647058823529413 \t LOSS: 0.09224554151296616\n",
            "Best model, saving at  /content/drive/MyDrive/wav2vec_finetuning/\n"
          ]
        },
        {
          "output_type": "stream",
          "name": "stderr",
          "text": [
            "\r 28%|██▊       | 28/100 [11:18<29:13, 24.36s/it]"
          ]
        },
        {
          "output_type": "stream",
          "name": "stdout",
          "text": [
            "WER: 0.05555555555555555 \t LOSS: 0.05331860110163689\n",
            "WER: 0.043478260869565216 \t LOSS: 0.036079034209251404\n"
          ]
        },
        {
          "output_type": "stream",
          "name": "stderr",
          "text": [
            "\r 29%|██▉       | 29/100 [11:37<26:58, 22.80s/it]"
          ]
        },
        {
          "output_type": "stream",
          "name": "stdout",
          "text": [
            "WER: 0.18518518518518517 \t LOSS: 0.1910545527935028\n",
            "WER: 0.44 \t LOSS: 0.49127623438835144\n",
            "WER: 0.045454545454545456 \t LOSS: 0.011361518874764442\n"
          ]
        },
        {
          "output_type": "stream",
          "name": "stderr",
          "text": [
            "\r 30%|███       | 30/100 [11:55<24:54, 21.35s/it]"
          ]
        },
        {
          "output_type": "stream",
          "name": "stdout",
          "text": [
            "WER: 0.34615384615384615 \t LOSS: 0.2628927528858185\n",
            "WER: 0.16 \t LOSS: 0.0858289897441864\n",
            "WER: 0.2 \t LOSS: 0.12238647788763046\n",
            "WER: 0.18518518518518517 \t LOSS: 0.4942114055156708\n",
            "Best model, saving at  /content/drive/MyDrive/wav2vec_finetuning/\n"
          ]
        },
        {
          "output_type": "stream",
          "name": "stderr",
          "text": [
            "\r 31%|███       | 31/100 [12:19<25:37, 22.28s/it]"
          ]
        },
        {
          "output_type": "stream",
          "name": "stdout",
          "text": [
            "WER: 0.2777777777777778 \t LOSS: 0.318637877702713\n",
            "WER: 0.08 \t LOSS: 0.08225177973508835\n"
          ]
        },
        {
          "output_type": "stream",
          "name": "stderr",
          "text": [
            "\r 32%|███▏      | 32/100 [12:40<24:34, 21.68s/it]"
          ]
        },
        {
          "output_type": "stream",
          "name": "stdout",
          "text": [
            "WER: 0.13333333333333333 \t LOSS: 0.15609252452850342\n",
            "WER: 0.22 \t LOSS: 0.1381077617406845\n",
            "WER: 0.0 \t LOSS: 0.010859979316592216\n"
          ]
        },
        {
          "output_type": "stream",
          "name": "stderr",
          "text": [
            "\r 33%|███▎      | 33/100 [12:58<23:11, 20.77s/it]"
          ]
        },
        {
          "output_type": "stream",
          "name": "stdout",
          "text": [
            "WER: 0.3469387755102041 \t LOSS: 0.4698921740055084\n",
            "WER: 0.11764705882352941 \t LOSS: 0.052071213722229004\n",
            "WER: 0.15151515151515152 \t LOSS: 0.06156995892524719\n",
            "WER: 0.0 \t LOSS: 0.011429397389292717\n",
            "Best model, saving at  /content/drive/MyDrive/wav2vec_finetuning/\n"
          ]
        },
        {
          "output_type": "stream",
          "name": "stderr",
          "text": [
            "\r 34%|███▍      | 34/100 [13:23<24:14, 22.04s/it]"
          ]
        },
        {
          "output_type": "stream",
          "name": "stdout",
          "text": [
            "WER: 0.16666666666666666 \t LOSS: 0.12714216113090515\n",
            "WER: 0.4230769230769231 \t LOSS: 0.3520703911781311\n"
          ]
        },
        {
          "output_type": "stream",
          "name": "stderr",
          "text": [
            "\r 35%|███▌      | 35/100 [13:43<23:02, 21.26s/it]"
          ]
        },
        {
          "output_type": "stream",
          "name": "stdout",
          "text": [
            "WER: 0.0 \t LOSS: 0.008337235078215599\n",
            "WER: 0.0 \t LOSS: 0.006436697207391262\n",
            "WER: 0.1111111111111111 \t LOSS: 0.12909650802612305\n",
            "WER: 0.08333333333333333 \t LOSS: 0.014051036909222603\n",
            "Best model, saving at  /content/drive/MyDrive/wav2vec_finetuning/\n"
          ]
        },
        {
          "output_type": "stream",
          "name": "stderr",
          "text": [
            "\r 36%|███▌      | 36/100 [14:07<23:36, 22.14s/it]"
          ]
        },
        {
          "output_type": "stream",
          "name": "stdout",
          "text": [
            "WER: 0.16 \t LOSS: 0.17242823541164398\n",
            "WER: 0.23529411764705882 \t LOSS: 0.16795985400676727\n",
            "WER: 0.2698412698412698 \t LOSS: 0.41312143206596375\n",
            "Best model, saving at  /content/drive/MyDrive/wav2vec_finetuning/\n"
          ]
        },
        {
          "output_type": "stream",
          "name": "stderr",
          "text": [
            "\r 37%|███▋      | 37/100 [14:32<24:00, 22.87s/it]"
          ]
        },
        {
          "output_type": "stream",
          "name": "stdout",
          "text": [
            "WER: 0.0625 \t LOSS: 0.013372013345360756\n",
            "WER: 0.04 \t LOSS: 0.10462263226509094\n"
          ]
        },
        {
          "output_type": "stream",
          "name": "stderr",
          "text": [
            "\r 38%|███▊      | 38/100 [14:51<22:31, 21.79s/it]"
          ]
        },
        {
          "output_type": "stream",
          "name": "stdout",
          "text": [
            "WER: 0.14583333333333334 \t LOSS: 0.11702942103147507\n",
            "WER: 0.2727272727272727 \t LOSS: 0.3280750513076782\n",
            "WER: 0.0625 \t LOSS: 0.045043107122182846\n"
          ]
        },
        {
          "output_type": "stream",
          "name": "stderr",
          "text": [
            "\r 39%|███▉      | 39/100 [15:09<21:07, 20.79s/it]"
          ]
        },
        {
          "output_type": "stream",
          "name": "stdout",
          "text": [
            "WER: 0.0 \t LOSS: 0.03243877738714218\n",
            "WER: 0.19230769230769232 \t LOSS: 0.41680997610092163\n",
            "WER: 0.16279069767441862 \t LOSS: 0.24643155932426453\n"
          ]
        },
        {
          "output_type": "stream",
          "name": "stderr",
          "text": [
            "\r 40%|████      | 40/100 [15:28<20:06, 20.10s/it]"
          ]
        },
        {
          "output_type": "stream",
          "name": "stdout",
          "text": [
            "WER: 0.037037037037037035 \t LOSS: 0.05757203698158264\n",
            "WER: 0.12121212121212122 \t LOSS: 0.06313898414373398\n",
            "WER: 0.09523809523809523 \t LOSS: 0.034646060317754745\n",
            "WER: 0.2413793103448276 \t LOSS: 0.1942877173423767\n",
            "Best model, saving at  /content/drive/MyDrive/wav2vec_finetuning/\n"
          ]
        },
        {
          "output_type": "stream",
          "name": "stderr",
          "text": [
            "\r 41%|████      | 41/100 [15:52<20:52, 21.23s/it]"
          ]
        },
        {
          "output_type": "stream",
          "name": "stdout",
          "text": [
            "WER: 0.13114754098360656 \t LOSS: 0.14558961987495422\n",
            "WER: 0.19230769230769232 \t LOSS: 0.2253374308347702\n",
            "WER: 0.26666666666666666 \t LOSS: 0.15702056884765625\n",
            "Best model, saving at  /content/drive/MyDrive/wav2vec_finetuning/\n"
          ]
        },
        {
          "output_type": "stream",
          "name": "stderr",
          "text": [
            "\r 42%|████▏     | 42/100 [16:16<21:26, 22.18s/it]"
          ]
        },
        {
          "output_type": "stream",
          "name": "stdout",
          "text": [
            "WER: 0.0 \t LOSS: 0.0021096679847687483\n",
            "WER: 0.07692307692307693 \t LOSS: 0.05144062638282776\n"
          ]
        },
        {
          "output_type": "stream",
          "name": "stderr",
          "text": [
            "\r 43%|████▎     | 43/100 [16:37<20:43, 21.81s/it]"
          ]
        },
        {
          "output_type": "stream",
          "name": "stdout",
          "text": [
            "WER: 0.0 \t LOSS: 0.02236846834421158\n",
            "WER: 0.07142857142857142 \t LOSS: 0.02415376529097557\n",
            "WER: 0.36486486486486486 \t LOSS: 0.4373546242713928\n"
          ]
        },
        {
          "output_type": "stream",
          "name": "stderr",
          "text": [
            "\r 44%|████▍     | 44/100 [16:56<19:36, 21.00s/it]"
          ]
        },
        {
          "output_type": "stream",
          "name": "stdout",
          "text": [
            "WER: 0.1111111111111111 \t LOSS: 0.43790197372436523\n",
            "WER: 0.07692307692307693 \t LOSS: 0.1326475888490677\n",
            "WER: 0.0 \t LOSS: 0.00226206355728209\n"
          ]
        },
        {
          "output_type": "stream",
          "name": "stderr",
          "text": [
            "\r 45%|████▌     | 45/100 [17:14<18:29, 20.17s/it]"
          ]
        },
        {
          "output_type": "stream",
          "name": "stdout",
          "text": [
            "WER: 0.0 \t LOSS: 0.005792194977402687\n",
            "WER: 0.16 \t LOSS: 0.1056026816368103\n",
            "WER: 0.28 \t LOSS: 0.2185489982366562\n"
          ]
        },
        {
          "output_type": "stream",
          "name": "stderr",
          "text": [
            "\r 46%|████▌     | 46/100 [17:34<17:53, 19.88s/it]"
          ]
        },
        {
          "output_type": "stream",
          "name": "stdout",
          "text": [
            "WER: 0.11538461538461539 \t LOSS: 0.08568822592496872\n",
            "WER: 0.3333333333333333 \t LOSS: 0.2528684735298157\n",
            "WER: 0.08 \t LOSS: 0.09897385537624359\n"
          ]
        },
        {
          "output_type": "stream",
          "name": "stderr",
          "text": [
            "\r 47%|████▋     | 47/100 [17:53<17:25, 19.73s/it]"
          ]
        },
        {
          "output_type": "stream",
          "name": "stdout",
          "text": [
            "WER: 0.0 \t LOSS: 0.019778309389948845\n",
            "WER: 0.09375 \t LOSS: 0.051530882716178894\n",
            "WER: 0.13636363636363635 \t LOSS: 0.10289305448532104\n",
            "WER: 0.15384615384615385 \t LOSS: 0.1878548264503479\n",
            "Best model, saving at  /content/drive/MyDrive/wav2vec_finetuning/\n"
          ]
        },
        {
          "output_type": "stream",
          "name": "stderr",
          "text": [
            "\r 48%|████▊     | 48/100 [18:18<18:22, 21.20s/it]"
          ]
        },
        {
          "output_type": "stream",
          "name": "stdout",
          "text": [
            "WER: 0.1891891891891892 \t LOSS: 0.2075328528881073\n",
            "WER: 0.05 \t LOSS: 0.02885507605969906\n"
          ]
        },
        {
          "output_type": "stream",
          "name": "stderr",
          "text": [
            "\r 49%|████▉     | 49/100 [18:37<17:30, 20.60s/it]"
          ]
        },
        {
          "output_type": "stream",
          "name": "stdout",
          "text": [
            "WER: 0.15384615384615385 \t LOSS: 0.2831995487213135\n",
            "WER: 0.13793103448275862 \t LOSS: 0.1165936291217804\n",
            "WER: 0.23076923076923078 \t LOSS: 0.41353437304496765\n"
          ]
        },
        {
          "output_type": "stream",
          "name": "stderr",
          "text": [
            "\r 50%|█████     | 50/100 [18:55<16:33, 19.87s/it]"
          ]
        },
        {
          "output_type": "stream",
          "name": "stdout",
          "text": [
            "WER: 0.12 \t LOSS: 0.06864959746599197\n",
            "WER: 0.0 \t LOSS: 0.0014366221148520708\n",
            "WER: 0.058823529411764705 \t LOSS: 0.08880464732646942\n"
          ]
        },
        {
          "output_type": "stream",
          "name": "stderr",
          "text": [
            "\r 51%|█████     | 51/100 [19:13<15:50, 19.40s/it]"
          ]
        },
        {
          "output_type": "stream",
          "name": "stdout",
          "text": [
            "WER: 0.1 \t LOSS: 0.06919208914041519\n",
            "WER: 0.3333333333333333 \t LOSS: 0.2076500952243805\n",
            "WER: 0.25 \t LOSS: 0.26394158601760864\n"
          ]
        },
        {
          "output_type": "stream",
          "name": "stderr",
          "text": [
            "\r 52%|█████▏    | 52/100 [19:31<15:00, 18.77s/it]"
          ]
        },
        {
          "output_type": "stream",
          "name": "stdout",
          "text": [
            "WER: 0.2857142857142857 \t LOSS: 0.13153129816055298\n",
            "WER: 0.24242424242424243 \t LOSS: 0.28520435094833374\n",
            "WER: 0.11764705882352941 \t LOSS: 0.09019779413938522\n"
          ]
        },
        {
          "output_type": "stream",
          "name": "stderr",
          "text": [
            "\r 53%|█████▎    | 53/100 [19:49<14:41, 18.76s/it]"
          ]
        },
        {
          "output_type": "stream",
          "name": "stdout",
          "text": [
            "WER: 0.1111111111111111 \t LOSS: 0.056003645062446594\n",
            "WER: 0.0 \t LOSS: 0.0023634242825210094\n",
            "WER: 0.0 \t LOSS: 0.0025733010843396187\n",
            "WER: 0.038461538461538464 \t LOSS: 0.034594643861055374\n",
            "Best model, saving at  /content/drive/MyDrive/wav2vec_finetuning/\n"
          ]
        },
        {
          "output_type": "stream",
          "name": "stderr",
          "text": [
            "\r 54%|█████▍    | 54/100 [20:13<15:31, 20.24s/it]"
          ]
        },
        {
          "output_type": "stream",
          "name": "stdout",
          "text": [
            "WER: 0.12307692307692308 \t LOSS: 0.16470259428024292\n",
            "WER: 0.029411764705882353 \t LOSS: 0.05113054811954498\n"
          ]
        },
        {
          "output_type": "stream",
          "name": "stderr",
          "text": [
            "\r 55%|█████▌    | 55/100 [20:32<14:49, 19.76s/it]"
          ]
        },
        {
          "output_type": "stream",
          "name": "stdout",
          "text": [
            "WER: 0.0 \t LOSS: 0.031516946852207184\n",
            "WER: 0.15789473684210525 \t LOSS: 0.11487750709056854\n",
            "WER: 0.03225806451612903 \t LOSS: 0.03129570931196213\n"
          ]
        },
        {
          "output_type": "stream",
          "name": "stderr",
          "text": [
            "\r 56%|█████▌    | 56/100 [20:50<14:11, 19.35s/it]"
          ]
        },
        {
          "output_type": "stream",
          "name": "stdout",
          "text": [
            "WER: 0.16666666666666666 \t LOSS: 0.04191442206501961\n",
            "WER: 0.11904761904761904 \t LOSS: 0.09006540477275848\n",
            "WER: 0.16 \t LOSS: 0.18617349863052368\n"
          ]
        },
        {
          "output_type": "stream",
          "name": "stderr",
          "text": [
            "\r 57%|█████▋    | 57/100 [21:08<13:36, 19.00s/it]"
          ]
        },
        {
          "output_type": "stream",
          "name": "stdout",
          "text": [
            "WER: 0.0 \t LOSS: 0.004176153335720301\n",
            "WER: 0.037037037037037035 \t LOSS: 0.011952175758779049\n",
            "WER: 0.0 \t LOSS: 0.0036514466628432274\n"
          ]
        },
        {
          "output_type": "stream",
          "name": "stderr",
          "text": [
            "\r 58%|█████▊    | 58/100 [21:26<13:06, 18.74s/it]"
          ]
        },
        {
          "output_type": "stream",
          "name": "stdout",
          "text": [
            "WER: 0.030303030303030304 \t LOSS: 0.015226290561258793\n",
            "WER: 0.037037037037037035 \t LOSS: 0.09339245408773422\n",
            "WER: 0.0 \t LOSS: 0.019665315747261047\n"
          ]
        },
        {
          "output_type": "stream",
          "name": "stderr",
          "text": [
            "\r 59%|█████▉    | 59/100 [21:45<12:43, 18.63s/it]"
          ]
        },
        {
          "output_type": "stream",
          "name": "stdout",
          "text": [
            "WER: 0.0 \t LOSS: 0.0011804872192442417\n",
            "WER: 0.15384615384615385 \t LOSS: 0.19478879868984222\n",
            "WER: 0.28 \t LOSS: 0.14863169193267822\n"
          ]
        },
        {
          "output_type": "stream",
          "name": "stderr",
          "text": [
            "\r 60%|██████    | 60/100 [22:04<12:35, 18.90s/it]"
          ]
        },
        {
          "output_type": "stream",
          "name": "stdout",
          "text": [
            "WER: 0.0 \t LOSS: 0.0012089565861970186\n",
            "WER: 0.08823529411764706 \t LOSS: 0.08899994939565659\n",
            "WER: 0.034482758620689655 \t LOSS: 0.0214526429772377\n"
          ]
        },
        {
          "output_type": "stream",
          "name": "stderr",
          "text": [
            "\r 61%|██████    | 61/100 [22:23<12:17, 18.92s/it]"
          ]
        },
        {
          "output_type": "stream",
          "name": "stdout",
          "text": [
            "WER: 0.0 \t LOSS: 0.0005718814791180193\n",
            "WER: 0.029411764705882353 \t LOSS: 0.018384655937552452\n",
            "WER: 0.12 \t LOSS: 0.1242276057600975\n"
          ]
        },
        {
          "output_type": "stream",
          "name": "stderr",
          "text": [
            "\r 62%|██████▏   | 62/100 [22:42<11:57, 18.87s/it]"
          ]
        },
        {
          "output_type": "stream",
          "name": "stdout",
          "text": [
            "WER: 0.16216216216216217 \t LOSS: 0.1347295641899109\n",
            "WER: 0.27906976744186046 \t LOSS: 0.31383195519447327\n",
            "WER: 0.11764705882352941 \t LOSS: 0.09150251746177673\n"
          ]
        },
        {
          "output_type": "stream",
          "name": "stderr",
          "text": [
            "\r 63%|██████▎   | 63/100 [23:00<11:33, 18.75s/it]"
          ]
        },
        {
          "output_type": "stream",
          "name": "stdout",
          "text": [
            "WER: 0.09090909090909091 \t LOSS: 0.0528169646859169\n",
            "WER: 0.16326530612244897 \t LOSS: 0.23212715983390808\n",
            "WER: 0.09523809523809523 \t LOSS: 0.054235003888607025\n"
          ]
        },
        {
          "output_type": "stream",
          "name": "stderr",
          "text": [
            "\r 64%|██████▍   | 64/100 [23:19<11:12, 18.69s/it]"
          ]
        },
        {
          "output_type": "stream",
          "name": "stdout",
          "text": [
            "WER: 0.3 \t LOSS: 0.2173328846693039\n",
            "WER: 0.0 \t LOSS: 0.00038753566332161427\n",
            "WER: 0.0 \t LOSS: 0.01768415793776512\n"
          ]
        },
        {
          "output_type": "stream",
          "name": "stderr",
          "text": [
            "\r 65%|██████▌   | 65/100 [23:37<10:46, 18.48s/it]"
          ]
        },
        {
          "output_type": "stream",
          "name": "stdout",
          "text": [
            "WER: 0.058823529411764705 \t LOSS: 0.029984185472130775\n",
            "WER: 0.16326530612244897 \t LOSS: 0.050280213356018066\n",
            "WER: 0.018867924528301886 \t LOSS: 0.01428851019591093\n"
          ]
        },
        {
          "output_type": "stream",
          "name": "stderr",
          "text": [
            "\r 66%|██████▌   | 66/100 [23:56<10:29, 18.51s/it]"
          ]
        },
        {
          "output_type": "stream",
          "name": "stdout",
          "text": [
            "WER: 0.0 \t LOSS: 0.0006635288009420037\n",
            "WER: 0.045454545454545456 \t LOSS: 0.02842707559466362\n",
            "WER: 0.0 \t LOSS: 0.002527198288589716\n",
            "WER: 0.2222222222222222 \t LOSS: 0.09778478741645813\n",
            "Best model, saving at  /content/drive/MyDrive/wav2vec_finetuning/\n"
          ]
        },
        {
          "output_type": "stream",
          "name": "stderr",
          "text": [
            "\r 67%|██████▋   | 67/100 [24:19<11:01, 20.06s/it]"
          ]
        },
        {
          "output_type": "stream",
          "name": "stdout",
          "text": [
            "WER: 0.0 \t LOSS: 0.0018048647325485945\n",
            "WER: 0.22 \t LOSS: 0.20569932460784912\n"
          ]
        },
        {
          "output_type": "stream",
          "name": "stderr",
          "text": [
            "\r 68%|██████▊   | 68/100 [24:39<10:35, 19.86s/it]"
          ]
        },
        {
          "output_type": "stream",
          "name": "stdout",
          "text": [
            "WER: 0.09523809523809523 \t LOSS: 0.4625973403453827\n",
            "WER: 0.0 \t LOSS: 0.005952815990895033\n",
            "WER: 0.0 \t LOSS: 0.0032095424830913544\n",
            "WER: 0.0 \t LOSS: 0.004533953033387661\n",
            "Best model, saving at  /content/drive/MyDrive/wav2vec_finetuning/\n"
          ]
        },
        {
          "output_type": "stream",
          "name": "stderr",
          "text": [
            "\r 69%|██████▉   | 69/100 [25:03<11:00, 21.31s/it]"
          ]
        },
        {
          "output_type": "stream",
          "name": "stdout",
          "text": [
            "WER: 0.05 \t LOSS: 0.013090960681438446\n",
            "WER: 0.027777777777777776 \t LOSS: 0.007184397429227829\n"
          ]
        },
        {
          "output_type": "stream",
          "name": "stderr",
          "text": [
            "\r 70%|███████   | 70/100 [25:23<10:24, 20.83s/it]"
          ]
        },
        {
          "output_type": "stream",
          "name": "stdout",
          "text": [
            "WER: 0.0 \t LOSS: 0.00044859285117127\n",
            "WER: 0.2 \t LOSS: 0.16019096970558167\n",
            "WER: 0.047619047619047616 \t LOSS: 0.01564846746623516\n",
            "WER: 0.03333333333333333 \t LOSS: 0.01935208961367607\n",
            "Best model, saving at  /content/drive/MyDrive/wav2vec_finetuning/\n"
          ]
        },
        {
          "output_type": "stream",
          "name": "stderr",
          "text": [
            "\r 71%|███████   | 71/100 [25:46<10:27, 21.63s/it]"
          ]
        },
        {
          "output_type": "stream",
          "name": "stdout",
          "text": [
            "WER: 0.07894736842105263 \t LOSS: 0.07411422580480576\n",
            "WER: 0.328125 \t LOSS: 0.3329204022884369\n"
          ]
        },
        {
          "output_type": "stream",
          "name": "stderr",
          "text": [
            "\r 72%|███████▏  | 72/100 [26:06<09:45, 20.90s/it]"
          ]
        },
        {
          "output_type": "stream",
          "name": "stdout",
          "text": [
            "WER: 0.11363636363636363 \t LOSS: 0.2860093414783478\n",
            "WER: 0.21739130434782608 \t LOSS: 0.11041092872619629\n",
            "WER: 0.1590909090909091 \t LOSS: 0.11061357706785202\n"
          ]
        },
        {
          "output_type": "stream",
          "name": "stderr",
          "text": [
            "\r 73%|███████▎  | 73/100 [26:26<09:21, 20.78s/it]"
          ]
        },
        {
          "output_type": "stream",
          "name": "stdout",
          "text": [
            "WER: 0.18181818181818182 \t LOSS: 0.09666508436203003\n",
            "WER: 0.034482758620689655 \t LOSS: 0.02217383310198784\n",
            "WER: 0.05263157894736842 \t LOSS: 0.02359328418970108\n"
          ]
        },
        {
          "output_type": "stream",
          "name": "stderr",
          "text": [
            "\r 74%|███████▍  | 74/100 [26:44<08:38, 19.93s/it]"
          ]
        },
        {
          "output_type": "stream",
          "name": "stdout",
          "text": [
            "WER: 0.1891891891891892 \t LOSS: 0.2014668881893158\n",
            "WER: 0.16666666666666666 \t LOSS: 0.15718106925487518\n",
            "WER: 0.0 \t LOSS: 0.023236460983753204\n"
          ]
        },
        {
          "output_type": "stream",
          "name": "stderr",
          "text": [
            "\r 75%|███████▌  | 75/100 [27:02<07:59, 19.19s/it]"
          ]
        },
        {
          "output_type": "stream",
          "name": "stdout",
          "text": [
            "WER: 0.125 \t LOSS: 0.02424461767077446\n",
            "WER: 0.0 \t LOSS: 0.003990028519183397\n",
            "WER: 0.021739130434782608 \t LOSS: 0.021253762766718864\n",
            "WER: 0.09523809523809523 \t LOSS: 0.07222959399223328\n",
            "Best model, saving at  /content/drive/MyDrive/wav2vec_finetuning/\n"
          ]
        },
        {
          "output_type": "stream",
          "name": "stderr",
          "text": [
            "\r 76%|███████▌  | 76/100 [27:25<08:13, 20.58s/it]"
          ]
        },
        {
          "output_type": "stream",
          "name": "stdout",
          "text": [
            "WER: 0.03225806451612903 \t LOSS: 0.01759868860244751\n",
            "WER: 0.0 \t LOSS: 0.008520230650901794\n"
          ]
        },
        {
          "output_type": "stream",
          "name": "stderr",
          "text": [
            "\r 77%|███████▋  | 77/100 [27:45<07:43, 20.15s/it]"
          ]
        },
        {
          "output_type": "stream",
          "name": "stdout",
          "text": [
            "WER: 0.08695652173913043 \t LOSS: 0.029924914240837097\n",
            "WER: 0.19047619047619047 \t LOSS: 0.06210235506296158\n",
            "WER: 0.057692307692307696 \t LOSS: 0.09634005278348923\n"
          ]
        },
        {
          "output_type": "stream",
          "name": "stderr",
          "text": [
            "\r 78%|███████▊  | 78/100 [28:03<07:15, 19.79s/it]"
          ]
        },
        {
          "output_type": "stream",
          "name": "stdout",
          "text": [
            "WER: 0.0 \t LOSS: 0.010373875498771667\n",
            "WER: 0.0 \t LOSS: 0.004788121208548546\n",
            "WER: 0.0 \t LOSS: 0.002831293735653162\n",
            "WER: 0.0 \t LOSS: 0.0006436003604903817\n",
            "Best model, saving at  /content/drive/MyDrive/wav2vec_finetuning/\n"
          ]
        },
        {
          "output_type": "stream",
          "name": "stderr",
          "text": [
            "\r 79%|███████▉  | 79/100 [28:27<07:18, 20.87s/it]"
          ]
        },
        {
          "output_type": "stream",
          "name": "stdout",
          "text": [
            "WER: 0.037037037037037035 \t LOSS: 0.10512842983007431\n",
            "WER: 0.041666666666666664 \t LOSS: 0.032539695501327515\n"
          ]
        },
        {
          "output_type": "stream",
          "name": "stderr",
          "text": [
            "\r 80%|████████  | 80/100 [28:46<06:48, 20.42s/it]"
          ]
        },
        {
          "output_type": "stream",
          "name": "stdout",
          "text": [
            "WER: 0.034482758620689655 \t LOSS: 0.01658531464636326\n",
            "WER: 0.13333333333333333 \t LOSS: 0.08635907620191574\n",
            "WER: 0.08571428571428572 \t LOSS: 0.03276314586400986\n"
          ]
        },
        {
          "output_type": "stream",
          "name": "stderr",
          "text": [
            "\r 81%|████████  | 81/100 [29:05<06:16, 19.80s/it]"
          ]
        },
        {
          "output_type": "stream",
          "name": "stdout",
          "text": [
            "WER: 0.16666666666666666 \t LOSS: 0.19575218856334686\n",
            "WER: 0.2222222222222222 \t LOSS: 0.12532949447631836\n",
            "WER: 0.18518518518518517 \t LOSS: 0.09525270760059357\n"
          ]
        },
        {
          "output_type": "stream",
          "name": "stderr",
          "text": [
            "\r 82%|████████▏ | 82/100 [29:23<05:47, 19.29s/it]"
          ]
        },
        {
          "output_type": "stream",
          "name": "stdout",
          "text": [
            "WER: 0.0 \t LOSS: 0.011517588049173355\n",
            "WER: 0.2833333333333333 \t LOSS: 0.20889884233474731\n",
            "WER: 0.0 \t LOSS: 0.0026600658893585205\n"
          ]
        },
        {
          "output_type": "stream",
          "name": "stderr",
          "text": [
            "\r 83%|████████▎ | 83/100 [29:41<05:24, 19.07s/it]"
          ]
        },
        {
          "output_type": "stream",
          "name": "stdout",
          "text": [
            "WER: 0.06666666666666667 \t LOSS: 0.06277681887149811\n",
            "WER: 0.0 \t LOSS: 0.012816295027732849\n",
            "WER: 0.0 \t LOSS: 0.01484835147857666\n"
          ]
        },
        {
          "output_type": "stream",
          "name": "stderr",
          "text": [
            "\r 84%|████████▍ | 84/100 [29:59<04:59, 18.73s/it]"
          ]
        },
        {
          "output_type": "stream",
          "name": "stdout",
          "text": [
            "WER: 0.0 \t LOSS: 0.005983773153275251\n",
            "WER: 0.038461538461538464 \t LOSS: 0.041770778596401215\n",
            "WER: 0.022222222222222223 \t LOSS: 0.17020800709724426\n"
          ]
        },
        {
          "output_type": "stream",
          "name": "stderr",
          "text": [
            "\r 85%|████████▌ | 85/100 [30:18<04:42, 18.86s/it]"
          ]
        },
        {
          "output_type": "stream",
          "name": "stdout",
          "text": [
            "WER: 0.058823529411764705 \t LOSS: 0.017467482015490532\n",
            "WER: 0.043478260869565216 \t LOSS: 0.03723815083503723\n",
            "WER: 0.10344827586206896 \t LOSS: 0.027172919362783432\n"
          ]
        },
        {
          "output_type": "stream",
          "name": "stderr",
          "text": [
            "\r 86%|████████▌ | 86/100 [30:37<04:24, 18.92s/it]"
          ]
        },
        {
          "output_type": "stream",
          "name": "stdout",
          "text": [
            "WER: 0.0 \t LOSS: 0.007175777107477188\n",
            "WER: 0.17391304347826086 \t LOSS: 0.3125689625740051\n",
            "WER: 0.10416666666666667 \t LOSS: 0.26031389832496643\n"
          ]
        },
        {
          "output_type": "stream",
          "name": "stderr",
          "text": [
            "\r 87%|████████▋ | 87/100 [30:57<04:07, 19.06s/it]"
          ]
        },
        {
          "output_type": "stream",
          "name": "stdout",
          "text": [
            "WER: 0.06976744186046512 \t LOSS: 0.11824964731931686\n",
            "WER: 0.02631578947368421 \t LOSS: 0.022304225713014603\n",
            "WER: 0.0 \t LOSS: 0.0032394099980592728\n",
            "WER: 0.037037037037037035 \t LOSS: 0.061938684433698654\n",
            "Best model, saving at  /content/drive/MyDrive/wav2vec_finetuning/\n"
          ]
        },
        {
          "output_type": "stream",
          "name": "stderr",
          "text": [
            "\r 88%|████████▊ | 88/100 [31:21<04:07, 20.66s/it]"
          ]
        },
        {
          "output_type": "stream",
          "name": "stdout",
          "text": [
            "WER: 0.0 \t LOSS: 0.021782901138067245\n",
            "WER: 0.06666666666666667 \t LOSS: 0.030523065477609634\n"
          ]
        },
        {
          "output_type": "stream",
          "name": "stderr",
          "text": [
            "\r 89%|████████▉ | 89/100 [31:41<03:43, 20.32s/it]"
          ]
        },
        {
          "output_type": "stream",
          "name": "stdout",
          "text": [
            "WER: 0.0 \t LOSS: 0.005773820914328098\n",
            "WER: 0.041666666666666664 \t LOSS: 0.11692427843809128\n",
            "WER: 0.0 \t LOSS: 0.002129822503775358\n"
          ]
        },
        {
          "output_type": "stream",
          "name": "stderr",
          "text": [
            "\r 90%|█████████ | 90/100 [31:59<03:17, 19.73s/it]"
          ]
        },
        {
          "output_type": "stream",
          "name": "stdout",
          "text": [
            "WER: 0.0 \t LOSS: 0.00436763372272253\n",
            "WER: 0.05714285714285714 \t LOSS: 0.033692292869091034\n",
            "WER: 0.1 \t LOSS: 0.010582201182842255\n"
          ]
        },
        {
          "output_type": "stream",
          "name": "stderr",
          "text": [
            "\r 91%|█████████ | 91/100 [32:17<02:53, 19.32s/it]"
          ]
        },
        {
          "output_type": "stream",
          "name": "stdout",
          "text": [
            "WER: 0.0 \t LOSS: 0.0035817502066493034\n",
            "WER: 0.0 \t LOSS: 0.0013854694552719593\n",
            "WER: 0.05405405405405406 \t LOSS: 0.07086804509162903\n"
          ]
        },
        {
          "output_type": "stream",
          "name": "stderr",
          "text": [
            "\r 92%|█████████▏| 92/100 [32:36<02:32, 19.02s/it]"
          ]
        },
        {
          "output_type": "stream",
          "name": "stdout",
          "text": [
            "WER: 0.18518518518518517 \t LOSS: 0.06412392854690552\n",
            "WER: 0.0 \t LOSS: 0.004955667536705732\n",
            "WER: 0.07692307692307693 \t LOSS: 0.043706875294446945\n"
          ]
        },
        {
          "output_type": "stream",
          "name": "stderr",
          "text": [
            "\r 93%|█████████▎| 93/100 [32:55<02:12, 18.96s/it]"
          ]
        },
        {
          "output_type": "stream",
          "name": "stdout",
          "text": [
            "WER: 0.0 \t LOSS: 0.003396431216970086\n",
            "WER: 0.0 \t LOSS: 0.004792903549969196\n",
            "WER: 0.0 \t LOSS: 0.004306855145841837\n"
          ]
        },
        {
          "output_type": "stream",
          "name": "stderr",
          "text": [
            "\r 94%|█████████▍| 94/100 [33:12<01:51, 18.60s/it]"
          ]
        },
        {
          "output_type": "stream",
          "name": "stdout",
          "text": [
            "WER: 0.0 \t LOSS: 0.008071735501289368\n",
            "WER: 0.09302325581395349 \t LOSS: 0.04460139200091362\n",
            "WER: 0.08333333333333333 \t LOSS: 0.06375400722026825\n",
            "WER: 0.0 \t LOSS: 0.00222576130181551\n",
            "Best model, saving at  /content/drive/MyDrive/wav2vec_finetuning/\n"
          ]
        },
        {
          "output_type": "stream",
          "name": "stderr",
          "text": [
            "\r 95%|█████████▌| 95/100 [33:36<01:40, 20.15s/it]"
          ]
        },
        {
          "output_type": "stream",
          "name": "stdout",
          "text": [
            "WER: 0.0 \t LOSS: 0.010404117405414581\n",
            "WER: 0.0 \t LOSS: 0.00636093458160758\n"
          ]
        },
        {
          "output_type": "stream",
          "name": "stderr",
          "text": [
            "\r 96%|█████████▌| 96/100 [33:55<01:19, 19.85s/it]"
          ]
        },
        {
          "output_type": "stream",
          "name": "stdout",
          "text": [
            "WER: 0.0 \t LOSS: 0.0005709304241463542\n",
            "WER: 0.0 \t LOSS: 0.0032955966889858246\n",
            "WER: 0.21666666666666667 \t LOSS: 0.11980895698070526\n"
          ]
        },
        {
          "output_type": "stream",
          "name": "stderr",
          "text": [
            "\r 97%|█████████▋| 97/100 [34:14<00:58, 19.60s/it]"
          ]
        },
        {
          "output_type": "stream",
          "name": "stdout",
          "text": [
            "WER: 0.047619047619047616 \t LOSS: 0.03658664599061012\n",
            "WER: 0.0 \t LOSS: 0.0017495627980679274\n",
            "WER: 0.05405405405405406 \t LOSS: 0.09322815388441086\n"
          ]
        },
        {
          "output_type": "stream",
          "name": "stderr",
          "text": [
            "\r 98%|█████████▊| 98/100 [34:33<00:38, 19.42s/it]"
          ]
        },
        {
          "output_type": "stream",
          "name": "stdout",
          "text": [
            "WER: 0.0 \t LOSS: 0.0014242252800613642\n",
            "WER: 0.15555555555555556 \t LOSS: 0.10584160685539246\n",
            "WER: 0.0 \t LOSS: 0.002962514292448759\n"
          ]
        },
        {
          "output_type": "stream",
          "name": "stderr",
          "text": [
            "\r 99%|█████████▉| 99/100 [34:52<00:19, 19.20s/it]"
          ]
        },
        {
          "output_type": "stream",
          "name": "stdout",
          "text": [
            "WER: 0.06382978723404255 \t LOSS: 0.024223193526268005\n",
            "WER: 0.0 \t LOSS: 0.0034777275286614895\n",
            "WER: 0.03225806451612903 \t LOSS: 0.027628563344478607\n"
          ]
        },
        {
          "output_type": "stream",
          "name": "stderr",
          "text": [
            "\r100%|██████████| 100/100 [35:11<00:00, 19.14s/it]"
          ]
        },
        {
          "output_type": "stream",
          "name": "stdout",
          "text": [
            "WER: 0.09090909090909091 \t LOSS: 0.10918695479631424\n"
          ]
        }
      ]
    },
    {
      "cell_type": "code",
      "source": [
        "model_path = os.path.join(model_save_path, model_name+\".pt\")\n",
        "pipeline_path= os.path.join(model_save_path, model_name+\"_vocab\")"
      ],
      "metadata": {
        "id": "WNUaJJPoDPv-"
      },
      "execution_count": 43,
      "outputs": []
    },
    {
      "cell_type": "code",
      "source": [
        "model = torch.load(model_path)"
      ],
      "metadata": {
        "id": "xwZxDxkKMAE6"
      },
      "execution_count": 44,
      "outputs": []
    },
    {
      "cell_type": "code",
      "source": [
        "model = model.eval()"
      ],
      "metadata": {
        "id": "g_0j5vACDP0V"
      },
      "execution_count": 45,
      "outputs": []
    },
    {
      "cell_type": "code",
      "source": [
        "minds = minds.map(apply_transforms, remove_columns=minds.column_names[\"test\"])\n",
        "minds_te = minds.map(prepare_dataset, remove_columns=minds.column_names[\"test\"], num_proc=4)"
      ],
      "metadata": {
        "colab": {
          "base_uri": "https://localhost:8080/",
          "height": 81,
          "referenced_widgets": [
            "63460d2ed2e64991bf2608e447a818c5",
            "919120da09f64059abe949849398d0f2",
            "32415ad19b3145618ff1ff8843dae55e",
            "ae5ee6f99e3643d199fcddec02f9300d",
            "3b976f1a684141469bc705018740b9c4",
            "7e5433e916ba4ff19bbda0afd761e71c",
            "7d9049b6941b45719972518743993c7d",
            "601c8715543b44e0b16cbe4fb9eaa5bc",
            "b34497018bdf4db494bc8834ed00d4c8",
            "9563d195a5704b72abe99b8a936a8f54",
            "6a85b736c9a4468aad17c98fc186d135",
            "1b09831c3fc8426dbca92e8de85130b3",
            "b53d4a2c992346fa954ad5fbee9f5d27",
            "6e449fb51e874a4f88d87016b2677e5d",
            "f80816c295cf435c8e2103e41b33c946",
            "44caca108ced4e389ae35ae9766dc42a",
            "ecff7bfe82b54518817a7caaa83f86c1",
            "8d6ad414efe94fab84f334f76b1b4f92",
            "84d4ce551ff1484a8b38de8fd066c314",
            "89935d3f15db488a9c10fcf2e775320a",
            "6feb4fe5a3184747af6600e8c644dcf7",
            "f2ac073059a047f98c9a0b417c1ba47b"
          ]
        },
        "id": "kS9Wf3v9DP8r",
        "outputId": "e2986bc9-cf8b-4cb1-adec-9516052a4a2e"
      },
      "execution_count": 46,
      "outputs": [
        {
          "output_type": "display_data",
          "data": {
            "text/plain": [
              "  0%|          | 0/80 [00:00<?, ?ex/s]"
            ],
            "application/vnd.jupyter.widget-view+json": {
              "version_major": 2,
              "version_minor": 0,
              "model_id": "63460d2ed2e64991bf2608e447a818c5"
            }
          },
          "metadata": {}
        },
        {
          "output_type": "display_data",
          "data": {
            "text/plain": [
              "  0%|          | 0/20 [00:00<?, ?ex/s]"
            ],
            "application/vnd.jupyter.widget-view+json": {
              "version_major": 2,
              "version_minor": 0,
              "model_id": "1b09831c3fc8426dbca92e8de85130b3"
            }
          },
          "metadata": {}
        }
      ]
    },
    {
      "cell_type": "code",
      "source": [
        "print(minds_te)"
      ],
      "metadata": {
        "colab": {
          "base_uri": "https://localhost:8080/"
        },
        "id": "qvORwzKJL63p",
        "outputId": "5fc92012-c9d4-4575-b012-572cf5bce164"
      },
      "execution_count": 47,
      "outputs": [
        {
          "output_type": "stream",
          "name": "stdout",
          "text": [
            "DatasetDict({\n",
            "    train: Dataset({\n",
            "        features: [],\n",
            "        num_rows: 0\n",
            "    })\n",
            "    test: Dataset({\n",
            "        features: [],\n",
            "        num_rows: 0\n",
            "    })\n",
            "})\n"
          ]
        }
      ]
    },
    {
      "cell_type": "code",
      "source": [
        "class CTCBeamDecoder:\n",
        "    def __init__(self, labels, blank_id=0, beam_size=100, kenlm_path=None):\n",
        "        print(\"loading beam search with kenlm...\")\n",
        "        self.labels = labels\n",
        "\n",
        "        # model_path = is the path to your external kenlm language model(LM). Default is none.\n",
        "        # alpha = Weighting associated with the LMs probabilities. A weight of 0 means the LM has no effect.\n",
        "        # beta = Weight associated with the number of words within our beam.\n",
        "\n",
        "        self.ctcdecoder = ctcdecode.CTCBeamDecoder(\n",
        "            self.labels, model_path=kenlm_path,\n",
        "            alpha=0.6, beta=1,\n",
        "            beam_width=beam_size, blank_id=blank_id)\n",
        "        print(\"loading finished\")\n",
        "\n",
        "    def __call__(self, output, num_sentences=1):\n",
        "        sentences = []\n",
        "        for num in range(num_sentences):\n",
        "          beam_result, beam_scores, timesteps, out_seq_len = self.ctcdecoder.decode(output)\n",
        "          # beam_result[0][0][:out_seq_len[0][0]] get the top beam for the first item in batch\n",
        "          sentences.append(self.output(beam_result[0][num], self.labels, out_seq_len[0][num]))\n",
        "        return sentences\n",
        "\n",
        "    def output(self, tokens, vocab, seq_len):\n",
        "        out = ''.join([vocab[x] for x in tokens[0:seq_len]])\n",
        "        # wave2vec implementation use | for space in vocabulary\n",
        "        return out.replace(\"|\", \" \")"
      ],
      "metadata": {
        "id": "leULDBP2KKjs"
      },
      "execution_count": 48,
      "outputs": []
    },
    {
      "cell_type": "code",
      "source": [
        "decode_and_rescore = CTCBeamDecoder(kenlm_path=None, \n",
        "                                          labels=labels, \n",
        "                                          blank_id=label_dict.get(\"\"), \n",
        "                                          beam_size=100)"
      ],
      "metadata": {
        "id": "fQygGLRBWk8B",
        "outputId": "9367d38f-e626-4e38-d929-3cfcc61cc3ab",
        "colab": {
          "base_uri": "https://localhost:8080/"
        }
      },
      "execution_count": 50,
      "outputs": [
        {
          "output_type": "stream",
          "name": "stdout",
          "text": [
            "loading beam search with kenlm...\n",
            "loading finished\n"
          ]
        }
      ]
    },
    {
      "cell_type": "code",
      "source": [
        "test_dataloader = torch.utils.data.DataLoader(minds_tr[\"test\"], batch_size=batch_size, shuffle=True, collate_fn=collate_fn)"
      ],
      "metadata": {
        "id": "HS8jQ2ANLfcv"
      },
      "execution_count": 49,
      "outputs": []
    },
    {
      "cell_type": "code",
      "source": [
        "for step, data in enumerate(test_dataloader):\n",
        "            batch = {k: v.to(device) for k, v in data.items()}\n",
        "            with torch.cuda.amp.autocast():\n",
        "              outputs = model(**batch)\n",
        "              logits = outputs.logits\n",
        "              out_proba = torch.nn.functional.softmax(logits, dim=-1)\n",
        "              predicted_ids = torch.argmax(logits, dim =-1)\n",
        "              transcriptions = tokenizer.decode(predicted_ids[0])\n",
        "              print(transcriptions)\n",
        "              print(tokenizer.decode(data['labels'][0]))"
      ],
      "metadata": {
        "colab": {
          "base_uri": "https://localhost:8080/"
        },
        "id": "vhH1PVl0KKsk",
        "outputId": "1db2f0b8-d080-448b-b1b6-bffa3788dc22"
      },
      "execution_count": 50,
      "outputs": [
        {
          "output_type": "stream",
          "name": "stderr",
          "text": [
            "/usr/local/lib/python3.8/dist-packages/transformers/models/wav2vec2/processing_wav2vec2.py:155: UserWarning: `as_target_processor` is deprecated and will be removed in v5 of Transformers. You can process your labels by using the argument `text` of the regular `__call__` method (either in the same call as your audio inputs, or in a separate call.\n",
            "  warnings.warn(\n"
          ]
        },
        {
          "output_type": "stream",
          "name": "stdout",
          "text": [
            "HOW DO I SET UP A JOINT ACCOUNT\n",
            "HOW DO I SET UP A JOINT ACOUNT<unk>\n",
            "HI I WAS TRYING TO SET UP A JOINT ACCOUNT IS THERE A SOMEWHERE ON THE APP THAT I CAN DO THAT OR SO IAVE TO DO THAT THROUGH YOU\n",
            "HI I WAS TRYING TO SET UP A JOINT ACOUNT IS THERE A SOMEWHERE ON THE AP THAT I CAN DO THAT OR DO I HAVE TO DO THAT THROUGH YOU\n",
            "A HELP TO SET UP A JOINT ACCOUNT WITH MY LIFEA THER THE\n",
            "HENRY COUNTY SET UP A JOINT ACOUNT WITH MY WIFE AND WHERE ARE THEY AT<unk>\n",
            "OPEN UP A JOINT ACCOUNT WITH MY PARTNER\n",
            "OPEN UP A JOINT ACOUNT WITH MY PARTNER<unk>\n",
            "SHOW ME MY ACCOUNT BALANCE PLEASE\n",
            "SHOW ME MY ACOUNT BALANCE PLEASE<unk>\n",
            "SHOW ME MY CURRENT ACCOUNT BALANCE\n",
            "SHOW ME MY CURENT ACOUNT BALANCE<unk>\n",
            "I NEED TO FIND OUT HOWB LY SET UP A JOINT ACCOUNT\n",
            "I NED TO FIND OUT IF I PROBABLY SET UP A JOINT ACOUNT\n"
          ]
        }
      ]
    },
    {
      "cell_type": "code",
      "source": [
        "# next(iter(test_dataloader))['input_values']"
      ],
      "metadata": {
        "id": "kaeWin3_MW9Y"
      },
      "execution_count": null,
      "outputs": []
    },
    {
      "cell_type": "code",
      "source": [],
      "metadata": {
        "id": "8LezQok1WkyA"
      },
      "execution_count": null,
      "outputs": []
    },
    {
      "cell_type": "code",
      "source": [],
      "metadata": {
        "id": "ocbXcPPKWkri"
      },
      "execution_count": null,
      "outputs": []
    },
    {
      "cell_type": "code",
      "source": [],
      "metadata": {
        "id": "7E9NYVbxWkjv"
      },
      "execution_count": null,
      "outputs": []
    },
    {
      "cell_type": "code",
      "source": [],
      "metadata": {
        "id": "WTreo0I7Wkci"
      },
      "execution_count": null,
      "outputs": []
    },
    {
      "cell_type": "code",
      "source": [],
      "metadata": {
        "id": "IgiNicjOWkTA"
      },
      "execution_count": null,
      "outputs": []
    },
    {
      "cell_type": "code",
      "source": [],
      "metadata": {
        "id": "38EWIxvbKKav"
      },
      "execution_count": null,
      "outputs": []
    },
    {
      "cell_type": "code",
      "source": [],
      "metadata": {
        "id": "gDoDqNFZKKPc"
      },
      "execution_count": null,
      "outputs": []
    },
    {
      "cell_type": "code",
      "source": [],
      "metadata": {
        "id": "2gx8oXMmDQBS"
      },
      "execution_count": null,
      "outputs": []
    }
  ]
}
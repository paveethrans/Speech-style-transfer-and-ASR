{
  "nbformat": 4,
  "nbformat_minor": 0,
  "metadata": {
    "colab": {
      "provenance": [],
      "authorship_tag": "ABX9TyPHV/gjuvMJPbAVy5C5SjhH",
      "include_colab_link": true
    },
    "kernelspec": {
      "name": "python3",
      "display_name": "Python 3"
    },
    "language_info": {
      "name": "python"
    },
    "accelerator": "GPU",
    "gpuClass": "standard"
  },
  "cells": [
    {
      "cell_type": "markdown",
      "metadata": {
        "id": "view-in-github",
        "colab_type": "text"
      },
      "source": [
        "<a href=\"https://colab.research.google.com/github/paveethranswam/Speech-style-transfer-and-ASR/blob/main/final_fine_tune.ipynb\" target=\"_parent\"><img src=\"https://colab.research.google.com/assets/colab-badge.svg\" alt=\"Open In Colab\"/></a>"
      ]
    },
    {
      "cell_type": "code",
      "source": [
        "# Reference: https://github.com/tarun-bisht/wav2vec2-asr\n",
        "# https://huggingface.co/blog/fine-tune-wav2vec2-english\n",
        "# https://huggingface.co/docs/transformers/model_doc/wav2vec2"
      ],
      "metadata": {
        "id": "wuabNTZ2HtWn"
      },
      "execution_count": null,
      "outputs": []
    },
    {
      "cell_type": "code",
      "source": [
        "from google.colab import drive\n",
        "drive.mount('/content/drive')"
      ],
      "metadata": {
        "id": "-qDH96xdIO9S"
      },
      "execution_count": null,
      "outputs": []
    },
    {
      "cell_type": "code",
      "source": [
        "pip install transformers datasets evaluate jiwer"
      ],
      "metadata": {
        "colab": {
          "base_uri": "https://localhost:8080/"
        },
        "id": "GSCa9eREzlU1",
        "outputId": "2bc27004-799f-426b-a1d6-66633b8560ea"
      },
      "execution_count": 2,
      "outputs": [
        {
          "output_type": "stream",
          "name": "stdout",
          "text": [
            "Looking in indexes: https://pypi.org/simple, https://us-python.pkg.dev/colab-wheels/public/simple/\n",
            "Collecting transformers\n",
            "  Downloading transformers-4.25.1-py3-none-any.whl (5.8 MB)\n",
            "\u001b[K     |████████████████████████████████| 5.8 MB 27.1 MB/s \n",
            "\u001b[?25hCollecting datasets\n",
            "  Downloading datasets-2.7.1-py3-none-any.whl (451 kB)\n",
            "\u001b[K     |████████████████████████████████| 451 kB 57.6 MB/s \n",
            "\u001b[?25hCollecting evaluate\n",
            "  Downloading evaluate-0.3.0-py3-none-any.whl (72 kB)\n",
            "\u001b[K     |████████████████████████████████| 72 kB 1.8 MB/s \n",
            "\u001b[?25hCollecting jiwer\n",
            "  Downloading jiwer-2.5.1-py3-none-any.whl (15 kB)\n",
            "Requirement already satisfied: numpy>=1.17 in /usr/local/lib/python3.8/dist-packages (from transformers) (1.21.6)\n",
            "Collecting huggingface-hub<1.0,>=0.10.0\n",
            "  Downloading huggingface_hub-0.11.1-py3-none-any.whl (182 kB)\n",
            "\u001b[K     |████████████████████████████████| 182 kB 61.4 MB/s \n",
            "\u001b[?25hRequirement already satisfied: regex!=2019.12.17 in /usr/local/lib/python3.8/dist-packages (from transformers) (2022.6.2)\n",
            "Collecting tokenizers!=0.11.3,<0.14,>=0.11.1\n",
            "  Downloading tokenizers-0.13.2-cp38-cp38-manylinux_2_17_x86_64.manylinux2014_x86_64.whl (7.6 MB)\n",
            "\u001b[K     |████████████████████████████████| 7.6 MB 50.5 MB/s \n",
            "\u001b[?25hRequirement already satisfied: packaging>=20.0 in /usr/local/lib/python3.8/dist-packages (from transformers) (21.3)\n",
            "Requirement already satisfied: requests in /usr/local/lib/python3.8/dist-packages (from transformers) (2.23.0)\n",
            "Requirement already satisfied: pyyaml>=5.1 in /usr/local/lib/python3.8/dist-packages (from transformers) (6.0)\n",
            "Requirement already satisfied: filelock in /usr/local/lib/python3.8/dist-packages (from transformers) (3.8.0)\n",
            "Requirement already satisfied: tqdm>=4.27 in /usr/local/lib/python3.8/dist-packages (from transformers) (4.64.1)\n",
            "Requirement already satisfied: typing-extensions>=3.7.4.3 in /usr/local/lib/python3.8/dist-packages (from huggingface-hub<1.0,>=0.10.0->transformers) (4.4.0)\n",
            "Requirement already satisfied: pyparsing!=3.0.5,>=2.0.2 in /usr/local/lib/python3.8/dist-packages (from packaging>=20.0->transformers) (3.0.9)\n",
            "Requirement already satisfied: dill<0.3.7 in /usr/local/lib/python3.8/dist-packages (from datasets) (0.3.6)\n",
            "Requirement already satisfied: pyarrow>=6.0.0 in /usr/local/lib/python3.8/dist-packages (from datasets) (9.0.0)\n",
            "Collecting responses<0.19\n",
            "  Downloading responses-0.18.0-py3-none-any.whl (38 kB)\n",
            "Collecting xxhash\n",
            "  Downloading xxhash-3.1.0-cp38-cp38-manylinux_2_17_x86_64.manylinux2014_x86_64.whl (212 kB)\n",
            "\u001b[K     |████████████████████████████████| 212 kB 56.4 MB/s \n",
            "\u001b[?25hRequirement already satisfied: aiohttp in /usr/local/lib/python3.8/dist-packages (from datasets) (3.8.3)\n",
            "Collecting multiprocess\n",
            "  Downloading multiprocess-0.70.14-py38-none-any.whl (132 kB)\n",
            "\u001b[K     |████████████████████████████████| 132 kB 48.2 MB/s \n",
            "\u001b[?25hRequirement already satisfied: fsspec[http]>=2021.11.1 in /usr/local/lib/python3.8/dist-packages (from datasets) (2022.11.0)\n",
            "Requirement already satisfied: pandas in /usr/local/lib/python3.8/dist-packages (from datasets) (1.3.5)\n",
            "Requirement already satisfied: charset-normalizer<3.0,>=2.0 in /usr/local/lib/python3.8/dist-packages (from aiohttp->datasets) (2.1.1)\n",
            "Requirement already satisfied: frozenlist>=1.1.1 in /usr/local/lib/python3.8/dist-packages (from aiohttp->datasets) (1.3.3)\n",
            "Requirement already satisfied: aiosignal>=1.1.2 in /usr/local/lib/python3.8/dist-packages (from aiohttp->datasets) (1.3.1)\n",
            "Requirement already satisfied: attrs>=17.3.0 in /usr/local/lib/python3.8/dist-packages (from aiohttp->datasets) (22.1.0)\n",
            "Requirement already satisfied: yarl<2.0,>=1.0 in /usr/local/lib/python3.8/dist-packages (from aiohttp->datasets) (1.8.2)\n",
            "Requirement already satisfied: async-timeout<5.0,>=4.0.0a3 in /usr/local/lib/python3.8/dist-packages (from aiohttp->datasets) (4.0.2)\n",
            "Requirement already satisfied: multidict<7.0,>=4.5 in /usr/local/lib/python3.8/dist-packages (from aiohttp->datasets) (6.0.3)\n",
            "Requirement already satisfied: certifi>=2017.4.17 in /usr/local/lib/python3.8/dist-packages (from requests->transformers) (2022.9.24)\n",
            "Requirement already satisfied: urllib3!=1.25.0,!=1.25.1,<1.26,>=1.21.1 in /usr/local/lib/python3.8/dist-packages (from requests->transformers) (1.24.3)\n",
            "Requirement already satisfied: chardet<4,>=3.0.2 in /usr/local/lib/python3.8/dist-packages (from requests->transformers) (3.0.4)\n",
            "Requirement already satisfied: idna<3,>=2.5 in /usr/local/lib/python3.8/dist-packages (from requests->transformers) (2.10)\n",
            "Collecting urllib3!=1.25.0,!=1.25.1,<1.26,>=1.21.1\n",
            "  Downloading urllib3-1.25.11-py2.py3-none-any.whl (127 kB)\n",
            "\u001b[K     |████████████████████████████████| 127 kB 67.4 MB/s \n",
            "\u001b[?25hCollecting levenshtein==0.20.2\n",
            "  Downloading Levenshtein-0.20.2-cp38-cp38-manylinux_2_17_x86_64.manylinux2014_x86_64.whl (1.4 MB)\n",
            "\u001b[K     |████████████████████████████████| 1.4 MB 48.0 MB/s \n",
            "\u001b[?25hCollecting rapidfuzz<3.0.0,>=2.3.0\n",
            "  Downloading rapidfuzz-2.13.6-cp38-cp38-manylinux_2_17_x86_64.manylinux2014_x86_64.whl (2.2 MB)\n",
            "\u001b[K     |████████████████████████████████| 2.2 MB 52.3 MB/s \n",
            "\u001b[?25hRequirement already satisfied: pytz>=2017.3 in /usr/local/lib/python3.8/dist-packages (from pandas->datasets) (2022.6)\n",
            "Requirement already satisfied: python-dateutil>=2.7.3 in /usr/local/lib/python3.8/dist-packages (from pandas->datasets) (2.8.2)\n",
            "Requirement already satisfied: six>=1.5 in /usr/local/lib/python3.8/dist-packages (from python-dateutil>=2.7.3->pandas->datasets) (1.15.0)\n",
            "Installing collected packages: urllib3, xxhash, responses, rapidfuzz, multiprocess, huggingface-hub, tokenizers, levenshtein, datasets, transformers, jiwer, evaluate\n",
            "  Attempting uninstall: urllib3\n",
            "    Found existing installation: urllib3 1.24.3\n",
            "    Uninstalling urllib3-1.24.3:\n",
            "      Successfully uninstalled urllib3-1.24.3\n",
            "Successfully installed datasets-2.7.1 evaluate-0.3.0 huggingface-hub-0.11.1 jiwer-2.5.1 levenshtein-0.20.2 multiprocess-0.70.14 rapidfuzz-2.13.6 responses-0.18.0 tokenizers-0.13.2 transformers-4.25.1 urllib3-1.25.11 xxhash-3.1.0\n"
          ]
        }
      ]
    },
    {
      "cell_type": "code",
      "source": [
        "import transformers"
      ],
      "metadata": {
        "id": "0G8xeVYLzlXi"
      },
      "execution_count": 3,
      "outputs": []
    },
    {
      "cell_type": "code",
      "source": [
        "from transformers import Wav2Vec2CTCTokenizer\n",
        "from transformers import Wav2Vec2FeatureExtractor\n",
        "from transformers import Wav2Vec2Processor\n",
        "from transformers import Wav2Vec2ForCTC\n",
        "from transformers import get_scheduler\n",
        "from transformers import AdamW"
      ],
      "metadata": {
        "id": "BduSnmSIzrxv"
      },
      "execution_count": 4,
      "outputs": []
    },
    {
      "cell_type": "code",
      "source": [
        "from jiwer import wer\n",
        "from jiwer import cer"
      ],
      "metadata": {
        "id": "B0P15S63zuRW"
      },
      "execution_count": 5,
      "outputs": []
    },
    {
      "cell_type": "code",
      "source": [
        "import torch\n",
        "import numpy as np\n",
        "import matplotlib.pyplot as plt"
      ],
      "metadata": {
        "id": "4qE-2NCIeb5n"
      },
      "execution_count": 6,
      "outputs": []
    },
    {
      "cell_type": "code",
      "source": [
        "# Get device\n",
        "device = torch.device(\"cuda:0\" if torch.cuda.is_available() else \"cpu\")\n",
        "print(f\"Using {device} device\")"
      ],
      "metadata": {
        "colab": {
          "base_uri": "https://localhost:8080/"
        },
        "id": "SC5eEzMweb8Z",
        "outputId": "f49c6992-8955-49f8-c08f-eb5027a29cdd"
      },
      "execution_count": 7,
      "outputs": [
        {
          "output_type": "stream",
          "name": "stdout",
          "text": [
            "Using cuda:0 device\n"
          ]
        }
      ]
    },
    {
      "cell_type": "code",
      "source": [
        "!nvidia-smi -L"
      ],
      "metadata": {
        "colab": {
          "base_uri": "https://localhost:8080/"
        },
        "id": "Yqye4Mn9eb-4",
        "outputId": "89e6c98f-e421-498a-acae-a0a6dfe0a65c"
      },
      "execution_count": 8,
      "outputs": [
        {
          "output_type": "stream",
          "name": "stdout",
          "text": [
            "GPU 0: Tesla T4 (UUID: GPU-a3b73adc-1869-aaea-2758-b7ce441c1451)\n"
          ]
        }
      ]
    },
    {
      "cell_type": "code",
      "source": [
        "# Set torch random seed \n",
        "torch.manual_seed(42)\n",
        "np.random.seed(42)\n",
        "torch.backends.cudnn.enabled = False\n",
        "torch.backends.cudnn.deterministic = True"
      ],
      "metadata": {
        "id": "JVK95SuYecBm"
      },
      "execution_count": 9,
      "outputs": []
    },
    {
      "cell_type": "code",
      "source": [
        "!pip install torchaudio"
      ],
      "metadata": {
        "colab": {
          "base_uri": "https://localhost:8080/"
        },
        "id": "hsu9aankecD9",
        "outputId": "defc56f9-91ff-4ffd-c09b-b232fbfa4ef3"
      },
      "execution_count": 10,
      "outputs": [
        {
          "output_type": "stream",
          "name": "stdout",
          "text": [
            "Looking in indexes: https://pypi.org/simple, https://us-python.pkg.dev/colab-wheels/public/simple/\n",
            "Requirement already satisfied: torchaudio in /usr/local/lib/python3.8/dist-packages (0.13.0+cu116)\n",
            "Requirement already satisfied: torch==1.13.0 in /usr/local/lib/python3.8/dist-packages (from torchaudio) (1.13.0+cu116)\n",
            "Requirement already satisfied: typing-extensions in /usr/local/lib/python3.8/dist-packages (from torch==1.13.0->torchaudio) (4.4.0)\n"
          ]
        }
      ]
    },
    {
      "cell_type": "code",
      "source": [
        "import os\n",
        "\n",
        "import IPython\n",
        "import requests\n",
        "import torchaudio\n",
        "from IPython.display import Audio, display"
      ],
      "metadata": {
        "id": "odOpVkZ-ecGn"
      },
      "execution_count": 11,
      "outputs": []
    },
    {
      "cell_type": "code",
      "source": [
        "DR_VCTK_DATASET_PATH = \"./DR-VCTK/\""
      ],
      "metadata": {
        "id": "nOYp1inDfLkq"
      },
      "execution_count": 12,
      "outputs": []
    },
    {
      "cell_type": "code",
      "source": [
        "os.makedirs(DR_VCTK_DATASET_PATH, exist_ok=True)\n",
        "print(DR_VCTK_DATASET_PATH)"
      ],
      "metadata": {
        "colab": {
          "base_uri": "https://localhost:8080/"
        },
        "id": "lJe3m_IyfL-X",
        "outputId": "4dd01185-b599-447e-8e01-a4de55f29926"
      },
      "execution_count": 13,
      "outputs": [
        {
          "output_type": "stream",
          "name": "stdout",
          "text": [
            "./DR-VCTK/\n"
          ]
        }
      ]
    },
    {
      "cell_type": "code",
      "source": [
        "!unzip \"/content/drive/My Drive/DLS_Project/Dataset/DR-VCTK/DR-VCTK.zip\" -d \"./DR-VCTK\""
      ],
      "metadata": {
        "id": "ZqejSZSkecJH"
      },
      "execution_count": null,
      "outputs": []
    },
    {
      "cell_type": "code",
      "source": [
        "# Getting precomputed transcript mapping\n",
        "import pickle\n",
        "from google.colab import files\n",
        "\n",
        "with open('./final_w2v_transcript_dictionary2.pkl', 'rb') as f:\n",
        "    speaker_utterance_final = pickle.load(f)"
      ],
      "metadata": {
        "id": "kiZmZJP_ekth"
      },
      "execution_count": 15,
      "outputs": []
    },
    {
      "cell_type": "code",
      "source": [
        "drvctk_train_dataset = torchaudio.datasets.DR_VCTK(DR_VCTK_DATASET_PATH, subset='train',download=False)"
      ],
      "metadata": {
        "id": "9wkFiFC7ekwL"
      },
      "execution_count": 16,
      "outputs": []
    },
    {
      "cell_type": "code",
      "source": [
        "drvctk_test_dataset = torchaudio.datasets.DR_VCTK(DR_VCTK_DATASET_PATH, subset='test',download=False)"
      ],
      "metadata": {
        "id": "yMPm_wgteky4"
      },
      "execution_count": 17,
      "outputs": []
    },
    {
      "cell_type": "code",
      "source": [
        "print(len(drvctk_train_dataset))\n",
        "print(len(drvctk_test_dataset))"
      ],
      "metadata": {
        "colab": {
          "base_uri": "https://localhost:8080/"
        },
        "id": "rgytKWkpek1E",
        "outputId": "d00cdbbb-a788-4639-a8b3-32fd7b8e059a"
      },
      "execution_count": 18,
      "outputs": [
        {
          "output_type": "stream",
          "name": "stdout",
          "text": [
            "11572\n",
            "824\n"
          ]
        }
      ]
    },
    {
      "cell_type": "code",
      "source": [
        "import re\n",
        "import json\n",
        "import os\n",
        "import random"
      ],
      "metadata": {
        "id": "9_uMyDRxie8M"
      },
      "execution_count": 19,
      "outputs": []
    },
    {
      "cell_type": "code",
      "source": [
        "import pandas as pd\n",
        "import numpy as np"
      ],
      "metadata": {
        "id": "gprQIJ0qif9B"
      },
      "execution_count": 20,
      "outputs": []
    },
    {
      "cell_type": "code",
      "source": [
        "bundle = torchaudio.pipelines.WAV2VEC2_ASR_BASE_960H\n",
        "labels = list(bundle.get_labels())\n",
        "print(labels)"
      ],
      "metadata": {
        "colab": {
          "base_uri": "https://localhost:8080/"
        },
        "id": "0KsE4O6Yeyba",
        "outputId": "7694948f-4046-4eb2-eb40-d898f8371f93"
      },
      "execution_count": 21,
      "outputs": [
        {
          "output_type": "stream",
          "name": "stdout",
          "text": [
            "['-', '|', 'E', 'T', 'A', 'O', 'N', 'I', 'H', 'S', 'R', 'D', 'L', 'U', 'M', 'W', 'C', 'F', 'G', 'Y', 'P', 'B', 'V', 'K', \"'\", 'X', 'J', 'Q', 'Z']\n"
          ]
        }
      ]
    },
    {
      "cell_type": "code",
      "source": [
        "pre_vocab = {}\n",
        "\n",
        "pre_vocab[\"\"] = 0\n",
        "pre_vocab[\"+\"] = 1\n",
        "pre_vocab[\"}\"] = 2\n",
        "pre_vocab[\"?\"] = 3\n",
        "\n",
        "\n",
        "for char_i in range(1,len(labels)):\n",
        "  pre_vocab[labels[char_i]] = char_i+3\n",
        "\n",
        "print(pre_vocab)"
      ],
      "metadata": {
        "colab": {
          "base_uri": "https://localhost:8080/"
        },
        "id": "NiGIlWJ1eyfB",
        "outputId": "91fee3fe-aef4-4b66-8b35-b11df7476995"
      },
      "execution_count": 22,
      "outputs": [
        {
          "output_type": "stream",
          "name": "stdout",
          "text": [
            "{'': 0, '+': 1, '}': 2, '?': 3, '|': 4, 'E': 5, 'T': 6, 'A': 7, 'O': 8, 'N': 9, 'I': 10, 'H': 11, 'S': 12, 'R': 13, 'D': 14, 'L': 15, 'U': 16, 'M': 17, 'W': 18, 'C': 19, 'F': 20, 'G': 21, 'Y': 22, 'P': 23, 'B': 24, 'V': 25, 'K': 26, \"'\": 27, 'X': 28, 'J': 29, 'Q': 30, 'Z': 31}\n"
          ]
        }
      ]
    },
    {
      "cell_type": "code",
      "source": [
        "with open('./vocab.json', 'w') as vocab_file:\n",
        "    json.dump(pre_vocab, vocab_file)"
      ],
      "metadata": {
        "id": "IuAVdkvYe0xR"
      },
      "execution_count": 23,
      "outputs": []
    },
    {
      "cell_type": "code",
      "source": [
        "clean_train_audio_path = '/content/DR-VCTK/DR-VCTK/DR-VCTK/clean_trainset_wav_16k/' \n",
        "noisy_train_audio_path = '/content/DR-VCTK/DR-VCTK/DR-VCTK/device-recorded_trainset_wav_16k/' \n",
        "clean_test_audio_path = '/content/DR-VCTK/DR-VCTK/DR-VCTK/clean_testset_wav_16k/' \n",
        "noisy_test_audio_path = '/content/DR-VCTK/DR-VCTK/DR-VCTK/device-recorded_testset_wav_16k/' "
      ],
      "metadata": {
        "id": "FWY4AuhGlsgb"
      },
      "execution_count": 24,
      "outputs": []
    },
    {
      "cell_type": "code",
      "source": [
        "clean_train_df_dict = {\"id\":[], \"path\":[], \"sentence\":[]}\n",
        "noisy_train_df_dict = {\"id\":[], \"path\":[], \"sentence\":[]}\n",
        "clean_test_df_dict = {\"id\":[], \"path\":[], \"sentence\":[]}\n",
        "noisy_test_df_dict = {\"id\":[], \"path\":[], \"sentence\":[]}\n",
        "\n",
        "for sample_id, sample in enumerate(drvctk_train_dataset):\n",
        "  clean_waveform, clean_waveform_sample_rate, noisy_waveform, noisy_waveform_sample_rate, speaker_id, utterance_id, source, channel_id = sample\n",
        "\n",
        "  file_name = speaker_id+\"_\"+utterance_id+\".wav\"\n",
        "  \n",
        "\n",
        "  sample_transcript = speaker_utterance_final[speaker_id][utterance_id]\n",
        "\n",
        "  sample_transcript = (sample_transcript.replace('|', ' ')).rstrip()\n",
        "\n",
        "  clean_train_df_dict[\"id\"].append(sample_id)\n",
        "  clean_train_df_dict[\"path\"].append(os.path.join(clean_train_audio_path, file_name))\n",
        "  clean_train_df_dict[\"sentence\"].append(sample_transcript)\n",
        "\n",
        "  noisy_train_df_dict[\"id\"].append(sample_id)\n",
        "  noisy_train_df_dict[\"path\"].append(os.path.join(noisy_train_audio_path, file_name))\n",
        "  noisy_train_df_dict[\"sentence\"].append(sample_transcript)\n",
        "\n",
        "for sample_id, sample in enumerate(drvctk_test_dataset):\n",
        "  clean_waveform, clean_waveform_sample_rate, noisy_waveform, noisy_waveform_sample_rate, speaker_id, utterance_id, source, channel_id = sample\n",
        "\n",
        "  file_name = speaker_id+\"_\"+utterance_id+\".wav\"\n",
        "  \n",
        "  sample_transcript = speaker_utterance_final[speaker_id][utterance_id]\n",
        " \n",
        "  sample_transcript = (sample_transcript.replace('|', ' ')).rstrip()\n",
        "  \n",
        "  clean_test_df_dict[\"id\"].append(sample_id)\n",
        "  clean_test_df_dict[\"path\"].append(os.path.join(clean_test_audio_path, file_name))\n",
        "  clean_test_df_dict[\"sentence\"].append(sample_transcript)\n",
        "\n",
        "  noisy_test_df_dict[\"id\"].append(sample_id)\n",
        "  noisy_test_df_dict[\"path\"].append(os.path.join(noisy_test_audio_path, file_name))\n",
        "  noisy_test_df_dict[\"sentence\"].append(sample_transcript)\n",
        "\n",
        "clean_train_df = pd.DataFrame.from_dict(clean_train_df_dict)\n",
        "noisy_train_df = pd.DataFrame.from_dict(noisy_train_df_dict)\n",
        "clean_test_df = pd.DataFrame.from_dict(clean_test_df_dict)\n",
        "noisy_test_df = pd.DataFrame.from_dict(noisy_test_df_dict)\n"
      ],
      "metadata": {
        "id": "_UiO_Djek3U9"
      },
      "execution_count": 25,
      "outputs": []
    },
    {
      "cell_type": "code",
      "source": [
        "clean_test_df.head()"
      ],
      "metadata": {
        "colab": {
          "base_uri": "https://localhost:8080/",
          "height": 206
        },
        "id": "TxdTEfcVk3YD",
        "outputId": "7a545b4f-4e89-42f2-cddf-cf766b1aff18"
      },
      "execution_count": 26,
      "outputs": [
        {
          "output_type": "execute_result",
          "data": {
            "text/plain": [
              "   id                                               path  \\\n",
              "0   0  /content/DR-VCTK/DR-VCTK/DR-VCTK/clean_testset...   \n",
              "1   1  /content/DR-VCTK/DR-VCTK/DR-VCTK/clean_testset...   \n",
              "2   2  /content/DR-VCTK/DR-VCTK/DR-VCTK/clean_testset...   \n",
              "3   3  /content/DR-VCTK/DR-VCTK/DR-VCTK/clean_testset...   \n",
              "4   4  /content/DR-VCTK/DR-VCTK/DR-VCTK/clean_testset...   \n",
              "\n",
              "                                            sentence  \n",
              "0                                 PLEASE CALL STELLA  \n",
              "1  ASK HER TO BRING THESE THINGS WITH HER FROM TH...  \n",
              "2  SIX SPOONS OF FRESH SNOW PEAS FIVE THICK SLABS...  \n",
              "3  SHE CAN SCOOP THESE THINGS INTO THREE RED BAGS...  \n",
              "4  WHEN THE SUNLIGHT STRIKES RAINDROPS IN THE AIR...  "
            ],
            "text/html": [
              "\n",
              "  <div id=\"df-6a24e350-aa83-43e5-b989-6673699f5274\">\n",
              "    <div class=\"colab-df-container\">\n",
              "      <div>\n",
              "<style scoped>\n",
              "    .dataframe tbody tr th:only-of-type {\n",
              "        vertical-align: middle;\n",
              "    }\n",
              "\n",
              "    .dataframe tbody tr th {\n",
              "        vertical-align: top;\n",
              "    }\n",
              "\n",
              "    .dataframe thead th {\n",
              "        text-align: right;\n",
              "    }\n",
              "</style>\n",
              "<table border=\"1\" class=\"dataframe\">\n",
              "  <thead>\n",
              "    <tr style=\"text-align: right;\">\n",
              "      <th></th>\n",
              "      <th>id</th>\n",
              "      <th>path</th>\n",
              "      <th>sentence</th>\n",
              "    </tr>\n",
              "  </thead>\n",
              "  <tbody>\n",
              "    <tr>\n",
              "      <th>0</th>\n",
              "      <td>0</td>\n",
              "      <td>/content/DR-VCTK/DR-VCTK/DR-VCTK/clean_testset...</td>\n",
              "      <td>PLEASE CALL STELLA</td>\n",
              "    </tr>\n",
              "    <tr>\n",
              "      <th>1</th>\n",
              "      <td>1</td>\n",
              "      <td>/content/DR-VCTK/DR-VCTK/DR-VCTK/clean_testset...</td>\n",
              "      <td>ASK HER TO BRING THESE THINGS WITH HER FROM TH...</td>\n",
              "    </tr>\n",
              "    <tr>\n",
              "      <th>2</th>\n",
              "      <td>2</td>\n",
              "      <td>/content/DR-VCTK/DR-VCTK/DR-VCTK/clean_testset...</td>\n",
              "      <td>SIX SPOONS OF FRESH SNOW PEAS FIVE THICK SLABS...</td>\n",
              "    </tr>\n",
              "    <tr>\n",
              "      <th>3</th>\n",
              "      <td>3</td>\n",
              "      <td>/content/DR-VCTK/DR-VCTK/DR-VCTK/clean_testset...</td>\n",
              "      <td>SHE CAN SCOOP THESE THINGS INTO THREE RED BAGS...</td>\n",
              "    </tr>\n",
              "    <tr>\n",
              "      <th>4</th>\n",
              "      <td>4</td>\n",
              "      <td>/content/DR-VCTK/DR-VCTK/DR-VCTK/clean_testset...</td>\n",
              "      <td>WHEN THE SUNLIGHT STRIKES RAINDROPS IN THE AIR...</td>\n",
              "    </tr>\n",
              "  </tbody>\n",
              "</table>\n",
              "</div>\n",
              "      <button class=\"colab-df-convert\" onclick=\"convertToInteractive('df-6a24e350-aa83-43e5-b989-6673699f5274')\"\n",
              "              title=\"Convert this dataframe to an interactive table.\"\n",
              "              style=\"display:none;\">\n",
              "        \n",
              "  <svg xmlns=\"http://www.w3.org/2000/svg\" height=\"24px\"viewBox=\"0 0 24 24\"\n",
              "       width=\"24px\">\n",
              "    <path d=\"M0 0h24v24H0V0z\" fill=\"none\"/>\n",
              "    <path d=\"M18.56 5.44l.94 2.06.94-2.06 2.06-.94-2.06-.94-.94-2.06-.94 2.06-2.06.94zm-11 1L8.5 8.5l.94-2.06 2.06-.94-2.06-.94L8.5 2.5l-.94 2.06-2.06.94zm10 10l.94 2.06.94-2.06 2.06-.94-2.06-.94-.94-2.06-.94 2.06-2.06.94z\"/><path d=\"M17.41 7.96l-1.37-1.37c-.4-.4-.92-.59-1.43-.59-.52 0-1.04.2-1.43.59L10.3 9.45l-7.72 7.72c-.78.78-.78 2.05 0 2.83L4 21.41c.39.39.9.59 1.41.59.51 0 1.02-.2 1.41-.59l7.78-7.78 2.81-2.81c.8-.78.8-2.07 0-2.86zM5.41 20L4 18.59l7.72-7.72 1.47 1.35L5.41 20z\"/>\n",
              "  </svg>\n",
              "      </button>\n",
              "      \n",
              "  <style>\n",
              "    .colab-df-container {\n",
              "      display:flex;\n",
              "      flex-wrap:wrap;\n",
              "      gap: 12px;\n",
              "    }\n",
              "\n",
              "    .colab-df-convert {\n",
              "      background-color: #E8F0FE;\n",
              "      border: none;\n",
              "      border-radius: 50%;\n",
              "      cursor: pointer;\n",
              "      display: none;\n",
              "      fill: #1967D2;\n",
              "      height: 32px;\n",
              "      padding: 0 0 0 0;\n",
              "      width: 32px;\n",
              "    }\n",
              "\n",
              "    .colab-df-convert:hover {\n",
              "      background-color: #E2EBFA;\n",
              "      box-shadow: 0px 1px 2px rgba(60, 64, 67, 0.3), 0px 1px 3px 1px rgba(60, 64, 67, 0.15);\n",
              "      fill: #174EA6;\n",
              "    }\n",
              "\n",
              "    [theme=dark] .colab-df-convert {\n",
              "      background-color: #3B4455;\n",
              "      fill: #D2E3FC;\n",
              "    }\n",
              "\n",
              "    [theme=dark] .colab-df-convert:hover {\n",
              "      background-color: #434B5C;\n",
              "      box-shadow: 0px 1px 3px 1px rgba(0, 0, 0, 0.15);\n",
              "      filter: drop-shadow(0px 1px 2px rgba(0, 0, 0, 0.3));\n",
              "      fill: #FFFFFF;\n",
              "    }\n",
              "  </style>\n",
              "\n",
              "      <script>\n",
              "        const buttonEl =\n",
              "          document.querySelector('#df-6a24e350-aa83-43e5-b989-6673699f5274 button.colab-df-convert');\n",
              "        buttonEl.style.display =\n",
              "          google.colab.kernel.accessAllowed ? 'block' : 'none';\n",
              "\n",
              "        async function convertToInteractive(key) {\n",
              "          const element = document.querySelector('#df-6a24e350-aa83-43e5-b989-6673699f5274');\n",
              "          const dataTable =\n",
              "            await google.colab.kernel.invokeFunction('convertToInteractive',\n",
              "                                                     [key], {});\n",
              "          if (!dataTable) return;\n",
              "\n",
              "          const docLinkHtml = 'Like what you see? Visit the ' +\n",
              "            '<a target=\"_blank\" href=https://colab.research.google.com/notebooks/data_table.ipynb>data table notebook</a>'\n",
              "            + ' to learn more about interactive tables.';\n",
              "          element.innerHTML = '';\n",
              "          dataTable['output_type'] = 'display_data';\n",
              "          await google.colab.output.renderOutput(dataTable, element);\n",
              "          const docLink = document.createElement('div');\n",
              "          docLink.innerHTML = docLinkHtml;\n",
              "          element.appendChild(docLink);\n",
              "        }\n",
              "      </script>\n",
              "    </div>\n",
              "  </div>\n",
              "  "
            ]
          },
          "metadata": {},
          "execution_count": 26
        }
      ]
    },
    {
      "cell_type": "code",
      "source": [
        "# Set Hyperparameters\n",
        "batch_size = 20\n",
        "n_epochs = 20\n",
        "learning_rate = .00005"
      ],
      "metadata": {
        "id": "wyD6q1bBNK4O"
      },
      "execution_count": 28,
      "outputs": []
    },
    {
      "cell_type": "code",
      "source": [
        "model_name = \"my_fine_tuned_wave2vec_model\"\n",
        "model_save_path = \"/content/drive/My Drive/DLS_Project/\"\n",
        "os.makedirs(model_save_path, exist_ok=True)"
      ],
      "metadata": {
        "id": "NJ89uk_cNMiF"
      },
      "execution_count": 27,
      "outputs": []
    },
    {
      "cell_type": "code",
      "source": [
        "tokenizer = Wav2Vec2CTCTokenizer(\"./vocab.json\", unk_token=\"?\", pad_token=\"+\", word_delimiter_token=\"|\")\n",
        "feature_extractor = Wav2Vec2FeatureExtractor(feature_size=1, sampling_rate=16000, padding_value=0.0, do_normalize=True, return_attention_mask=True)\n",
        "processor = Wav2Vec2Processor(feature_extractor=feature_extractor, tokenizer=tokenizer)"
      ],
      "metadata": {
        "id": "s5NqBwa4nSji"
      },
      "execution_count": 29,
      "outputs": []
    },
    {
      "cell_type": "code",
      "source": [
        "class MyDataset(torch.utils.data.Dataset):\n",
        "  def __init__(self, df, processor):\n",
        "    self.df = df\n",
        "    self.processor = processor\n",
        "  \n",
        "  def __len__(self):\n",
        "    return len(self.df)\n",
        "\n",
        "  def __getitem__(self, idx):\n",
        "    sp_arr, sr = torchaudio.load(self.df[\"path\"][idx])\n",
        "    sp_arr = sp_arr[0]\n",
        "\n",
        "\n",
        "    X = torch.tensor(self.processor(sp_arr, sampling_rate=16000).input_values[0])\n",
        "\n",
        "    with self.processor.as_target_processor():\n",
        "      Y = torch.tensor(self.processor(self.df[\"sentence\"][idx]).input_ids)\n",
        "\n",
        "      \n",
        "    return {\"input_values\":X, \"labels\":Y}"
      ],
      "metadata": {
        "id": "X4iIh0etnSmD"
      },
      "execution_count": 30,
      "outputs": []
    },
    {
      "cell_type": "code",
      "source": [
        "clean_train_dataset = MyDataset(clean_train_df, processor) \n",
        "noisy_train_dataset = MyDataset(noisy_train_df, processor) \n",
        "clean_test_dataset = MyDataset(clean_test_df, processor) \n",
        "noisy_test_dataset = MyDataset(noisy_test_df, processor) "
      ],
      "metadata": {
        "id": "V5y_4c6FnSoo"
      },
      "execution_count": 31,
      "outputs": []
    },
    {
      "cell_type": "code",
      "source": [
        "def collate_function(batch, processor, padding=True, max_length=None, max_length_labels=None, pad_to_multiple_of=None, pad_to_multiple_of_labels=None):\n",
        "\n",
        "  b_X = [{\"input_values\": sample[\"input_values\"]} for sample in batch]\n",
        "\n",
        "  b_Y = [{\"input_ids\": sample[\"labels\"]} for sample in batch]\n",
        "\n",
        "  features = processor.pad(\n",
        "            b_X,\n",
        "            padding=padding,\n",
        "            max_length=max_length,\n",
        "            pad_to_multiple_of=pad_to_multiple_of,\n",
        "            return_tensors=\"pt\"\n",
        "        ) \n",
        "  \n",
        "  with processor.as_target_processor():\n",
        "\n",
        "    batchY = processor.pad(\n",
        "        b_Y,\n",
        "        padding=padding,\n",
        "        max_length=max_length_labels,\n",
        "        pad_to_multiple_of=pad_to_multiple_of_labels,\n",
        "        return_tensors=\"pt\"\n",
        "    )\n",
        "\n",
        "  labels = batchY[\"input_ids\"].masked_fill(batchY.attention_mask.ne(1), -100)\n",
        "\n",
        "  features[\"labels\"] = labels\n",
        "  \n",
        "  return features\n"
      ],
      "metadata": {
        "id": "ON89i64upIgv"
      },
      "execution_count": 32,
      "outputs": []
    },
    {
      "cell_type": "code",
      "source": [
        "from functools import partial\n",
        "\n",
        "collate_fn = partial(collate_function, processor=processor, padding=True, max_length=None, \n",
        "                     max_length_labels=None, pad_to_multiple_of=None, pad_to_multiple_of_labels=None)"
      ],
      "metadata": {
        "id": "E4xU64eHpR5D"
      },
      "execution_count": 33,
      "outputs": []
    },
    {
      "cell_type": "code",
      "source": [
        "clean_train_dataloader = torch.utils.data.DataLoader(clean_train_dataset, batch_size=batch_size, shuffle=True, collate_fn=collate_fn)\n",
        "noisy_train_dataloader = torch.utils.data.DataLoader(noisy_train_dataset, batch_size=batch_size, shuffle=True, collate_fn=collate_fn)\n",
        "clean_test_dataloader = torch.utils.data.DataLoader(clean_test_dataset, batch_size=batch_size, shuffle=False, collate_fn=collate_fn)\n",
        "noisy_test_dataloader = torch.utils.data.DataLoader(noisy_test_dataset, batch_size=batch_size, shuffle=False, collate_fn=collate_fn)"
      ],
      "metadata": {
        "id": "XuosiPZBpImC"
      },
      "execution_count": 34,
      "outputs": []
    },
    {
      "cell_type": "code",
      "source": [
        "clean_test_dataloader = torch.utils.data.DataLoader(clean_test_dataset, batch_size=1, shuffle=False, collate_fn=collate_fn)\n",
        "noisy_test_dataloader = torch.utils.data.DataLoader(noisy_test_dataset, batch_size=1, shuffle=False, collate_fn=collate_fn)"
      ],
      "metadata": {
        "id": "e5GCodU50FmF"
      },
      "execution_count": 35,
      "outputs": []
    },
    {
      "cell_type": "code",
      "source": [
        "# model = Wav2Vec2ForCTC.from_pretrained(\n",
        "#     \"facebook/wav2vec2-base-960h\",\n",
        "#     gradient_checkpointing=True,\n",
        "#     ctc_loss_reduction=\"mean\",\n",
        "#     pad_token_id=processor.tokenizer.pad_token_id,\n",
        "#     vocab_size=len(processor.tokenizer)\n",
        "# )\n",
        "\n",
        "# Have a model saved!\n",
        "model = torch.load(\"/content/drive/My Drive/DLS_Project/my_fine_tuned_wave2vec_model.pt\")"
      ],
      "metadata": {
        "id": "qAJZa26bpalF"
      },
      "execution_count": 36,
      "outputs": []
    },
    {
      "cell_type": "code",
      "source": [
        "processor = processor.from_pretrained(\n",
        "    \"/content/drive/My Drive/DLS_Project/my_fine_tuned_wave2vec_model_vocab\"\n",
        ")"
      ],
      "metadata": {
        "colab": {
          "base_uri": "https://localhost:8080/"
        },
        "id": "-e-CcYOIxQWF",
        "outputId": "2760c73e-3a7c-4149-ec04-3bfad0c8971d"
      },
      "execution_count": 37,
      "outputs": [
        {
          "output_type": "stream",
          "name": "stderr",
          "text": [
            "Special tokens have been added in the vocabulary, make sure the associated word embeddings are fine-tuned or trained.\n"
          ]
        }
      ]
    },
    {
      "cell_type": "code",
      "source": [
        "model.freeze_feature_extractor()"
      ],
      "metadata": {
        "colab": {
          "base_uri": "https://localhost:8080/"
        },
        "id": "kIT70N3Opanr",
        "outputId": "fa4b58eb-75ec-445e-b89c-a8f99cf602ab"
      },
      "execution_count": 38,
      "outputs": [
        {
          "output_type": "stream",
          "name": "stderr",
          "text": [
            "/usr/local/lib/python3.8/dist-packages/transformers/models/wav2vec2/modeling_wav2vec2.py:1635: FutureWarning: The method `freeze_feature_extractor` is deprecated and will be removed in Transformers v5.Please use the equivalent `freeze_feature_encoder` method instead.\n",
            "  warnings.warn(\n"
          ]
        }
      ]
    },
    {
      "cell_type": "code",
      "source": [
        "optimizer = AdamW(model.parameters(), lr=learning_rate)"
      ],
      "metadata": {
        "colab": {
          "base_uri": "https://localhost:8080/"
        },
        "id": "gd6kApniPFVG",
        "outputId": "60c35e42-9656-4819-b1e5-3fef979f13dd"
      },
      "execution_count": 39,
      "outputs": [
        {
          "output_type": "stream",
          "name": "stderr",
          "text": [
            "/usr/local/lib/python3.8/dist-packages/transformers/optimization.py:306: FutureWarning: This implementation of AdamW is deprecated and will be removed in a future version. Use the PyTorch implementation torch.optim.AdamW instead, or set `no_deprecation_warning=True` to disable this warning\n",
            "  warnings.warn(\n"
          ]
        }
      ]
    },
    {
      "cell_type": "code",
      "source": [
        "lr_scheduler = get_scheduler(\n",
        "    \"linear\",\n",
        "    optimizer=optimizer,\n",
        "    num_warmup_steps=0,\n",
        "    num_training_steps=n_epochs*len(clean_train_dataloader)\n",
        ")"
      ],
      "metadata": {
        "id": "VasmxdDDPFYA"
      },
      "execution_count": 40,
      "outputs": []
    },
    {
      "cell_type": "code",
      "source": [
        "scaler = torch.cuda.amp.GradScaler()"
      ],
      "metadata": {
        "id": "01AGruBjPFbW"
      },
      "execution_count": 41,
      "outputs": []
    },
    {
      "cell_type": "code",
      "source": [
        "model = model.to(device)"
      ],
      "metadata": {
        "id": "697Lcp1GPucl"
      },
      "execution_count": 42,
      "outputs": []
    },
    {
      "cell_type": "code",
      "source": [
        "test_losses = 0\n",
        "wer_results = []\n",
        "cer_results = []\n",
        "model.eval()\n",
        "with torch.no_grad():\n",
        "  for batch_idx, data in enumerate(clean_train_dataloader):\n",
        "\n",
        "    batch = {k: v.to(device) for k, v in data.items()}\n",
        "\n",
        "    with torch.cuda.amp.autocast():\n",
        "      outputs = model(**batch)\n",
        "\n",
        "    loss = outputs.loss\n",
        "\n",
        "    test_losses += loss.item()\n",
        "\n",
        "    preds = outputs.logits\n",
        "\n",
        "    labels = data[\"labels\"]\n",
        "\n",
        "    preds = torch.argmax(preds, axis=-1)\n",
        "\n",
        "    labels[labels == -100] = processor.tokenizer.pad_token_id\n",
        "\n",
        "    pred_str = processor.batch_decode(preds)\n",
        "\n",
        "    label_str = processor.batch_decode(labels, group_tokens=False)\n",
        "\n",
        "    wer_results.append(wer(label_str, pred_str))\n",
        "\n",
        "    cer_results.append(cer(label_str, pred_str))\n",
        "\n",
        "print(\"Test Loss: {}\".format(test_losses / len(drvctk_train_dataset)))\n",
        "print(\"Initial WER for Pretrained model: {}\".format(np.mean(wer_results)))   \n",
        "print(\"Initial CER for Pretrained model: {}\".format(np.mean(cer_results))) \n"
      ],
      "metadata": {
        "colab": {
          "base_uri": "https://localhost:8080/"
        },
        "id": "1EQYLO9lP7oO",
        "outputId": "f27d6392-0187-47e9-dcc5-4673cb155d07"
      },
      "execution_count": 63,
      "outputs": [
        {
          "output_type": "stream",
          "name": "stdout",
          "text": [
            "Test Loss: inf\n",
            "Initial WER for Pretrained model: 0.25310458291366517\n",
            "Initial CER for Pretrained model: 0.16060797086570297\n"
          ]
        }
      ]
    },
    {
      "cell_type": "code",
      "source": [
        "# save initial model\n",
        "torch.save(model, os.path.join(model_save_path, model_name+\".pt\"))\n",
        "processor.save_pretrained(os.path.join(model_save_path, model_name+\"_vocab\"))"
      ],
      "metadata": {
        "id": "9juiS_ScS9C5"
      },
      "execution_count": 64,
      "outputs": []
    },
    {
      "cell_type": "code",
      "source": [
        "import numpy as np\n",
        "\n",
        "# Results of Training\n",
        "epoch_losses = []\n",
        "epoch_wer_list= []\n",
        "epoch_cer_list = []\n",
        "epoch_last_batch_losses= []\n",
        "\n",
        "Training_Result = (epoch_losses, epoch_wer_list, epoch_cer_list)\n"
      ],
      "metadata": {
        "id": "G6QVs9n2S9F0"
      },
      "execution_count": 65,
      "outputs": []
    },
    {
      "cell_type": "code",
      "source": [
        "import copy\n",
        "\n",
        "# Train Function\n",
        "def train(Training_Result_p):\n",
        "\n",
        "  epoch_losses, epoch_wer_list, epoch_cer_list = Training_Result_p\n",
        "\n",
        "  # Train parameters\n",
        "  epoch = 1 # starting epoch\n",
        "  \n",
        "  print(\"Training model\")\n",
        "\n",
        "  bst_wers = 10000\n",
        "\n",
        "  while ((epoch <= n_epochs)):\n",
        "    \n",
        "    # Training\n",
        "    model.train()\n",
        "    train_loss = 0 # calc train loss \n",
        "    last_batch_loss = 0\n",
        "    train_wers = []\n",
        "    train_cers= []\n",
        "    for batch_idx, data in enumerate(clean_train_dataloader):\n",
        "\n",
        "      # move inputs to device\n",
        "      batch = {k: v.to(device) for k, v in data.items()}\n",
        "\n",
        "      with torch.cuda.amp.autocast():\n",
        "        outputs = model(**batch)\n",
        "      loss = outputs.loss\n",
        "\n",
        "      train_loss += loss.item()\n",
        "      last_batch_loss = loss.item()\n",
        "\n",
        "      # Backward and optimize\n",
        "      optimizer.zero_grad()\n",
        "\n",
        "      scaler.scale(loss).backward()\n",
        "\n",
        "      scaler.step(optimizer)\n",
        "\n",
        "      scaler.update()\n",
        "\n",
        "      lr_scheduler.step()\n",
        "\n",
        "      preds = outputs.logits\n",
        "\n",
        "      labels = data[\"labels\"]\n",
        "\n",
        "      preds = torch.argmax(preds, axis=-1)\n",
        "\n",
        "      labels[labels == -100] = processor.tokenizer.pad_token_id\n",
        "\n",
        "      pred_str = processor.batch_decode(preds)\n",
        "\n",
        "      label_str = processor.batch_decode(labels, group_tokens=False)\n",
        "\n",
        "      train_wers.append(wer(label_str, pred_str))\n",
        "\n",
        "      train_cers.append(cer(label_str, pred_str))\n",
        "    \n",
        "    epoch_wer_list.append(np.mean(train_wers))\n",
        "\n",
        "    epoch_cer_list.append(np.mean(train_cers))\n",
        "\n",
        "    epoch_losses.append(train_loss / len(drvctk_train_dataset))\n",
        "\n",
        "    # Logging\n",
        "    print(\"Epoch: {}, Total Training Loss: {}, Batch Loss: {}, Epoch WER: {}, Epoch CER: {} \\n \".format(epoch, train_loss / len(drvctk_train_dataset),last_batch_loss, np.mean(train_wers), np.mean(train_cers)))\n",
        "    # increment epoch\n",
        "    epoch += 1\n",
        "\n",
        "    if np.mean(train_wers) < bst_wers:\n",
        "\n",
        "      bst_wers = np.mean(train_wers)\n",
        "      \n",
        "      torch.save(model, os.path.join(model_save_path, model_name+\".pt\"))\n",
        "      processor.save_pretrained(os.path.join(model_save_path, model_name+\"_vocab\"))\n",
        "\n",
        "  \n",
        "  print(\"Training Finished!\")\n",
        "  Training_Return = (epoch_losses, epoch_wer_list, epoch_cer_list)\n",
        "  return Training_Return"
      ],
      "metadata": {
        "id": "186wOBUcS9I9"
      },
      "execution_count": 66,
      "outputs": []
    },
    {
      "cell_type": "code",
      "source": [
        "\n",
        "res = train(Training_Result)\n",
        "\n",
        "epoch_losses, epoch_wer_list, epoch_cer_list = res"
      ],
      "metadata": {
        "colab": {
          "base_uri": "https://localhost:8080/"
        },
        "id": "cpRkMvZMS9ME",
        "outputId": "b6a4408e-ad8d-4028-f7be-5714e22c23b8"
      },
      "execution_count": 67,
      "outputs": [
        {
          "output_type": "stream",
          "name": "stdout",
          "text": [
            "Training model\n"
          ]
        },
        {
          "output_type": "stream",
          "name": "stderr",
          "text": [
            "/usr/local/lib/python3.8/dist-packages/torch/optim/lr_scheduler.py:138: UserWarning: Detected call of `lr_scheduler.step()` before `optimizer.step()`. In PyTorch 1.1.0 and later, you should call them in the opposite order: `optimizer.step()` before `lr_scheduler.step()`.  Failure to do this will result in PyTorch skipping the first value of the learning rate schedule. See more details at https://pytorch.org/docs/stable/optim.html#how-to-adjust-learning-rate\n",
            "  warnings.warn(\"Detected call of `lr_scheduler.step()` before `optimizer.step()`. \"\n"
          ]
        },
        {
          "output_type": "stream",
          "name": "stdout",
          "text": [
            "Epoch: 1, Total Training Loss: inf, Batch Loss: 0.836201548576355, Epoch WER: 1.2652583091113883, Epoch CER: 0.7211834105709519 \n",
            " \n",
            "Epoch: 2, Total Training Loss: inf, Batch Loss: 0.5202354192733765, Epoch WER: 1.5602821935964881, Epoch CER: 0.9644363890950879 \n",
            " \n",
            "Epoch: 3, Total Training Loss: inf, Batch Loss: 0.49960073828697205, Epoch WER: 1.1967381326343134, Epoch CER: 0.8661569888281105 \n",
            " \n",
            "Epoch: 4, Total Training Loss: inf, Batch Loss: 0.42800173163414, Epoch WER: 0.9136137083238857, Epoch CER: 0.7610045237662644 \n",
            " \n",
            "Epoch: 5, Total Training Loss: inf, Batch Loss: 0.6063534617424011, Epoch WER: 0.8008440732500314, Epoch CER: 0.6512770313054089 \n",
            " \n",
            "Epoch: 6, Total Training Loss: inf, Batch Loss: 0.27119922637939453, Epoch WER: 0.6757811346415852, Epoch CER: 0.5881512091556959 \n",
            " \n",
            "Epoch: 7, Total Training Loss: inf, Batch Loss: 0.08945413678884506, Epoch WER: 0.7227413591590456, Epoch CER: 0.6243097108350721 \n",
            " \n",
            "Epoch: 8, Total Training Loss: inf, Batch Loss: 0.12793737649917603, Epoch WER: 0.6189566350914376, Epoch CER: 0.4804404857955554 \n",
            " \n",
            "Epoch: 9, Total Training Loss: inf, Batch Loss: 0.36634618043899536, Epoch WER: 0.7043600594461502, Epoch CER: 0.5391164434690202 \n",
            " \n",
            "Epoch: 10, Total Training Loss: inf, Batch Loss: 0.19385623931884766, Epoch WER: 0.8631599631287374, Epoch CER: 0.7026659266927437 \n",
            " \n",
            "Epoch: 11, Total Training Loss: inf, Batch Loss: 0.3189510703086853, Epoch WER: 0.945065642157201, Epoch CER: 0.736827755469013 \n",
            " \n",
            "Epoch: 12, Total Training Loss: inf, Batch Loss: 0.3000020384788513, Epoch WER: 0.8071557959345889, Epoch CER: 0.6555517903125092 \n",
            " \n",
            "Epoch: 13, Total Training Loss: inf, Batch Loss: 0.3432997465133667, Epoch WER: 0.7396977342079547, Epoch CER: 0.5792387559294581 \n",
            " \n",
            "Epoch: 14, Total Training Loss: inf, Batch Loss: 0.2794792652130127, Epoch WER: 0.8954990920646774, Epoch CER: 0.7150155475324128 \n",
            " \n",
            "Epoch: 15, Total Training Loss: inf, Batch Loss: 0.25197410583496094, Epoch WER: 0.7821089991787722, Epoch CER: 0.6085734728687138 \n",
            " \n",
            "Epoch: 16, Total Training Loss: inf, Batch Loss: 0.20703575015068054, Epoch WER: 0.7697984437074111, Epoch CER: 0.6007604285037371 \n",
            " \n",
            "Epoch: 17, Total Training Loss: inf, Batch Loss: 0.371806800365448, Epoch WER: 0.7541401924559881, Epoch CER: 0.5965878427699164 \n",
            " \n",
            "Epoch: 18, Total Training Loss: inf, Batch Loss: 0.22465115785598755, Epoch WER: 0.6680590358164454, Epoch CER: 0.5111706240680806 \n",
            " \n",
            "Epoch: 19, Total Training Loss: inf, Batch Loss: 0.34835848212242126, Epoch WER: 0.6782094439744809, Epoch CER: 0.5160159192414696 \n",
            " \n",
            "Epoch: 20, Total Training Loss: inf, Batch Loss: 0.3069944381713867, Epoch WER: 0.7086574984145735, Epoch CER: 0.5262912882997848 \n",
            " \n",
            "Training Finished!\n"
          ]
        }
      ]
    },
    {
      "cell_type": "code",
      "source": [
        "torch.save(model, os.path.join(model_save_path, model_name+\".pt\"))\n",
        "processor.save_pretrained(os.path.join(model_save_path, model_name+\"_vocab\"))"
      ],
      "metadata": {
        "id": "nS1tExzQS9PK"
      },
      "execution_count": 68,
      "outputs": []
    },
    {
      "cell_type": "code",
      "source": [
        "batch_epoch_losses = [0.836201548576355, \n",
        "                      0.5202354192733765, \n",
        "                      0.49960073828697205, \n",
        "                      0.42800173163414, \n",
        "                      0.6063534617424011, \n",
        "                      0.27119922637939453,\n",
        "                      0.08945413678884506,\n",
        "                      0.12793737649917603,\n",
        "                      0.36634618043899536,\n",
        "                      0.19385623931884766,\n",
        "                      0.3189510703086853,\n",
        "                      0.3000020384788513,\n",
        "                      0.3432997465133667,\n",
        "                      0.2794792652130127,\n",
        "                      0.25197410583496094,\n",
        "                      0.20703575015068054,\n",
        "                      0.371806800365448,\n",
        "                      0.22465115785598755,\n",
        "                      0.34835848212242126,\n",
        "                      0.3069944381713867]\n",
        "\n",
        "x = np.linspace(1, 20, 20)\n",
        "plt.plot(x, batch_epoch_losses)\n",
        "plt.xlabel('Epochs')\n",
        "plt.title(\"Wave2Vec Finetuning on DR-VCTK Clean Loss\")\n",
        "plt.show()"
      ],
      "metadata": {
        "id": "4R4uVl_lS9SK",
        "colab": {
          "base_uri": "https://localhost:8080/",
          "height": 295
        },
        "outputId": "cfeff56e-28e4-4bb5-c6b4-da9284a1141f"
      },
      "execution_count": 44,
      "outputs": [
        {
          "output_type": "display_data",
          "data": {
            "text/plain": [
              "<Figure size 432x288 with 1 Axes>"
            ],
            "image/png": "[encoded data removed]"
          },
          "metadata": {
            "needs_background": "light"
          }
        }
      ]
    },
    {
      "cell_type": "code",
      "source": [
        "import numpy as np\n",
        "x = np.linspace(1, 20, 20)\n",
        "plt.plot(x, epoch_wer_list, label=\"WER\")\n",
        "plt.plot(x,epoch_cer_list, label=\"CER\")\n",
        "plt.xlabel('Epochs')\n",
        "plt.title(\"Wave2Vec Finetuning on DR-VCTK Clean\")\n",
        "plt.legend(loc=\"upper right\")\n",
        "plt.show()"
      ],
      "metadata": {
        "colab": {
          "base_uri": "https://localhost:8080/",
          "height": 295
        },
        "id": "JITEMRoWfRkA",
        "outputId": "0a1fd28b-e9ec-410a-8747-76eb876deccd"
      },
      "execution_count": 72,
      "outputs": [
        {
          "output_type": "display_data",
          "data": {
            "text/plain": [
              "<Figure size 432x288 with 1 Axes>"
            ],
            "image/png": "[encoded data removed]"
          },
          "metadata": {
            "needs_background": "light"
          }
        }
      ]
    },
    {
      "cell_type": "code",
      "source": [
        "import numpy as np\n",
        "\n",
        "# Results of Training\n",
        "epoch_losses = []\n",
        "epoch_wer_list= []\n",
        "epoch_cer_list = []\n",
        "\n",
        "Training_Result = (epoch_losses, epoch_wer_list, epoch_cer_list)"
      ],
      "metadata": {
        "id": "ocpM5X9PfRmo"
      },
      "execution_count": 43,
      "outputs": []
    },
    {
      "cell_type": "code",
      "source": [
        "lr_scheduler = get_scheduler(\n",
        "    \"linear\",\n",
        "    optimizer=optimizer,\n",
        "    num_warmup_steps=0,\n",
        "    num_training_steps=n_epochs*len(noisy_train_dataloader)\n",
        ")"
      ],
      "metadata": {
        "id": "zlNLs_w1iHa8"
      },
      "execution_count": 44,
      "outputs": []
    },
    {
      "cell_type": "code",
      "source": [
        "# Set Hyperparameters\n",
        "batch_size = 20\n",
        "n_epochs = 15\n",
        "learning_rate = .00005"
      ],
      "metadata": {
        "id": "bPW5sOGWxu-x"
      },
      "execution_count": 45,
      "outputs": []
    },
    {
      "cell_type": "code",
      "source": [
        "import math"
      ],
      "metadata": {
        "id": "kBIfHchVyr2X"
      },
      "execution_count": 46,
      "outputs": []
    },
    {
      "cell_type": "code",
      "source": [
        "import copy\n",
        "\n",
        "# Train Function\n",
        "def train2(Training_Result_p):\n",
        "\n",
        "  epoch_losses, epoch_wer_list, epoch_cer_list = Training_Result_p\n",
        "\n",
        "  # Train parameters\n",
        "  epoch = 1 # starting epoch\n",
        "  \n",
        "  print(\"Training model\")\n",
        "\n",
        "  bst_wers = 10000\n",
        "\n",
        "  while ((epoch <= n_epochs)):\n",
        "    \n",
        "    # Training\n",
        "    model.train()\n",
        "    train_loss = 0 # calc train loss\n",
        "    train_wers = []\n",
        "    train_cers= []\n",
        "    for batch_idx, data in enumerate(noisy_train_dataloader):\n",
        "\n",
        "      # move inputs to device\n",
        "      batch = {k: v.to(device) for k, v in data.items()}\n",
        "\n",
        "      with torch.cuda.amp.autocast():\n",
        "        outputs = model(**batch)\n",
        "      loss = outputs.loss\n",
        "\n",
        "      if (loss.item() != float(\"inf\")):\n",
        "        train_loss += loss.item()\n",
        "      else:\n",
        "        continue\n",
        "\n",
        "      # Backward and optimize\n",
        "      optimizer.zero_grad()\n",
        "\n",
        "      scaler.scale(loss).backward()\n",
        "\n",
        "      scaler.step(optimizer)\n",
        "\n",
        "      scaler.update()\n",
        "\n",
        "      lr_scheduler.step()\n",
        "\n",
        "      preds = outputs.logits\n",
        "\n",
        "      labels = data[\"labels\"]\n",
        "\n",
        "      preds = torch.argmax(preds, axis=-1)\n",
        "\n",
        "      labels[labels == -100] = processor.tokenizer.pad_token_id\n",
        "\n",
        "      pred_str = processor.batch_decode(preds)\n",
        "\n",
        "      label_str = processor.batch_decode(labels, group_tokens=False)\n",
        "\n",
        "      train_wers.append(wer(label_str, pred_str))\n",
        "\n",
        "      train_cers.append(cer(label_str, pred_str))\n",
        "    \n",
        "    epoch_wer_list.append(np.mean(train_wers))\n",
        "\n",
        "    epoch_cer_list.append(np.mean(train_cers))\n",
        "\n",
        "    epoch_losses.append(train_loss / len(drvctk_train_dataset))\n",
        "\n",
        "    # Logging\n",
        "    print(\"Epoch: {}, Total Training Loss: {}, Epoch WER: {}, Epoch CER: {} \\n \".format(epoch, train_loss / len(drvctk_train_dataset), np.mean(train_wers), np.mean(train_cers)))\n",
        "    # increment epoch\n",
        "    epoch += 1\n",
        "\n",
        "    if np.mean(train_wers) < bst_wers:\n",
        "\n",
        "      bst_wers = np.mean(train_wers)\n",
        "      \n",
        "      torch.save(model, os.path.join(model_save_path, model_name+\".pt\"))\n",
        "      processor.save_pretrained(os.path.join(model_save_path, model_name+\"_vocab\"))\n",
        "\n",
        "  \n",
        "  print(\"Training Finished!\")\n",
        "  Training_Return = (epoch_losses, epoch_wer_list, epoch_cer_list)\n",
        "  return Training_Return"
      ],
      "metadata": {
        "id": "NKYX077BfRr8"
      },
      "execution_count": 47,
      "outputs": []
    },
    {
      "cell_type": "code",
      "source": [
        "res = train2(Training_Result)\n",
        "\n",
        "epoch_losses, epoch_wer_list, epoch_cer_list = res"
      ],
      "metadata": {
        "id": "ysPTpRVPS9VN",
        "colab": {
          "base_uri": "https://localhost:8080/"
        },
        "outputId": "a7651c5a-c681-4583-bbd0-7c50fb947489"
      },
      "execution_count": 48,
      "outputs": [
        {
          "metadata": {
            "tags": null
          },
          "name": "stdout",
          "output_type": "stream",
          "text": [
            "Training model\n"
          ]
        },
        {
          "metadata": {
            "tags": null
          },
          "name": "stderr",
          "output_type": "stream",
          "text": [
            "/usr/local/lib/python3.8/dist-packages/transformers/models/wav2vec2/processing_wav2vec2.py:155: UserWarning: `as_target_processor` is deprecated and will be removed in v5 of Transformers. You can process your labels by using the argument `text` of the regular `__call__` method (either in the same call as your audio inputs, or in a separate call.\n",
            "  warnings.warn(\n"
          ]
        },
        {
          "output_type": "stream",
          "name": "stdout",
          "text": [
            "Epoch: 1, Total Training Loss: 0.03436251694701594, Epoch WER: 0.8150858614978154, Epoch CER: 0.5921954174818789 \n",
            " \n",
            "Epoch: 2, Total Training Loss: 0.029012454326615134, Epoch WER: 0.770653688453905, Epoch CER: 0.5559477868927643 \n",
            " \n",
            "Epoch: 3, Total Training Loss: 0.024639438823602044, Epoch WER: 0.681742435716738, Epoch CER: 0.49161601398008475 \n",
            " \n",
            "Epoch: 4, Total Training Loss: 0.022596123976316825, Epoch WER: 0.5115100561204649, Epoch CER: 0.35082904068317167 \n",
            " \n",
            "Epoch: 5, Total Training Loss: 0.0206440531092091, Epoch WER: 0.5260143151767368, Epoch CER: 0.3668180984691575 \n",
            " \n",
            "Epoch: 6, Total Training Loss: 0.01997728059547987, Epoch WER: 0.5620594182297832, Epoch CER: 0.4116100707191043 \n",
            " \n",
            "Epoch: 7, Total Training Loss: 0.01912009968485772, Epoch WER: 0.5554024786393004, Epoch CER: 0.40125519079801103 \n",
            " \n",
            "Epoch: 8, Total Training Loss: 0.018285899362219398, Epoch WER: 0.505789987985672, Epoch CER: 0.35807066287365336 \n",
            " \n",
            "Epoch: 9, Total Training Loss: 0.017194444505511334, Epoch WER: 0.5092498207003178, Epoch CER: 0.3570954206040128 \n",
            " \n",
            "Epoch: 10, Total Training Loss: 0.01587167498068108, Epoch WER: 0.5811232262180608, Epoch CER: 0.4381391414569893 \n",
            " \n",
            "Epoch: 11, Total Training Loss: 0.015555051155066432, Epoch WER: 0.5353978261401267, Epoch CER: 0.39489348848014055 \n",
            " \n",
            "Epoch: 12, Total Training Loss: 0.014998460721290218, Epoch WER: 0.5219068256293312, Epoch CER: 0.383147559744405 \n",
            " \n",
            "Epoch: 13, Total Training Loss: 0.01450228426480557, Epoch WER: 0.44872049453589274, Epoch CER: 0.31596911696394525 \n",
            " \n",
            "Epoch: 14, Total Training Loss: 0.013399930265878584, Epoch WER: 0.4847719015698645, Epoch CER: 0.36004630900655427 \n",
            " \n",
            "Epoch: 15, Total Training Loss: 0.013305299294384301, Epoch WER: 0.4868358660792987, Epoch CER: 0.3620808698940706 \n",
            " \n",
            "Training Finished!\n"
          ]
        }
      ]
    },
    {
      "cell_type": "code",
      "source": [
        "torch.save(model, os.path.join(model_save_path, model_name+\".pt\"))\n",
        "processor.save_pretrained(os.path.join(model_save_path, model_name+\"_vocab\"))"
      ],
      "metadata": {
        "id": "-wapGMiSS9YG"
      },
      "execution_count": 49,
      "outputs": []
    },
    {
      "cell_type": "code",
      "source": [
        "x = np.linspace(1, 15, 15)\n",
        "plt.plot(x, epoch_losses)\n",
        "plt.xlabel('Epochs')\n",
        "plt.title(\"Wave2Vec Finetuning on DR-VCTK Noisy Loss\")\n",
        "plt.show()"
      ],
      "metadata": {
        "colab": {
          "base_uri": "https://localhost:8080/",
          "height": 295
        },
        "id": "5n1Z39Evh43V",
        "outputId": "aa062d41-aea3-4f28-d503-e5b9e306822d"
      },
      "execution_count": 52,
      "outputs": [
        {
          "output_type": "display_data",
          "data": {
            "text/plain": [
              "<Figure size 432x288 with 1 Axes>"
            ],
            "image/png": "[encoded data removed]"
          },
          "metadata": {
            "needs_background": "light"
          }
        }
      ]
    },
    {
      "cell_type": "code",
      "source": [
        "import numpy as np\n",
        "x = np.linspace(1, 15, 15)\n",
        "plt.plot(x, epoch_wer_list, label=\"WER\")\n",
        "plt.plot(x,epoch_cer_list, label=\"CER\")\n",
        "plt.xlabel('Epochs')\n",
        "plt.title(\"Wave2Vec Finetuning on DR-VCTK Noisy\")\n",
        "plt.legend(loc=\"upper right\")\n",
        "plt.show()"
      ],
      "metadata": {
        "id": "gitZV0DFS9a3",
        "colab": {
          "base_uri": "https://localhost:8080/",
          "height": 295
        },
        "outputId": "f61742b0-0cc9-4c7a-ba16-c988f15a6e82"
      },
      "execution_count": 53,
      "outputs": [
        {
          "output_type": "display_data",
          "data": {
            "text/plain": [
              "<Figure size 432x288 with 1 Axes>"
            ],
            "image/png": "[encoded data removed]"
          },
          "metadata": {
            "needs_background": "light"
          }
        }
      ]
    },
    {
      "cell_type": "code",
      "source": [],
      "metadata": {
        "id": "lbw1sa1Iy-eN"
      },
      "execution_count": null,
      "outputs": []
    },
    {
      "cell_type": "code",
      "source": [
        "# Evaluation\n",
        "model.eval()\n",
        "test_wers = []\n",
        "test_cers= []\n",
        "for batch_idx, data in enumerate(clean_test_dataloader):\n",
        "\n",
        "  # move inputs to device\n",
        "  batch = {k: v.to(device) for k, v in data.items()}\n",
        "\n",
        "  with torch.cuda.amp.autocast():\n",
        "    outputs = model(**batch)\n",
        "  \n",
        "  preds = outputs.logits\n",
        "\n",
        "  labels = data[\"labels\"]\n",
        "\n",
        "  preds = torch.argmax(preds, axis=-1)\n",
        "\n",
        "  labels[labels == -100] = processor.tokenizer.pad_token_id\n",
        "\n",
        "  pred_str = processor.batch_decode(preds)\n",
        "\n",
        "  label_str = processor.batch_decode(labels, group_tokens=False)\n",
        "\n",
        "  test_wers.append(wer(label_str, pred_str))\n",
        "\n",
        "  test_cers.append(cer(label_str, pred_str))\n",
        "\n",
        "print(\"WER: {}\".format(np.mean(test_wers)))\n",
        "\n",
        "print(\"CER: {}\".format(np.mean(test_cers)))\n"
      ],
      "metadata": {
        "colab": {
          "base_uri": "https://localhost:8080/"
        },
        "id": "Zh_VZLnvy-iR",
        "outputId": "867ee2f6-f0c7-4110-e67a-cc700e758f45"
      },
      "execution_count": 54,
      "outputs": [
        {
          "output_type": "stream",
          "name": "stderr",
          "text": [
            "/usr/local/lib/python3.8/dist-packages/transformers/models/wav2vec2/processing_wav2vec2.py:155: UserWarning: `as_target_processor` is deprecated and will be removed in v5 of Transformers. You can process your labels by using the argument `text` of the regular `__call__` method (either in the same call as your audio inputs, or in a separate call.\n",
            "  warnings.warn(\n"
          ]
        },
        {
          "output_type": "stream",
          "name": "stdout",
          "text": [
            "WER: 0.038911039458752794\n",
            "CER: 0.01401287760696503\n"
          ]
        }
      ]
    },
    {
      "cell_type": "code",
      "source": [
        "# Evaluation\n",
        "model.eval()\n",
        "test_wers = []\n",
        "test_cers= []\n",
        "for batch_idx, data in enumerate(noisy_test_dataloader):\n",
        "\n",
        "  # move inputs to device\n",
        "  batch = {k: v.to(device) for k, v in data.items()}\n",
        "\n",
        "  with torch.cuda.amp.autocast():\n",
        "    outputs = model(**batch)\n",
        "  \n",
        "  preds = outputs.logits\n",
        "\n",
        "  labels = data[\"labels\"]\n",
        "\n",
        "  preds = torch.argmax(preds, axis=-1)\n",
        "\n",
        "  labels[labels == -100] = processor.tokenizer.pad_token_id\n",
        "\n",
        "  pred_str = processor.batch_decode(preds)\n",
        "\n",
        "  label_str = processor.batch_decode(labels, group_tokens=False)\n",
        "\n",
        "  test_wers.append(wer(label_str, pred_str))\n",
        "\n",
        "  test_cers.append(cer(label_str, pred_str))\n",
        "\n",
        "print(\"WER: {}\".format(np.mean(test_wers)))\n",
        "\n",
        "print(\"CER: {}\".format(np.mean(test_cers)))"
      ],
      "metadata": {
        "colab": {
          "base_uri": "https://localhost:8080/"
        },
        "id": "5twiXrp7y-mU",
        "outputId": "fb65e8a2-6a34-4a87-b203-fdf7b505e8af"
      },
      "execution_count": 55,
      "outputs": [
        {
          "output_type": "stream",
          "name": "stdout",
          "text": [
            "WER: 0.10625481509670807\n",
            "CER: 0.04562376111451426\n"
          ]
        }
      ]
    },
    {
      "cell_type": "code",
      "source": [],
      "metadata": {
        "id": "ARIpTHuuP7rl"
      },
      "execution_count": null,
      "outputs": []
    },
    {
      "cell_type": "code",
      "source": [],
      "metadata": {
        "id": "nv8U71y2PueC"
      },
      "execution_count": null,
      "outputs": []
    },
    {
      "cell_type": "code",
      "source": [
        "model_path = os.path.join(model_save_path, model_name+\".pt\")\n",
        "pipeline_path= os.path.join(model_save_path, model_name+\"_vocab\")"
      ],
      "metadata": {
        "id": "Q81Jv6F90dmk"
      },
      "execution_count": 56,
      "outputs": []
    },
    {
      "cell_type": "code",
      "source": [
        "processor = Wav2Vec2Processor.from_pretrained(pipeline_path)\n",
        "model = torch.load(model_path)\n"
      ],
      "metadata": {
        "id": "WpSaZYZZsp8N"
      },
      "execution_count": 57,
      "outputs": []
    },
    {
      "cell_type": "code",
      "source": [
        "model = model.eval()"
      ],
      "metadata": {
        "id": "8U0BzVYNqK0x"
      },
      "execution_count": 58,
      "outputs": []
    },
    {
      "cell_type": "code",
      "source": [
        "clean_waveform, clean_waveform_sample_rate, noisy_waveform, noisy_waveform_sample_rate, speaker_id, utterance_id, source, channel_id = drvctk_train_dataset[7000]"
      ],
      "metadata": {
        "id": "ctvZUNPm0thx"
      },
      "execution_count": 59,
      "outputs": []
    },
    {
      "cell_type": "code",
      "source": [
        "clean_waveform.size()"
      ],
      "metadata": {
        "id": "62F3KjL71Ebl",
        "colab": {
          "base_uri": "https://localhost:8080/"
        },
        "outputId": "ebb9f5e5-e1ed-4072-be9d-243deff2ec0b"
      },
      "execution_count": 60,
      "outputs": [
        {
          "output_type": "execute_result",
          "data": {
            "text/plain": [
              "torch.Size([1, 91456])"
            ]
          },
          "metadata": {},
          "execution_count": 60
        }
      ]
    },
    {
      "cell_type": "code",
      "source": [
        "input_values = processor(\n",
        "      clean_waveform[0], \n",
        "      sampling_rate=clean_waveform_sample_rate, \n",
        "      return_tensors=\"pt\"\n",
        "  ).input_values.to(device)\n",
        "logits = model(input_values).logits"
      ],
      "metadata": {
        "id": "kbaT2OJv0tks"
      },
      "execution_count": 61,
      "outputs": []
    },
    {
      "cell_type": "code",
      "source": [
        "predicted_ids = torch.argmax(logits, dim =-1)\n",
        "transcriptions = tokenizer.decode(predicted_ids[0])\n",
        "print(transcriptions)"
      ],
      "metadata": {
        "id": "r0UQyq84026C",
        "colab": {
          "base_uri": "https://localhost:8080/"
        },
        "outputId": "764a87ab-2780-4c8e-8108-888d2455fae1"
      },
      "execution_count": 62,
      "outputs": [
        {
          "output_type": "stream",
          "name": "stdout",
          "text": [
            "THE ACTUAL PRIMARY RAINBOW OBSERVED IS SAID TO BE THE EFFECT OF SUPERIMPOSITION OF THE NUMBER OF BOWS\n"
          ]
        }
      ]
    },
    {
      "cell_type": "code",
      "source": [
        "transcriptions"
      ],
      "metadata": {
        "id": "SbNPNFsZ2SbB",
        "colab": {
          "base_uri": "https://localhost:8080/",
          "height": 36
        },
        "outputId": "390d3df7-226a-4f48-ef88-37a0b23970ba"
      },
      "execution_count": 63,
      "outputs": [
        {
          "output_type": "execute_result",
          "data": {
            "text/plain": [
              "'THE ACTUAL PRIMARY RAINBOW OBSERVED IS SAID TO BE THE EFFECT OF SUPERIMPOSITION OF THE NUMBER OF BOWS'"
            ],
            "application/vnd.google.colaboratory.intrinsic+json": {
              "type": "string"
            }
          },
          "metadata": {},
          "execution_count": 63
        }
      ]
    },
    {
      "cell_type": "code",
      "source": [
        "sample_transcript = speaker_utterance_final[speaker_id][utterance_id]\n",
        "print(sample_transcript)"
      ],
      "metadata": {
        "id": "dIa97rue1qmM",
        "colab": {
          "base_uri": "https://localhost:8080/"
        },
        "outputId": "573f10de-cb5b-4c25-91b6-e234e6f34265"
      },
      "execution_count": 64,
      "outputs": [
        {
          "output_type": "stream",
          "name": "stdout",
          "text": [
            "THE|ACTUAL|PRIMARY|RAINBOW|OBSERVED|IS|SAID|TO|BE|THE|EFFECT|OF|SUPERIMPOSITION|OF|THE|NUMBER|OF|BOWS|\n"
          ]
        }
      ]
    }
  ]
}
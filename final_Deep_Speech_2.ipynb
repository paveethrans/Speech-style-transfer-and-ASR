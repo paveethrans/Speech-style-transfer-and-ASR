{
  "nbformat": 4,
  "nbformat_minor": 0,
  "metadata": {
    "colab": {
      "provenance": [],
      "authorship_tag": "ABX9TyOjXSou8P+uja8DZyQ6OQRQ",
      "include_colab_link": true
    },
    "kernelspec": {
      "name": "python3",
      "display_name": "Python 3"
    },
    "language_info": {
      "name": "python"
    },
    "accelerator": "GPU",
    "gpuClass": "standard"
  },
  "cells": [
    {
      "cell_type": "markdown",
      "metadata": {
        "id": "view-in-github",
        "colab_type": "text"
      },
      "source": [
        "<a href=\"https://colab.research.google.com/github/paveethranswam/Speech-style-transfer-and-ASR/blob/main/final_Deep_Speech_2.ipynb\" target=\"_parent\"><img src=\"https://colab.research.google.com/assets/colab-badge.svg\" alt=\"Open In Colab\"/></a>"
      ]
    },
    {
      "cell_type": "code",
      "source": [
        "# Reference: https://www.assemblyai.com/blog/end-to-end-speech-recognition-pytorch/\n",
        "# https://keras.io/examples/audio/ctc_asr/"
      ],
      "metadata": {
        "id": "yt9HRuO3HlzI"
      },
      "execution_count": 1,
      "outputs": []
    },
    {
      "cell_type": "code",
      "source": [
        "from google.colab import drive\n",
        "drive.mount('/content/drive')"
      ],
      "metadata": {
        "colab": {
          "base_uri": "https://localhost:8080/"
        },
        "id": "aYPHIN_hILK1",
        "outputId": "0278f9bc-3199-4afe-94f8-9950ec6e6b75"
      },
      "execution_count": 2,
      "outputs": [
        {
          "output_type": "stream",
          "name": "stdout",
          "text": [
            "Mounted at /content/drive\n"
          ]
        }
      ]
    },
    {
      "cell_type": "code",
      "source": [
        "import torch\n",
        "import numpy as np\n",
        "import matplotlib.pyplot as plt"
      ],
      "metadata": {
        "id": "iSbeVX0Vj_f4"
      },
      "execution_count": 3,
      "outputs": []
    },
    {
      "cell_type": "code",
      "source": [
        "# Get device\n",
        "device = torch.device(\"cuda:0\" if torch.cuda.is_available() else \"cpu\")\n",
        "print(f\"Using {device} device\")"
      ],
      "metadata": {
        "colab": {
          "base_uri": "https://localhost:8080/"
        },
        "id": "QYTcOOWOkSij",
        "outputId": "4bffe7b6-5df6-4d00-b945-6a88afb4b845"
      },
      "execution_count": 4,
      "outputs": [
        {
          "output_type": "stream",
          "name": "stdout",
          "text": [
            "Using cuda:0 device\n"
          ]
        }
      ]
    },
    {
      "cell_type": "code",
      "source": [
        "!nvidia-smi -L"
      ],
      "metadata": {
        "colab": {
          "base_uri": "https://localhost:8080/"
        },
        "id": "33U-KgQzlWHT",
        "outputId": "bd903768-73af-48cb-f3b2-52dcb01b2188"
      },
      "execution_count": 5,
      "outputs": [
        {
          "output_type": "stream",
          "name": "stdout",
          "text": [
            "GPU 0: Tesla T4 (UUID: GPU-f00aff75-0f32-32c8-1522-f801c2f5fdac)\n"
          ]
        }
      ]
    },
    {
      "cell_type": "code",
      "source": [
        "# Set torch random seed \n",
        "torch.manual_seed(42)\n",
        "np.random.seed(42)\n",
        "torch.backends.cudnn.enabled = False\n",
        "torch.backends.cudnn.deterministic = True"
      ],
      "metadata": {
        "id": "EpLSmAUVlWKS"
      },
      "execution_count": 6,
      "outputs": []
    },
    {
      "cell_type": "code",
      "source": [
        "!pip install torchaudio"
      ],
      "metadata": {
        "colab": {
          "base_uri": "https://localhost:8080/"
        },
        "id": "xFF37YzPlWON",
        "outputId": "d16fa9ae-7296-42e3-86be-cc89434d5fa6"
      },
      "execution_count": 7,
      "outputs": [
        {
          "output_type": "stream",
          "name": "stdout",
          "text": [
            "Looking in indexes: https://pypi.org/simple, https://us-python.pkg.dev/colab-wheels/public/simple/\n",
            "Requirement already satisfied: torchaudio in /usr/local/lib/python3.8/dist-packages (0.13.0+cu116)\n",
            "Requirement already satisfied: torch==1.13.0 in /usr/local/lib/python3.8/dist-packages (from torchaudio) (1.13.0+cu116)\n",
            "Requirement already satisfied: typing-extensions in /usr/local/lib/python3.8/dist-packages (from torch==1.13.0->torchaudio) (4.4.0)\n"
          ]
        }
      ]
    },
    {
      "cell_type": "code",
      "source": [
        "import os\n",
        "\n",
        "import IPython\n",
        "import requests\n",
        "import torchaudio\n",
        "from IPython.display import Audio, display\n",
        "from torch._C import parse_schema"
      ],
      "metadata": {
        "id": "ZLtKsxXPlcQd"
      },
      "execution_count": 8,
      "outputs": []
    },
    {
      "cell_type": "code",
      "source": [
        "!unzip \"/content/drive/My Drive/DLS_Project/Dataset/DR-VCTK/DR-VCTK.zip\" -d \"./DR-VCTK\""
      ],
      "metadata": {
        "id": "FGGu-hGZlcTc"
      },
      "execution_count": null,
      "outputs": []
    },
    {
      "cell_type": "code",
      "source": [
        "DR_VCTK_DATASET_PATH = \"./DR-VCTK/\""
      ],
      "metadata": {
        "id": "hWOpYCN2kSlW"
      },
      "execution_count": 10,
      "outputs": []
    },
    {
      "cell_type": "code",
      "source": [
        "os.makedirs(DR_VCTK_DATASET_PATH, exist_ok=True)\n",
        "print(DR_VCTK_DATASET_PATH)"
      ],
      "metadata": {
        "colab": {
          "base_uri": "https://localhost:8080/"
        },
        "id": "UVfDxg9Wj_if",
        "outputId": "a5d7a3e7-93f7-4491-9d8c-b476d061fc93"
      },
      "execution_count": 11,
      "outputs": [
        {
          "output_type": "stream",
          "name": "stdout",
          "text": [
            "./DR-VCTK/\n"
          ]
        }
      ]
    },
    {
      "cell_type": "code",
      "source": [
        "# Getting precomputed transcript mapping\n",
        "import pickle\n",
        "from google.colab import files\n",
        "\n",
        "with open('./final_w2v_transcript_dictionary2.pkl', 'rb') as f:\n",
        "    speaker_utterance_final = pickle.load(f)"
      ],
      "metadata": {
        "id": "fj3JuKlplkqS"
      },
      "execution_count": 12,
      "outputs": []
    },
    {
      "cell_type": "code",
      "source": [
        "drvctk_train_dataset = torchaudio.datasets.DR_VCTK(DR_VCTK_DATASET_PATH, subset='train',download=False)"
      ],
      "metadata": {
        "id": "HqCcdWJ7lkuP"
      },
      "execution_count": 13,
      "outputs": []
    },
    {
      "cell_type": "code",
      "source": [
        "drvctk_test_dataset = torchaudio.datasets.DR_VCTK(DR_VCTK_DATASET_PATH, subset='test',download=False)"
      ],
      "metadata": {
        "id": "6NFSL4J5lkwk"
      },
      "execution_count": 14,
      "outputs": []
    },
    {
      "cell_type": "code",
      "source": [
        "print(len(drvctk_train_dataset))\n",
        "print(len(drvctk_test_dataset))"
      ],
      "metadata": {
        "colab": {
          "base_uri": "https://localhost:8080/"
        },
        "id": "yJ011_rrlkyr",
        "outputId": "7a0d9823-fc27-485f-96b8-628fb42295eb"
      },
      "execution_count": 15,
      "outputs": [
        {
          "output_type": "stream",
          "name": "stdout",
          "text": [
            "11572\n",
            "824\n"
          ]
        }
      ]
    },
    {
      "cell_type": "code",
      "source": [
        "from torch import nn"
      ],
      "metadata": {
        "id": "7nbfV5G3GmBO"
      },
      "execution_count": 16,
      "outputs": []
    },
    {
      "cell_type": "code",
      "source": [
        "!pip install jiwer\n",
        "from jiwer import wer\n",
        "from jiwer import cer"
      ],
      "metadata": {
        "colab": {
          "base_uri": "https://localhost:8080/"
        },
        "id": "nOCcPHnKMEs3",
        "outputId": "1c27ed1d-e3b4-4a79-92bb-2ceb443ef352"
      },
      "execution_count": 17,
      "outputs": [
        {
          "output_type": "stream",
          "name": "stdout",
          "text": [
            "Looking in indexes: https://pypi.org/simple, https://us-python.pkg.dev/colab-wheels/public/simple/\n",
            "Collecting jiwer\n",
            "  Downloading jiwer-2.5.1-py3-none-any.whl (15 kB)\n",
            "Collecting levenshtein==0.20.2\n",
            "  Downloading Levenshtein-0.20.2-cp38-cp38-manylinux_2_17_x86_64.manylinux2014_x86_64.whl (1.4 MB)\n",
            "\u001b[K     |████████████████████████████████| 1.4 MB 38.8 MB/s \n",
            "\u001b[?25hCollecting rapidfuzz<3.0.0,>=2.3.0\n",
            "  Downloading rapidfuzz-2.13.6-cp38-cp38-manylinux_2_17_x86_64.manylinux2014_x86_64.whl (2.2 MB)\n",
            "\u001b[K     |████████████████████████████████| 2.2 MB 66.6 MB/s \n",
            "\u001b[?25hInstalling collected packages: rapidfuzz, levenshtein, jiwer\n",
            "Successfully installed jiwer-2.5.1 levenshtein-0.20.2 rapidfuzz-2.13.6\n"
          ]
        }
      ]
    },
    {
      "cell_type": "code",
      "source": [
        "char_map = {\"'\": 0, 'a': 2, 'b': 3, 'c': 4, 'd': 5, 'e': 6, 'f': 7, 'g': 8, 'h': 9, 'i': 10, 'j': 11, 'k': 12, 'l': 13, 'm': 14, 'n': 15, 'o': 16, 'p': 17, 'q': 18, 'r': 19, 's': 20, 't': 21, 'u': 22, 'v': 23, 'w': 24, 'x': 25, 'y': 26, 'z': 27, ' ': 1}"
      ],
      "metadata": {
        "id": "5Lb1em5A-D-S"
      },
      "execution_count": 18,
      "outputs": []
    },
    {
      "cell_type": "code",
      "source": [
        "reverse_char_map = {0: \"'\", 2: 'a', 3: 'b', 4: 'c', 5: 'd', 6: 'e', 7: 'f', 8: 'g', 9: 'h', 10: 'i', 11: 'j', 12: 'k', 13: 'l', 14: 'm', 15: 'n', 16: 'o', 17: 'p', 18: 'q', 19: 'r', 20: 's', 21: 't', 22: 'u', 23: 'v', 24: 'w', 25: 'x', 26: 'y', 27: 'z', 1: ' '}"
      ],
      "metadata": {
        "id": "loAPlfrF-ID7"
      },
      "execution_count": 19,
      "outputs": []
    },
    {
      "cell_type": "code",
      "source": [
        "def label_to_index(text):\n",
        "    int_sequence = []\n",
        "    for c in text:\n",
        "        if c == ' ':\n",
        "            ch = char_map[' ']\n",
        "        else:\n",
        "            ch = char_map[c]\n",
        "        int_sequence.append(ch)\n",
        "    return int_sequence\n",
        "\n",
        "def index_to_label(labels):\n",
        "    string = []\n",
        "    for i in labels:\n",
        "        string.append(reverse_char_map[i])\n",
        "    return ''.join(string)"
      ],
      "metadata": {
        "id": "x6HUQNUe-XDt"
      },
      "execution_count": 20,
      "outputs": []
    },
    {
      "cell_type": "code",
      "source": [
        "# Transforms on input spectrograms\n",
        "\n",
        "train_audio_transforms = nn.Sequential(\n",
        "    torchaudio.transforms.MelSpectrogram(sample_rate=16000, n_mels=128),\n",
        "    torchaudio.transforms.FrequencyMasking(freq_mask_param=15),\n",
        "    torchaudio.transforms.TimeMasking(time_mask_param=35)\n",
        ")\n",
        "\n",
        "valid_audio_transforms = torchaudio.transforms.MelSpectrogram()"
      ],
      "metadata": {
        "colab": {
          "base_uri": "https://localhost:8080/"
        },
        "id": "KWvn2AV6-wXF",
        "outputId": "9922331b-2e1c-449b-b66c-9a8b3425c73f"
      },
      "execution_count": 21,
      "outputs": [
        {
          "output_type": "stream",
          "name": "stderr",
          "text": [
            "/usr/local/lib/python3.8/dist-packages/torchaudio/functional/functional.py:571: UserWarning: At least one mel filterbank has all zero values. The value for `n_mels` (128) may be set too high. Or, the value for `n_freqs` (201) may be set too low.\n",
            "  warnings.warn(\n"
          ]
        }
      ]
    },
    {
      "cell_type": "code",
      "source": [
        "\n",
        "def processing_collate_fn(data, type1=\"train\", type2 = \"clean\"):\n",
        "\n",
        "    # returns\n",
        "    spectrograms = []\n",
        "    labels = []\n",
        "    input_lengths = []\n",
        "    label_lengths = []\n",
        "\n",
        "    for (clean_waveform, _, noisy_waveform, _, speaker_id, utterance_id, _, _) in data:\n",
        "        if type1 == 'train':\n",
        "          if type2 == 'clean':\n",
        "            spec = train_audio_transforms(clean_waveform).squeeze(0).transpose(0, 1)\n",
        "          else:\n",
        "            spec = train_audio_transforms(noisy_waveform).squeeze(0).transpose(0, 1)\n",
        "        else:\n",
        "          if type2 == 'clean':\n",
        "            spec = valid_audio_transforms(clean_waveform).squeeze(0).transpose(0, 1)\n",
        "          else:\n",
        "            spec = valid_audio_transforms(noisy_waveform).squeeze(0).transpose(0, 1)\n",
        "\n",
        "        spectrograms.append(spec)\n",
        "\n",
        "        sample_utterance = speaker_utterance_final[speaker_id][utterance_id]\n",
        "\n",
        "        sample_utterance = sample_utterance.lower()\n",
        "\n",
        "\n",
        "        res = []\n",
        "        for c_i in range(len(sample_utterance)):\n",
        "\n",
        "          if sample_utterance[c_i] == \"|\":\n",
        "            res.append(\" \") \n",
        "          else:\n",
        "            res.append(sample_utterance[c_i])\n",
        "        sample_utterance = \"\".join(res)\n",
        "\n",
        "        sample_utterance = sample_utterance.rstrip()\n",
        "\n",
        "        good = set(char_map.keys())\n",
        "        if set(sample_utterance) <= good:\n",
        "            pass\n",
        "        else:\n",
        "            print(sample_utterance)\n",
        "            print(\"Issue with Label\")\n",
        "\n",
        "  \n",
        "        label = torch.Tensor(label_to_index(sample_utterance))\n",
        "        labels.append(label)\n",
        "        input_lengths.append(spec.shape[0]//2)\n",
        "        label_lengths.append(len(label))\n",
        "\n",
        "    spectrograms = nn.utils.rnn.pad_sequence(spectrograms, batch_first=True).unsqueeze(1).transpose(2, 3)\n",
        "    labels = nn.utils.rnn.pad_sequence(labels, batch_first=True)\n",
        "\n",
        "    return spectrograms, labels, input_lengths, label_lengths"
      ],
      "metadata": {
        "id": "sgtjp4n6CvV9"
      },
      "execution_count": 22,
      "outputs": []
    },
    {
      "cell_type": "code",
      "source": [
        "import torch.nn as nn\n",
        "import torch.nn.functional as F\n",
        "import torch.optim as optim\n",
        "\n",
        "class CNNLayerNorm(nn.Module):\n",
        "    \"\"\"Layer normalization built for cnns input\"\"\"\n",
        "    def __init__(self, n_feats):\n",
        "        super(CNNLayerNorm, self).__init__()\n",
        "        self.layer_norm = nn.LayerNorm(n_feats)\n",
        "\n",
        "    def forward(self, x):\n",
        "        # x (batch, channel, feature, time)\n",
        "        x = x.transpose(2, 3).contiguous() # (batch, channel, time, feature)\n",
        "        x = self.layer_norm(x)\n",
        "        return x.transpose(2, 3).contiguous() # (batch, channel, feature, time) \n",
        "\n",
        "class ResidualCNN(nn.Module):\n",
        "    \"\"\"Residual CNN inspired by https://arxiv.org/pdf/1603.05027.pdf\n",
        "        except with layer norm instead of batch norm\n",
        "    \"\"\"\n",
        "    def __init__(self, in_channels, out_channels, kernel, stride, dropout, n_feats):\n",
        "        super(ResidualCNN, self).__init__()\n",
        "\n",
        "        self.cnn1 = nn.Conv2d(in_channels, out_channels, kernel, stride, padding=kernel//2)\n",
        "        self.cnn2 = nn.Conv2d(out_channels, out_channels, kernel, stride, padding=kernel//2)\n",
        "        self.dropout1 = nn.Dropout(dropout)\n",
        "        self.dropout2 = nn.Dropout(dropout)\n",
        "        self.layer_norm1 = CNNLayerNorm(n_feats)\n",
        "        self.layer_norm2 = CNNLayerNorm(n_feats)\n",
        "\n",
        "    def forward(self, x):\n",
        "        residual = x  # (batch, channel, feature, time)\n",
        "        x = self.layer_norm1(x)\n",
        "        x = F.gelu(x)\n",
        "        x = self.dropout1(x)\n",
        "        x = self.cnn1(x)\n",
        "        x = self.layer_norm2(x)\n",
        "        x = F.gelu(x)\n",
        "        x = self.dropout2(x)\n",
        "        x = self.cnn2(x)\n",
        "        x += residual\n",
        "        return x # (batch, channel, feature, time)\n",
        "        \n",
        "class BidirectionalGRU(nn.Module):\n",
        "\n",
        "    def __init__(self, rnn_dim, hidden_size, dropout, batch_first):\n",
        "        super(BidirectionalGRU, self).__init__()\n",
        "\n",
        "        self.BiGRU = nn.GRU(\n",
        "            input_size=rnn_dim, hidden_size=hidden_size,\n",
        "            num_layers=1, batch_first=batch_first, bidirectional=True)\n",
        "        self.layer_norm = nn.LayerNorm(rnn_dim)\n",
        "        self.dropout = nn.Dropout(dropout)\n",
        "\n",
        "    def forward(self, x):\n",
        "        x = self.layer_norm(x)\n",
        "        x = F.gelu(x)\n",
        "        x, _ = self.BiGRU(x)\n",
        "        x = self.dropout(x)\n",
        "        return x\n",
        "\n",
        "\n",
        "class SpeechRecognitionModel(nn.Module):\n",
        "    \"\"\"Speech Recognition Model Inspired by DeepSpeech 2\"\"\"\n",
        "\n",
        "    def __init__(self, n_cnn_layers, n_rnn_layers, rnn_dim, n_class, n_feats, stride=2, dropout=0.1):\n",
        "        super(SpeechRecognitionModel, self).__init__()\n",
        "        n_feats = n_feats//2\n",
        "        self.cnn = nn.Conv2d(1, 32, 3, stride=stride, padding=3//2)  # cnn for extracting heirachal features\n",
        "\n",
        "        # n residual cnn layers with filter size of 32\n",
        "        self.rescnn_layers = nn.Sequential(*[\n",
        "            ResidualCNN(32, 32, kernel=3, stride=1, dropout=dropout, n_feats=n_feats) \n",
        "            for _ in range(n_cnn_layers)\n",
        "        ])\n",
        "        self.fully_connected = nn.Linear(n_feats*32, rnn_dim)\n",
        "        self.birnn_layers = nn.Sequential(*[\n",
        "            BidirectionalGRU(rnn_dim=rnn_dim if i==0 else rnn_dim*2,\n",
        "                             hidden_size=rnn_dim, dropout=dropout, batch_first=i==0)\n",
        "            for i in range(n_rnn_layers)\n",
        "        ])\n",
        "        self.classifier = nn.Sequential(\n",
        "            nn.Linear(rnn_dim*2, rnn_dim),  # birnn returns rnn_dim*2\n",
        "            nn.GELU(),\n",
        "            nn.Dropout(dropout),\n",
        "            nn.Linear(rnn_dim, n_class)\n",
        "        )\n",
        "\n",
        "    def forward(self, x):\n",
        "        x = self.cnn(x)\n",
        "        x = self.rescnn_layers(x)\n",
        "        sizes = x.size()\n",
        "        x = x.view(sizes[0], sizes[1] * sizes[2], sizes[3])  # (batch, feature, time)\n",
        "        x = x.transpose(1, 2) # (batch, time, feature)\n",
        "        x = self.fully_connected(x)\n",
        "        x = self.birnn_layers(x)\n",
        "        x = self.classifier(x)\n",
        "        return x"
      ],
      "metadata": {
        "id": "cVFvuOi0CvXM"
      },
      "execution_count": 23,
      "outputs": []
    },
    {
      "cell_type": "code",
      "source": [
        "# Set Hyperparameters\n",
        "n_epochs = 10 # max_epochs\n",
        "batch_size_train = 15 # batch size train set\n",
        "batch_size_test = 15 # batch size test set\n",
        "learning_rate = 5e-4 # learn rate\n",
        "log_interval = 1 # log every _ epoch\n",
        "\n",
        "\n",
        "n_cnn_layers = 3\n",
        "n_rnn_layers = 3\n",
        "rnn_dim = 512\n",
        "n_class = 29\n",
        "n_feats = 128\n",
        "stride = 2\n",
        "dropout = .1"
      ],
      "metadata": {
        "id": "MnbzOmVgQ12x"
      },
      "execution_count": 24,
      "outputs": []
    },
    {
      "cell_type": "code",
      "source": [
        "model = SpeechRecognitionModel(n_cnn_layers, n_rnn_layers, rnn_dim,n_class, n_feats, stride, dropout).to(device)"
      ],
      "metadata": {
        "id": "CWjBGM4UQ12y"
      },
      "execution_count": 25,
      "outputs": []
    },
    {
      "cell_type": "code",
      "source": [
        "def GreedyDecoder(output, labels, label_lengths, blank_label=28, collapse_repeated=True):\n",
        "    arg_maxes = torch.argmax(output, dim=2) # arg max n classes\n",
        "    decodes = []\n",
        "    targets = []\n",
        "    for i, args in enumerate(arg_maxes): # for sample in batch\n",
        "        decode = []\n",
        "        targets.append(index_to_label(labels[i][:label_lengths[i]].tolist()))\n",
        "        for j, index in enumerate(args): # for frame in sample\n",
        "            if index != blank_label:\n",
        "                if collapse_repeated and j != 0 and index == args[j -1]:\n",
        "                    continue\n",
        "                decode.append(index.item())\n",
        "        decodes.append(index_to_label(decode))\n",
        "    return decodes, targets"
      ],
      "metadata": {
        "id": "0SqhMj2-Q12y"
      },
      "execution_count": 26,
      "outputs": []
    },
    {
      "cell_type": "code",
      "source": [
        "!pip install jiwer\n",
        "from jiwer import wer\n",
        "from jiwer import cer"
      ],
      "metadata": {
        "colab": {
          "base_uri": "https://localhost:8080/"
        },
        "id": "p3LGowzKQ12y",
        "outputId": "0fbcbb60-1e87-49da-b60c-2c8a1974bc4a"
      },
      "execution_count": 27,
      "outputs": [
        {
          "output_type": "stream",
          "name": "stdout",
          "text": [
            "Looking in indexes: https://pypi.org/simple, https://us-python.pkg.dev/colab-wheels/public/simple/\n",
            "Requirement already satisfied: jiwer in /usr/local/lib/python3.8/dist-packages (2.5.1)\n",
            "Requirement already satisfied: levenshtein==0.20.2 in /usr/local/lib/python3.8/dist-packages (from jiwer) (0.20.2)\n",
            "Requirement already satisfied: rapidfuzz<3.0.0,>=2.3.0 in /usr/local/lib/python3.8/dist-packages (from levenshtein==0.20.2->jiwer) (2.13.6)\n"
          ]
        }
      ]
    },
    {
      "cell_type": "code",
      "source": [
        "import numpy as np\n",
        "\n",
        "# Results of Training\n",
        "clean_train_losses = []\n",
        "noisy_train_losses = []\n",
        "wers_epoch = []\n",
        "cers_epoch = []\n",
        "\n",
        "\n",
        "Training_Result = (clean_train_losses, noisy_train_losses, wers_epoch, cers_epoch)"
      ],
      "metadata": {
        "id": "zO2yV0QJQ12y"
      },
      "execution_count": 28,
      "outputs": []
    },
    {
      "cell_type": "code",
      "source": [
        "use_cuda = torch.cuda.is_available()\n",
        "kwargs = {'num_workers': 1, 'pin_memory': True} if use_cuda else {}\n",
        "train_clean_loader = torch.utils.data.DataLoader(dataset=drvctk_train_dataset,\n",
        "                                batch_size=batch_size_train,\n",
        "                                shuffle=True,\n",
        "                                collate_fn=lambda x: processing_collate_fn(x, type1=\"train\", type2 = \"clean\"),\n",
        "                                **kwargs)\n",
        "test_clean_loader = torch.utils.data.DataLoader(dataset=drvctk_test_dataset,\n",
        "                            batch_size=batch_size_train,\n",
        "                            shuffle=False,\n",
        "                            collate_fn=lambda x: processing_collate_fn(x, type1=\"valid\", type2 = \"clean\"),\n",
        "                            **kwargs)\n",
        "\n",
        "train_noisy_loader = torch.utils.data.DataLoader(dataset=drvctk_train_dataset,\n",
        "                            batch_size=batch_size_train,\n",
        "                            shuffle=True,\n",
        "                            collate_fn=lambda x: processing_collate_fn(x, type1=\"train\", type2 = \"noisy\"),\n",
        "                            **kwargs)\n",
        "test_noisy_loader = torch.utils.data.DataLoader(dataset=drvctk_test_dataset,\n",
        "                            batch_size=batch_size_train,\n",
        "                            shuffle=False,\n",
        "                            collate_fn=lambda x: processing_collate_fn(x, type1=\"valid\", type2 = \"noisy\"),\n",
        "                            **kwargs)\n",
        "\n"
      ],
      "metadata": {
        "id": "zHUQySnoQ12z"
      },
      "execution_count": 29,
      "outputs": []
    },
    {
      "cell_type": "code",
      "source": [
        "optimizer = optim.AdamW(model.parameters(), learning_rate)\n",
        "criterion = nn.CTCLoss(blank=28, zero_infinity=True).to(device)\n",
        "scheduler = optim.lr_scheduler.OneCycleLR(optimizer, max_lr=learning_rate, \n",
        "                                        steps_per_epoch=int(len(train_clean_loader)),\n",
        "                                        epochs=20,\n",
        "                                        anneal_strategy='linear')"
      ],
      "metadata": {
        "id": "Y5pLHvYiQ12z"
      },
      "execution_count": 30,
      "outputs": []
    },
    {
      "cell_type": "code",
      "source": [
        "import math"
      ],
      "metadata": {
        "id": "ATtP_ZnvTNzQ"
      },
      "execution_count": 31,
      "outputs": []
    },
    {
      "cell_type": "code",
      "source": [
        "import copy\n",
        "\n",
        "# Train Function\n",
        "def train(Training_Result_p):\n",
        "\n",
        "  clean_train_losses, noisy_train_losses, wers_epoch, cers_epoch = Training_Result_p\n",
        "\n",
        "  # Train parameters\n",
        "  epoch = 1 # starting epoch\n",
        "\n",
        "  data_len = len(drvctk_train_dataset)\n",
        " \n",
        "  print(\"Training model\")\n",
        "\n",
        "  torch.autograd.set_detect_anomaly(True)\n",
        "\n",
        "  while ((epoch <= n_epochs) ):\n",
        "    print(\"Epoch :{}\".format(epoch))\n",
        "    print()\n",
        "    \n",
        "    # Training\n",
        "    model.train()\n",
        "    train_loss = [] # calc train loss\n",
        "    for batch_idx, _data in enumerate(train_clean_loader):\n",
        "\n",
        "      spectrograms, labels, input_lengths, label_lengths = _data \n",
        "\n",
        "      spectrograms, labels = spectrograms.to(device), labels.to(device)\n",
        "\n",
        "      optimizer.zero_grad()\n",
        "\n",
        "      output = model(spectrograms)  # (batch, time, n_class)\n",
        "      output = F.log_softmax(output, dim=2)\n",
        "      output = output.transpose(0, 1) # (time, batch, n_class)\n",
        "\n",
        "      drop = False\n",
        "      for label_sequence in range(len(label_lengths)):\n",
        "          if label_lengths[label_sequence] > 512 or label_lengths[label_sequence]+1 >= input_lengths[label_sequence]:\n",
        "            drop = True\n",
        "\n",
        "      if (drop):\n",
        "        continue\n",
        "\n",
        "      loss = criterion(output, labels, input_lengths, label_lengths)\n",
        "\n",
        "      \n",
        "      loss.backward()\n",
        "\n",
        "      torch.nn.utils.clip_grad_norm_(model.parameters(), 1.0)\n",
        "\n",
        "      if (not math.isnan(loss.item())) and (loss.item() != float(\"inf\")):\n",
        "          train_loss.append(loss.item())\n",
        "      if batch_idx % 100 == 0 or batch_idx == data_len:\n",
        "          print('++++++++Train Epoch: {} [{}/{} ({:.0f}%)]\\tLoss: {:.6f}++++++++++++++++'.format(\n",
        "              epoch, batch_idx * len(spectrograms), data_len,\n",
        "              100. * batch_idx / len(train_clean_loader), loss.item()))\n",
        "\n",
        "      optimizer.step()\n",
        "      scheduler.step()\n",
        "    \n",
        "    clean_train_losses.append(train_loss / len(drvctk_train_dataset))\n",
        "\n",
        "    # Evaluation \n",
        "    model.eval()\n",
        "    test_loss = 0\n",
        "    test_cer, test_wer = [], []\n",
        "    with torch.no_grad():\n",
        "      for batch_idx, _data in enumerate(test_clean_loader):\n",
        "\n",
        "        spectrograms, labels, input_lengths, label_lengths = _data \n",
        "\n",
        "        spectrograms, labels = spectrograms.to(device), labels.to(device)\n",
        "\n",
        "        output = model(spectrograms)  # (batch, time, n_class)\n",
        "        output = F.log_softmax(output, dim=2)\n",
        "        output = output.transpose(0, 1) # (time, batch, n_class)\n",
        "\n",
        "        loss = criterion(output, labels, input_lengths, label_lengths)\n",
        "        test_loss += loss.item() \n",
        "\n",
        "        decoded_preds, decoded_targets = GreedyDecoder(output.transpose(0, 1), labels, label_lengths)\n",
        "\n",
        "        for j in range(len(decoded_preds)):\n",
        "            test_cer.append(cer(decoded_targets[j], decoded_preds[j]))\n",
        "            test_wer.append(wer(decoded_targets[j], decoded_preds[j]))\n",
        "\n",
        "\n",
        "    avg_cer = sum(test_cer)/len(test_cer)\n",
        "    avg_wer = sum(test_wer)/len(test_wer)\n",
        "\n",
        "    wers_epoch.append(avg_wer)\n",
        "    cers_epoch.append(avg_cer)\n",
        "\n",
        "    print('Epoch: {}, Test Average loss: {:.4f}, Average CER: {:4f} Average WER: {:.4f}\\n'.format(epoch,test_loss/len(drvctk_test_dataset), avg_cer, avg_wer))\n",
        "\n",
        "    torch.save(model, '/content/drive/My Drive/DLS_Project/best_deep_s.pt')\n",
        "\n",
        "    print(\"Switching to Noisy Data\")\n",
        "\n",
        "    # Training\n",
        "    model.train()\n",
        "    train_loss = [] # calc train loss\n",
        "    for batch_idx, _data in enumerate(train_noisy_loader):\n",
        "\n",
        "      spectrograms, labels, input_lengths, label_lengths = _data \n",
        "\n",
        "      spectrograms, labels = spectrograms.to(device), labels.to(device)\n",
        "\n",
        "      optimizer.zero_grad()\n",
        "\n",
        "      output = model(spectrograms)  # (batch, time, n_class)\n",
        "      output = F.log_softmax(output, dim=2)\n",
        "      output = output.transpose(0, 1) # (time, batch, n_class)\n",
        "\n",
        "      drop = False\n",
        "      for label_sequence in range(len(label_lengths)):\n",
        "          if label_lengths[label_sequence] > 512 or label_lengths[label_sequence]+1 >= input_lengths[label_sequence]:\n",
        "            drop = True\n",
        "\n",
        "      if (drop):\n",
        "        continue\n",
        "\n",
        "      loss = criterion(output, labels, input_lengths, label_lengths)\n",
        "\n",
        "      \n",
        "      loss.backward()\n",
        "\n",
        "      torch.nn.utils.clip_grad_norm_(model.parameters(), 1.0)\n",
        "\n",
        "      if (not math.isnan(loss.item())) and (loss.item() != float(\"inf\")):\n",
        "          train_loss.append(loss.item())\n",
        "      if batch_idx % 100 == 0 or batch_idx == data_len:\n",
        "          print('++++++++Train Epoch: {} [{}/{} ({:.0f}%)]\\tLoss: {:.6f}++++++++++++++++'.format(\n",
        "              epoch, batch_idx * len(spectrograms), data_len,\n",
        "              100. * batch_idx / len(train_noisy_loader), loss.item()))\n",
        "\n",
        "      optimizer.step()\n",
        "      scheduler.step()\n",
        "    \n",
        "    noisy_train_losses.append(train_loss / len(drvctk_train_dataset))\n",
        "\n",
        "    # Evaluation \n",
        "    model.eval()\n",
        "    test_loss = 0\n",
        "    test_cer, test_wer = [], []\n",
        "    with torch.no_grad():\n",
        "      for batch_idx, _data in enumerate(test_noisy_loader):\n",
        "\n",
        "        spectrograms, labels, input_lengths, label_lengths = _data \n",
        "\n",
        "        spectrograms, labels = spectrograms.to(device), labels.to(device)\n",
        "\n",
        "        output = model(spectrograms)  # (batch, time, n_class)\n",
        "        output = F.log_softmax(output, dim=2)\n",
        "        output = output.transpose(0, 1) # (time, batch, n_class)\n",
        "\n",
        "        loss = criterion(output, labels, input_lengths, label_lengths)\n",
        "        test_loss += loss.item() \n",
        "\n",
        "        decoded_preds, decoded_targets = GreedyDecoder(output.transpose(0, 1), labels, label_lengths)\n",
        "\n",
        "        for j in range(len(decoded_preds)):\n",
        "            test_cer.append(cer(decoded_targets[j], decoded_preds[j]))\n",
        "            test_wer.append(wer(decoded_targets[j], decoded_preds[j]))\n",
        "\n",
        "\n",
        "    avg_cer = sum(test_cer)/len(test_cer)\n",
        "    avg_wer = sum(test_wer)/len(test_wer)\n",
        "\n",
        "    wers_epoch.append(avg_wer)\n",
        "    cers_epoch.append(avg_cer)\n",
        "\n",
        "    print('Epoch: {}, Test Average loss: {:.4f}, Average CER: {:4f} Average WER: {:.4f}\\n'.format(epoch,test_loss/len(drvctk_test_dataset), avg_cer, avg_wer))\n",
        "\n",
        "    torch.save(model, '/content/drive/My Drive/DLS_Project/best_deep_s.pt')\n",
        "    \n",
        "    # increment epoch after both clean and noisy data\n",
        "    epoch += 1\n",
        "  \n",
        "\n",
        "  Training_Return = (clean_train_losses, noisy_train_losses, wers_epoch, cers_epoch)\n",
        "  return Training_Return"
      ],
      "metadata": {
        "id": "GWpp7YKqQ12z"
      },
      "execution_count": 32,
      "outputs": []
    },
    {
      "cell_type": "code",
      "source": [
        "# Train \n",
        "print(model)\n",
        "print('Num Model Parameters', sum([param.nelement() for param in model.parameters()]))\n",
        "\n",
        "print(\"Training!\")\n",
        "res = train(Training_Result)\n",
        "\n",
        "clean_train_losses, noisy_train_losses, wers_epoch, cers_epoch = res"
      ],
      "metadata": {
        "colab": {
          "base_uri": "https://localhost:8080/"
        },
        "id": "MokpazodCvf5",
        "outputId": "7f5d31c1-4c83-4199-ca71-b8c7f54853e6"
      },
      "execution_count": 27,
      "outputs": [
        {
          "output_type": "stream",
          "name": "stdout",
          "text": [
            "SpeechRecognitionModel(\n",
            "  (cnn): Conv2d(1, 32, kernel_size=(3, 3), stride=(2, 2), padding=(1, 1))\n",
            "  (rescnn_layers): Sequential(\n",
            "    (0): ResidualCNN(\n",
            "      (cnn1): Conv2d(32, 32, kernel_size=(3, 3), stride=(1, 1), padding=(1, 1))\n",
            "      (cnn2): Conv2d(32, 32, kernel_size=(3, 3), stride=(1, 1), padding=(1, 1))\n",
            "      (dropout1): Dropout(p=0.1, inplace=False)\n",
            "      (dropout2): Dropout(p=0.1, inplace=False)\n",
            "      (layer_norm1): CNNLayerNorm(\n",
            "        (layer_norm): LayerNorm((64,), eps=1e-05, elementwise_affine=True)\n",
            "      )\n",
            "      (layer_norm2): CNNLayerNorm(\n",
            "        (layer_norm): LayerNorm((64,), eps=1e-05, elementwise_affine=True)\n",
            "      )\n",
            "    )\n",
            "    (1): ResidualCNN(\n",
            "      (cnn1): Conv2d(32, 32, kernel_size=(3, 3), stride=(1, 1), padding=(1, 1))\n",
            "      (cnn2): Conv2d(32, 32, kernel_size=(3, 3), stride=(1, 1), padding=(1, 1))\n",
            "      (dropout1): Dropout(p=0.1, inplace=False)\n",
            "      (dropout2): Dropout(p=0.1, inplace=False)\n",
            "      (layer_norm1): CNNLayerNorm(\n",
            "        (layer_norm): LayerNorm((64,), eps=1e-05, elementwise_affine=True)\n",
            "      )\n",
            "      (layer_norm2): CNNLayerNorm(\n",
            "        (layer_norm): LayerNorm((64,), eps=1e-05, elementwise_affine=True)\n",
            "      )\n",
            "    )\n",
            "    (2): ResidualCNN(\n",
            "      (cnn1): Conv2d(32, 32, kernel_size=(3, 3), stride=(1, 1), padding=(1, 1))\n",
            "      (cnn2): Conv2d(32, 32, kernel_size=(3, 3), stride=(1, 1), padding=(1, 1))\n",
            "      (dropout1): Dropout(p=0.1, inplace=False)\n",
            "      (dropout2): Dropout(p=0.1, inplace=False)\n",
            "      (layer_norm1): CNNLayerNorm(\n",
            "        (layer_norm): LayerNorm((64,), eps=1e-05, elementwise_affine=True)\n",
            "      )\n",
            "      (layer_norm2): CNNLayerNorm(\n",
            "        (layer_norm): LayerNorm((64,), eps=1e-05, elementwise_affine=True)\n",
            "      )\n",
            "    )\n",
            "  )\n",
            "  (fully_connected): Linear(in_features=2048, out_features=512, bias=True)\n",
            "  (birnn_layers): Sequential(\n",
            "    (0): BidirectionalGRU(\n",
            "      (BiGRU): GRU(512, 512, batch_first=True, bidirectional=True)\n",
            "      (layer_norm): LayerNorm((512,), eps=1e-05, elementwise_affine=True)\n",
            "      (dropout): Dropout(p=0.1, inplace=False)\n",
            "    )\n",
            "    (1): BidirectionalGRU(\n",
            "      (BiGRU): GRU(1024, 512, bidirectional=True)\n",
            "      (layer_norm): LayerNorm((1024,), eps=1e-05, elementwise_affine=True)\n",
            "      (dropout): Dropout(p=0.1, inplace=False)\n",
            "    )\n",
            "    (2): BidirectionalGRU(\n",
            "      (BiGRU): GRU(1024, 512, bidirectional=True)\n",
            "      (layer_norm): LayerNorm((1024,), eps=1e-05, elementwise_affine=True)\n",
            "      (dropout): Dropout(p=0.1, inplace=False)\n",
            "    )\n",
            "    (3): BidirectionalGRU(\n",
            "      (BiGRU): GRU(1024, 512, bidirectional=True)\n",
            "      (layer_norm): LayerNorm((1024,), eps=1e-05, elementwise_affine=True)\n",
            "      (dropout): Dropout(p=0.1, inplace=False)\n",
            "    )\n",
            "    (4): BidirectionalGRU(\n",
            "      (BiGRU): GRU(1024, 512, bidirectional=True)\n",
            "      (layer_norm): LayerNorm((1024,), eps=1e-05, elementwise_affine=True)\n",
            "      (dropout): Dropout(p=0.1, inplace=False)\n",
            "    )\n",
            "  )\n",
            "  (classifier): Sequential(\n",
            "    (0): Linear(in_features=1024, out_features=512, bias=True)\n",
            "    (1): GELU(approximate='none')\n",
            "    (2): Dropout(p=0.1, inplace=False)\n",
            "    (3): Linear(in_features=512, out_features=29, bias=True)\n",
            "  )\n",
            ")\n",
            "Num Model Parameters 23705373\n",
            "Training!\n",
            "Epoch :1\n",
            "\n",
            "++++++++Train Epoch: 1 [0/11572 (0%)]\tLoss: 9.111658++++++++++++++++\n",
            "++++++++Train Epoch: 1 [1500/11572 (13%)]\tLoss: 2.935668++++++++++++++++\n",
            "++++++++Train Epoch: 1 [3000/11572 (26%)]\tLoss: 2.948955++++++++++++++++\n",
            "++++++++Train Epoch: 1 [4500/11572 (39%)]\tLoss: 2.953876++++++++++++++++\n",
            "++++++++Train Epoch: 1 [6000/11572 (52%)]\tLoss: 2.974118++++++++++++++++\n",
            "++++++++Train Epoch: 1 [7500/11572 (65%)]\tLoss: 2.884999++++++++++++++++\n",
            "++++++++Train Epoch: 1 [9000/11572 (78%)]\tLoss: 2.836777++++++++++++++++\n",
            "++++++++Train Epoch: 1 [10500/11572 (91%)]\tLoss: 2.803380++++++++++++++++\n",
            "\n",
            "evaluating…\n",
            "Test set: Average loss: 2.6710, Average CER: 0.930509 Average WER: 0.9971\n",
            "\n",
            "Switching to Noisy Data\n",
            "++++++++Train Epoch: 1 [0/11572 (0%)]\tLoss: 2.980884++++++++++++++++\n",
            "++++++++Train Epoch: 1 [1500/11572 (13%)]\tLoss: 2.644198++++++++++++++++\n",
            "++++++++Train Epoch: 1 [3000/11572 (26%)]\tLoss: 2.549384++++++++++++++++\n",
            "++++++++Train Epoch: 1 [4500/11572 (39%)]\tLoss: 2.505565++++++++++++++++\n",
            "++++++++Train Epoch: 1 [6000/11572 (52%)]\tLoss: 2.540947++++++++++++++++\n",
            "++++++++Train Epoch: 1 [7500/11572 (65%)]\tLoss: 2.453830++++++++++++++++\n",
            "++++++++Train Epoch: 1 [9000/11572 (78%)]\tLoss: 2.431526++++++++++++++++\n",
            "++++++++Train Epoch: 1 [10500/11572 (91%)]\tLoss: 2.410410++++++++++++++++\n",
            "\n",
            "evaluating…\n",
            "Test set: Average loss: 2.4254, Average CER: 0.677178 Average WER: 1.0924\n",
            "\n",
            "Epoch :2\n",
            "\n",
            "++++++++Train Epoch: 2 [0/11572 (0%)]\tLoss: 2.317916++++++++++++++++\n",
            "++++++++Train Epoch: 2 [1500/11572 (13%)]\tLoss: 2.101047++++++++++++++++\n",
            "++++++++Train Epoch: 2 [3000/11572 (26%)]\tLoss: 2.040599++++++++++++++++\n",
            "++++++++Train Epoch: 2 [4500/11572 (39%)]\tLoss: 2.172238++++++++++++++++\n",
            "++++++++Train Epoch: 2 [6000/11572 (52%)]\tLoss: 2.058380++++++++++++++++\n",
            "++++++++Train Epoch: 2 [7500/11572 (65%)]\tLoss: 1.948295++++++++++++++++\n",
            "++++++++Train Epoch: 2 [9000/11572 (78%)]\tLoss: 1.724047++++++++++++++++\n",
            "++++++++Train Epoch: 2 [10500/11572 (91%)]\tLoss: 1.711436++++++++++++++++\n",
            "\n",
            "evaluating…\n",
            "Test set: Average loss: 1.8517, Average CER: 0.509671 Average WER: 0.9533\n",
            "\n",
            "Switching to Noisy Data\n",
            "++++++++Train Epoch: 2 [0/11572 (0%)]\tLoss: 2.588332++++++++++++++++\n",
            "++++++++Train Epoch: 2 [1500/11572 (13%)]\tLoss: 2.214920++++++++++++++++\n",
            "++++++++Train Epoch: 2 [3000/11572 (26%)]\tLoss: 2.145808++++++++++++++++\n",
            "++++++++Train Epoch: 2 [4500/11572 (39%)]\tLoss: 2.125967++++++++++++++++\n",
            "++++++++Train Epoch: 2 [6000/11572 (52%)]\tLoss: 2.047584++++++++++++++++\n",
            "++++++++Train Epoch: 2 [7500/11572 (65%)]\tLoss: 1.919502++++++++++++++++\n",
            "++++++++Train Epoch: 2 [9000/11572 (78%)]\tLoss: 2.109195++++++++++++++++\n",
            "++++++++Train Epoch: 2 [10500/11572 (91%)]\tLoss: 2.000777++++++++++++++++\n",
            "\n",
            "evaluating…\n",
            "Test set: Average loss: 2.1152, Average CER: 0.573457 Average WER: 0.9402\n",
            "\n",
            "Epoch :3\n",
            "\n",
            "++++++++Train Epoch: 3 [0/11572 (0%)]\tLoss: 1.956741++++++++++++++++\n",
            "++++++++Train Epoch: 3 [1500/11572 (13%)]\tLoss: 1.766502++++++++++++++++\n",
            "++++++++Train Epoch: 3 [3000/11572 (26%)]\tLoss: 1.769219++++++++++++++++\n",
            "++++++++Train Epoch: 3 [4500/11572 (39%)]\tLoss: 1.662487++++++++++++++++\n",
            "++++++++Train Epoch: 3 [6000/11572 (52%)]\tLoss: 1.549981++++++++++++++++\n",
            "++++++++Train Epoch: 3 [7500/11572 (65%)]\tLoss: 1.610122++++++++++++++++\n",
            "++++++++Train Epoch: 3 [9000/11572 (78%)]\tLoss: 1.521779++++++++++++++++\n",
            "++++++++Train Epoch: 3 [10500/11572 (91%)]\tLoss: 1.531994++++++++++++++++\n",
            "\n",
            "evaluating…\n",
            "Test set: Average loss: 1.6594, Average CER: 0.463110 Average WER: 0.8575\n",
            "\n",
            "Switching to Noisy Data\n",
            "++++++++Train Epoch: 3 [0/11572 (0%)]\tLoss: 2.230558++++++++++++++++\n",
            "++++++++Train Epoch: 3 [1500/11572 (13%)]\tLoss: 1.827030++++++++++++++++\n",
            "++++++++Train Epoch: 3 [3000/11572 (26%)]\tLoss: 1.851451++++++++++++++++\n",
            "++++++++Train Epoch: 3 [4500/11572 (39%)]\tLoss: 1.982674++++++++++++++++\n",
            "++++++++Train Epoch: 3 [6000/11572 (52%)]\tLoss: 1.781752++++++++++++++++\n",
            "++++++++Train Epoch: 3 [7500/11572 (65%)]\tLoss: 1.704154++++++++++++++++\n",
            "++++++++Train Epoch: 3 [9000/11572 (78%)]\tLoss: 1.634221++++++++++++++++\n",
            "++++++++Train Epoch: 3 [10500/11572 (91%)]\tLoss: 1.901335++++++++++++++++\n",
            "\n",
            "evaluating…\n",
            "Test set: Average loss: 2.0128, Average CER: 0.546908 Average WER: 0.9092\n",
            "\n",
            "Epoch :4\n",
            "\n",
            "++++++++Train Epoch: 4 [0/11572 (0%)]\tLoss: 1.796937++++++++++++++++\n",
            "++++++++Train Epoch: 4 [1500/11572 (13%)]\tLoss: 1.666717++++++++++++++++\n",
            "++++++++Train Epoch: 4 [3000/11572 (26%)]\tLoss: 1.444167++++++++++++++++\n",
            "++++++++Train Epoch: 4 [4500/11572 (39%)]\tLoss: 1.689073++++++++++++++++\n",
            "++++++++Train Epoch: 4 [6000/11572 (52%)]\tLoss: 1.526284++++++++++++++++\n",
            "++++++++Train Epoch: 4 [7500/11572 (65%)]\tLoss: 1.311661++++++++++++++++\n",
            "++++++++Train Epoch: 4 [9000/11572 (78%)]\tLoss: 1.464658++++++++++++++++\n",
            "++++++++Train Epoch: 4 [10500/11572 (91%)]\tLoss: 1.519082++++++++++++++++\n",
            "\n",
            "evaluating…\n",
            "Test set: Average loss: 1.4143, Average CER: 0.391401 Average WER: 0.8079\n",
            "\n",
            "Switching to Noisy Data\n",
            "++++++++Train Epoch: 4 [0/11572 (0%)]\tLoss: 1.939929++++++++++++++++\n",
            "++++++++Train Epoch: 4 [1500/11572 (13%)]\tLoss: 1.685738++++++++++++++++\n",
            "++++++++Train Epoch: 4 [3000/11572 (26%)]\tLoss: 1.671604++++++++++++++++\n",
            "++++++++Train Epoch: 4 [4500/11572 (39%)]\tLoss: 1.624133++++++++++++++++\n",
            "++++++++Train Epoch: 4 [6000/11572 (52%)]\tLoss: 1.700594++++++++++++++++\n",
            "++++++++Train Epoch: 4 [7500/11572 (65%)]\tLoss: 1.568037++++++++++++++++\n",
            "++++++++Train Epoch: 4 [9000/11572 (78%)]\tLoss: 1.638615++++++++++++++++\n",
            "++++++++Train Epoch: 4 [10500/11572 (91%)]\tLoss: 1.633936++++++++++++++++\n",
            "\n",
            "evaluating…\n",
            "Test set: Average loss: 1.8617, Average CER: 0.507901 Average WER: 0.8830\n",
            "\n",
            "Epoch :5\n",
            "\n",
            "++++++++Train Epoch: 5 [0/11572 (0%)]\tLoss: 1.599609++++++++++++++++\n",
            "++++++++Train Epoch: 5 [1500/11572 (13%)]\tLoss: 1.458287++++++++++++++++\n",
            "++++++++Train Epoch: 5 [3000/11572 (26%)]\tLoss: 1.226761++++++++++++++++\n",
            "++++++++Train Epoch: 5 [4500/11572 (39%)]\tLoss: 1.224484++++++++++++++++\n",
            "++++++++Train Epoch: 5 [6000/11572 (52%)]\tLoss: 1.342900++++++++++++++++\n",
            "++++++++Train Epoch: 5 [7500/11572 (65%)]\tLoss: 1.232685++++++++++++++++\n",
            "++++++++Train Epoch: 5 [9000/11572 (78%)]\tLoss: 1.383735++++++++++++++++\n",
            "++++++++Train Epoch: 5 [10500/11572 (91%)]\tLoss: 1.558535++++++++++++++++\n",
            "\n",
            "evaluating…\n",
            "Test set: Average loss: 1.3443, Average CER: 0.369921 Average WER: 0.7961\n",
            "\n",
            "Switching to Noisy Data\n",
            "++++++++Train Epoch: 5 [0/11572 (0%)]\tLoss: 1.866364++++++++++++++++\n",
            "++++++++Train Epoch: 5 [1500/11572 (13%)]\tLoss: 1.537132++++++++++++++++\n",
            "++++++++Train Epoch: 5 [3000/11572 (26%)]\tLoss: 1.656196++++++++++++++++\n",
            "++++++++Train Epoch: 5 [4500/11572 (39%)]\tLoss: 1.581265++++++++++++++++\n",
            "++++++++Train Epoch: 5 [6000/11572 (52%)]\tLoss: 1.777394++++++++++++++++\n",
            "++++++++Train Epoch: 5 [7500/11572 (65%)]\tLoss: 1.559584++++++++++++++++\n",
            "++++++++Train Epoch: 5 [9000/11572 (78%)]\tLoss: 1.719077++++++++++++++++\n",
            "++++++++Train Epoch: 5 [10500/11572 (91%)]\tLoss: 1.338716++++++++++++++++\n",
            "\n",
            "evaluating…\n",
            "Test set: Average loss: 1.8379, Average CER: 0.489388 Average WER: 0.8648\n",
            "\n",
            "Epoch :6\n",
            "\n",
            "++++++++Train Epoch: 6 [0/11572 (0%)]\tLoss: 1.392210++++++++++++++++\n",
            "++++++++Train Epoch: 6 [1500/11572 (13%)]\tLoss: 1.102595++++++++++++++++\n",
            "++++++++Train Epoch: 6 [3000/11572 (26%)]\tLoss: 1.083212++++++++++++++++\n",
            "++++++++Train Epoch: 6 [4500/11572 (39%)]\tLoss: 1.041366++++++++++++++++\n",
            "++++++++Train Epoch: 6 [6000/11572 (52%)]\tLoss: 1.237802++++++++++++++++\n",
            "++++++++Train Epoch: 6 [7500/11572 (65%)]\tLoss: 1.641379++++++++++++++++\n",
            "++++++++Train Epoch: 6 [9000/11572 (78%)]\tLoss: 0.981881++++++++++++++++\n",
            "++++++++Train Epoch: 6 [10500/11572 (91%)]\tLoss: 1.319110++++++++++++++++\n",
            "\n",
            "evaluating…\n",
            "Test set: Average loss: 1.2212, Average CER: 0.336914 Average WER: 0.7347\n",
            "\n",
            "Switching to Noisy Data\n",
            "++++++++Train Epoch: 6 [0/11572 (0%)]\tLoss: 2.097785++++++++++++++++\n",
            "++++++++Train Epoch: 6 [1500/11572 (13%)]\tLoss: 1.393673++++++++++++++++\n",
            "++++++++Train Epoch: 6 [3000/11572 (26%)]\tLoss: 1.301658++++++++++++++++\n",
            "++++++++Train Epoch: 6 [4500/11572 (39%)]\tLoss: 1.375435++++++++++++++++\n",
            "++++++++Train Epoch: 6 [6000/11572 (52%)]\tLoss: 1.603002++++++++++++++++\n",
            "++++++++Train Epoch: 6 [7500/11572 (65%)]\tLoss: 1.338153++++++++++++++++\n",
            "++++++++Train Epoch: 6 [9000/11572 (78%)]\tLoss: 1.570657++++++++++++++++\n",
            "++++++++Train Epoch: 6 [10500/11572 (91%)]\tLoss: 1.161834++++++++++++++++\n",
            "\n",
            "evaluating…\n",
            "Test set: Average loss: 1.7787, Average CER: 0.458527 Average WER: 0.8468\n",
            "\n",
            "Epoch :7\n",
            "\n",
            "++++++++Train Epoch: 7 [0/11572 (0%)]\tLoss: 1.115704++++++++++++++++\n",
            "++++++++Train Epoch: 7 [1500/11572 (13%)]\tLoss: 0.847106++++++++++++++++\n",
            "++++++++Train Epoch: 7 [3000/11572 (26%)]\tLoss: 1.150842++++++++++++++++\n",
            "++++++++Train Epoch: 7 [4500/11572 (39%)]\tLoss: 1.290024++++++++++++++++\n",
            "++++++++Train Epoch: 7 [6000/11572 (52%)]\tLoss: 1.000737++++++++++++++++\n",
            "++++++++Train Epoch: 7 [7500/11572 (65%)]\tLoss: 1.256523++++++++++++++++\n",
            "++++++++Train Epoch: 7 [9000/11572 (78%)]\tLoss: 1.051111++++++++++++++++\n",
            "++++++++Train Epoch: 7 [10500/11572 (91%)]\tLoss: 0.871871++++++++++++++++\n",
            "\n",
            "evaluating…\n",
            "Test set: Average loss: 1.1649, Average CER: 0.313305 Average WER: 0.7080\n",
            "\n",
            "Switching to Noisy Data\n",
            "++++++++Train Epoch: 7 [0/11572 (0%)]\tLoss: 1.684759++++++++++++++++\n",
            "++++++++Train Epoch: 7 [1500/11572 (13%)]\tLoss: 1.321365++++++++++++++++\n",
            "++++++++Train Epoch: 7 [3000/11572 (26%)]\tLoss: 1.830627++++++++++++++++\n",
            "++++++++Train Epoch: 7 [4500/11572 (39%)]\tLoss: 1.207624++++++++++++++++\n",
            "++++++++Train Epoch: 7 [6000/11572 (52%)]\tLoss: 1.235748++++++++++++++++\n",
            "++++++++Train Epoch: 7 [7500/11572 (65%)]\tLoss: 0.977576++++++++++++++++\n",
            "++++++++Train Epoch: 7 [9000/11572 (78%)]\tLoss: 1.215955++++++++++++++++\n",
            "++++++++Train Epoch: 7 [10500/11572 (91%)]\tLoss: 1.172051++++++++++++++++\n",
            "\n",
            "evaluating…\n",
            "Test set: Average loss: 1.7463, Average CER: 0.456870 Average WER: 0.8355\n",
            "\n",
            "Epoch :8\n",
            "\n",
            "++++++++Train Epoch: 8 [0/11572 (0%)]\tLoss: 1.127429++++++++++++++++\n",
            "++++++++Train Epoch: 8 [1500/11572 (13%)]\tLoss: 0.996734++++++++++++++++\n",
            "++++++++Train Epoch: 8 [3000/11572 (26%)]\tLoss: 1.062656++++++++++++++++\n",
            "++++++++Train Epoch: 8 [4500/11572 (39%)]\tLoss: 0.982256++++++++++++++++\n",
            "++++++++Train Epoch: 8 [6000/11572 (52%)]\tLoss: 0.854808++++++++++++++++\n",
            "++++++++Train Epoch: 8 [7500/11572 (65%)]\tLoss: 0.961772++++++++++++++++\n",
            "++++++++Train Epoch: 8 [9000/11572 (78%)]\tLoss: 0.868561++++++++++++++++\n",
            "++++++++Train Epoch: 8 [10500/11572 (91%)]\tLoss: 0.992252++++++++++++++++\n",
            "\n",
            "evaluating…\n",
            "Test set: Average loss: 1.1201, Average CER: 0.297962 Average WER: 0.6927\n",
            "\n",
            "Switching to Noisy Data\n",
            "++++++++Train Epoch: 8 [0/11572 (0%)]\tLoss: 1.693237++++++++++++++++\n",
            "++++++++Train Epoch: 8 [1500/11572 (13%)]\tLoss: 1.260140++++++++++++++++\n",
            "++++++++Train Epoch: 8 [3000/11572 (26%)]\tLoss: 1.229536++++++++++++++++\n",
            "++++++++Train Epoch: 8 [4500/11572 (39%)]\tLoss: 1.188975++++++++++++++++\n",
            "++++++++Train Epoch: 8 [6000/11572 (52%)]\tLoss: 0.998223++++++++++++++++\n",
            "++++++++Train Epoch: 8 [7500/11572 (65%)]\tLoss: 1.169791++++++++++++++++\n",
            "++++++++Train Epoch: 8 [9000/11572 (78%)]\tLoss: 1.348370++++++++++++++++\n",
            "++++++++Train Epoch: 8 [10500/11572 (91%)]\tLoss: 1.044956++++++++++++++++\n",
            "\n",
            "evaluating…\n",
            "Test set: Average loss: 1.7156, Average CER: 0.447331 Average WER: 0.8325\n",
            "\n",
            "Epoch :9\n",
            "\n",
            "++++++++Train Epoch: 9 [0/11572 (0%)]\tLoss: 1.064769++++++++++++++++\n",
            "++++++++Train Epoch: 9 [1500/11572 (13%)]\tLoss: 0.953775++++++++++++++++\n",
            "++++++++Train Epoch: 9 [3000/11572 (26%)]\tLoss: 0.885044++++++++++++++++\n",
            "++++++++Train Epoch: 9 [4500/11572 (39%)]\tLoss: 0.806414++++++++++++++++\n",
            "++++++++Train Epoch: 9 [6000/11572 (52%)]\tLoss: 0.766269++++++++++++++++\n",
            "++++++++Train Epoch: 9 [7500/11572 (65%)]\tLoss: 1.029967++++++++++++++++\n",
            "++++++++Train Epoch: 9 [9000/11572 (78%)]\tLoss: 0.866122++++++++++++++++\n",
            "++++++++Train Epoch: 9 [10500/11572 (91%)]\tLoss: 0.721280++++++++++++++++\n",
            "\n",
            "evaluating…\n",
            "Test set: Average loss: 1.1025, Average CER: 0.288154 Average WER: 0.6760\n",
            "\n",
            "Switching to Noisy Data\n",
            "++++++++Train Epoch: 9 [0/11572 (0%)]\tLoss: 1.423221++++++++++++++++\n",
            "++++++++Train Epoch: 9 [1500/11572 (13%)]\tLoss: 1.214900++++++++++++++++\n",
            "++++++++Train Epoch: 9 [3000/11572 (26%)]\tLoss: 1.210425++++++++++++++++\n",
            "++++++++Train Epoch: 9 [4500/11572 (39%)]\tLoss: 0.843606++++++++++++++++\n",
            "++++++++Train Epoch: 9 [6000/11572 (52%)]\tLoss: 1.050982++++++++++++++++\n",
            "++++++++Train Epoch: 9 [7500/11572 (65%)]\tLoss: 0.860864++++++++++++++++\n",
            "++++++++Train Epoch: 9 [9000/11572 (78%)]\tLoss: 1.087700++++++++++++++++\n",
            "++++++++Train Epoch: 9 [10500/11572 (91%)]\tLoss: 1.345636++++++++++++++++\n",
            "\n",
            "evaluating…\n",
            "Test set: Average loss: 1.7616, Average CER: 0.437237 Average WER: 0.8181\n",
            "\n",
            "Epoch :10\n",
            "\n",
            "++++++++Train Epoch: 10 [0/11572 (0%)]\tLoss: 1.228477++++++++++++++++\n",
            "++++++++Train Epoch: 10 [1500/11572 (13%)]\tLoss: 0.823864++++++++++++++++\n",
            "++++++++Train Epoch: 10 [3000/11572 (26%)]\tLoss: 0.784857++++++++++++++++\n",
            "++++++++Train Epoch: 10 [4500/11572 (39%)]\tLoss: 0.677880++++++++++++++++\n",
            "++++++++Train Epoch: 10 [6000/11572 (52%)]\tLoss: 0.674563++++++++++++++++\n",
            "++++++++Train Epoch: 10 [7500/11572 (65%)]\tLoss: 0.722994++++++++++++++++\n",
            "++++++++Train Epoch: 10 [9000/11572 (78%)]\tLoss: 0.757970++++++++++++++++\n",
            "++++++++Train Epoch: 10 [10500/11572 (91%)]\tLoss: 0.737419++++++++++++++++\n",
            "\n",
            "evaluating…\n",
            "Test set: Average loss: 1.0822, Average CER: 0.277984 Average WER: 0.6559\n",
            "\n",
            "Switching to Noisy Data\n",
            "++++++++Train Epoch: 10 [0/11572 (0%)]\tLoss: 1.201898++++++++++++++++\n",
            "++++++++Train Epoch: 10 [1500/11572 (13%)]\tLoss: 1.131637++++++++++++++++\n",
            "++++++++Train Epoch: 10 [3000/11572 (26%)]\tLoss: 1.015085++++++++++++++++\n",
            "++++++++Train Epoch: 10 [4500/11572 (39%)]\tLoss: 0.766638++++++++++++++++\n",
            "++++++++Train Epoch: 10 [6000/11572 (52%)]\tLoss: 0.889277++++++++++++++++\n",
            "++++++++Train Epoch: 10 [7500/11572 (65%)]\tLoss: 0.900597++++++++++++++++\n",
            "++++++++Train Epoch: 10 [9000/11572 (78%)]\tLoss: 1.001585++++++++++++++++\n",
            "++++++++Train Epoch: 10 [10500/11572 (91%)]\tLoss: 0.996027++++++++++++++++\n",
            "\n",
            "evaluating…\n",
            "Test set: Average loss: 1.7430, Average CER: 0.435004 Average WER: 0.8135\n",
            "\n"
          ]
        }
      ]
    },
    {
      "cell_type": "code",
      "source": [
        "x = np.linspace(1, 10, 10)\n",
        "plt.plot(x, clean_train_losses)\n",
        "plt.xlabel('Epochs')\n",
        "plt.title(\"CNN-RNN Training on DR-VCTK Clean Loss\")\n",
        "plt.show()"
      ],
      "metadata": {
        "id": "rNsxHmOOCvkh",
        "colab": {
          "base_uri": "https://localhost:8080/",
          "height": 295
        },
        "outputId": "777e0060-4a15-49cb-ccd3-ae1f497b83e2"
      },
      "execution_count": 28,
      "outputs": [
        {
          "output_type": "display_data",
          "data": {
            "text/plain": [
              "<Figure size 432x288 with 1 Axes>"
            ],
            "image/png": "[encoded data removed]"
          },
          "metadata": {
            "needs_background": "light"
          }
        }
      ]
    },
    {
      "cell_type": "code",
      "source": [
        "x = np.linspace(1, 10, 10)\n",
        "plt.plot(x, noisy_train_losses)\n",
        "plt.xlabel('Epochs')\n",
        "plt.title(\"CNN-RNN Training on DR-VCTK Noisy Loss\")\n",
        "plt.show()"
      ],
      "metadata": {
        "id": "v89VgJrpCvll",
        "colab": {
          "base_uri": "https://localhost:8080/",
          "height": 295
        },
        "outputId": "e2b435c4-0684-467f-fd81-ee9994ce6344"
      },
      "execution_count": 29,
      "outputs": [
        {
          "output_type": "display_data",
          "data": {
            "text/plain": [
              "<Figure size 432x288 with 1 Axes>"
            ],
            "image/png": "[encoded data removed]"
          },
          "metadata": {
            "needs_background": "light"
          }
        }
      ]
    },
    {
      "cell_type": "code",
      "source": [],
      "metadata": {
        "id": "TsW1o-UECvpp"
      },
      "execution_count": 29,
      "outputs": []
    },
    {
      "cell_type": "code",
      "source": [],
      "metadata": {
        "id": "rZJoxCSACvrJ"
      },
      "execution_count": 29,
      "outputs": []
    },
    {
      "cell_type": "code",
      "source": [],
      "metadata": {
        "id": "GXhwQnXRCvvC"
      },
      "execution_count": 29,
      "outputs": []
    },
    {
      "cell_type": "code",
      "source": [],
      "metadata": {
        "id": "7JaSi71ECvwf"
      },
      "execution_count": 29,
      "outputs": []
    },
    {
      "cell_type": "code",
      "source": [],
      "metadata": {
        "id": "lGPUBqXuCv06"
      },
      "execution_count": 29,
      "outputs": []
    },
    {
      "cell_type": "code",
      "source": [],
      "metadata": {
        "id": "sCa-onO6Cv2Z"
      },
      "execution_count": 29,
      "outputs": []
    },
    {
      "cell_type": "code",
      "source": [],
      "metadata": {
        "id": "_EXq4Uj14kir"
      },
      "execution_count": 29,
      "outputs": []
    },
    {
      "cell_type": "code",
      "source": [],
      "metadata": {
        "id": "M1VORrTD4kmq"
      },
      "execution_count": 29,
      "outputs": []
    },
    {
      "cell_type": "code",
      "source": [],
      "metadata": {
        "id": "ePcSXl-44kpZ"
      },
      "execution_count": 29,
      "outputs": []
    },
    {
      "cell_type": "code",
      "source": [],
      "metadata": {
        "id": "pOBIIUQv4ksS"
      },
      "execution_count": 29,
      "outputs": []
    },
    {
      "cell_type": "code",
      "source": [],
      "metadata": {
        "id": "UxNMpRlX4kvB"
      },
      "execution_count": 29,
      "outputs": []
    },
    {
      "cell_type": "code",
      "source": [
        "# Old attempt wasnt working well"
      ],
      "metadata": {
        "id": "xDxKQf_Z4kyf"
      },
      "execution_count": 30,
      "outputs": []
    },
    {
      "cell_type": "code",
      "source": [
        "# labels = [ \"'\",'|', 'A', 'B', 'C', 'D', 'E', 'F', 'G', 'H', 'I', 'J', 'K', 'L', 'M', 'N', 'O', 'P', 'Q', 'R', 'S', 'T', 'U', 'V', 'W', 'X', 'Y', 'Z']\n",
        "# print(len(labels))"
      ],
      "metadata": {
        "id": "GKtwJOx9l6tC"
      },
      "execution_count": 31,
      "outputs": []
    },
    {
      "cell_type": "code",
      "source": [
        "# Encode trasncripts\n",
        "\n",
        "# def label_to_index(word):\n",
        "#     res = []\n",
        "#     for i in range(len(word)):\n",
        "#       res.append(labels.index(word[i]))\n",
        "#     # Return the position of the word in labels\n",
        "#     return res\n",
        "\n",
        "# def index_to_label(index):\n",
        "#     # Return the word corresponding to the index in labels\n",
        "#     # This is the inverse of label_to_index\n",
        "#     res = []\n",
        "#     for i in index:\n",
        "#       ch = labels[i]\n",
        "#       res.append(ch)\n",
        "#     return \"\".join(res)"
      ],
      "metadata": {
        "id": "Cqw7DpU7l6wB"
      },
      "execution_count": 32,
      "outputs": []
    },
    {
      "cell_type": "code",
      "source": [
        "# # Prepreoccessing the spectrograms for train and validation\n",
        "# train_audio_transforms = torch.nn.Sequential(\n",
        "#     torchaudio.transforms.MelSpectrogram(sample_rate=16000, n_mels=128),\n",
        "#     torchaudio.transforms.FrequencyMasking(freq_mask_param=15),\n",
        "#     torchaudio.transforms.TimeMasking(time_mask_param=35)\n",
        "# )\n",
        "\n",
        "# valid_audio_transforms = torchaudio.transforms.MelSpectrogram()"
      ],
      "metadata": {
        "id": "TAJEG-3n5FmO"
      },
      "execution_count": 33,
      "outputs": []
    },
    {
      "cell_type": "code",
      "source": [
        "\n",
        "# def processing(data, type_data=\"train\", type_data2 = \"clean\"):\n",
        "\n",
        "#     spectrograms = []\n",
        "#     labels = []\n",
        "#     input_lengths = []\n",
        "#     label_lengths = []\n",
        "\n",
        "#     for clean_waveform, _, noisy_waveform, _, speaker_id, utterance_id, _, _ in data:\n",
        "\n",
        "#         if type_data == 'train':\n",
        "#           if type_data2 == \"clean\":\n",
        "#             spec = train_audio_transforms(clean_waveform).squeeze(0).transpose(0, 1)\n",
        "#           else:\n",
        "#             spec = train_audio_transforms(noisy_waveform).squeeze(0).transpose(0, 1)\n",
        "#         else:\n",
        "#             if type_data2 == \"clean\":\n",
        "#               spec = valid_audio_transforms(clean_waveform).squeeze(0).transpose(0, 1)\n",
        "#             else:\n",
        "#               spec = valid_audio_transforms(noisy_waveform).squeeze(0).transpose(0, 1)\n",
        "\n",
        "\n",
        "#         spectrograms.append(spec)\n",
        "#         label = torch.Tensor(label_to_index(speaker_utterance_final[speaker_id][utterance_id]))\n",
        "#         labels.append(label)\n",
        "#         input_lengths.append(spec.shape[0]//2)\n",
        "#         label_lengths.append(len(label))\n",
        "\n",
        "#     spectrograms = torch.nn.utils.rnn.pad_sequence(spectrograms, batch_first=True).unsqueeze(1).transpose(2, 3)\n",
        "#     labels = torch.nn.utils.rnn.pad_sequence(labels, batch_first=True)\n",
        "\n",
        "#     return spectrograms, labels, input_lengths, label_lengths"
      ],
      "metadata": {
        "id": "bwpwXeb93rvu"
      },
      "execution_count": 34,
      "outputs": []
    },
    {
      "cell_type": "code",
      "source": [],
      "metadata": {
        "id": "2z4RAjS3y4K7"
      },
      "execution_count": 34,
      "outputs": []
    },
    {
      "cell_type": "code",
      "source": [
        "# # Building the network\n",
        "# import torch.nn as nn\n",
        "# import torch.nn.functional as F\n",
        "# import torch.optim as optim\n",
        "\n",
        "# class CNNLayerNorm(nn.Module):\n",
        "#     # \"\"\"Layer normalization built for cnns input\"\"\"\n",
        "#     def __init__(self, n_feats):\n",
        "#         super(CNNLayerNorm, self).__init__()\n",
        "#         self.layer_norm = nn.LayerNorm(n_feats)\n",
        "\n",
        "#     def forward(self, x):\n",
        "#         # x (batch, channel, feature, time)\n",
        "#         x = x.transpose(2, 3).contiguous() # (batch, channel, time, feature)\n",
        "#         x = self.layer_norm(x)\n",
        "#         return x.transpose(2, 3).contiguous() # (batch, channel, feature, time) \n",
        "\n",
        "# class ResidualCNN(nn.Module):\n",
        "#     # \"\"\"Residual CNN inspired by https://arxiv.org/pdf/1603.05027.pdf\n",
        "#     #     except with layer norm instead of batch norm\n",
        "#     # \"\"\"\n",
        "#     def __init__(self, in_channels, out_channels, kernel, stride, dropout, n_feats):\n",
        "#         super(ResidualCNN, self).__init__()\n",
        "\n",
        "#         self.cnn1 = nn.Conv2d(in_channels, out_channels, kernel, stride, padding=kernel//2)\n",
        "#         self.cnn2 = nn.Conv2d(out_channels, out_channels, kernel, stride, padding=kernel//2)\n",
        "#         self.dropout1 = nn.Dropout(dropout)\n",
        "#         self.dropout2 = nn.Dropout(dropout)\n",
        "#         self.layer_norm1 = CNNLayerNorm(n_feats)\n",
        "#         self.layer_norm2 = CNNLayerNorm(n_feats)\n",
        "\n",
        "#     def forward(self, x):\n",
        "#         residual = x  # (batch, channel, feature, time)\n",
        "#         x = self.layer_norm1(x)\n",
        "#         x = F.gelu(x)\n",
        "#         x = self.dropout1(x)\n",
        "#         x = self.cnn1(x)\n",
        "#         x = self.layer_norm2(x)\n",
        "#         x = F.gelu(x)\n",
        "#         x = self.dropout2(x)\n",
        "#         x = self.cnn2(x)\n",
        "#         x += residual\n",
        "#         return x # (batch, channel, feature, time)\n",
        "        \n",
        "# class BidirectionalGRU(nn.Module):\n",
        "\n",
        "#     def __init__(self, rnn_dim, hidden_size, dropout, batch_first):\n",
        "#         super(BidirectionalGRU, self).__init__()\n",
        "\n",
        "#         self.BiGRU = nn.GRU(\n",
        "#             input_size=rnn_dim, hidden_size=hidden_size,\n",
        "#             num_layers=1, batch_first=batch_first, bidirectional=True)\n",
        "#         self.layer_norm = nn.LayerNorm(rnn_dim)\n",
        "#         self.dropout = nn.Dropout(dropout)\n",
        "\n",
        "#     def forward(self, x):\n",
        "#         x = self.layer_norm(x)\n",
        "#         x = F.gelu(x)\n",
        "#         x, _ = self.BiGRU(x)\n",
        "#         x = self.dropout(x)\n",
        "#         return x\n",
        "\n",
        "\n",
        "# class SpeechRecognitionModel(nn.Module):\n",
        "#     # \"\"\"Speech Recognition Model Inspired by DeepSpeech 2\"\"\"\n",
        "\n",
        "#     def __init__(self, n_cnn_layers, n_rnn_layers, rnn_dim, n_class, n_feats, stride=2, dropout=0.1):\n",
        "#         super(SpeechRecognitionModel, self).__init__()\n",
        "#         n_feats = n_feats//2\n",
        "#         self.cnn = nn.Conv2d(1, 32, 3, stride=stride, padding=3//2)  # cnn for extracting heirachal features\n",
        "\n",
        "#         # n residual cnn layers with filter size of 32\n",
        "#         self.rescnn_layers = nn.Sequential(*[\n",
        "#             ResidualCNN(32, 32, kernel=3, stride=1, dropout=dropout, n_feats=n_feats) \n",
        "#             for _ in range(n_cnn_layers)\n",
        "#         ])\n",
        "#         self.fully_connected = nn.Linear(n_feats*32, rnn_dim)\n",
        "#         self.birnn_layers = nn.Sequential(*[\n",
        "#             BidirectionalGRU(rnn_dim=rnn_dim if i==0 else rnn_dim*2,\n",
        "#                              hidden_size=rnn_dim, dropout=dropout, batch_first=i==0)\n",
        "#             for i in range(n_rnn_layers)\n",
        "#         ])\n",
        "#         self.classifier = nn.Sequential(\n",
        "#             nn.Linear(rnn_dim*2, rnn_dim),  # birnn returns rnn_dim*2\n",
        "#             nn.GELU(),\n",
        "#             nn.Dropout(dropout),\n",
        "#             nn.Linear(rnn_dim, n_class)\n",
        "#         )\n",
        "\n",
        "#     def forward(self, x):\n",
        "#         x = self.cnn(x)\n",
        "#         x = self.rescnn_layers(x)\n",
        "#         sizes = x.size()\n",
        "#         x = x.view(sizes[0], sizes[1] * sizes[2], sizes[3])  # (batch, feature, time)\n",
        "#         x = x.transpose(1, 2) # (batch, time, feature)\n",
        "#         x = self.fully_connected(x)\n",
        "#         x = self.birnn_layers(x)\n",
        "#         x = self.classifier(x)\n",
        "#         return x"
      ],
      "metadata": {
        "id": "LNjqo1fn3ryh"
      },
      "execution_count": 35,
      "outputs": []
    },
    {
      "cell_type": "code",
      "source": [
        "# Set Hyperparameters\n",
        "# n_epochs = 10 # max_epochs\n",
        "# batch_size_train = 20 # batch size train set\n",
        "# batch_size_test = 20 # batch size test set\n",
        "# learning_rate = 5e-4 # learn rate\n",
        "# log_interval = 1 # log every _ epoch\n",
        "\n",
        "\n",
        "# n_cnn_layers = 3\n",
        "# n_rnn_layers = 3\n",
        "# rnn_dim = 512\n",
        "# n_class = 29\n",
        "# n_feats = 128\n",
        "# stride = 2\n",
        "# dropout = .1"
      ],
      "metadata": {
        "id": "NS0rfhWKy6Bv"
      },
      "execution_count": 36,
      "outputs": []
    },
    {
      "cell_type": "code",
      "source": [
        "# model = SpeechRecognitionModel(n_cnn_layers, n_rnn_layers, rnn_dim,n_class, n_feats, stride, dropout).to(device)\n",
        "# print(model)\n",
        "# print('Num Model Parameters', sum([param.nelement() for param in model.parameters()]))"
      ],
      "metadata": {
        "id": "OzhxWrAqy0Jk"
      },
      "execution_count": 37,
      "outputs": []
    },
    {
      "cell_type": "code",
      "source": [
        "# def GreedyDecoder(output, labels, label_lengths, blank_label=28, collapse_repeated=True):\n",
        "#     arg_maxes = torch.argmax(output, dim=2) # arg max n classes\n",
        "#     decodes = []\n",
        "#     targets = []\n",
        "#     for i, args in enumerate(arg_maxes): # for sample in batch\n",
        "#         decode = []\n",
        "#         targets.append(index_to_label(labels[i][:label_lengths[i]].tolist()))\n",
        "#         for j, index in enumerate(args): # for frame in sample\n",
        "#             if index != blank_label:\n",
        "#                 if collapse_repeated and j != 0 and index == args[j -1]:\n",
        "#                     continue\n",
        "#                 decode.append(index.item())\n",
        "#         decodes.append(index_to_label(decode))\n",
        "#     return decodes, targets"
      ],
      "metadata": {
        "id": "OlnaigBx32M5"
      },
      "execution_count": 38,
      "outputs": []
    },
    {
      "cell_type": "code",
      "source": [
        "# !pip install jiwer\n",
        "# from jiwer import wer\n",
        "# from jiwer import cer"
      ],
      "metadata": {
        "id": "K8EnMmC86tp1"
      },
      "execution_count": 39,
      "outputs": []
    },
    {
      "cell_type": "code",
      "source": [
        "# import numpy as np\n",
        "\n",
        "# # Results of Training\n",
        "# losses = []\n",
        "# test_losses = []\n",
        "# wers_epoch = []\n",
        "# cers_epoch = []\n",
        "\n",
        "\n",
        "# Training_Result = (losses, test_losses, wers_epoch, cers_epoch)"
      ],
      "metadata": {
        "id": "90Pfju6GwE0Q"
      },
      "execution_count": 40,
      "outputs": []
    },
    {
      "cell_type": "code",
      "source": [
        "# use_cuda = torch.cuda.is_available()\n",
        "# kwargs = {'num_workers': 1, 'pin_memory': True} if use_cuda else {}\n",
        "# clean_train_loader = torch.utils.data.DataLoader(dataset=drvctk_train_dataset,\n",
        "#                             batch_size=batch_size_train,\n",
        "#                             shuffle=True,\n",
        "#                             collate_fn=lambda x: processing(x, 'train',\"clean\"))\n",
        "# clean_test_loader = torch.utils.data.DataLoader(dataset=drvctk_test_dataset,\n",
        "#                             batch_size=batch_size_test,\n",
        "#                             shuffle=False,\n",
        "#                             collate_fn=lambda x: processing(x, 'valid', \"clean\"))"
      ],
      "metadata": {
        "id": "0DkQwe-2yQFR"
      },
      "execution_count": 41,
      "outputs": []
    },
    {
      "cell_type": "code",
      "source": [
        "# optimizer = optim.AdamW(model.parameters(), learning_rate)\n",
        "# criterion = nn.CTCLoss(blank=28).to(device)\n",
        "# scheduler = optim.lr_scheduler.OneCycleLR(optimizer, max_lr=learning_rate, \n",
        "#                                         steps_per_epoch=int(len(clean_train_loader)),\n",
        "#                                         epochs=n_epochs,\n",
        "#                                         anneal_strategy='linear')"
      ],
      "metadata": {
        "id": "UQmDT1Cozi--"
      },
      "execution_count": 42,
      "outputs": []
    },
    {
      "cell_type": "code",
      "source": [
        "# import copy\n",
        "\n",
        "# # Train Function\n",
        "# def train(Training_Result_p):\n",
        "\n",
        "#   losses, test_losses, wers_epoch, cers_epoch = Training_Result_p\n",
        "\n",
        "#   # Train parameters\n",
        "#   epoch = 1 # starting epoch\n",
        " \n",
        "\n",
        "#   print(\"Training model\")\n",
        "\n",
        "#   while ((epoch <= n_epochs) ):\n",
        "    \n",
        "#     # Training\n",
        "#     model.train()\n",
        "#     train_loss = 0 # calc train loss\n",
        "#     for batch_idx, _data in enumerate(clean_train_loader):\n",
        "\n",
        "#       spectrograms, labels, input_lengths, label_lengths = _data \n",
        "\n",
        "#       spectrograms, labels = spectrograms.to(device), labels.to(device)\n",
        "\n",
        "#       optimizer.zero_grad()\n",
        "\n",
        "#       output = model(spectrograms)  # (batch, time, n_class)\n",
        "#       output = F.log_softmax(output, dim=2)\n",
        "#       output = output.transpose(0, 1) # (time, batch, n_class)\n",
        "\n",
        "#       loss = criterion(output, labels, input_lengths, label_lengths)\n",
        "#       loss.backward()\n",
        "\n",
        "#       train_loss += loss.item()\n",
        "\n",
        "#       if batch_idx % 100 == 0:\n",
        "#         print(\"Epoch: {} Batch: {}/ {}  Batch Loss: {}\".format(epoch, batch_idx, len(clean_train_loader), loss.item()))\n",
        "\n",
        "#       optimizer.step()\n",
        "#       scheduler.step()\n",
        "    \n",
        "#     losses.append(train_loss / len(drvctk_train_dataset))\n",
        "\n",
        "#     print('Epoch: {}, Train Average loss: {:.4f}\\n'.format(epoch,train_loss / len(drvctk_train_dataset)))\n",
        "\n",
        "#     # Evaluation \n",
        "#     model.eval()\n",
        "#     test_loss = 0\n",
        "#     test_cer, test_wer = [], []\n",
        "#     with torch.no_grad():\n",
        "#       for batch_idx, _data in enumerate(clean_test_loader):\n",
        "\n",
        "#         spectrograms, labels, input_lengths, label_lengths = _data \n",
        "\n",
        "#         spectrograms, labels = spectrograms.to(device), labels.to(device)\n",
        "\n",
        "#         output = model(spectrograms)  # (batch, time, n_class)\n",
        "#         output = F.log_softmax(output, dim=2)\n",
        "#         output = output.transpose(0, 1) # (time, batch, n_class)\n",
        "\n",
        "#         loss = criterion(output, labels, input_lengths, label_lengths)\n",
        "#         test_loss += loss.item() \n",
        "\n",
        "#         decoded_preds, decoded_targets = GreedyDecoder(output.transpose(0, 1), labels, label_lengths)\n",
        "\n",
        "#         for j in range(len(decoded_preds)):\n",
        "#             test_cer.append(cer(decoded_targets[j], decoded_preds[j]))\n",
        "#             test_wer.append(wer(decoded_targets[j], decoded_preds[j]))\n",
        "\n",
        "\n",
        "#     avg_cer = sum(test_cer)/len(test_cer)\n",
        "#     avg_wer = sum(test_wer)/len(test_wer)\n",
        "\n",
        "#     test_losses.append(test_loss/len(drvctk_test_dataset))\n",
        "#     wers_epoch.append(avg_wer)\n",
        "#     cers_epoch.append(avg_cer)\n",
        "\n",
        "#     print('Epoch: {}, Test Average loss: {:.4f}, Average CER: {:4f} Average WER: {:.4f}\\n'.format(epoch,test_loss/len(drvctk_test_dataset), avg_cer, avg_wer))\n",
        "\n",
        "#     torch.save(model, '/content/drive/My Drive/DLS_Project/best_deep_s.pt')\n",
        "    \n",
        "#     # increment epoch\n",
        "#     epoch += 1\n",
        "  \n",
        "#   print(\"Training Finished!\")\n",
        "#   Training_Return = (losses,test_losses, wers_epoch, cers_epoch)\n",
        "#   return Training_Return"
      ],
      "metadata": {
        "id": "OusvDQc_wE2x"
      },
      "execution_count": 43,
      "outputs": []
    },
    {
      "cell_type": "code",
      "source": [
        "# # Train MNIST with test set as validation\n",
        "# res = train(Training_Result)\n",
        "\n",
        "# losses,test_losses, wers_epoch, cers_epoch = res"
      ],
      "metadata": {
        "id": "RPOEkDOywE5e"
      },
      "execution_count": 44,
      "outputs": []
    },
    {
      "cell_type": "code",
      "source": [
        "# model.eval()\n",
        "# test_loss = 0\n",
        "# test_cer, test_wer = [], []\n",
        "# with torch.no_grad():\n",
        "#   for _data in clean_test_loader:\n",
        "\n",
        "#     spectrograms, labels, input_lengths, label_lengths = _data \n",
        "\n",
        "#     spectrograms, labels = spectrograms.to(device), labels.to(device)\n",
        "\n",
        "#     output = model(spectrograms)  # (batch, time, n_class)\n",
        "#     output = F.log_softmax(output, dim=2)\n",
        "#     output = output.transpose(0, 1) # (time, batch, n_class)\n",
        "\n",
        "#     loss = criterion(output, labels, input_lengths, label_lengths)\n",
        "#     test_loss += loss.item() \n",
        "\n",
        "#     print(output.transpose(0, 1))\n",
        "#     print(labels)\n",
        "#     decoded_preds, decoded_targets = GreedyDecoder(output.transpose(0, 1), labels, label_lengths)\n",
        "\n",
        "#     for j in range(len(decoded_preds)):\n",
        "#         test_cer.append(cer(decoded_targets[j], decoded_preds[j]))\n",
        "#         test_wer.append(wer(decoded_targets[j], decoded_preds[j]))\n",
        "\n",
        "\n",
        "# avg_cer = sum(test_cer)/len(test_cer)\n",
        "# avg_wer = sum(test_wer)/len(test_wer)\n",
        "\n",
        "# test_losses.append(test_loss/len(drvctk_test_dataset))\n",
        "# wers_epoch.append(avg_wer)\n",
        "# cers_epoch.append(avg_cer)"
      ],
      "metadata": {
        "id": "JRWjaqtCwE70"
      },
      "execution_count": 45,
      "outputs": []
    },
    {
      "cell_type": "code",
      "source": [],
      "metadata": {
        "id": "sET4QTMhwE-S"
      },
      "execution_count": 45,
      "outputs": []
    },
    {
      "cell_type": "code",
      "source": [],
      "metadata": {
        "id": "9Pkns_qIwFA8"
      },
      "execution_count": 45,
      "outputs": []
    },
    {
      "cell_type": "code",
      "source": [],
      "metadata": {
        "id": "-a98WxsbwFDU"
      },
      "execution_count": 45,
      "outputs": []
    },
    {
      "cell_type": "code",
      "source": [],
      "metadata": {
        "id": "2jvpdVz0wFF5"
      },
      "execution_count": 45,
      "outputs": []
    }
  ]
}
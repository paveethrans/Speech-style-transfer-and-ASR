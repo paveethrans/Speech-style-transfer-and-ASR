{
  "nbformat": 4,
  "nbformat_minor": 0,
  "metadata": {
    "colab": {
      "provenance": [],
      "authorship_tag": "ABX9TyPLiW8iljf3xw7Lp43E6HSg",
      "include_colab_link": true
    },
    "kernelspec": {
      "name": "python3",
      "display_name": "Python 3"
    },
    "language_info": {
      "name": "python"
    },
    "accelerator": "GPU",
    "gpuClass": "standard"
  },
  "cells": [
    {
      "cell_type": "markdown",
      "metadata": {
        "id": "view-in-github",
        "colab_type": "text"
      },
      "source": [
        "<a href=\"https://colab.research.google.com/github/paveethranswam/Speech-style-transfer-and-ASR/blob/main/final_Deep_Speech_2.ipynb\" target=\"_parent\"><img src=\"https://colab.research.google.com/assets/colab-badge.svg\" alt=\"Open In Colab\"/></a>"
      ]
    },
    {
      "cell_type": "code",
      "source": [
        "# Reference: https://www.assemblyai.com/blog/end-to-end-speech-recognition-pytorch/\n",
        "# https://keras.io/examples/audio/ctc_asr/"
      ],
      "metadata": {
        "id": "yt9HRuO3HlzI"
      },
      "execution_count": null,
      "outputs": []
    },
    {
      "cell_type": "code",
      "source": [
        "from google.colab import drive\n",
        "drive.mount('/content/drive')"
      ],
      "metadata": {
        "id": "aYPHIN_hILK1"
      },
      "execution_count": null,
      "outputs": []
    },
    {
      "cell_type": "code",
      "source": [
        "import torch\n",
        "import numpy as np\n",
        "import matplotlib.pyplot as plt"
      ],
      "metadata": {
        "id": "iSbeVX0Vj_f4"
      },
      "execution_count": 2,
      "outputs": []
    },
    {
      "cell_type": "code",
      "source": [
        "# Get device\n",
        "device = torch.device(\"cuda:0\" if torch.cuda.is_available() else \"cpu\")\n",
        "print(f\"Using {device} device\")"
      ],
      "metadata": {
        "colab": {
          "base_uri": "https://localhost:8080/"
        },
        "id": "QYTcOOWOkSij",
        "outputId": "ec30d65e-7a22-4143-a691-919ecf99e44b"
      },
      "execution_count": 3,
      "outputs": [
        {
          "output_type": "stream",
          "name": "stdout",
          "text": [
            "Using cuda:0 device\n"
          ]
        }
      ]
    },
    {
      "cell_type": "code",
      "source": [
        "!nvidia-smi -L"
      ],
      "metadata": {
        "colab": {
          "base_uri": "https://localhost:8080/"
        },
        "id": "33U-KgQzlWHT",
        "outputId": "c5760d50-ff7b-42c4-ae7b-0303e36bfa8e"
      },
      "execution_count": 4,
      "outputs": [
        {
          "output_type": "stream",
          "name": "stdout",
          "text": [
            "GPU 0: Tesla T4 (UUID: GPU-84983b80-bd72-455b-9d25-fe369b48bb29)\n"
          ]
        }
      ]
    },
    {
      "cell_type": "code",
      "source": [
        "# Set torch random seed \n",
        "torch.manual_seed(42)\n",
        "np.random.seed(42)\n",
        "torch.backends.cudnn.enabled = False\n",
        "torch.backends.cudnn.deterministic = True"
      ],
      "metadata": {
        "id": "EpLSmAUVlWKS"
      },
      "execution_count": 5,
      "outputs": []
    },
    {
      "cell_type": "code",
      "source": [
        "!pip install torchaudio"
      ],
      "metadata": {
        "colab": {
          "base_uri": "https://localhost:8080/"
        },
        "id": "xFF37YzPlWON",
        "outputId": "c6ad4730-a6df-46a8-a3b0-1f2d4926f11b"
      },
      "execution_count": 6,
      "outputs": [
        {
          "output_type": "stream",
          "name": "stdout",
          "text": [
            "Looking in indexes: https://pypi.org/simple, https://us-python.pkg.dev/colab-wheels/public/simple/\n",
            "Requirement already satisfied: torchaudio in /usr/local/lib/python3.8/dist-packages (0.13.0+cu116)\n",
            "Requirement already satisfied: torch==1.13.0 in /usr/local/lib/python3.8/dist-packages (from torchaudio) (1.13.0+cu116)\n",
            "Requirement already satisfied: typing-extensions in /usr/local/lib/python3.8/dist-packages (from torch==1.13.0->torchaudio) (4.4.0)\n"
          ]
        }
      ]
    },
    {
      "cell_type": "code",
      "source": [
        "import os\n",
        "\n",
        "import IPython\n",
        "import requests\n",
        "import torchaudio\n",
        "from IPython.display import Audio, display\n",
        "from torch._C import parse_schema"
      ],
      "metadata": {
        "id": "ZLtKsxXPlcQd"
      },
      "execution_count": 27,
      "outputs": []
    },
    {
      "cell_type": "code",
      "source": [
        "!unzip \"/content/drive/My Drive/DLS_Project/Dataset/DR-VCTK/DR-VCTK.zip\" -d \"./DR-VCTK\""
      ],
      "metadata": {
        "id": "FGGu-hGZlcTc"
      },
      "execution_count": null,
      "outputs": []
    },
    {
      "cell_type": "code",
      "source": [
        "DR_VCTK_DATASET_PATH = \"./DR-VCTK/\""
      ],
      "metadata": {
        "id": "hWOpYCN2kSlW"
      },
      "execution_count": 9,
      "outputs": []
    },
    {
      "cell_type": "code",
      "source": [
        "os.makedirs(DR_VCTK_DATASET_PATH, exist_ok=True)\n",
        "print(DR_VCTK_DATASET_PATH)"
      ],
      "metadata": {
        "colab": {
          "base_uri": "https://localhost:8080/"
        },
        "id": "UVfDxg9Wj_if",
        "outputId": "a739b08c-0efb-4a1c-f60c-8652a035ca75"
      },
      "execution_count": 10,
      "outputs": [
        {
          "output_type": "stream",
          "name": "stdout",
          "text": [
            "./DR-VCTK/\n"
          ]
        }
      ]
    },
    {
      "cell_type": "code",
      "source": [
        "# Getting precomputed transcript mapping\n",
        "import pickle\n",
        "from google.colab import files\n",
        "\n",
        "with open('./final_w2v_transcript_dictionary2.pkl', 'rb') as f:\n",
        "    speaker_utterance_final = pickle.load(f)"
      ],
      "metadata": {
        "id": "fj3JuKlplkqS"
      },
      "execution_count": 11,
      "outputs": []
    },
    {
      "cell_type": "code",
      "source": [
        "drvctk_train_dataset = torchaudio.datasets.DR_VCTK(DR_VCTK_DATASET_PATH, subset='train',download=False)"
      ],
      "metadata": {
        "id": "HqCcdWJ7lkuP"
      },
      "execution_count": 12,
      "outputs": []
    },
    {
      "cell_type": "code",
      "source": [
        "drvctk_test_dataset = torchaudio.datasets.DR_VCTK(DR_VCTK_DATASET_PATH, subset='test',download=False)"
      ],
      "metadata": {
        "id": "6NFSL4J5lkwk"
      },
      "execution_count": 13,
      "outputs": []
    },
    {
      "cell_type": "code",
      "source": [
        "print(len(drvctk_train_dataset))\n",
        "print(len(drvctk_test_dataset))"
      ],
      "metadata": {
        "colab": {
          "base_uri": "https://localhost:8080/"
        },
        "id": "yJ011_rrlkyr",
        "outputId": "a4ec2e55-63c5-48fd-8f59-6d6738b020b5"
      },
      "execution_count": 14,
      "outputs": [
        {
          "output_type": "stream",
          "name": "stdout",
          "text": [
            "11572\n",
            "824\n"
          ]
        }
      ]
    },
    {
      "cell_type": "code",
      "source": [
        "from torch import nn"
      ],
      "metadata": {
        "id": "7nbfV5G3GmBO"
      },
      "execution_count": 15,
      "outputs": []
    },
    {
      "cell_type": "code",
      "source": [
        "!pip install jiwer\n",
        "from jiwer import wer\n",
        "from jiwer import cer"
      ],
      "metadata": {
        "colab": {
          "base_uri": "https://localhost:8080/"
        },
        "id": "nOCcPHnKMEs3",
        "outputId": "35138362-c4d4-4298-b14b-cf0d706f100d"
      },
      "execution_count": 16,
      "outputs": [
        {
          "output_type": "stream",
          "name": "stdout",
          "text": [
            "Looking in indexes: https://pypi.org/simple, https://us-python.pkg.dev/colab-wheels/public/simple/\n",
            "Collecting jiwer\n",
            "  Downloading jiwer-2.5.1-py3-none-any.whl (15 kB)\n",
            "Collecting levenshtein==0.20.2\n",
            "  Downloading Levenshtein-0.20.2-cp38-cp38-manylinux_2_17_x86_64.manylinux2014_x86_64.whl (1.4 MB)\n",
            "\u001b[K     |████████████████████████████████| 1.4 MB 38.3 MB/s \n",
            "\u001b[?25hCollecting rapidfuzz<3.0.0,>=2.3.0\n",
            "  Downloading rapidfuzz-2.13.6-cp38-cp38-manylinux_2_17_x86_64.manylinux2014_x86_64.whl (2.2 MB)\n",
            "\u001b[K     |████████████████████████████████| 2.2 MB 60.2 MB/s \n",
            "\u001b[?25hInstalling collected packages: rapidfuzz, levenshtein, jiwer\n",
            "Successfully installed jiwer-2.5.1 levenshtein-0.20.2 rapidfuzz-2.13.6\n"
          ]
        }
      ]
    },
    {
      "cell_type": "code",
      "source": [
        "char_map = {\"'\": 0, 'a': 2, 'b': 3, 'c': 4, 'd': 5, 'e': 6, 'f': 7, 'g': 8, 'h': 9, 'i': 10, 'j': 11, 'k': 12, 'l': 13, 'm': 14, 'n': 15, 'o': 16, 'p': 17, 'q': 18, 'r': 19, 's': 20, 't': 21, 'u': 22, 'v': 23, 'w': 24, 'x': 25, 'y': 26, 'z': 27, ' ': 1}"
      ],
      "metadata": {
        "id": "5Lb1em5A-D-S"
      },
      "execution_count": 25,
      "outputs": []
    },
    {
      "cell_type": "code",
      "source": [
        "reverse_char_map = {0: \"'\", 2: 'a', 3: 'b', 4: 'c', 5: 'd', 6: 'e', 7: 'f', 8: 'g', 9: 'h', 10: 'i', 11: 'j', 12: 'k', 13: 'l', 14: 'm', 15: 'n', 16: 'o', 17: 'p', 18: 'q', 19: 'r', 20: 's', 21: 't', 22: 'u', 23: 'v', 24: 'w', 25: 'x', 26: 'y', 27: 'z', 1: ' '}"
      ],
      "metadata": {
        "id": "loAPlfrF-ID7"
      },
      "execution_count": 26,
      "outputs": []
    },
    {
      "cell_type": "code",
      "source": [
        "def label_to_index(text):\n",
        "    int_sequence = []\n",
        "    for c in text:\n",
        "        if c == ' ':\n",
        "            ch = char_map[' ']\n",
        "        else:\n",
        "            ch = char_map[c]\n",
        "        int_sequence.append(ch)\n",
        "    return int_sequence\n",
        "\n",
        "def index_to_label(labels):\n",
        "    string = []\n",
        "    for i in labels:\n",
        "        string.append(reverse_char_map[i])\n",
        "    return ''.join(string)"
      ],
      "metadata": {
        "id": "x6HUQNUe-XDt"
      },
      "execution_count": 28,
      "outputs": []
    },
    {
      "cell_type": "code",
      "source": [
        "# Transforms on input spectrograms\n",
        "\n",
        "train_audio_transforms = nn.Sequential(\n",
        "    torchaudio.transforms.MelSpectrogram(sample_rate=16000, n_mels=128),\n",
        "    torchaudio.transforms.FrequencyMasking(freq_mask_param=15),\n",
        "    torchaudio.transforms.TimeMasking(time_mask_param=35)\n",
        ")\n",
        "\n",
        "valid_audio_transforms = torchaudio.transforms.MelSpectrogram()"
      ],
      "metadata": {
        "colab": {
          "base_uri": "https://localhost:8080/"
        },
        "id": "KWvn2AV6-wXF",
        "outputId": "a1082cc4-2e02-453b-cb96-9db18bd4ebff"
      },
      "execution_count": 29,
      "outputs": [
        {
          "output_type": "stream",
          "name": "stderr",
          "text": [
            "/usr/local/lib/python3.8/dist-packages/torchaudio/functional/functional.py:571: UserWarning: At least one mel filterbank has all zero values. The value for `n_mels` (128) may be set too high. Or, the value for `n_freqs` (201) may be set too low.\n",
            "  warnings.warn(\n"
          ]
        }
      ]
    },
    {
      "cell_type": "code",
      "source": [
        "\n",
        "def processing_collate_fn(data, type1=\"train\", type2 = \"clean\"):\n",
        "\n",
        "    # returns\n",
        "    spectrograms = []\n",
        "    labels = []\n",
        "    input_lengths = []\n",
        "    label_lengths = []\n",
        "\n",
        "    for (clean_waveform, _, noisy_waveform, _, speaker_id, utterance_id, _, _) in data:\n",
        "        if type1 == 'train':\n",
        "          if type2 == 'clean':\n",
        "            spec = train_audio_transforms(clean_waveform).squeeze(0).transpose(0, 1)\n",
        "          else:\n",
        "            spec = train_audio_transforms(noisy_waveform).squeeze(0).transpose(0, 1)\n",
        "        else:\n",
        "          if type2 == 'clean':\n",
        "            spec = valid_audio_transforms(clean_waveform).squeeze(0).transpose(0, 1)\n",
        "          else:\n",
        "            spec = valid_audio_transforms(noisy_waveform).squeeze(0).transpose(0, 1)\n",
        "\n",
        "        spectrograms.append(spec)\n",
        "\n",
        "        sample_utterance = speaker_utterance_final[speaker_id][utterance_id]\n",
        "\n",
        "        sample_utterance = sample_utterance.lower()\n",
        "\n",
        "\n",
        "        res = []\n",
        "        for c_i in range(len(sample_utterance)):\n",
        "\n",
        "          if sample_utterance[c_i] == \"|\":\n",
        "            res.append(\" \") \n",
        "          else:\n",
        "            res.append(sample_utterance[c_i])\n",
        "        sample_utterance = \"\".join(res)\n",
        "\n",
        "        sample_utterance = sample_utterance.rstrip()\n",
        "\n",
        "        good = set(char_map.keys())\n",
        "        if set(sample_utterance) <= good:\n",
        "            pass\n",
        "        else:\n",
        "            print(sample_utterance)\n",
        "            print(\"Issue with Label\")\n",
        "\n",
        "  \n",
        "        label = torch.Tensor(label_to_index(sample_utterance))\n",
        "        labels.append(label)\n",
        "        input_lengths.append(spec.shape[0]//2)\n",
        "        label_lengths.append(len(label))\n",
        "\n",
        "    spectrograms = nn.utils.rnn.pad_sequence(spectrograms, batch_first=True).unsqueeze(1).transpose(2, 3)\n",
        "    labels = nn.utils.rnn.pad_sequence(labels, batch_first=True)\n",
        "\n",
        "    return spectrograms, labels, input_lengths, label_lengths"
      ],
      "metadata": {
        "id": "sgtjp4n6CvV9"
      },
      "execution_count": 30,
      "outputs": []
    },
    {
      "cell_type": "code",
      "source": [
        "import torch.nn as nn\n",
        "import torch.nn.functional as F\n",
        "import torch.optim as optim\n",
        "\n",
        "class CNNLayerNorm(nn.Module):\n",
        "    \"\"\"Layer normalization built for cnns input\"\"\"\n",
        "    def __init__(self, n_feats):\n",
        "        super(CNNLayerNorm, self).__init__()\n",
        "        self.layer_norm = nn.LayerNorm(n_feats)\n",
        "\n",
        "    def forward(self, x):\n",
        "        # x (batch, channel, feature, time)\n",
        "        x = x.transpose(2, 3).contiguous() # (batch, channel, time, feature)\n",
        "        x = self.layer_norm(x)\n",
        "        return x.transpose(2, 3).contiguous() # (batch, channel, feature, time) \n",
        "\n",
        "class ResidualCNN(nn.Module):\n",
        "    \"\"\"Residual CNN inspired by https://arxiv.org/pdf/1603.05027.pdf\n",
        "        except with layer norm instead of batch norm\n",
        "    \"\"\"\n",
        "    def __init__(self, in_channels, out_channels, kernel, stride, dropout, n_feats):\n",
        "        super(ResidualCNN, self).__init__()\n",
        "\n",
        "        self.cnn1 = nn.Conv2d(in_channels, out_channels, kernel, stride, padding=kernel//2)\n",
        "        self.cnn2 = nn.Conv2d(out_channels, out_channels, kernel, stride, padding=kernel//2)\n",
        "        self.dropout1 = nn.Dropout(dropout)\n",
        "        self.dropout2 = nn.Dropout(dropout)\n",
        "        self.layer_norm1 = CNNLayerNorm(n_feats)\n",
        "        self.layer_norm2 = CNNLayerNorm(n_feats)\n",
        "\n",
        "    def forward(self, x):\n",
        "        residual = x  # (batch, channel, feature, time)\n",
        "        x = self.layer_norm1(x)\n",
        "        x = F.gelu(x)\n",
        "        x = self.dropout1(x)\n",
        "        x = self.cnn1(x)\n",
        "        x = self.layer_norm2(x)\n",
        "        x = F.gelu(x)\n",
        "        x = self.dropout2(x)\n",
        "        x = self.cnn2(x)\n",
        "        x += residual\n",
        "        return x # (batch, channel, feature, time)\n",
        "        \n",
        "class BidirectionalGRU(nn.Module):\n",
        "\n",
        "    def __init__(self, rnn_dim, hidden_size, dropout, batch_first):\n",
        "        super(BidirectionalGRU, self).__init__()\n",
        "\n",
        "        self.BiGRU = nn.GRU(\n",
        "            input_size=rnn_dim, hidden_size=hidden_size,\n",
        "            num_layers=1, batch_first=batch_first, bidirectional=True)\n",
        "        self.layer_norm = nn.LayerNorm(rnn_dim)\n",
        "        self.dropout = nn.Dropout(dropout)\n",
        "\n",
        "    def forward(self, x):\n",
        "        x = self.layer_norm(x)\n",
        "        x = F.gelu(x)\n",
        "        x, _ = self.BiGRU(x)\n",
        "        x = self.dropout(x)\n",
        "        return x\n",
        "\n",
        "\n",
        "class SpeechRecognitionModel(nn.Module):\n",
        "    \"\"\"Speech Recognition Model Inspired by DeepSpeech 2\"\"\"\n",
        "\n",
        "    def __init__(self, n_cnn_layers, n_rnn_layers, rnn_dim, n_class, n_feats, stride=2, dropout=0.1):\n",
        "        super(SpeechRecognitionModel, self).__init__()\n",
        "        n_feats = n_feats//2\n",
        "        self.cnn = nn.Conv2d(1, 32, 3, stride=stride, padding=3//2)  # cnn for extracting heirachal features\n",
        "\n",
        "        # n residual cnn layers with filter size of 32\n",
        "        self.rescnn_layers = nn.Sequential(*[\n",
        "            ResidualCNN(32, 32, kernel=3, stride=1, dropout=dropout, n_feats=n_feats) \n",
        "            for _ in range(n_cnn_layers)\n",
        "        ])\n",
        "        self.fully_connected = nn.Linear(n_feats*32, rnn_dim)\n",
        "        self.birnn_layers = nn.Sequential(*[\n",
        "            BidirectionalGRU(rnn_dim=rnn_dim if i==0 else rnn_dim*2,\n",
        "                             hidden_size=rnn_dim, dropout=dropout, batch_first=i==0)\n",
        "            for i in range(n_rnn_layers)\n",
        "        ])\n",
        "        self.classifier = nn.Sequential(\n",
        "            nn.Linear(rnn_dim*2, rnn_dim),  # birnn returns rnn_dim*2\n",
        "            nn.GELU(),\n",
        "            nn.Dropout(dropout),\n",
        "            nn.Linear(rnn_dim, n_class)\n",
        "        )\n",
        "\n",
        "    def forward(self, x):\n",
        "        x = self.cnn(x)\n",
        "        x = self.rescnn_layers(x)\n",
        "        sizes = x.size()\n",
        "        x = x.view(sizes[0], sizes[1] * sizes[2], sizes[3])  # (batch, feature, time)\n",
        "        x = x.transpose(1, 2) # (batch, time, feature)\n",
        "        x = self.fully_connected(x)\n",
        "        x = self.birnn_layers(x)\n",
        "        x = self.classifier(x)\n",
        "        return x"
      ],
      "metadata": {
        "id": "cVFvuOi0CvXM"
      },
      "execution_count": 31,
      "outputs": []
    },
    {
      "cell_type": "code",
      "source": [
        "def GreedyDecoder(output, labels, label_lengths, blank_label=28, collapse_repeated=True):\n",
        "    arg_maxes = torch.argmax(output, dim=2)\n",
        "    decodes = []\n",
        "    targets = []\n",
        "    for i, args in enumerate(arg_maxes):\n",
        "        decode = []\n",
        "        targets.append(index_to_label(labels[i][:label_lengths[i]].tolist()))\n",
        "        for j, index in enumerate(args):\n",
        "            if index != blank_label:\n",
        "                if collapse_repeated and j != 0 and index == args[j -1]:\n",
        "                    continue\n",
        "                decode.append(index.item())\n",
        "        decodes.append(index_to_label(decode))\n",
        "    return decodes, targets"
      ],
      "metadata": {
        "id": "rmWUJe-XCvcY"
      },
      "execution_count": 32,
      "outputs": []
    },
    {
      "cell_type": "code",
      "source": [
        "import math"
      ],
      "metadata": {
        "id": "MQPAdIxpEveo"
      },
      "execution_count": 41,
      "outputs": []
    },
    {
      "cell_type": "code",
      "source": [
        "class IterMeter(object):\n",
        "    \"\"\"keeps track of total iterations\"\"\"\n",
        "    def __init__(self):\n",
        "        self.val = 0\n",
        "\n",
        "    def step(self):\n",
        "        self.val += 1\n",
        "\n",
        "    def get(self):\n",
        "        return self.val\n",
        "\n",
        "\n",
        "def train(model, device, train_loader, criterion, optimizer, scheduler, epoch, iter_meter):\n",
        "    clean_train_losses = []\n",
        "   \n",
        "    model.train()\n",
        "    data_len = len(train_loader.dataset)\n",
        "\n",
        "    torch.autograd.set_detect_anomaly(True)\n",
        "\n",
        "    for batch_idx, _data in enumerate(train_loader):\n",
        "        spectrograms, labels, input_lengths, label_lengths = _data \n",
        "        spectrograms, labels = spectrograms.to(device), labels.to(device)\n",
        "\n",
        "        optimizer.zero_grad()\n",
        "\n",
        "        output = model(spectrograms)  # (batch, time, n_class)\n",
        "        output = F.log_softmax(output, dim=2)\n",
        "        output = output.transpose(0, 1) # (time, batch, n_class)\n",
        "\n",
        "        # print(output.size())\n",
        "        # print(labels.size())\n",
        "        # print(input_lengths)\n",
        "        # print(label_lengths)\n",
        "\n",
        "        # min_expected_length = 1\n",
        "        drop = False\n",
        "        for label_sequence in range(len(label_lengths)):\n",
        "            if label_lengths[label_sequence] > 512 or label_lengths[label_sequence]+1 >= input_lengths[label_sequence]:\n",
        "              drop = True\n",
        "\n",
        "        if (drop):\n",
        "          continue\n",
        "\n",
        "        loss = criterion(output, labels, input_lengths, label_lengths)\n",
        "\n",
        "        # print(loss.item())\n",
        "        loss.backward()\n",
        "\n",
        "        torch.nn.utils.clip_grad_norm_(model.parameters(), 1.0)\n",
        "\n",
        "\n",
        "        optimizer.step()\n",
        "        scheduler.step()\n",
        "        iter_meter.step()\n",
        "\n",
        "        if (not math.isnan(loss.item())) and (loss.item() != float(\"inf\")):\n",
        "          clean_train_losses.append(loss.item())\n",
        "        if batch_idx % 100 == 0 or batch_idx == data_len:\n",
        "            print('++++++++Train Epoch: {} [{}/{} ({:.0f}%)]\\tLoss: {:.6f}++++++++++++++++'.format(\n",
        "                epoch, batch_idx * len(spectrograms), data_len,\n",
        "                100. * batch_idx / len(train_loader), loss.item()))\n",
        "            \n",
        "    return np.mean(clean_train_losses)\n",
        "\n",
        "\n",
        "def test(model, device, test_loader, criterion, epoch, iter_meter):\n",
        "    print('\\nevaluating…')\n",
        "    model.eval()\n",
        "    test_loss = 0\n",
        "    test_cer, test_wer = [], []\n",
        "    with torch.no_grad():\n",
        "        for I, _data in enumerate(test_loader):\n",
        "            spectrograms, labels, input_lengths, label_lengths = _data \n",
        "            spectrograms, labels = spectrograms.to(device), labels.to(device)\n",
        "\n",
        "            output = model(spectrograms)  # (batch, time, n_class)\n",
        "            output = F.log_softmax(output, dim=2)\n",
        "            output = output.transpose(0, 1) # (time, batch, n_class)\n",
        "\n",
        "            loss = criterion(output, labels, input_lengths, label_lengths)\n",
        "            test_loss += loss.item() / len(test_loader)\n",
        "\n",
        "            decoded_preds, decoded_targets = GreedyDecoder(output.transpose(0, 1), labels, label_lengths)\n",
        "            for j in range(len(decoded_preds)):\n",
        "                test_cer.append(cer(decoded_targets[j], decoded_preds[j]))\n",
        "                test_wer.append(wer(decoded_targets[j], decoded_preds[j]))\n",
        "\n",
        "                # print(decoded_targets[j])\n",
        "                # print(decoded_preds[j])\n",
        "\n",
        "\n",
        "    avg_cer = sum(test_cer)/len(test_cer)\n",
        "    avg_wer = sum(test_wer)/len(test_wer)\n",
        "\n",
        "\n",
        "    print('Test set: Average loss: {:.4f}, Average CER: {:4f} Average WER: {:.4f}\\n'.format(test_loss, avg_cer, avg_wer))\n",
        "\n",
        "def main(learning_rate=5e-4, batch_size=7, epochs=10,train_url=\"train-clean-100\", test_url=\"test-clean\"):\n",
        "\n",
        "    hparams = {\n",
        "        \"n_cnn_layers\": 3,\n",
        "        \"n_rnn_layers\": 5,\n",
        "        \"rnn_dim\": 512,\n",
        "        \"n_class\": 29,\n",
        "        \"n_feats\": 128,\n",
        "        \"stride\": 2,\n",
        "        \"dropout\": 0.1,\n",
        "        \"learning_rate\": learning_rate,\n",
        "        \"batch_size\": batch_size,\n",
        "        \"epochs\": epochs\n",
        "    }\n",
        "\n",
        "\n",
        "    use_cuda = torch.cuda.is_available()\n",
        "    torch.manual_seed(7)\n",
        "    device = torch.device(\"cuda\" if use_cuda else \"cpu\")\n",
        "\n",
        "\n",
        "    kwargs = {'num_workers': 1, 'pin_memory': True} if use_cuda else {}\n",
        "\n",
        "    train_clean_loader = torch.utils.data.DataLoader(dataset=drvctk_train_dataset,\n",
        "                                batch_size=hparams['batch_size'],\n",
        "                                shuffle=True,\n",
        "                                collate_fn=lambda x: processing_collate_fn(x, type1=\"train\", type2 = \"clean\"),\n",
        "                                **kwargs)\n",
        "    test_clean_loader = torch.utils.data.DataLoader(dataset=drvctk_test_dataset,\n",
        "                                batch_size=hparams['batch_size'],\n",
        "                                shuffle=False,\n",
        "                                collate_fn=lambda x: processing_collate_fn(x, type1=\"valid\", type2 = \"clean\"),\n",
        "                                **kwargs)\n",
        "    \n",
        "    train_noisy_loader = torch.utils.data.DataLoader(dataset=drvctk_train_dataset,\n",
        "                                batch_size=hparams['batch_size'],\n",
        "                                shuffle=True,\n",
        "                                collate_fn=lambda x: processing_collate_fn(x, type1=\"train\", type2 = \"noisy\"),\n",
        "                                **kwargs)\n",
        "    test_noisy_loader = torch.utils.data.DataLoader(dataset=drvctk_test_dataset,\n",
        "                                batch_size=hparams['batch_size'],\n",
        "                                shuffle=False,\n",
        "                                collate_fn=lambda x: processing_collate_fn(x, type1=\"valid\", type2 = \"noisy\"),\n",
        "                                **kwargs)\n",
        "\n",
        "    model = SpeechRecognitionModel(\n",
        "        hparams['n_cnn_layers'], hparams['n_rnn_layers'], hparams['rnn_dim'],\n",
        "        hparams['n_class'], hparams['n_feats'], hparams['stride'], hparams['dropout']\n",
        "        ).to(device)\n",
        "\n",
        "    print(model)\n",
        "    print('Num Model Parameters', sum([param.nelement() for param in model.parameters()]))\n",
        "\n",
        "    optimizer = optim.AdamW(model.parameters(), hparams['learning_rate'])\n",
        "    criterion = nn.CTCLoss(blank=28, zero_infinity=True).to(device)\n",
        "    scheduler = optim.lr_scheduler.OneCycleLR(optimizer, max_lr=hparams['learning_rate'], \n",
        "                                            steps_per_epoch=int(len(train_clean_loader)),\n",
        "                                            epochs=hparams['epochs'],\n",
        "                                            anneal_strategy='linear')\n",
        "\n",
        "    iter_meter = IterMeter()\n",
        "    final_clean_train_loss = []\n",
        "    final_noisy_train_loss = []\n",
        "    print(\"Training!\")\n",
        "    for epoch in range(1, epochs + 1):\n",
        "        print(\"Epoch :{}\".format(epoch))\n",
        "        print()\n",
        "        clean_train_loss = train(model, device, train_clean_loader, criterion, optimizer, scheduler, epoch, iter_meter)\n",
        "\n",
        "        final_clean_train_loss.append(clean_train_loss)\n",
        "        test(model, device, test_clean_loader, criterion, epoch, iter_meter)\n",
        "        print(\"Switching to Noisy Data\")\n",
        "        noisy_train_loss = train(model, device, train_noisy_loader, criterion, optimizer, scheduler, epoch, iter_meter)\n",
        "\n",
        "        final_noisy_train_loss.append(noisy_train_loss)\n",
        "        test(model, device, test_noisy_loader, criterion, epoch, iter_meter)\n",
        "\n",
        "    return final_clean_train_loss, final_noisy_train_loss"
      ],
      "metadata": {
        "id": "pDkYbVjwCvdP"
      },
      "execution_count": 42,
      "outputs": []
    },
    {
      "cell_type": "code",
      "source": [
        "clean_train_losses, noisy_train_losses =  main(learning_rate=5e-4, batch_size=15, epochs=10)"
      ],
      "metadata": {
        "colab": {
          "base_uri": "https://localhost:8080/",
          "height": 1000
        },
        "id": "MokpazodCvf5",
        "outputId": "095c3550-2044-4519-c830-8fbdf8e99b50"
      },
      "execution_count": 43,
      "outputs": [
        {
          "output_type": "stream",
          "name": "stdout",
          "text": [
            "SpeechRecognitionModel(\n",
            "  (cnn): Conv2d(1, 32, kernel_size=(3, 3), stride=(2, 2), padding=(1, 1))\n",
            "  (rescnn_layers): Sequential(\n",
            "    (0): ResidualCNN(\n",
            "      (cnn1): Conv2d(32, 32, kernel_size=(3, 3), stride=(1, 1), padding=(1, 1))\n",
            "      (cnn2): Conv2d(32, 32, kernel_size=(3, 3), stride=(1, 1), padding=(1, 1))\n",
            "      (dropout1): Dropout(p=0.1, inplace=False)\n",
            "      (dropout2): Dropout(p=0.1, inplace=False)\n",
            "      (layer_norm1): CNNLayerNorm(\n",
            "        (layer_norm): LayerNorm((64,), eps=1e-05, elementwise_affine=True)\n",
            "      )\n",
            "      (layer_norm2): CNNLayerNorm(\n",
            "        (layer_norm): LayerNorm((64,), eps=1e-05, elementwise_affine=True)\n",
            "      )\n",
            "    )\n",
            "    (1): ResidualCNN(\n",
            "      (cnn1): Conv2d(32, 32, kernel_size=(3, 3), stride=(1, 1), padding=(1, 1))\n",
            "      (cnn2): Conv2d(32, 32, kernel_size=(3, 3), stride=(1, 1), padding=(1, 1))\n",
            "      (dropout1): Dropout(p=0.1, inplace=False)\n",
            "      (dropout2): Dropout(p=0.1, inplace=False)\n",
            "      (layer_norm1): CNNLayerNorm(\n",
            "        (layer_norm): LayerNorm((64,), eps=1e-05, elementwise_affine=True)\n",
            "      )\n",
            "      (layer_norm2): CNNLayerNorm(\n",
            "        (layer_norm): LayerNorm((64,), eps=1e-05, elementwise_affine=True)\n",
            "      )\n",
            "    )\n",
            "    (2): ResidualCNN(\n",
            "      (cnn1): Conv2d(32, 32, kernel_size=(3, 3), stride=(1, 1), padding=(1, 1))\n",
            "      (cnn2): Conv2d(32, 32, kernel_size=(3, 3), stride=(1, 1), padding=(1, 1))\n",
            "      (dropout1): Dropout(p=0.1, inplace=False)\n",
            "      (dropout2): Dropout(p=0.1, inplace=False)\n",
            "      (layer_norm1): CNNLayerNorm(\n",
            "        (layer_norm): LayerNorm((64,), eps=1e-05, elementwise_affine=True)\n",
            "      )\n",
            "      (layer_norm2): CNNLayerNorm(\n",
            "        (layer_norm): LayerNorm((64,), eps=1e-05, elementwise_affine=True)\n",
            "      )\n",
            "    )\n",
            "  )\n",
            "  (fully_connected): Linear(in_features=2048, out_features=512, bias=True)\n",
            "  (birnn_layers): Sequential(\n",
            "    (0): BidirectionalGRU(\n",
            "      (BiGRU): GRU(512, 512, batch_first=True, bidirectional=True)\n",
            "      (layer_norm): LayerNorm((512,), eps=1e-05, elementwise_affine=True)\n",
            "      (dropout): Dropout(p=0.1, inplace=False)\n",
            "    )\n",
            "    (1): BidirectionalGRU(\n",
            "      (BiGRU): GRU(1024, 512, bidirectional=True)\n",
            "      (layer_norm): LayerNorm((1024,), eps=1e-05, elementwise_affine=True)\n",
            "      (dropout): Dropout(p=0.1, inplace=False)\n",
            "    )\n",
            "    (2): BidirectionalGRU(\n",
            "      (BiGRU): GRU(1024, 512, bidirectional=True)\n",
            "      (layer_norm): LayerNorm((1024,), eps=1e-05, elementwise_affine=True)\n",
            "      (dropout): Dropout(p=0.1, inplace=False)\n",
            "    )\n",
            "    (3): BidirectionalGRU(\n",
            "      (BiGRU): GRU(1024, 512, bidirectional=True)\n",
            "      (layer_norm): LayerNorm((1024,), eps=1e-05, elementwise_affine=True)\n",
            "      (dropout): Dropout(p=0.1, inplace=False)\n",
            "    )\n",
            "    (4): BidirectionalGRU(\n",
            "      (BiGRU): GRU(1024, 512, bidirectional=True)\n",
            "      (layer_norm): LayerNorm((1024,), eps=1e-05, elementwise_affine=True)\n",
            "      (dropout): Dropout(p=0.1, inplace=False)\n",
            "    )\n",
            "  )\n",
            "  (classifier): Sequential(\n",
            "    (0): Linear(in_features=1024, out_features=512, bias=True)\n",
            "    (1): GELU(approximate='none')\n",
            "    (2): Dropout(p=0.1, inplace=False)\n",
            "    (3): Linear(in_features=512, out_features=29, bias=True)\n",
            "  )\n",
            ")\n",
            "Num Model Parameters 23705373\n",
            "Training!\n",
            "Epoch :1\n",
            "\n",
            "++++++++Train Epoch: 1 [0/11572 (0%)]\tLoss: 9.111658++++++++++++++++\n",
            "++++++++Train Epoch: 1 [1500/11572 (13%)]\tLoss: 2.935236++++++++++++++++\n",
            "++++++++Train Epoch: 1 [3000/11572 (26%)]\tLoss: 2.936820++++++++++++++++\n",
            "++++++++Train Epoch: 1 [4500/11572 (39%)]\tLoss: 2.958163++++++++++++++++\n",
            "++++++++Train Epoch: 1 [6000/11572 (52%)]\tLoss: 2.957649++++++++++++++++\n",
            "++++++++Train Epoch: 1 [7500/11572 (65%)]\tLoss: 2.875622++++++++++++++++\n",
            "++++++++Train Epoch: 1 [9000/11572 (78%)]\tLoss: 2.798274++++++++++++++++\n",
            "++++++++Train Epoch: 1 [10500/11572 (91%)]\tLoss: 2.650201++++++++++++++++\n",
            "\n",
            "evaluating…\n",
            "Test set: Average loss: 2.5273, Average CER: 0.783572 Average WER: 0.9765\n",
            "\n",
            "Switching to Noisy Data\n",
            "++++++++Train Epoch: 1 [0/11572 (0%)]\tLoss: 2.855704++++++++++++++++\n",
            "++++++++Train Epoch: 1 [1500/11572 (13%)]\tLoss: 2.537178++++++++++++++++\n",
            "++++++++Train Epoch: 1 [3000/11572 (26%)]\tLoss: 2.500021++++++++++++++++\n",
            "++++++++Train Epoch: 1 [4500/11572 (39%)]\tLoss: 2.435144++++++++++++++++\n",
            "++++++++Train Epoch: 1 [6000/11572 (52%)]\tLoss: 2.449473++++++++++++++++\n",
            "++++++++Train Epoch: 1 [7500/11572 (65%)]\tLoss: 2.407045++++++++++++++++\n",
            "++++++++Train Epoch: 1 [9000/11572 (78%)]\tLoss: 2.374021++++++++++++++++\n",
            "++++++++Train Epoch: 1 [10500/11572 (91%)]\tLoss: 2.346031++++++++++++++++\n",
            "\n",
            "evaluating…\n",
            "Test set: Average loss: 2.4362, Average CER: 0.683203 Average WER: 1.0334\n",
            "\n",
            "Epoch :2\n",
            "\n",
            "++++++++Train Epoch: 2 [0/11572 (0%)]\tLoss: 2.294206++++++++++++++++\n",
            "++++++++Train Epoch: 2 [1500/11572 (13%)]\tLoss: 2.032372++++++++++++++++\n",
            "++++++++Train Epoch: 2 [3000/11572 (26%)]\tLoss: 1.960314++++++++++++++++\n",
            "++++++++Train Epoch: 2 [4500/11572 (39%)]\tLoss: 2.147189++++++++++++++++\n",
            "++++++++Train Epoch: 2 [6000/11572 (52%)]\tLoss: 2.019273++++++++++++++++\n",
            "++++++++Train Epoch: 2 [7500/11572 (65%)]\tLoss: 1.905753++++++++++++++++\n",
            "++++++++Train Epoch: 2 [9000/11572 (78%)]\tLoss: 1.724541++++++++++++++++\n",
            "++++++++Train Epoch: 2 [10500/11572 (91%)]\tLoss: 1.667552++++++++++++++++\n",
            "\n",
            "evaluating…\n",
            "Test set: Average loss: 1.8245, Average CER: 0.506097 Average WER: 0.9567\n",
            "\n",
            "Switching to Noisy Data\n",
            "++++++++Train Epoch: 2 [0/11572 (0%)]\tLoss: 2.587075++++++++++++++++\n",
            "++++++++Train Epoch: 2 [1500/11572 (13%)]\tLoss: 2.128417++++++++++++++++\n",
            "++++++++Train Epoch: 2 [3000/11572 (26%)]\tLoss: 2.087536++++++++++++++++\n",
            "++++++++Train Epoch: 2 [4500/11572 (39%)]\tLoss: 2.161254++++++++++++++++\n",
            "++++++++Train Epoch: 2 [6000/11572 (52%)]\tLoss: 1.996683++++++++++++++++\n",
            "++++++++Train Epoch: 2 [7500/11572 (65%)]\tLoss: 1.883795++++++++++++++++\n",
            "++++++++Train Epoch: 2 [9000/11572 (78%)]\tLoss: 1.963197++++++++++++++++\n",
            "++++++++Train Epoch: 2 [10500/11572 (91%)]\tLoss: 1.955581++++++++++++++++\n",
            "\n",
            "evaluating…\n",
            "Test set: Average loss: 2.0555, Average CER: 0.561716 Average WER: 0.9273\n",
            "\n",
            "Epoch :3\n",
            "\n",
            "++++++++Train Epoch: 3 [0/11572 (0%)]\tLoss: 1.895713++++++++++++++++\n",
            "++++++++Train Epoch: 3 [1500/11572 (13%)]\tLoss: 1.661747++++++++++++++++\n",
            "++++++++Train Epoch: 3 [3000/11572 (26%)]\tLoss: 1.702378++++++++++++++++\n",
            "++++++++Train Epoch: 3 [4500/11572 (39%)]\tLoss: 1.608700++++++++++++++++\n",
            "++++++++Train Epoch: 3 [6000/11572 (52%)]\tLoss: 1.437547++++++++++++++++\n",
            "++++++++Train Epoch: 3 [7500/11572 (65%)]\tLoss: 1.556119++++++++++++++++\n",
            "++++++++Train Epoch: 3 [9000/11572 (78%)]\tLoss: 1.471909++++++++++++++++\n",
            "++++++++Train Epoch: 3 [10500/11572 (91%)]\tLoss: 1.458361++++++++++++++++\n",
            "\n",
            "evaluating…\n",
            "Test set: Average loss: 1.5232, Average CER: 0.414747 Average WER: 0.8408\n",
            "\n",
            "Switching to Noisy Data\n",
            "++++++++Train Epoch: 3 [0/11572 (0%)]\tLoss: 2.131302++++++++++++++++\n",
            "++++++++Train Epoch: 3 [1500/11572 (13%)]\tLoss: 1.762002++++++++++++++++\n",
            "++++++++Train Epoch: 3 [3000/11572 (26%)]\tLoss: 1.763803++++++++++++++++\n",
            "++++++++Train Epoch: 3 [4500/11572 (39%)]\tLoss: 2.054205++++++++++++++++\n",
            "++++++++Train Epoch: 3 [6000/11572 (52%)]\tLoss: 1.625703++++++++++++++++\n",
            "++++++++Train Epoch: 3 [7500/11572 (65%)]\tLoss: 1.570924++++++++++++++++\n",
            "++++++++Train Epoch: 3 [9000/11572 (78%)]\tLoss: 1.631662++++++++++++++++\n",
            "++++++++Train Epoch: 3 [10500/11572 (91%)]\tLoss: 1.780601++++++++++++++++\n",
            "\n",
            "evaluating…\n",
            "Test set: Average loss: 1.9022, Average CER: 0.527960 Average WER: 0.8991\n",
            "\n",
            "Epoch :4\n",
            "\n",
            "++++++++Train Epoch: 4 [0/11572 (0%)]\tLoss: 1.619783++++++++++++++++\n",
            "++++++++Train Epoch: 4 [1500/11572 (13%)]\tLoss: 1.507991++++++++++++++++\n",
            "++++++++Train Epoch: 4 [3000/11572 (26%)]\tLoss: 1.418360++++++++++++++++\n",
            "++++++++Train Epoch: 4 [4500/11572 (39%)]\tLoss: 1.570052++++++++++++++++\n",
            "++++++++Train Epoch: 4 [6000/11572 (52%)]\tLoss: 1.482185++++++++++++++++\n",
            "++++++++Train Epoch: 4 [7500/11572 (65%)]\tLoss: 1.215116++++++++++++++++\n",
            "++++++++Train Epoch: 4 [9000/11572 (78%)]\tLoss: 1.423805++++++++++++++++\n",
            "++++++++Train Epoch: 4 [10500/11572 (91%)]\tLoss: 1.405681++++++++++++++++\n",
            "\n",
            "evaluating…\n",
            "Test set: Average loss: 1.4002, Average CER: 0.384424 Average WER: 0.7975\n",
            "\n",
            "Switching to Noisy Data\n",
            "++++++++Train Epoch: 4 [0/11572 (0%)]\tLoss: 1.998101++++++++++++++++\n",
            "++++++++Train Epoch: 4 [1500/11572 (13%)]\tLoss: 1.695096++++++++++++++++\n",
            "++++++++Train Epoch: 4 [3000/11572 (26%)]\tLoss: 1.685023++++++++++++++++\n",
            "++++++++Train Epoch: 4 [4500/11572 (39%)]\tLoss: 1.523144++++++++++++++++\n",
            "++++++++Train Epoch: 4 [6000/11572 (52%)]\tLoss: 1.637607++++++++++++++++\n",
            "++++++++Train Epoch: 4 [7500/11572 (65%)]\tLoss: 1.481169++++++++++++++++\n",
            "++++++++Train Epoch: 4 [9000/11572 (78%)]\tLoss: 1.480639++++++++++++++++\n",
            "++++++++Train Epoch: 4 [10500/11572 (91%)]\tLoss: 1.631787++++++++++++++++\n",
            "\n",
            "evaluating…\n",
            "Test set: Average loss: 1.8244, Average CER: 0.507380 Average WER: 0.8754\n",
            "\n",
            "Epoch :5\n",
            "\n",
            "++++++++Train Epoch: 5 [0/11572 (0%)]\tLoss: 1.425507++++++++++++++++\n",
            "++++++++Train Epoch: 5 [1500/11572 (13%)]\tLoss: 1.370147++++++++++++++++\n",
            "++++++++Train Epoch: 5 [3000/11572 (26%)]\tLoss: 1.110375++++++++++++++++\n",
            "++++++++Train Epoch: 5 [4500/11572 (39%)]\tLoss: 1.081540++++++++++++++++\n",
            "++++++++Train Epoch: 5 [6000/11572 (52%)]\tLoss: 1.302996++++++++++++++++\n",
            "++++++++Train Epoch: 5 [7500/11572 (65%)]\tLoss: 1.134734++++++++++++++++\n",
            "++++++++Train Epoch: 5 [9000/11572 (78%)]\tLoss: 1.325173++++++++++++++++\n",
            "++++++++Train Epoch: 5 [10500/11572 (91%)]\tLoss: 1.539599++++++++++++++++\n",
            "\n",
            "evaluating…\n",
            "Test set: Average loss: 1.2977, Average CER: 0.354266 Average WER: 0.7555\n",
            "\n",
            "Switching to Noisy Data\n",
            "++++++++Train Epoch: 5 [0/11572 (0%)]\tLoss: 1.714161++++++++++++++++\n",
            "++++++++Train Epoch: 5 [1500/11572 (13%)]\tLoss: 1.481478++++++++++++++++\n",
            "++++++++Train Epoch: 5 [3000/11572 (26%)]\tLoss: 1.599089++++++++++++++++\n",
            "++++++++Train Epoch: 5 [4500/11572 (39%)]\tLoss: 1.543596++++++++++++++++\n",
            "++++++++Train Epoch: 5 [6000/11572 (52%)]\tLoss: 1.718538++++++++++++++++\n",
            "++++++++Train Epoch: 5 [7500/11572 (65%)]\tLoss: 1.426754++++++++++++++++\n",
            "++++++++Train Epoch: 5 [9000/11572 (78%)]\tLoss: 1.526089++++++++++++++++\n",
            "++++++++Train Epoch: 5 [10500/11572 (91%)]\tLoss: 1.223838++++++++++++++++\n",
            "\n",
            "evaluating…\n",
            "Test set: Average loss: 1.8263, Average CER: 0.490261 Average WER: 0.8649\n",
            "\n",
            "Epoch :6\n",
            "\n",
            "++++++++Train Epoch: 6 [0/11572 (0%)]\tLoss: 1.374933++++++++++++++++\n"
          ]
        },
        {
          "output_type": "error",
          "ename": "ValueError",
          "evalue": "ignored",
          "traceback": [
            "\u001b[0;31m---------------------------------------------------------------------------\u001b[0m",
            "\u001b[0;31mValueError\u001b[0m                                Traceback (most recent call last)",
            "\u001b[0;32m<ipython-input-43-bbfb518c7902>\u001b[0m in \u001b[0;36m<module>\u001b[0;34m\u001b[0m\n\u001b[0;32m----> 1\u001b[0;31m \u001b[0mclean_train_losses\u001b[0m\u001b[0;34m,\u001b[0m \u001b[0mnoisy_train_losses\u001b[0m \u001b[0;34m=\u001b[0m  \u001b[0mmain\u001b[0m\u001b[0;34m(\u001b[0m\u001b[0mlearning_rate\u001b[0m\u001b[0;34m=\u001b[0m\u001b[0;36m5e-4\u001b[0m\u001b[0;34m,\u001b[0m \u001b[0mbatch_size\u001b[0m\u001b[0;34m=\u001b[0m\u001b[0;36m15\u001b[0m\u001b[0;34m,\u001b[0m \u001b[0mepochs\u001b[0m\u001b[0;34m=\u001b[0m\u001b[0;36m10\u001b[0m\u001b[0;34m)\u001b[0m\u001b[0;34m\u001b[0m\u001b[0;34m\u001b[0m\u001b[0m\n\u001b[0m",
            "\u001b[0;32m<ipython-input-42-70e6118d0f76>\u001b[0m in \u001b[0;36mmain\u001b[0;34m(learning_rate, batch_size, epochs, train_url, test_url)\u001b[0m\n\u001b[1;32m    164\u001b[0m         \u001b[0mprint\u001b[0m\u001b[0;34m(\u001b[0m\u001b[0;34m\"Epoch :{}\"\u001b[0m\u001b[0;34m.\u001b[0m\u001b[0mformat\u001b[0m\u001b[0;34m(\u001b[0m\u001b[0mepoch\u001b[0m\u001b[0;34m)\u001b[0m\u001b[0;34m)\u001b[0m\u001b[0;34m\u001b[0m\u001b[0;34m\u001b[0m\u001b[0m\n\u001b[1;32m    165\u001b[0m         \u001b[0mprint\u001b[0m\u001b[0;34m(\u001b[0m\u001b[0;34m)\u001b[0m\u001b[0;34m\u001b[0m\u001b[0;34m\u001b[0m\u001b[0m\n\u001b[0;32m--> 166\u001b[0;31m         \u001b[0mclean_train_loss\u001b[0m \u001b[0;34m=\u001b[0m \u001b[0mtrain\u001b[0m\u001b[0;34m(\u001b[0m\u001b[0mmodel\u001b[0m\u001b[0;34m,\u001b[0m \u001b[0mdevice\u001b[0m\u001b[0;34m,\u001b[0m \u001b[0mtrain_clean_loader\u001b[0m\u001b[0;34m,\u001b[0m \u001b[0mcriterion\u001b[0m\u001b[0;34m,\u001b[0m \u001b[0moptimizer\u001b[0m\u001b[0;34m,\u001b[0m \u001b[0mscheduler\u001b[0m\u001b[0;34m,\u001b[0m \u001b[0mepoch\u001b[0m\u001b[0;34m,\u001b[0m \u001b[0miter_meter\u001b[0m\u001b[0;34m)\u001b[0m\u001b[0;34m\u001b[0m\u001b[0;34m\u001b[0m\u001b[0m\n\u001b[0m\u001b[1;32m    167\u001b[0m \u001b[0;34m\u001b[0m\u001b[0m\n\u001b[1;32m    168\u001b[0m         \u001b[0mfinal_clean_train_loss\u001b[0m\u001b[0;34m.\u001b[0m\u001b[0mappend\u001b[0m\u001b[0;34m(\u001b[0m\u001b[0mclean_train_loss\u001b[0m\u001b[0;34m)\u001b[0m\u001b[0;34m\u001b[0m\u001b[0;34m\u001b[0m\u001b[0m\n",
            "\u001b[0;32m<ipython-input-42-70e6118d0f76>\u001b[0m in \u001b[0;36mtrain\u001b[0;34m(model, device, train_loader, criterion, optimizer, scheduler, epoch, iter_meter)\u001b[0m\n\u001b[1;32m     52\u001b[0m \u001b[0;34m\u001b[0m\u001b[0m\n\u001b[1;32m     53\u001b[0m         \u001b[0moptimizer\u001b[0m\u001b[0;34m.\u001b[0m\u001b[0mstep\u001b[0m\u001b[0;34m(\u001b[0m\u001b[0;34m)\u001b[0m\u001b[0;34m\u001b[0m\u001b[0;34m\u001b[0m\u001b[0m\n\u001b[0;32m---> 54\u001b[0;31m         \u001b[0mscheduler\u001b[0m\u001b[0;34m.\u001b[0m\u001b[0mstep\u001b[0m\u001b[0;34m(\u001b[0m\u001b[0;34m)\u001b[0m\u001b[0;34m\u001b[0m\u001b[0;34m\u001b[0m\u001b[0m\n\u001b[0m\u001b[1;32m     55\u001b[0m         \u001b[0miter_meter\u001b[0m\u001b[0;34m.\u001b[0m\u001b[0mstep\u001b[0m\u001b[0;34m(\u001b[0m\u001b[0;34m)\u001b[0m\u001b[0;34m\u001b[0m\u001b[0;34m\u001b[0m\u001b[0m\n\u001b[1;32m     56\u001b[0m \u001b[0;34m\u001b[0m\u001b[0m\n",
            "\u001b[0;32m/usr/local/lib/python3.8/dist-packages/torch/optim/lr_scheduler.py\u001b[0m in \u001b[0;36mstep\u001b[0;34m(self, epoch)\u001b[0m\n\u001b[1;32m    159\u001b[0m             \u001b[0;32mif\u001b[0m \u001b[0mepoch\u001b[0m \u001b[0;32mis\u001b[0m \u001b[0;32mNone\u001b[0m\u001b[0;34m:\u001b[0m\u001b[0;34m\u001b[0m\u001b[0;34m\u001b[0m\u001b[0m\n\u001b[1;32m    160\u001b[0m                 \u001b[0mself\u001b[0m\u001b[0;34m.\u001b[0m\u001b[0mlast_epoch\u001b[0m \u001b[0;34m+=\u001b[0m \u001b[0;36m1\u001b[0m\u001b[0;34m\u001b[0m\u001b[0;34m\u001b[0m\u001b[0m\n\u001b[0;32m--> 161\u001b[0;31m                 \u001b[0mvalues\u001b[0m \u001b[0;34m=\u001b[0m \u001b[0mself\u001b[0m\u001b[0;34m.\u001b[0m\u001b[0mget_lr\u001b[0m\u001b[0;34m(\u001b[0m\u001b[0;34m)\u001b[0m\u001b[0;34m\u001b[0m\u001b[0;34m\u001b[0m\u001b[0m\n\u001b[0m\u001b[1;32m    162\u001b[0m             \u001b[0;32melse\u001b[0m\u001b[0;34m:\u001b[0m\u001b[0;34m\u001b[0m\u001b[0;34m\u001b[0m\u001b[0m\n\u001b[1;32m    163\u001b[0m                 \u001b[0mwarnings\u001b[0m\u001b[0;34m.\u001b[0m\u001b[0mwarn\u001b[0m\u001b[0;34m(\u001b[0m\u001b[0mEPOCH_DEPRECATION_WARNING\u001b[0m\u001b[0;34m,\u001b[0m \u001b[0mUserWarning\u001b[0m\u001b[0;34m)\u001b[0m\u001b[0;34m\u001b[0m\u001b[0;34m\u001b[0m\u001b[0m\n",
            "\u001b[0;32m/usr/local/lib/python3.8/dist-packages/torch/optim/lr_scheduler.py\u001b[0m in \u001b[0;36mget_lr\u001b[0;34m(self)\u001b[0m\n\u001b[1;32m   1684\u001b[0m \u001b[0;34m\u001b[0m\u001b[0m\n\u001b[1;32m   1685\u001b[0m         \u001b[0;32mif\u001b[0m \u001b[0mstep_num\u001b[0m \u001b[0;34m>\u001b[0m \u001b[0mself\u001b[0m\u001b[0;34m.\u001b[0m\u001b[0mtotal_steps\u001b[0m\u001b[0;34m:\u001b[0m\u001b[0;34m\u001b[0m\u001b[0;34m\u001b[0m\u001b[0m\n\u001b[0;32m-> 1686\u001b[0;31m             raise ValueError(\"Tried to step {} times. The specified number of total steps is {}\"\n\u001b[0m\u001b[1;32m   1687\u001b[0m                              .format(step_num + 1, self.total_steps))\n\u001b[1;32m   1688\u001b[0m \u001b[0;34m\u001b[0m\u001b[0m\n",
            "\u001b[0;31mValueError\u001b[0m: Tried to step 7722 times. The specified number of total steps is 7720"
          ]
        }
      ]
    },
    {
      "cell_type": "code",
      "source": [
        "x = np.linspace(1, 10, 10)\n",
        "plt.plot(x, clean_train_losses)\n",
        "plt.xlabel('Epochs')\n",
        "plt.title(\"CNN-RNN Training on DR-VCTK Clean Loss\")\n",
        "plt.show()"
      ],
      "metadata": {
        "id": "rNsxHmOOCvkh"
      },
      "execution_count": null,
      "outputs": []
    },
    {
      "cell_type": "code",
      "source": [
        "x = np.linspace(1, 10, 10)\n",
        "plt.plot(x, noisy_train_losses)\n",
        "plt.xlabel('Epochs')\n",
        "plt.title(\"CNN-RNN Training on DR-VCTK Noisy Loss\")\n",
        "plt.show()"
      ],
      "metadata": {
        "id": "v89VgJrpCvll"
      },
      "execution_count": null,
      "outputs": []
    },
    {
      "cell_type": "code",
      "source": [],
      "metadata": {
        "id": "TsW1o-UECvpp"
      },
      "execution_count": null,
      "outputs": []
    },
    {
      "cell_type": "code",
      "source": [],
      "metadata": {
        "id": "rZJoxCSACvrJ"
      },
      "execution_count": null,
      "outputs": []
    },
    {
      "cell_type": "code",
      "source": [],
      "metadata": {
        "id": "GXhwQnXRCvvC"
      },
      "execution_count": null,
      "outputs": []
    },
    {
      "cell_type": "code",
      "source": [],
      "metadata": {
        "id": "7JaSi71ECvwf"
      },
      "execution_count": null,
      "outputs": []
    },
    {
      "cell_type": "code",
      "source": [],
      "metadata": {
        "id": "lGPUBqXuCv06"
      },
      "execution_count": null,
      "outputs": []
    },
    {
      "cell_type": "code",
      "source": [],
      "metadata": {
        "id": "sCa-onO6Cv2Z"
      },
      "execution_count": null,
      "outputs": []
    },
    {
      "cell_type": "code",
      "source": [],
      "metadata": {
        "id": "_EXq4Uj14kir"
      },
      "execution_count": null,
      "outputs": []
    },
    {
      "cell_type": "code",
      "source": [],
      "metadata": {
        "id": "M1VORrTD4kmq"
      },
      "execution_count": null,
      "outputs": []
    },
    {
      "cell_type": "code",
      "source": [],
      "metadata": {
        "id": "ePcSXl-44kpZ"
      },
      "execution_count": null,
      "outputs": []
    },
    {
      "cell_type": "code",
      "source": [],
      "metadata": {
        "id": "pOBIIUQv4ksS"
      },
      "execution_count": null,
      "outputs": []
    },
    {
      "cell_type": "code",
      "source": [],
      "metadata": {
        "id": "UxNMpRlX4kvB"
      },
      "execution_count": null,
      "outputs": []
    },
    {
      "cell_type": "code",
      "source": [
        "# Old attempt wasnt working well"
      ],
      "metadata": {
        "id": "xDxKQf_Z4kyf"
      },
      "execution_count": null,
      "outputs": []
    },
    {
      "cell_type": "code",
      "source": [
        "# labels = [ \"'\",'|', 'A', 'B', 'C', 'D', 'E', 'F', 'G', 'H', 'I', 'J', 'K', 'L', 'M', 'N', 'O', 'P', 'Q', 'R', 'S', 'T', 'U', 'V', 'W', 'X', 'Y', 'Z']\n",
        "# print(len(labels))"
      ],
      "metadata": {
        "colab": {
          "base_uri": "https://localhost:8080/"
        },
        "id": "GKtwJOx9l6tC",
        "outputId": "16d7e548-9a7a-4ad6-9097-d811321a7f8c"
      },
      "execution_count": null,
      "outputs": [
        {
          "output_type": "stream",
          "name": "stdout",
          "text": [
            "28\n"
          ]
        }
      ]
    },
    {
      "cell_type": "code",
      "source": [
        "# Encode trasncripts\n",
        "\n",
        "# def label_to_index(word):\n",
        "#     res = []\n",
        "#     for i in range(len(word)):\n",
        "#       res.append(labels.index(word[i]))\n",
        "#     # Return the position of the word in labels\n",
        "#     return res\n",
        "\n",
        "# def index_to_label(index):\n",
        "#     # Return the word corresponding to the index in labels\n",
        "#     # This is the inverse of label_to_index\n",
        "#     res = []\n",
        "#     for i in index:\n",
        "#       ch = labels[i]\n",
        "#       res.append(ch)\n",
        "#     return \"\".join(res)"
      ],
      "metadata": {
        "id": "Cqw7DpU7l6wB"
      },
      "execution_count": null,
      "outputs": []
    },
    {
      "cell_type": "code",
      "source": [
        "# # Prepreoccessing the spectrograms for train and validation\n",
        "# train_audio_transforms = torch.nn.Sequential(\n",
        "#     torchaudio.transforms.MelSpectrogram(sample_rate=16000, n_mels=128),\n",
        "#     torchaudio.transforms.FrequencyMasking(freq_mask_param=15),\n",
        "#     torchaudio.transforms.TimeMasking(time_mask_param=35)\n",
        "# )\n",
        "\n",
        "# valid_audio_transforms = torchaudio.transforms.MelSpectrogram()"
      ],
      "metadata": {
        "id": "TAJEG-3n5FmO",
        "colab": {
          "base_uri": "https://localhost:8080/"
        },
        "outputId": "55378214-01fc-4aba-a1ee-5fc4bf7d881d"
      },
      "execution_count": null,
      "outputs": [
        {
          "output_type": "stream",
          "name": "stderr",
          "text": [
            "/usr/local/lib/python3.8/dist-packages/torchaudio/functional/functional.py:571: UserWarning: At least one mel filterbank has all zero values. The value for `n_mels` (128) may be set too high. Or, the value for `n_freqs` (201) may be set too low.\n",
            "  warnings.warn(\n"
          ]
        }
      ]
    },
    {
      "cell_type": "code",
      "source": [
        "\n",
        "# def processing(data, type_data=\"train\", type_data2 = \"clean\"):\n",
        "\n",
        "#     spectrograms = []\n",
        "#     labels = []\n",
        "#     input_lengths = []\n",
        "#     label_lengths = []\n",
        "\n",
        "#     for clean_waveform, _, noisy_waveform, _, speaker_id, utterance_id, _, _ in data:\n",
        "\n",
        "#         if type_data == 'train':\n",
        "#           if type_data2 == \"clean\":\n",
        "#             spec = train_audio_transforms(clean_waveform).squeeze(0).transpose(0, 1)\n",
        "#           else:\n",
        "#             spec = train_audio_transforms(noisy_waveform).squeeze(0).transpose(0, 1)\n",
        "#         else:\n",
        "#             if type_data2 == \"clean\":\n",
        "#               spec = valid_audio_transforms(clean_waveform).squeeze(0).transpose(0, 1)\n",
        "#             else:\n",
        "#               spec = valid_audio_transforms(noisy_waveform).squeeze(0).transpose(0, 1)\n",
        "\n",
        "\n",
        "#         spectrograms.append(spec)\n",
        "#         label = torch.Tensor(label_to_index(speaker_utterance_final[speaker_id][utterance_id]))\n",
        "#         labels.append(label)\n",
        "#         input_lengths.append(spec.shape[0]//2)\n",
        "#         label_lengths.append(len(label))\n",
        "\n",
        "#     spectrograms = torch.nn.utils.rnn.pad_sequence(spectrograms, batch_first=True).unsqueeze(1).transpose(2, 3)\n",
        "#     labels = torch.nn.utils.rnn.pad_sequence(labels, batch_first=True)\n",
        "\n",
        "#     return spectrograms, labels, input_lengths, label_lengths"
      ],
      "metadata": {
        "id": "bwpwXeb93rvu"
      },
      "execution_count": null,
      "outputs": []
    },
    {
      "cell_type": "code",
      "source": [],
      "metadata": {
        "id": "2z4RAjS3y4K7"
      },
      "execution_count": null,
      "outputs": []
    },
    {
      "cell_type": "code",
      "source": [
        "# # Building the network\n",
        "# import torch.nn as nn\n",
        "# import torch.nn.functional as F\n",
        "# import torch.optim as optim\n",
        "\n",
        "# class CNNLayerNorm(nn.Module):\n",
        "#     # \"\"\"Layer normalization built for cnns input\"\"\"\n",
        "#     def __init__(self, n_feats):\n",
        "#         super(CNNLayerNorm, self).__init__()\n",
        "#         self.layer_norm = nn.LayerNorm(n_feats)\n",
        "\n",
        "#     def forward(self, x):\n",
        "#         # x (batch, channel, feature, time)\n",
        "#         x = x.transpose(2, 3).contiguous() # (batch, channel, time, feature)\n",
        "#         x = self.layer_norm(x)\n",
        "#         return x.transpose(2, 3).contiguous() # (batch, channel, feature, time) \n",
        "\n",
        "# class ResidualCNN(nn.Module):\n",
        "#     # \"\"\"Residual CNN inspired by https://arxiv.org/pdf/1603.05027.pdf\n",
        "#     #     except with layer norm instead of batch norm\n",
        "#     # \"\"\"\n",
        "#     def __init__(self, in_channels, out_channels, kernel, stride, dropout, n_feats):\n",
        "#         super(ResidualCNN, self).__init__()\n",
        "\n",
        "#         self.cnn1 = nn.Conv2d(in_channels, out_channels, kernel, stride, padding=kernel//2)\n",
        "#         self.cnn2 = nn.Conv2d(out_channels, out_channels, kernel, stride, padding=kernel//2)\n",
        "#         self.dropout1 = nn.Dropout(dropout)\n",
        "#         self.dropout2 = nn.Dropout(dropout)\n",
        "#         self.layer_norm1 = CNNLayerNorm(n_feats)\n",
        "#         self.layer_norm2 = CNNLayerNorm(n_feats)\n",
        "\n",
        "#     def forward(self, x):\n",
        "#         residual = x  # (batch, channel, feature, time)\n",
        "#         x = self.layer_norm1(x)\n",
        "#         x = F.gelu(x)\n",
        "#         x = self.dropout1(x)\n",
        "#         x = self.cnn1(x)\n",
        "#         x = self.layer_norm2(x)\n",
        "#         x = F.gelu(x)\n",
        "#         x = self.dropout2(x)\n",
        "#         x = self.cnn2(x)\n",
        "#         x += residual\n",
        "#         return x # (batch, channel, feature, time)\n",
        "        \n",
        "# class BidirectionalGRU(nn.Module):\n",
        "\n",
        "#     def __init__(self, rnn_dim, hidden_size, dropout, batch_first):\n",
        "#         super(BidirectionalGRU, self).__init__()\n",
        "\n",
        "#         self.BiGRU = nn.GRU(\n",
        "#             input_size=rnn_dim, hidden_size=hidden_size,\n",
        "#             num_layers=1, batch_first=batch_first, bidirectional=True)\n",
        "#         self.layer_norm = nn.LayerNorm(rnn_dim)\n",
        "#         self.dropout = nn.Dropout(dropout)\n",
        "\n",
        "#     def forward(self, x):\n",
        "#         x = self.layer_norm(x)\n",
        "#         x = F.gelu(x)\n",
        "#         x, _ = self.BiGRU(x)\n",
        "#         x = self.dropout(x)\n",
        "#         return x\n",
        "\n",
        "\n",
        "# class SpeechRecognitionModel(nn.Module):\n",
        "#     # \"\"\"Speech Recognition Model Inspired by DeepSpeech 2\"\"\"\n",
        "\n",
        "#     def __init__(self, n_cnn_layers, n_rnn_layers, rnn_dim, n_class, n_feats, stride=2, dropout=0.1):\n",
        "#         super(SpeechRecognitionModel, self).__init__()\n",
        "#         n_feats = n_feats//2\n",
        "#         self.cnn = nn.Conv2d(1, 32, 3, stride=stride, padding=3//2)  # cnn for extracting heirachal features\n",
        "\n",
        "#         # n residual cnn layers with filter size of 32\n",
        "#         self.rescnn_layers = nn.Sequential(*[\n",
        "#             ResidualCNN(32, 32, kernel=3, stride=1, dropout=dropout, n_feats=n_feats) \n",
        "#             for _ in range(n_cnn_layers)\n",
        "#         ])\n",
        "#         self.fully_connected = nn.Linear(n_feats*32, rnn_dim)\n",
        "#         self.birnn_layers = nn.Sequential(*[\n",
        "#             BidirectionalGRU(rnn_dim=rnn_dim if i==0 else rnn_dim*2,\n",
        "#                              hidden_size=rnn_dim, dropout=dropout, batch_first=i==0)\n",
        "#             for i in range(n_rnn_layers)\n",
        "#         ])\n",
        "#         self.classifier = nn.Sequential(\n",
        "#             nn.Linear(rnn_dim*2, rnn_dim),  # birnn returns rnn_dim*2\n",
        "#             nn.GELU(),\n",
        "#             nn.Dropout(dropout),\n",
        "#             nn.Linear(rnn_dim, n_class)\n",
        "#         )\n",
        "\n",
        "#     def forward(self, x):\n",
        "#         x = self.cnn(x)\n",
        "#         x = self.rescnn_layers(x)\n",
        "#         sizes = x.size()\n",
        "#         x = x.view(sizes[0], sizes[1] * sizes[2], sizes[3])  # (batch, feature, time)\n",
        "#         x = x.transpose(1, 2) # (batch, time, feature)\n",
        "#         x = self.fully_connected(x)\n",
        "#         x = self.birnn_layers(x)\n",
        "#         x = self.classifier(x)\n",
        "#         return x"
      ],
      "metadata": {
        "id": "LNjqo1fn3ryh"
      },
      "execution_count": null,
      "outputs": []
    },
    {
      "cell_type": "code",
      "source": [
        "# Set Hyperparameters\n",
        "# n_epochs = 10 # max_epochs\n",
        "# batch_size_train = 20 # batch size train set\n",
        "# batch_size_test = 20 # batch size test set\n",
        "# learning_rate = 5e-4 # learn rate\n",
        "# log_interval = 1 # log every _ epoch\n",
        "\n",
        "\n",
        "# n_cnn_layers = 3\n",
        "# n_rnn_layers = 3\n",
        "# rnn_dim = 512\n",
        "# n_class = 29\n",
        "# n_feats = 128\n",
        "# stride = 2\n",
        "# dropout = .1"
      ],
      "metadata": {
        "id": "NS0rfhWKy6Bv"
      },
      "execution_count": null,
      "outputs": []
    },
    {
      "cell_type": "code",
      "source": [
        "# model = SpeechRecognitionModel(n_cnn_layers, n_rnn_layers, rnn_dim,n_class, n_feats, stride, dropout).to(device)\n",
        "# print(model)\n",
        "# print('Num Model Parameters', sum([param.nelement() for param in model.parameters()]))"
      ],
      "metadata": {
        "colab": {
          "base_uri": "https://localhost:8080/"
        },
        "id": "OzhxWrAqy0Jk",
        "outputId": "7fc45626-6657-420d-d264-d393bc065617"
      },
      "execution_count": null,
      "outputs": [
        {
          "output_type": "stream",
          "name": "stdout",
          "text": [
            "SpeechRecognitionModel(\n",
            "  (cnn): Conv2d(1, 32, kernel_size=(3, 3), stride=(2, 2), padding=(1, 1))\n",
            "  (rescnn_layers): Sequential(\n",
            "    (0): ResidualCNN(\n",
            "      (cnn1): Conv2d(32, 32, kernel_size=(3, 3), stride=(1, 1), padding=(1, 1))\n",
            "      (cnn2): Conv2d(32, 32, kernel_size=(3, 3), stride=(1, 1), padding=(1, 1))\n",
            "      (dropout1): Dropout(p=0.1, inplace=False)\n",
            "      (dropout2): Dropout(p=0.1, inplace=False)\n",
            "      (layer_norm1): CNNLayerNorm(\n",
            "        (layer_norm): LayerNorm((64,), eps=1e-05, elementwise_affine=True)\n",
            "      )\n",
            "      (layer_norm2): CNNLayerNorm(\n",
            "        (layer_norm): LayerNorm((64,), eps=1e-05, elementwise_affine=True)\n",
            "      )\n",
            "    )\n",
            "    (1): ResidualCNN(\n",
            "      (cnn1): Conv2d(32, 32, kernel_size=(3, 3), stride=(1, 1), padding=(1, 1))\n",
            "      (cnn2): Conv2d(32, 32, kernel_size=(3, 3), stride=(1, 1), padding=(1, 1))\n",
            "      (dropout1): Dropout(p=0.1, inplace=False)\n",
            "      (dropout2): Dropout(p=0.1, inplace=False)\n",
            "      (layer_norm1): CNNLayerNorm(\n",
            "        (layer_norm): LayerNorm((64,), eps=1e-05, elementwise_affine=True)\n",
            "      )\n",
            "      (layer_norm2): CNNLayerNorm(\n",
            "        (layer_norm): LayerNorm((64,), eps=1e-05, elementwise_affine=True)\n",
            "      )\n",
            "    )\n",
            "    (2): ResidualCNN(\n",
            "      (cnn1): Conv2d(32, 32, kernel_size=(3, 3), stride=(1, 1), padding=(1, 1))\n",
            "      (cnn2): Conv2d(32, 32, kernel_size=(3, 3), stride=(1, 1), padding=(1, 1))\n",
            "      (dropout1): Dropout(p=0.1, inplace=False)\n",
            "      (dropout2): Dropout(p=0.1, inplace=False)\n",
            "      (layer_norm1): CNNLayerNorm(\n",
            "        (layer_norm): LayerNorm((64,), eps=1e-05, elementwise_affine=True)\n",
            "      )\n",
            "      (layer_norm2): CNNLayerNorm(\n",
            "        (layer_norm): LayerNorm((64,), eps=1e-05, elementwise_affine=True)\n",
            "      )\n",
            "    )\n",
            "  )\n",
            "  (fully_connected): Linear(in_features=2048, out_features=512, bias=True)\n",
            "  (birnn_layers): Sequential(\n",
            "    (0): BidirectionalGRU(\n",
            "      (BiGRU): GRU(512, 512, batch_first=True, bidirectional=True)\n",
            "      (layer_norm): LayerNorm((512,), eps=1e-05, elementwise_affine=True)\n",
            "      (dropout): Dropout(p=0.1, inplace=False)\n",
            "    )\n",
            "    (1): BidirectionalGRU(\n",
            "      (BiGRU): GRU(1024, 512, bidirectional=True)\n",
            "      (layer_norm): LayerNorm((1024,), eps=1e-05, elementwise_affine=True)\n",
            "      (dropout): Dropout(p=0.1, inplace=False)\n",
            "    )\n",
            "    (2): BidirectionalGRU(\n",
            "      (BiGRU): GRU(1024, 512, bidirectional=True)\n",
            "      (layer_norm): LayerNorm((1024,), eps=1e-05, elementwise_affine=True)\n",
            "      (dropout): Dropout(p=0.1, inplace=False)\n",
            "    )\n",
            "  )\n",
            "  (classifier): Sequential(\n",
            "    (0): Linear(in_features=1024, out_features=512, bias=True)\n",
            "    (1): GELU(approximate='none')\n",
            "    (2): Dropout(p=0.1, inplace=False)\n",
            "    (3): Linear(in_features=512, out_features=29, bias=True)\n",
            "  )\n",
            ")\n",
            "Num Model Parameters 14251805\n"
          ]
        }
      ]
    },
    {
      "cell_type": "code",
      "source": [
        "# def GreedyDecoder(output, labels, label_lengths, blank_label=28, collapse_repeated=True):\n",
        "#     arg_maxes = torch.argmax(output, dim=2) # arg max n classes\n",
        "#     decodes = []\n",
        "#     targets = []\n",
        "#     for i, args in enumerate(arg_maxes): # for sample in batch\n",
        "#         decode = []\n",
        "#         targets.append(index_to_label(labels[i][:label_lengths[i]].tolist()))\n",
        "#         for j, index in enumerate(args): # for frame in sample\n",
        "#             if index != blank_label:\n",
        "#                 if collapse_repeated and j != 0 and index == args[j -1]:\n",
        "#                     continue\n",
        "#                 decode.append(index.item())\n",
        "#         decodes.append(index_to_label(decode))\n",
        "#     return decodes, targets"
      ],
      "metadata": {
        "id": "OlnaigBx32M5"
      },
      "execution_count": null,
      "outputs": []
    },
    {
      "cell_type": "code",
      "source": [
        "# !pip install jiwer\n",
        "# from jiwer import wer\n",
        "# from jiwer import cer"
      ],
      "metadata": {
        "colab": {
          "base_uri": "https://localhost:8080/"
        },
        "id": "K8EnMmC86tp1",
        "outputId": "c7d86836-ab6d-447c-d471-b6376638b771"
      },
      "execution_count": null,
      "outputs": [
        {
          "output_type": "stream",
          "name": "stdout",
          "text": [
            "Looking in indexes: https://pypi.org/simple, https://us-python.pkg.dev/colab-wheels/public/simple/\n",
            "Requirement already satisfied: jiwer in /usr/local/lib/python3.8/dist-packages (2.5.1)\n",
            "Requirement already satisfied: levenshtein==0.20.2 in /usr/local/lib/python3.8/dist-packages (from jiwer) (0.20.2)\n",
            "Requirement already satisfied: rapidfuzz<3.0.0,>=2.3.0 in /usr/local/lib/python3.8/dist-packages (from levenshtein==0.20.2->jiwer) (2.13.6)\n"
          ]
        }
      ]
    },
    {
      "cell_type": "code",
      "source": [
        "# import numpy as np\n",
        "\n",
        "# # Results of Training\n",
        "# losses = []\n",
        "# test_losses = []\n",
        "# wers_epoch = []\n",
        "# cers_epoch = []\n",
        "\n",
        "\n",
        "# Training_Result = (losses, test_losses, wers_epoch, cers_epoch)"
      ],
      "metadata": {
        "id": "90Pfju6GwE0Q"
      },
      "execution_count": null,
      "outputs": []
    },
    {
      "cell_type": "code",
      "source": [
        "# use_cuda = torch.cuda.is_available()\n",
        "# kwargs = {'num_workers': 1, 'pin_memory': True} if use_cuda else {}\n",
        "# clean_train_loader = torch.utils.data.DataLoader(dataset=drvctk_train_dataset,\n",
        "#                             batch_size=batch_size_train,\n",
        "#                             shuffle=True,\n",
        "#                             collate_fn=lambda x: processing(x, 'train',\"clean\"))\n",
        "# clean_test_loader = torch.utils.data.DataLoader(dataset=drvctk_test_dataset,\n",
        "#                             batch_size=batch_size_test,\n",
        "#                             shuffle=False,\n",
        "#                             collate_fn=lambda x: processing(x, 'valid', \"clean\"))"
      ],
      "metadata": {
        "id": "0DkQwe-2yQFR"
      },
      "execution_count": null,
      "outputs": []
    },
    {
      "cell_type": "code",
      "source": [
        "# optimizer = optim.AdamW(model.parameters(), learning_rate)\n",
        "# criterion = nn.CTCLoss(blank=28).to(device)\n",
        "# scheduler = optim.lr_scheduler.OneCycleLR(optimizer, max_lr=learning_rate, \n",
        "#                                         steps_per_epoch=int(len(clean_train_loader)),\n",
        "#                                         epochs=n_epochs,\n",
        "#                                         anneal_strategy='linear')"
      ],
      "metadata": {
        "id": "UQmDT1Cozi--"
      },
      "execution_count": null,
      "outputs": []
    },
    {
      "cell_type": "code",
      "source": [
        "# import copy\n",
        "\n",
        "# # Train Function\n",
        "# def train(Training_Result_p):\n",
        "\n",
        "#   losses, test_losses, wers_epoch, cers_epoch = Training_Result_p\n",
        "\n",
        "#   # Train parameters\n",
        "#   epoch = 1 # starting epoch\n",
        " \n",
        "\n",
        "#   print(\"Training model\")\n",
        "\n",
        "#   while ((epoch <= n_epochs) ):\n",
        "    \n",
        "#     # Training\n",
        "#     model.train()\n",
        "#     train_loss = 0 # calc train loss\n",
        "#     for batch_idx, _data in enumerate(clean_train_loader):\n",
        "\n",
        "#       spectrograms, labels, input_lengths, label_lengths = _data \n",
        "\n",
        "#       spectrograms, labels = spectrograms.to(device), labels.to(device)\n",
        "\n",
        "#       optimizer.zero_grad()\n",
        "\n",
        "#       output = model(spectrograms)  # (batch, time, n_class)\n",
        "#       output = F.log_softmax(output, dim=2)\n",
        "#       output = output.transpose(0, 1) # (time, batch, n_class)\n",
        "\n",
        "#       loss = criterion(output, labels, input_lengths, label_lengths)\n",
        "#       loss.backward()\n",
        "\n",
        "#       train_loss += loss.item()\n",
        "\n",
        "#       if batch_idx % 100 == 0:\n",
        "#         print(\"Epoch: {} Batch: {}/ {}  Batch Loss: {}\".format(epoch, batch_idx, len(clean_train_loader), loss.item()))\n",
        "\n",
        "#       optimizer.step()\n",
        "#       scheduler.step()\n",
        "    \n",
        "#     losses.append(train_loss / len(drvctk_train_dataset))\n",
        "\n",
        "#     print('Epoch: {}, Train Average loss: {:.4f}\\n'.format(epoch,train_loss / len(drvctk_train_dataset)))\n",
        "\n",
        "#     # Evaluation \n",
        "#     model.eval()\n",
        "#     test_loss = 0\n",
        "#     test_cer, test_wer = [], []\n",
        "#     with torch.no_grad():\n",
        "#       for batch_idx, _data in enumerate(clean_test_loader):\n",
        "\n",
        "#         spectrograms, labels, input_lengths, label_lengths = _data \n",
        "\n",
        "#         spectrograms, labels = spectrograms.to(device), labels.to(device)\n",
        "\n",
        "#         output = model(spectrograms)  # (batch, time, n_class)\n",
        "#         output = F.log_softmax(output, dim=2)\n",
        "#         output = output.transpose(0, 1) # (time, batch, n_class)\n",
        "\n",
        "#         loss = criterion(output, labels, input_lengths, label_lengths)\n",
        "#         test_loss += loss.item() \n",
        "\n",
        "#         decoded_preds, decoded_targets = GreedyDecoder(output.transpose(0, 1), labels, label_lengths)\n",
        "\n",
        "#         for j in range(len(decoded_preds)):\n",
        "#             test_cer.append(cer(decoded_targets[j], decoded_preds[j]))\n",
        "#             test_wer.append(wer(decoded_targets[j], decoded_preds[j]))\n",
        "\n",
        "\n",
        "#     avg_cer = sum(test_cer)/len(test_cer)\n",
        "#     avg_wer = sum(test_wer)/len(test_wer)\n",
        "\n",
        "#     test_losses.append(test_loss/len(drvctk_test_dataset))\n",
        "#     wers_epoch.append(avg_wer)\n",
        "#     cers_epoch.append(avg_cer)\n",
        "\n",
        "#     print('Epoch: {}, Test Average loss: {:.4f}, Average CER: {:4f} Average WER: {:.4f}\\n'.format(epoch,test_loss/len(drvctk_test_dataset), avg_cer, avg_wer))\n",
        "\n",
        "#     torch.save(model, '/content/drive/My Drive/DLS_Project/best_deep_s.pt')\n",
        "    \n",
        "#     # increment epoch\n",
        "#     epoch += 1\n",
        "  \n",
        "#   print(\"Training Finished!\")\n",
        "#   Training_Return = (losses,test_losses, wers_epoch, cers_epoch)\n",
        "#   return Training_Return"
      ],
      "metadata": {
        "id": "OusvDQc_wE2x"
      },
      "execution_count": null,
      "outputs": []
    },
    {
      "cell_type": "code",
      "source": [
        "# # Train MNIST with test set as validation\n",
        "# res = train(Training_Result)\n",
        "\n",
        "# losses,test_losses, wers_epoch, cers_epoch = res"
      ],
      "metadata": {
        "colab": {
          "base_uri": "https://localhost:8080/",
          "height": 432
        },
        "id": "RPOEkDOywE5e",
        "outputId": "79e46c0d-7530-4885-cbeb-a8590f49e356"
      },
      "execution_count": null,
      "outputs": [
        {
          "output_type": "stream",
          "name": "stdout",
          "text": [
            "Training model\n",
            "Epoch: 1 Batch: 0/ 579  Batch Loss: 7.494643688201904\n",
            "Epoch: 1 Batch: 100/ 579  Batch Loss: 2.9567935466766357\n",
            "Epoch: 1 Batch: 200/ 579  Batch Loss: nan\n"
          ]
        },
        {
          "output_type": "error",
          "ename": "KeyboardInterrupt",
          "evalue": "ignored",
          "traceback": [
            "\u001b[0;31m---------------------------------------------------------------------------\u001b[0m",
            "\u001b[0;31mKeyboardInterrupt\u001b[0m                         Traceback (most recent call last)",
            "\u001b[0;32m<ipython-input-28-27250478e196>\u001b[0m in \u001b[0;36m<module>\u001b[0;34m\u001b[0m\n\u001b[1;32m      1\u001b[0m \u001b[0;31m# Train MNIST with test set as validation\u001b[0m\u001b[0;34m\u001b[0m\u001b[0;34m\u001b[0m\u001b[0;34m\u001b[0m\u001b[0m\n\u001b[0;32m----> 2\u001b[0;31m \u001b[0mres\u001b[0m \u001b[0;34m=\u001b[0m \u001b[0mtrain\u001b[0m\u001b[0;34m(\u001b[0m\u001b[0mTraining_Result\u001b[0m\u001b[0;34m)\u001b[0m\u001b[0;34m\u001b[0m\u001b[0;34m\u001b[0m\u001b[0m\n\u001b[0m\u001b[1;32m      3\u001b[0m \u001b[0;34m\u001b[0m\u001b[0m\n\u001b[1;32m      4\u001b[0m \u001b[0mlosses\u001b[0m\u001b[0;34m,\u001b[0m\u001b[0mtest_losses\u001b[0m\u001b[0;34m,\u001b[0m \u001b[0mwers_epoch\u001b[0m\u001b[0;34m,\u001b[0m \u001b[0mcers_epoch\u001b[0m \u001b[0;34m=\u001b[0m \u001b[0mres\u001b[0m\u001b[0;34m\u001b[0m\u001b[0;34m\u001b[0m\u001b[0m\n",
            "\u001b[0;32m<ipython-input-27-a37652726933>\u001b[0m in \u001b[0;36mtrain\u001b[0;34m(Training_Result_p)\u001b[0m\n\u001b[1;32m     17\u001b[0m     \u001b[0mmodel\u001b[0m\u001b[0;34m.\u001b[0m\u001b[0mtrain\u001b[0m\u001b[0;34m(\u001b[0m\u001b[0;34m)\u001b[0m\u001b[0;34m\u001b[0m\u001b[0;34m\u001b[0m\u001b[0m\n\u001b[1;32m     18\u001b[0m     \u001b[0mtrain_loss\u001b[0m \u001b[0;34m=\u001b[0m \u001b[0;36m0\u001b[0m \u001b[0;31m# calc train loss\u001b[0m\u001b[0;34m\u001b[0m\u001b[0;34m\u001b[0m\u001b[0m\n\u001b[0;32m---> 19\u001b[0;31m     \u001b[0;32mfor\u001b[0m \u001b[0mbatch_idx\u001b[0m\u001b[0;34m,\u001b[0m \u001b[0m_data\u001b[0m \u001b[0;32min\u001b[0m \u001b[0menumerate\u001b[0m\u001b[0;34m(\u001b[0m\u001b[0mclean_train_loader\u001b[0m\u001b[0;34m)\u001b[0m\u001b[0;34m:\u001b[0m\u001b[0;34m\u001b[0m\u001b[0;34m\u001b[0m\u001b[0m\n\u001b[0m\u001b[1;32m     20\u001b[0m \u001b[0;34m\u001b[0m\u001b[0m\n\u001b[1;32m     21\u001b[0m       \u001b[0mspectrograms\u001b[0m\u001b[0;34m,\u001b[0m \u001b[0mlabels\u001b[0m\u001b[0;34m,\u001b[0m \u001b[0minput_lengths\u001b[0m\u001b[0;34m,\u001b[0m \u001b[0mlabel_lengths\u001b[0m \u001b[0;34m=\u001b[0m \u001b[0m_data\u001b[0m\u001b[0;34m\u001b[0m\u001b[0;34m\u001b[0m\u001b[0m\n",
            "\u001b[0;32m/usr/local/lib/python3.8/dist-packages/torch/utils/data/dataloader.py\u001b[0m in \u001b[0;36m__next__\u001b[0;34m(self)\u001b[0m\n\u001b[1;32m    626\u001b[0m                 \u001b[0;31m# TODO(https://github.com/pytorch/pytorch/issues/76750)\u001b[0m\u001b[0;34m\u001b[0m\u001b[0;34m\u001b[0m\u001b[0;34m\u001b[0m\u001b[0m\n\u001b[1;32m    627\u001b[0m                 \u001b[0mself\u001b[0m\u001b[0;34m.\u001b[0m\u001b[0m_reset\u001b[0m\u001b[0;34m(\u001b[0m\u001b[0;34m)\u001b[0m  \u001b[0;31m# type: ignore[call-arg]\u001b[0m\u001b[0;34m\u001b[0m\u001b[0;34m\u001b[0m\u001b[0m\n\u001b[0;32m--> 628\u001b[0;31m             \u001b[0mdata\u001b[0m \u001b[0;34m=\u001b[0m \u001b[0mself\u001b[0m\u001b[0;34m.\u001b[0m\u001b[0m_next_data\u001b[0m\u001b[0;34m(\u001b[0m\u001b[0;34m)\u001b[0m\u001b[0;34m\u001b[0m\u001b[0;34m\u001b[0m\u001b[0m\n\u001b[0m\u001b[1;32m    629\u001b[0m             \u001b[0mself\u001b[0m\u001b[0;34m.\u001b[0m\u001b[0m_num_yielded\u001b[0m \u001b[0;34m+=\u001b[0m \u001b[0;36m1\u001b[0m\u001b[0;34m\u001b[0m\u001b[0;34m\u001b[0m\u001b[0m\n\u001b[1;32m    630\u001b[0m             \u001b[0;32mif\u001b[0m \u001b[0mself\u001b[0m\u001b[0;34m.\u001b[0m\u001b[0m_dataset_kind\u001b[0m \u001b[0;34m==\u001b[0m \u001b[0m_DatasetKind\u001b[0m\u001b[0;34m.\u001b[0m\u001b[0mIterable\u001b[0m \u001b[0;32mand\u001b[0m\u001b[0;31m \u001b[0m\u001b[0;31m\\\u001b[0m\u001b[0;34m\u001b[0m\u001b[0;34m\u001b[0m\u001b[0m\n",
            "\u001b[0;32m/usr/local/lib/python3.8/dist-packages/torch/utils/data/dataloader.py\u001b[0m in \u001b[0;36m_next_data\u001b[0;34m(self)\u001b[0m\n\u001b[1;32m    669\u001b[0m     \u001b[0;32mdef\u001b[0m \u001b[0m_next_data\u001b[0m\u001b[0;34m(\u001b[0m\u001b[0mself\u001b[0m\u001b[0;34m)\u001b[0m\u001b[0;34m:\u001b[0m\u001b[0;34m\u001b[0m\u001b[0;34m\u001b[0m\u001b[0m\n\u001b[1;32m    670\u001b[0m         \u001b[0mindex\u001b[0m \u001b[0;34m=\u001b[0m \u001b[0mself\u001b[0m\u001b[0;34m.\u001b[0m\u001b[0m_next_index\u001b[0m\u001b[0;34m(\u001b[0m\u001b[0;34m)\u001b[0m  \u001b[0;31m# may raise StopIteration\u001b[0m\u001b[0;34m\u001b[0m\u001b[0;34m\u001b[0m\u001b[0m\n\u001b[0;32m--> 671\u001b[0;31m         \u001b[0mdata\u001b[0m \u001b[0;34m=\u001b[0m \u001b[0mself\u001b[0m\u001b[0;34m.\u001b[0m\u001b[0m_dataset_fetcher\u001b[0m\u001b[0;34m.\u001b[0m\u001b[0mfetch\u001b[0m\u001b[0;34m(\u001b[0m\u001b[0mindex\u001b[0m\u001b[0;34m)\u001b[0m  \u001b[0;31m# may raise StopIteration\u001b[0m\u001b[0;34m\u001b[0m\u001b[0;34m\u001b[0m\u001b[0m\n\u001b[0m\u001b[1;32m    672\u001b[0m         \u001b[0;32mif\u001b[0m \u001b[0mself\u001b[0m\u001b[0;34m.\u001b[0m\u001b[0m_pin_memory\u001b[0m\u001b[0;34m:\u001b[0m\u001b[0;34m\u001b[0m\u001b[0;34m\u001b[0m\u001b[0m\n\u001b[1;32m    673\u001b[0m             \u001b[0mdata\u001b[0m \u001b[0;34m=\u001b[0m \u001b[0m_utils\u001b[0m\u001b[0;34m.\u001b[0m\u001b[0mpin_memory\u001b[0m\u001b[0;34m.\u001b[0m\u001b[0mpin_memory\u001b[0m\u001b[0;34m(\u001b[0m\u001b[0mdata\u001b[0m\u001b[0;34m,\u001b[0m \u001b[0mself\u001b[0m\u001b[0;34m.\u001b[0m\u001b[0m_pin_memory_device\u001b[0m\u001b[0;34m)\u001b[0m\u001b[0;34m\u001b[0m\u001b[0;34m\u001b[0m\u001b[0m\n",
            "\u001b[0;31mKeyboardInterrupt\u001b[0m: "
          ]
        }
      ]
    },
    {
      "cell_type": "code",
      "source": [
        "# model.eval()\n",
        "# test_loss = 0\n",
        "# test_cer, test_wer = [], []\n",
        "# with torch.no_grad():\n",
        "#   for _data in clean_test_loader:\n",
        "\n",
        "#     spectrograms, labels, input_lengths, label_lengths = _data \n",
        "\n",
        "#     spectrograms, labels = spectrograms.to(device), labels.to(device)\n",
        "\n",
        "#     output = model(spectrograms)  # (batch, time, n_class)\n",
        "#     output = F.log_softmax(output, dim=2)\n",
        "#     output = output.transpose(0, 1) # (time, batch, n_class)\n",
        "\n",
        "#     loss = criterion(output, labels, input_lengths, label_lengths)\n",
        "#     test_loss += loss.item() \n",
        "\n",
        "#     print(output.transpose(0, 1))\n",
        "#     print(labels)\n",
        "#     decoded_preds, decoded_targets = GreedyDecoder(output.transpose(0, 1), labels, label_lengths)\n",
        "\n",
        "#     for j in range(len(decoded_preds)):\n",
        "#         test_cer.append(cer(decoded_targets[j], decoded_preds[j]))\n",
        "#         test_wer.append(wer(decoded_targets[j], decoded_preds[j]))\n",
        "\n",
        "\n",
        "# avg_cer = sum(test_cer)/len(test_cer)\n",
        "# avg_wer = sum(test_wer)/len(test_wer)\n",
        "\n",
        "# test_losses.append(test_loss/len(drvctk_test_dataset))\n",
        "# wers_epoch.append(avg_wer)\n",
        "# cers_epoch.append(avg_cer)"
      ],
      "metadata": {
        "colab": {
          "base_uri": "https://localhost:8080/",
          "height": 1000
        },
        "id": "JRWjaqtCwE70",
        "outputId": "d0756000-3516-4505-a07a-bf9bf4eb0d10"
      },
      "execution_count": null,
      "outputs": [
        {
          "output_type": "stream",
          "name": "stdout",
          "text": [
            "tensor([[[nan, nan, nan,  ..., nan, nan, nan],\n",
            "         [nan, nan, nan,  ..., nan, nan, nan],\n",
            "         [nan, nan, nan,  ..., nan, nan, nan],\n",
            "         ...,\n",
            "         [nan, nan, nan,  ..., nan, nan, nan],\n",
            "         [nan, nan, nan,  ..., nan, nan, nan],\n",
            "         [nan, nan, nan,  ..., nan, nan, nan]],\n",
            "\n",
            "        [[nan, nan, nan,  ..., nan, nan, nan],\n",
            "         [nan, nan, nan,  ..., nan, nan, nan],\n",
            "         [nan, nan, nan,  ..., nan, nan, nan],\n",
            "         ...,\n",
            "         [nan, nan, nan,  ..., nan, nan, nan],\n",
            "         [nan, nan, nan,  ..., nan, nan, nan],\n",
            "         [nan, nan, nan,  ..., nan, nan, nan]],\n",
            "\n",
            "        [[nan, nan, nan,  ..., nan, nan, nan],\n",
            "         [nan, nan, nan,  ..., nan, nan, nan],\n",
            "         [nan, nan, nan,  ..., nan, nan, nan],\n",
            "         ...,\n",
            "         [nan, nan, nan,  ..., nan, nan, nan],\n",
            "         [nan, nan, nan,  ..., nan, nan, nan],\n",
            "         [nan, nan, nan,  ..., nan, nan, nan]],\n",
            "\n",
            "        ...,\n",
            "\n",
            "        [[nan, nan, nan,  ..., nan, nan, nan],\n",
            "         [nan, nan, nan,  ..., nan, nan, nan],\n",
            "         [nan, nan, nan,  ..., nan, nan, nan],\n",
            "         ...,\n",
            "         [nan, nan, nan,  ..., nan, nan, nan],\n",
            "         [nan, nan, nan,  ..., nan, nan, nan],\n",
            "         [nan, nan, nan,  ..., nan, nan, nan]],\n",
            "\n",
            "        [[nan, nan, nan,  ..., nan, nan, nan],\n",
            "         [nan, nan, nan,  ..., nan, nan, nan],\n",
            "         [nan, nan, nan,  ..., nan, nan, nan],\n",
            "         ...,\n",
            "         [nan, nan, nan,  ..., nan, nan, nan],\n",
            "         [nan, nan, nan,  ..., nan, nan, nan],\n",
            "         [nan, nan, nan,  ..., nan, nan, nan]],\n",
            "\n",
            "        [[nan, nan, nan,  ..., nan, nan, nan],\n",
            "         [nan, nan, nan,  ..., nan, nan, nan],\n",
            "         [nan, nan, nan,  ..., nan, nan, nan],\n",
            "         ...,\n",
            "         [nan, nan, nan,  ..., nan, nan, nan],\n",
            "         [nan, nan, nan,  ..., nan, nan, nan],\n",
            "         [nan, nan, nan,  ..., nan, nan, nan]]], device='cuda:0')\n",
            "tensor([[17., 13.,  6.,  ...,  0.,  0.,  0.],\n",
            "        [ 2., 20., 12.,  ...,  0.,  0.,  0.],\n",
            "        [20., 10., 25.,  ...,  0.,  0.,  0.],\n",
            "        ...,\n",
            "        [21.,  9.,  6.,  ...,  0.,  0.,  0.],\n",
            "        [21.,  9.,  6.,  ...,  0.,  0.,  0.],\n",
            "        [10.,  7.,  1.,  ..., 16., 24.,  1.]], device='cuda:0')\n"
          ]
        },
        {
          "output_type": "error",
          "ename": "IndexError",
          "evalue": "ignored",
          "traceback": [
            "\u001b[0;31m---------------------------------------------------------------------------\u001b[0m",
            "\u001b[0;31mIndexError\u001b[0m                                Traceback (most recent call last)",
            "\u001b[0;32m<ipython-input-29-fb0cf1e2f8f7>\u001b[0m in \u001b[0;36m<module>\u001b[0;34m\u001b[0m\n\u001b[1;32m     18\u001b[0m     \u001b[0mprint\u001b[0m\u001b[0;34m(\u001b[0m\u001b[0moutput\u001b[0m\u001b[0;34m.\u001b[0m\u001b[0mtranspose\u001b[0m\u001b[0;34m(\u001b[0m\u001b[0;36m0\u001b[0m\u001b[0;34m,\u001b[0m \u001b[0;36m1\u001b[0m\u001b[0;34m)\u001b[0m\u001b[0;34m)\u001b[0m\u001b[0;34m\u001b[0m\u001b[0;34m\u001b[0m\u001b[0m\n\u001b[1;32m     19\u001b[0m     \u001b[0mprint\u001b[0m\u001b[0;34m(\u001b[0m\u001b[0mlabels\u001b[0m\u001b[0;34m)\u001b[0m\u001b[0;34m\u001b[0m\u001b[0;34m\u001b[0m\u001b[0m\n\u001b[0;32m---> 20\u001b[0;31m     \u001b[0mdecoded_preds\u001b[0m\u001b[0;34m,\u001b[0m \u001b[0mdecoded_targets\u001b[0m \u001b[0;34m=\u001b[0m \u001b[0mGreedyDecoder\u001b[0m\u001b[0;34m(\u001b[0m\u001b[0moutput\u001b[0m\u001b[0;34m.\u001b[0m\u001b[0mtranspose\u001b[0m\u001b[0;34m(\u001b[0m\u001b[0;36m0\u001b[0m\u001b[0;34m,\u001b[0m \u001b[0;36m1\u001b[0m\u001b[0;34m)\u001b[0m\u001b[0;34m,\u001b[0m \u001b[0mlabels\u001b[0m\u001b[0;34m,\u001b[0m \u001b[0mlabel_lengths\u001b[0m\u001b[0;34m)\u001b[0m\u001b[0;34m\u001b[0m\u001b[0;34m\u001b[0m\u001b[0m\n\u001b[0m\u001b[1;32m     21\u001b[0m \u001b[0;34m\u001b[0m\u001b[0m\n\u001b[1;32m     22\u001b[0m     \u001b[0;32mfor\u001b[0m \u001b[0mj\u001b[0m \u001b[0;32min\u001b[0m \u001b[0mrange\u001b[0m\u001b[0;34m(\u001b[0m\u001b[0mlen\u001b[0m\u001b[0;34m(\u001b[0m\u001b[0mdecoded_preds\u001b[0m\u001b[0;34m)\u001b[0m\u001b[0;34m)\u001b[0m\u001b[0;34m:\u001b[0m\u001b[0;34m\u001b[0m\u001b[0;34m\u001b[0m\u001b[0m\n",
            "\u001b[0;32m<ipython-input-22-45b80b0ac79c>\u001b[0m in \u001b[0;36mGreedyDecoder\u001b[0;34m(output, labels, label_lengths, blank_label, collapse_repeated)\u001b[0m\n\u001b[1;32m      5\u001b[0m     \u001b[0;32mfor\u001b[0m \u001b[0mi\u001b[0m\u001b[0;34m,\u001b[0m \u001b[0margs\u001b[0m \u001b[0;32min\u001b[0m \u001b[0menumerate\u001b[0m\u001b[0;34m(\u001b[0m\u001b[0marg_maxes\u001b[0m\u001b[0;34m)\u001b[0m\u001b[0;34m:\u001b[0m \u001b[0;31m# for sample in batch\u001b[0m\u001b[0;34m\u001b[0m\u001b[0;34m\u001b[0m\u001b[0m\n\u001b[1;32m      6\u001b[0m         \u001b[0mdecode\u001b[0m \u001b[0;34m=\u001b[0m \u001b[0;34m[\u001b[0m\u001b[0;34m]\u001b[0m\u001b[0;34m\u001b[0m\u001b[0;34m\u001b[0m\u001b[0m\n\u001b[0;32m----> 7\u001b[0;31m         \u001b[0mtargets\u001b[0m\u001b[0;34m.\u001b[0m\u001b[0mappend\u001b[0m\u001b[0;34m(\u001b[0m\u001b[0mindex_to_label\u001b[0m\u001b[0;34m(\u001b[0m\u001b[0mlabels\u001b[0m\u001b[0;34m[\u001b[0m\u001b[0mi\u001b[0m\u001b[0;34m]\u001b[0m\u001b[0;34m[\u001b[0m\u001b[0;34m:\u001b[0m\u001b[0mlabel_lengths\u001b[0m\u001b[0;34m[\u001b[0m\u001b[0mi\u001b[0m\u001b[0;34m]\u001b[0m\u001b[0;34m]\u001b[0m\u001b[0;34m.\u001b[0m\u001b[0mtolist\u001b[0m\u001b[0;34m(\u001b[0m\u001b[0;34m)\u001b[0m\u001b[0;34m)\u001b[0m\u001b[0;34m)\u001b[0m\u001b[0;34m\u001b[0m\u001b[0;34m\u001b[0m\u001b[0m\n\u001b[0m\u001b[1;32m      8\u001b[0m         \u001b[0;32mfor\u001b[0m \u001b[0mj\u001b[0m\u001b[0;34m,\u001b[0m \u001b[0mindex\u001b[0m \u001b[0;32min\u001b[0m \u001b[0menumerate\u001b[0m\u001b[0;34m(\u001b[0m\u001b[0margs\u001b[0m\u001b[0;34m)\u001b[0m\u001b[0;34m:\u001b[0m \u001b[0;31m# for frame in sample\u001b[0m\u001b[0;34m\u001b[0m\u001b[0;34m\u001b[0m\u001b[0m\n\u001b[1;32m      9\u001b[0m             \u001b[0;32mif\u001b[0m \u001b[0mindex\u001b[0m \u001b[0;34m!=\u001b[0m \u001b[0mblank_label\u001b[0m\u001b[0;34m:\u001b[0m\u001b[0;34m\u001b[0m\u001b[0;34m\u001b[0m\u001b[0m\n",
            "\u001b[0;32m<ipython-input-16-dfdeaa9b92fa>\u001b[0m in \u001b[0;36mindex_to_label\u001b[0;34m(index)\u001b[0m\n\u001b[1;32m     13\u001b[0m     \u001b[0mres\u001b[0m \u001b[0;34m=\u001b[0m \u001b[0;34m[\u001b[0m\u001b[0;34m]\u001b[0m\u001b[0;34m\u001b[0m\u001b[0;34m\u001b[0m\u001b[0m\n\u001b[1;32m     14\u001b[0m     \u001b[0;32mfor\u001b[0m \u001b[0mi\u001b[0m \u001b[0;32min\u001b[0m \u001b[0mindex\u001b[0m\u001b[0;34m:\u001b[0m\u001b[0;34m\u001b[0m\u001b[0;34m\u001b[0m\u001b[0m\n\u001b[0;32m---> 15\u001b[0;31m       \u001b[0mch\u001b[0m \u001b[0;34m=\u001b[0m \u001b[0mlabels\u001b[0m\u001b[0;34m[\u001b[0m\u001b[0mi\u001b[0m\u001b[0;34m]\u001b[0m\u001b[0;34m\u001b[0m\u001b[0;34m\u001b[0m\u001b[0m\n\u001b[0m\u001b[1;32m     16\u001b[0m       \u001b[0mres\u001b[0m\u001b[0;34m.\u001b[0m\u001b[0mappend\u001b[0m\u001b[0;34m(\u001b[0m\u001b[0mch\u001b[0m\u001b[0;34m)\u001b[0m\u001b[0;34m\u001b[0m\u001b[0;34m\u001b[0m\u001b[0m\n\u001b[1;32m     17\u001b[0m     \u001b[0;32mreturn\u001b[0m \u001b[0;34m\"\"\u001b[0m\u001b[0;34m.\u001b[0m\u001b[0mjoin\u001b[0m\u001b[0;34m(\u001b[0m\u001b[0mres\u001b[0m\u001b[0;34m)\u001b[0m\u001b[0;34m\u001b[0m\u001b[0;34m\u001b[0m\u001b[0m\n",
            "\u001b[0;31mIndexError\u001b[0m: only integers, slices (`:`), ellipsis (`...`), None and long or byte Variables are valid indices (got float)"
          ]
        }
      ]
    },
    {
      "cell_type": "code",
      "source": [],
      "metadata": {
        "id": "sET4QTMhwE-S"
      },
      "execution_count": null,
      "outputs": []
    },
    {
      "cell_type": "code",
      "source": [],
      "metadata": {
        "id": "9Pkns_qIwFA8"
      },
      "execution_count": null,
      "outputs": []
    },
    {
      "cell_type": "code",
      "source": [],
      "metadata": {
        "id": "-a98WxsbwFDU"
      },
      "execution_count": null,
      "outputs": []
    },
    {
      "cell_type": "code",
      "source": [],
      "metadata": {
        "id": "2jvpdVz0wFF5"
      },
      "execution_count": null,
      "outputs": []
    }
  ]
}